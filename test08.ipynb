{
 "cells": [
  {
   "cell_type": "code",
   "execution_count": 1,
   "id": "585b0068",
   "metadata": {},
   "outputs": [],
   "source": [
    "a=[1,2,3,4,5] # 변수 a에 리스트 지정"
   ]
  },
  {
   "cell_type": "code",
   "execution_count": 2,
   "id": "cca9a3ca",
   "metadata": {},
   "outputs": [
    {
     "data": {
      "text/plain": [
       "(1, 2, 3, 4, 5)"
      ]
     },
     "execution_count": 2,
     "metadata": {},
     "output_type": "execute_result"
    }
   ],
   "source": [
    "a[0],a[1],a[2],a[3],a[4] # 첨자 0부터 ~ (n-1)까지의 변수로 지정하여 출력"
   ]
  },
  {
   "cell_type": "code",
   "execution_count": 3,
   "id": "ca107625",
   "metadata": {},
   "outputs": [],
   "source": [
    "a=[11,\"abc\",12.3333,\"안녕\",2+3j]  # 변수 a에 여러 형태의 리스트 지정"
   ]
  },
  {
   "cell_type": "code",
   "execution_count": 4,
   "id": "48c1a630",
   "metadata": {},
   "outputs": [
    {
     "data": {
      "text/plain": [
       "(11, 'abc', 12.3333, '안녕', (2+3j))"
      ]
     },
     "execution_count": 4,
     "metadata": {},
     "output_type": "execute_result"
    }
   ],
   "source": [
    "a[0],a[1],a[2],a[3],a[4] # 첨자 0부터 ~ (n-1)까지의 변수로 지정하여 출력"
   ]
  },
  {
   "cell_type": "code",
   "execution_count": 5,
   "id": "2064412a",
   "metadata": {},
   "outputs": [],
   "source": [
    "a[1]=1234;a[4]=\"홍길동\" # 변수 a의 1번째 자리의 값에 1234 저장, 4번째 자리에 \"홍길동\" 문자열 저장"
   ]
  },
  {
   "cell_type": "code",
   "execution_count": 6,
   "id": "abe166cb",
   "metadata": {},
   "outputs": [
    {
     "data": {
      "text/plain": [
       "[11, 1234, 12.3333, '안녕', '홍길동']"
      ]
     },
     "execution_count": 6,
     "metadata": {},
     "output_type": "execute_result"
    }
   ],
   "source": [
    "a # a에 저장된 값 출력"
   ]
  },
  {
   "cell_type": "code",
   "execution_count": 7,
   "id": "d797d8cd",
   "metadata": {},
   "outputs": [
    {
     "name": "stdout",
     "output_type": "stream",
     "text": [
      "점수( 90 )\n",
      "점수( 80 )\n",
      "점수( 70 )\n",
      "점수( 60 )\n",
      "점수( 30 )\n",
      "총점: 330\n"
     ]
    }
   ],
   "source": [
    "score=[90,80,70,60,30] # 점수 리스트\n",
    "sum=0 # 총점 초기화\n",
    "for s in score: # 점수 리스트를 반복문으로 처리\n",
    "    print(\"점수(\",s,\")\") # 각 점수 출력\n",
    "    sum+=s # 총점 누적\n",
    "print(\"총점:\",sum); # 총점 출력"
   ]
  },
  {
   "cell_type": "code",
   "execution_count": 8,
   "id": "dc8ab592",
   "metadata": {},
   "outputs": [],
   "source": [
    "a=[1,2,3,4,5] # 변수 a에 리스트 값 저장"
   ]
  },
  {
   "cell_type": "code",
   "execution_count": 9,
   "id": "0a371a94",
   "metadata": {},
   "outputs": [
    {
     "data": {
      "text/plain": [
       "(1, 1)"
      ]
     },
     "execution_count": 9,
     "metadata": {},
     "output_type": "execute_result"
    }
   ],
   "source": [
    "a[0],a[-5] # 역방향 지정 가능 a[-5] = a[0]"
   ]
  },
  {
   "cell_type": "code",
   "execution_count": 10,
   "id": "f9fbf754",
   "metadata": {},
   "outputs": [
    {
     "data": {
      "text/plain": [
       "(2, 2)"
      ]
     },
     "execution_count": 10,
     "metadata": {},
     "output_type": "execute_result"
    }
   ],
   "source": [
    "a[1],a[-4] # a[-4] = a[1]"
   ]
  },
  {
   "cell_type": "code",
   "execution_count": 11,
   "id": "1c8d1721",
   "metadata": {},
   "outputs": [
    {
     "data": {
      "text/plain": [
       "(3, 3)"
      ]
     },
     "execution_count": 11,
     "metadata": {},
     "output_type": "execute_result"
    }
   ],
   "source": [
    "a[2],a[-3] # a[-3] = a[2]"
   ]
  },
  {
   "cell_type": "code",
   "execution_count": 12,
   "id": "1ccad310",
   "metadata": {},
   "outputs": [
    {
     "data": {
      "text/plain": [
       "(4, 4)"
      ]
     },
     "execution_count": 12,
     "metadata": {},
     "output_type": "execute_result"
    }
   ],
   "source": [
    "a[3],a[-2] # a[-2] = a[3]"
   ]
  },
  {
   "cell_type": "code",
   "execution_count": 13,
   "id": "dac14df3",
   "metadata": {},
   "outputs": [
    {
     "data": {
      "text/plain": [
       "(5, 5)"
      ]
     },
     "execution_count": 13,
     "metadata": {},
     "output_type": "execute_result"
    }
   ],
   "source": [
    "a[4],a[-1] # a[-1] = a[4]"
   ]
  },
  {
   "cell_type": "code",
   "execution_count": 14,
   "id": "80764ebe",
   "metadata": {},
   "outputs": [
    {
     "ename": "SyntaxError",
     "evalue": "invalid syntax (3139380504.py, line 1)",
     "output_type": "error",
     "traceback": [
      "\u001b[1;36m  Cell \u001b[1;32mIn[14], line 1\u001b[1;36m\u001b[0m\n\u001b[1;33m    [begin:end:step]\u001b[0m\n\u001b[1;37m          ^\u001b[0m\n\u001b[1;31mSyntaxError\u001b[0m\u001b[1;31m:\u001b[0m invalid syntax\n"
     ]
    }
   ],
   "source": [
    "[begin:end:step]"
   ]
  },
  {
   "cell_type": "code",
   "execution_count": 15,
   "id": "793c1faa",
   "metadata": {},
   "outputs": [],
   "source": [
    "a=[1,2,3,4,5,6,7,8,9,10]"
   ]
  },
  {
   "cell_type": "code",
   "execution_count": 16,
   "id": "7c54fe5f",
   "metadata": {},
   "outputs": [
    {
     "data": {
      "text/plain": [
       "[3, 4, 5, 6, 7, 8]"
      ]
     },
     "execution_count": 16,
     "metadata": {},
     "output_type": "execute_result"
    }
   ],
   "source": [
    "a[2:8] # 2부터 8보다 작을 때까지(2,3,4,5,6,7)"
   ]
  },
  {
   "cell_type": "code",
   "execution_count": 17,
   "id": "ad309fd4",
   "metadata": {},
   "outputs": [
    {
     "data": {
      "text/plain": [
       "[1, 2, 3, 4]"
      ]
     },
     "execution_count": 17,
     "metadata": {},
     "output_type": "execute_result"
    }
   ],
   "source": [
    "a[:4] #처음부터 4보다 작을 때까지(0,1,2,3 주의 a[4]제외)"
   ]
  },
  {
   "cell_type": "code",
   "execution_count": 18,
   "id": "1411b5e9",
   "metadata": {},
   "outputs": [
    {
     "data": {
      "text/plain": [
       "[6, 7, 8, 9, 10]"
      ]
     },
     "execution_count": 18,
     "metadata": {},
     "output_type": "execute_result"
    }
   ],
   "source": [
    "a[5:] #5부터 끝까지"
   ]
  },
  {
   "cell_type": "code",
   "execution_count": 19,
   "id": "c1d033c4",
   "metadata": {},
   "outputs": [
    {
     "data": {
      "text/plain": [
       "[1, 4]"
      ]
     },
     "execution_count": 19,
     "metadata": {},
     "output_type": "execute_result"
    }
   ],
   "source": [
    "a[0:6:3] #0부터 6보다 작을때 까지(6은 제외 0,3) 3씩 증가하여"
   ]
  },
  {
   "cell_type": "code",
   "execution_count": 20,
   "id": "3b5cc09e",
   "metadata": {},
   "outputs": [],
   "source": [
    "a=[[1,2,3],[4,5,6],[7,8,9]] # 리스트로 구성된 리스트"
   ]
  },
  {
   "cell_type": "code",
   "execution_count": 21,
   "id": "924cb35b",
   "metadata": {},
   "outputs": [
    {
     "data": {
      "text/plain": [
       "[7, 8, 9]"
      ]
     },
     "execution_count": 21,
     "metadata": {},
     "output_type": "execute_result"
    }
   ],
   "source": [
    "a[2] # a의 2번째 리스트 출력"
   ]
  },
  {
   "cell_type": "code",
   "execution_count": 22,
   "id": "61db045a",
   "metadata": {},
   "outputs": [
    {
     "data": {
      "text/plain": [
       "9"
      ]
     },
     "execution_count": 22,
     "metadata": {},
     "output_type": "execute_result"
    }
   ],
   "source": [
    "a[2][2] # a의 2번째 리스트의 2번째 값 출력"
   ]
  },
  {
   "cell_type": "code",
   "execution_count": 23,
   "id": "02d8b5e6",
   "metadata": {},
   "outputs": [
    {
     "ename": "IndexError",
     "evalue": "list index out of range",
     "output_type": "error",
     "traceback": [
      "\u001b[1;31m---------------------------------------------------------------------------\u001b[0m",
      "\u001b[1;31mIndexError\u001b[0m                                Traceback (most recent call last)",
      "Cell \u001b[1;32mIn[23], line 1\u001b[0m\n\u001b[1;32m----> 1\u001b[0m \u001b[43ma\u001b[49m\u001b[43m[\u001b[49m\u001b[38;5;241;43m1\u001b[39;49m\u001b[43m]\u001b[49m\u001b[43m[\u001b[49m\u001b[38;5;241;43m3\u001b[39;49m\u001b[43m]\u001b[49m\n",
      "\u001b[1;31mIndexError\u001b[0m: list index out of range"
     ]
    }
   ],
   "source": [
    " a[1][3] # 첨자 범위를 벗어남"
   ]
  },
  {
   "cell_type": "code",
   "execution_count": 24,
   "id": "8f2b11f2",
   "metadata": {},
   "outputs": [
    {
     "data": {
      "text/plain": [
       "6"
      ]
     },
     "execution_count": 24,
     "metadata": {},
     "output_type": "execute_result"
    }
   ],
   "source": [
    "a[1][2] # a의 1번째 리스트의 2번째 값 출력"
   ]
  },
  {
   "cell_type": "code",
   "execution_count": 25,
   "id": "d0d4fd0e",
   "metadata": {},
   "outputs": [],
   "source": [
    "a=[[1,2],[3,4,5],6] # 가변 형태의 리스트"
   ]
  },
  {
   "cell_type": "code",
   "execution_count": 26,
   "id": "3e891b88",
   "metadata": {},
   "outputs": [
    {
     "data": {
      "text/plain": [
       "[[1, 2], [3, 4, 5], 6]"
      ]
     },
     "execution_count": 26,
     "metadata": {},
     "output_type": "execute_result"
    }
   ],
   "source": [
    "a # a 출력"
   ]
  },
  {
   "cell_type": "code",
   "execution_count": 27,
   "id": "0989f271",
   "metadata": {},
   "outputs": [
    {
     "data": {
      "text/plain": [
       "6"
      ]
     },
     "execution_count": 27,
     "metadata": {},
     "output_type": "execute_result"
    }
   ],
   "source": [
    "a[2] # a의 2번째 값 출력"
   ]
  },
  {
   "cell_type": "code",
   "execution_count": 28,
   "id": "c936099c",
   "metadata": {},
   "outputs": [
    {
     "data": {
      "text/plain": [
       "[3, 4, 5]"
      ]
     },
     "execution_count": 28,
     "metadata": {},
     "output_type": "execute_result"
    }
   ],
   "source": [
    "a[1] # a의 1번째 리스트 출력"
   ]
  },
  {
   "cell_type": "code",
   "execution_count": 29,
   "id": "bec91f6c",
   "metadata": {},
   "outputs": [],
   "source": [
    "a=[ n * 3 for n in range (1,10)] # a라는 리스트를 선언하고, range(1, 10)까지의 값(n)을 3배한 값으로 초기화하여 할당함"
   ]
  },
  {
   "cell_type": "code",
   "execution_count": 30,
   "id": "6a052060",
   "metadata": {},
   "outputs": [
    {
     "data": {
      "text/plain": [
       "[3, 6, 9, 12, 15, 18, 21, 24, 27]"
      ]
     },
     "execution_count": 30,
     "metadata": {},
     "output_type": "execute_result"
    }
   ],
   "source": [
    "a"
   ]
  },
  {
   "cell_type": "code",
   "execution_count": 31,
   "id": "22c0c3f3",
   "metadata": {},
   "outputs": [],
   "source": [
    "a=[ n * 3 for n in range (1,10) if n % 2 ==0 ]\n",
    "# 1부터 10중 2로 나누어 나머지가 0인(짝수인) 숫자로\n",
    "# 리스트를 구성하여 그 요소 하나하나에 3을 곱한 것을 구함"
   ]
  },
  {
   "cell_type": "code",
   "execution_count": 32,
   "id": "1a800d93",
   "metadata": {},
   "outputs": [
    {
     "data": {
      "text/plain": [
       "[6, 12, 18, 24]"
      ]
     },
     "execution_count": 32,
     "metadata": {},
     "output_type": "execute_result"
    }
   ],
   "source": [
    "a"
   ]
  },
  {
   "cell_type": "code",
   "execution_count": 33,
   "id": "ef4c327b",
   "metadata": {},
   "outputs": [],
   "source": [
    "def titleprint(): # titleprint() 타이틀 함수 정의\n",
    "    pass # pass\n",
    "\n",
    "def itemprint(name,kortotal,engtotal,mathtotal): # 아이템을 출력하는 함수 정의\n",
    "    pass # pass\n",
    "\n",
    "def tailprint(): # tailprint() 끝(꼬리)에 출력하는 함수 정의\n",
    "    pass # pass\n",
    "\n",
    "#데이터 2차원 리스트\n",
    "score=[[\"나연\",100,90,100], # 이름, 국어, 영어, 수학 점수 리스트 값으로 대입\n",
    "[\"정연\",90,90,100], # 이름, 국어, 영어, 수학 점수 리스트 값으로 대입\n",
    "[\"모모\",80,70,90], # 이름, 국어, 영어, 수학 점수 리스트 값으로 대입\n",
    "[\"사나\",90,90,80], # 이름, 국어, 영어, 수학 점수 리스트 값으로 대입\n",
    "[\"지효\",100,80,80], # 이름, 국어, 영어, 수학 점수 리스트 값으로 대입\n",
    "[\"미나\",50,90,90], # 이름, 국어, 영어, 수학 점수 리스트 값으로 대입\n",
    "[\"다현\",80,60,100], # 이름, 국어, 영어, 수학 점수 리스트 값으로 대입\n",
    "[\"채영\",70,80,90], # 이름, 국어, 영어, 수학 점수 리스트 값으로 대입\n",
    "[\"쯔위\",100,90,90]] # 이름, 국어, 영어, 수학 점수 리스트 값으로 대입\n",
    "\n",
    "#프로그램을 보기 좋게 하려고 상수를 정의\n",
    "name=0;kor=1;eng=2;mat=3\n",
    "\n",
    "#여기부터 프로그램\n",
    "titleprint() # 함수 실행\n",
    "for one_student in score: # 0~(9-1)까지 반복\n",
    "    itemprint(one_student[name],one_student[kor],one_student[eng],one_student[mat]) #이름, 국어, 영어, 수학점수 출력\n",
    "tailprint() # tailprint() 함수 실행"
   ]
  },
  {
   "cell_type": "code",
   "execution_count": 42,
   "id": "26f875aa",
   "metadata": {},
   "outputs": [
    {
     "name": "stdout",
     "output_type": "stream",
     "text": [
      "==================================================\n",
      "이름\t국어\t영어\t수학\t총점\t평균\n",
      "==================================================\n",
      "나연 \t 100 \t 90 \t 100 \t 290 \t 96\n",
      "정연 \t 90 \t 90 \t 100 \t 280 \t 93\n",
      "모모 \t 80 \t 70 \t 90 \t 240 \t 80\n",
      "사나 \t 90 \t 90 \t 80 \t 260 \t 86\n",
      "지효 \t 100 \t 80 \t 80 \t 260 \t 86\n",
      "미나 \t 50 \t 90 \t 90 \t 230 \t 76\n",
      "다현 \t 80 \t 60 \t 100 \t 240 \t 80\n",
      "채영 \t 70 \t 80 \t 90 \t 240 \t 80\n",
      "쯔위 \t 100 \t 90 \t 90 \t 280 \t 93\n",
      "==================================================\n",
      "반총점\t 760 \t 740 \t 820 \t 257 \t 85.0\n",
      "==================================================\n"
     ]
    }
   ],
   "source": [
    "def titleprint(): # titleprint() 타이틀 함수 정의\n",
    "    print(\"=\"*50) # \"=\"\" 50번 반복\n",
    "    print(\"이름\\t국어\\t영어\\t수학\\t총점\\t평균\") # 타이틀 출력\n",
    "    print(\"=\"*50) # \"=\"\" 50번 반복\n",
    "    \n",
    "def itemprint(name,kor,eng,mat): # 아이템을 출력하는 함수 정의\n",
    "    print(name,\"\\t\",kor,\"\\t\",eng,\"\\t\",mat,\"\\t\",kor+eng+mat,\"\\t\",(kor+eng+mat)//3) # 이름, 국어, 영어, 수학, 합, 평균 출력\n",
    "              \n",
    "def tailprint(): # tailprint() 끝(꼬리)에 출력하는 함수 정의\n",
    "    totkor=0 # 국어 총합 변수 totkor에 초기값으로 0 저장\n",
    "    toteng=0 # 영어 총합 변수 toteng 초기값으로 0 저장\n",
    "    totmat=0 # 수학 총합 변수 totmat 초기값으로 0 저장\n",
    "    for one_student in score:# scor의 리스트에 있는 값들을 할당\n",
    "        totkor+=one_student[kor] # 각 값을 누적합\n",
    "        toteng+=one_student[eng] # 각 값을 누적합\n",
    "        totmat+=one_student[mat] # 각 값을 누적합\n",
    "    print(\"=\"*50) # \"=\"\" 50번 반복\n",
    "    print(\"반총점\\t\",totkor,\"\\t\",toteng,\"\\t\",totmat,\"\\t\"\\\n",
    "        ,(totkor+toteng+totmat)//9,\"\\t\",(totkor+toteng+totmat)/3//9)\n",
    "    # 모든 총점의 합의 인원 수 별 평균, 모든 총점의 합의 인원 수 별 과목 별 평균\n",
    "    print(\"=\"*50) # \"=\"\" 50번 반복\n",
    "\n",
    "#데이터 2차원 리스트\n",
    "score=[[\"나연\",100,90,100], # 이름, 국어, 영어, 수학 점수 리스트 값으로 대입\n",
    "[\"정연\",90,90,100], # 이름, 국어, 영어, 수학 점수 리스트 값으로 대입\n",
    "[\"모모\",80,70,90], # 이름, 국어, 영어, 수학 점수 리스트 값으로 대입\n",
    "[\"사나\",90,90,80], # 이름, 국어, 영어, 수학 점수 리스트 값으로 대입\n",
    "[\"지효\",100,80,80], # 이름, 국어, 영어, 수학 점수 리스트 값으로 대입\n",
    "[\"미나\",50,90,90], # 이름, 국어, 영어, 수학 점수 리스트 값으로 대입\n",
    "[\"다현\",80,60,100], # 이름, 국어, 영어, 수학 점수 리스트 값으로 대입\n",
    "[\"채영\",70,80,90], # 이름, 국어, 영어, 수학 점수 리스트 값으로 대입\n",
    "[\"쯔위\",100,90,90]] # 이름, 국어, 영어, 수학 점수 리스트 값으로 대입\n",
    "\n",
    "#프로그램을 보기 좋게 하려고 상수를 정의\n",
    "name=0;kor=1;eng=2;mat=3 # 각각의 변수에 값 저장\n",
    "\n",
    "#여기부터 프로그램\n",
    "titleprint() # 함수 실행\n",
    "for one_student in score: # 0~(9-1)까지 반복\n",
    "    itemprint(one_student[name],one_student[kor],one_student[eng],one_student[mat]) #이름, 국어, 영어, 수학점수 출력\n",
    "tailprint() # tailprint() 함수 실행"
   ]
  },
  {
   "cell_type": "code",
   "execution_count": 43,
   "id": "1889e813",
   "metadata": {},
   "outputs": [],
   "source": [
    "a=[1,2,3,4,5] # a에 리스트 값 저장"
   ]
  },
  {
   "cell_type": "code",
   "execution_count": 44,
   "id": "636280b0",
   "metadata": {},
   "outputs": [
    {
     "data": {
      "text/plain": [
       "[1, 2, 3, 4, 5]"
      ]
     },
     "execution_count": 44,
     "metadata": {},
     "output_type": "execute_result"
    }
   ],
   "source": [
    "a # a 출력"
   ]
  },
  {
   "cell_type": "code",
   "execution_count": 45,
   "id": "18e7660a",
   "metadata": {},
   "outputs": [],
   "source": [
    "del a[2] #2번 리스트요소 삭제"
   ]
  },
  {
   "cell_type": "code",
   "execution_count": 46,
   "id": "d35c412e",
   "metadata": {},
   "outputs": [
    {
     "data": {
      "text/plain": [
       "[1, 2, 4, 5]"
      ]
     },
     "execution_count": 46,
     "metadata": {},
     "output_type": "execute_result"
    }
   ],
   "source": [
    "a # a 출력"
   ]
  },
  {
   "cell_type": "code",
   "execution_count": 47,
   "id": "c74a4e42",
   "metadata": {},
   "outputs": [],
   "source": [
    "a.clear() #리스트 전부 지움"
   ]
  },
  {
   "cell_type": "code",
   "execution_count": 48,
   "id": "f22790f1",
   "metadata": {},
   "outputs": [
    {
     "data": {
      "text/plain": [
       "[]"
      ]
     },
     "execution_count": 48,
     "metadata": {},
     "output_type": "execute_result"
    }
   ],
   "source": [
    "a # a 출력"
   ]
  },
  {
   "cell_type": "code",
   "execution_count": 49,
   "id": "438e6f64",
   "metadata": {},
   "outputs": [],
   "source": [
    "del a #a공간도 지움"
   ]
  },
  {
   "cell_type": "code",
   "execution_count": 50,
   "id": "7ed580cb",
   "metadata": {},
   "outputs": [
    {
     "ename": "NameError",
     "evalue": "name 'a' is not defined",
     "output_type": "error",
     "traceback": [
      "\u001b[1;31m---------------------------------------------------------------------------\u001b[0m",
      "\u001b[1;31mNameError\u001b[0m                                 Traceback (most recent call last)",
      "Cell \u001b[1;32mIn[50], line 1\u001b[0m\n\u001b[1;32m----> 1\u001b[0m \u001b[43ma\u001b[49m\n",
      "\u001b[1;31mNameError\u001b[0m: name 'a' is not defined"
     ]
    }
   ],
   "source": [
    "a # a 출력"
   ]
  },
  {
   "cell_type": "code",
   "execution_count": 51,
   "id": "08b40de4",
   "metadata": {},
   "outputs": [
    {
     "ename": "NameError",
     "evalue": "name 'a' is not defined",
     "output_type": "error",
     "traceback": [
      "\u001b[1;31m---------------------------------------------------------------------------\u001b[0m",
      "\u001b[1;31mNameError\u001b[0m                                 Traceback (most recent call last)",
      "Cell \u001b[1;32mIn[51], line 1\u001b[0m\n\u001b[1;32m----> 1\u001b[0m \u001b[38;5;28;01mdel\u001b[39;00m a\n",
      "\u001b[1;31mNameError\u001b[0m: name 'a' is not defined"
     ]
    }
   ],
   "source": [
    "del a #a공간도 지움"
   ]
  },
  {
   "cell_type": "code",
   "execution_count": 52,
   "id": "ed89f7d7",
   "metadata": {},
   "outputs": [
    {
     "ename": "NameError",
     "evalue": "name 'a' is not defined",
     "output_type": "error",
     "traceback": [
      "\u001b[1;31m---------------------------------------------------------------------------\u001b[0m",
      "\u001b[1;31mNameError\u001b[0m                                 Traceback (most recent call last)",
      "Cell \u001b[1;32mIn[52], line 1\u001b[0m\n\u001b[1;32m----> 1\u001b[0m \u001b[43ma\u001b[49m\u001b[38;5;241m.\u001b[39mappend(\u001b[38;5;241m1\u001b[39m) \u001b[38;5;66;03m#리스트가 정의되어 있지 않은 경우 추가는불가\u001b[39;00m\n",
      "\u001b[1;31mNameError\u001b[0m: name 'a' is not defined"
     ]
    }
   ],
   "source": [
    "a.append(1) #리스트가 정의되어 있지 않은 경우 추가는불가"
   ]
  },
  {
   "cell_type": "code",
   "execution_count": 53,
   "id": "ee41c21d",
   "metadata": {},
   "outputs": [],
   "source": [
    " a=[] #빈 리스트를 정의"
   ]
  },
  {
   "cell_type": "code",
   "execution_count": 54,
   "id": "331501b1",
   "metadata": {},
   "outputs": [],
   "source": [
    "a.append(1) #1값의 리스트요소를 추가"
   ]
  },
  {
   "cell_type": "code",
   "execution_count": 55,
   "id": "121eb1c0",
   "metadata": {},
   "outputs": [],
   "source": [
    "a.append(3) #3값의 리스트요소를 추가"
   ]
  },
  {
   "cell_type": "code",
   "execution_count": 56,
   "id": "c70b9adb",
   "metadata": {},
   "outputs": [],
   "source": [
    "a.append(5) #5값의 리스트요소를 추가"
   ]
  },
  {
   "cell_type": "code",
   "execution_count": 57,
   "id": "b75c2d3c",
   "metadata": {},
   "outputs": [
    {
     "data": {
      "text/plain": [
       "[1, 3, 5]"
      ]
     },
     "execution_count": 57,
     "metadata": {},
     "output_type": "execute_result"
    }
   ],
   "source": [
    "a # a 출력"
   ]
  },
  {
   "cell_type": "code",
   "execution_count": 58,
   "id": "52b972e0",
   "metadata": {},
   "outputs": [],
   "source": [
    "a=[4,5,6] #기존 a를 무시하고 다시 정의"
   ]
  },
  {
   "cell_type": "code",
   "execution_count": 59,
   "id": "6efdee2a",
   "metadata": {},
   "outputs": [],
   "source": [
    "a.append(10) #10값의 리스트요소를 추가"
   ]
  },
  {
   "cell_type": "code",
   "execution_count": 60,
   "id": "bb6a0efd",
   "metadata": {},
   "outputs": [
    {
     "data": {
      "text/plain": [
       "[4, 5, 6, 10]"
      ]
     },
     "execution_count": 60,
     "metadata": {},
     "output_type": "execute_result"
    }
   ],
   "source": [
    "a # a 출력"
   ]
  },
  {
   "cell_type": "code",
   "execution_count": 61,
   "id": "0ff73014",
   "metadata": {},
   "outputs": [],
   "source": [
    "a=[1,2,3,4,5] # a에 리스트 값 저장"
   ]
  },
  {
   "cell_type": "code",
   "execution_count": 62,
   "id": "c1560409",
   "metadata": {},
   "outputs": [],
   "source": [
    "a.append(6) #append는 맨 뒤에 하나의 요소를 삽입"
   ]
  },
  {
   "cell_type": "code",
   "execution_count": 63,
   "id": "35598e4d",
   "metadata": {},
   "outputs": [
    {
     "data": {
      "text/plain": [
       "[1, 2, 3, 4, 5, 6]"
      ]
     },
     "execution_count": 63,
     "metadata": {},
     "output_type": "execute_result"
    }
   ],
   "source": [
    "a # a 출력"
   ]
  },
  {
   "cell_type": "code",
   "execution_count": 64,
   "id": "07e147ac",
   "metadata": {},
   "outputs": [],
   "source": [
    "a.insert(3,12) # 리스트 3번째 자리에 12 추가"
   ]
  },
  {
   "cell_type": "code",
   "execution_count": 65,
   "id": "258ebf2f",
   "metadata": {},
   "outputs": [
    {
     "data": {
      "text/plain": [
       "[1, 2, 3, 12, 4, 5, 6]"
      ]
     },
     "execution_count": 65,
     "metadata": {},
     "output_type": "execute_result"
    }
   ],
   "source": [
    "a # a 출력"
   ]
  },
  {
   "cell_type": "code",
   "execution_count": 67,
   "id": "d9f669d3",
   "metadata": {},
   "outputs": [],
   "source": [
    "a.insert(4,15) # 리스트 4번째 자리에 15 추가"
   ]
  },
  {
   "cell_type": "code",
   "execution_count": 68,
   "id": "033055f8",
   "metadata": {},
   "outputs": [
    {
     "data": {
      "text/plain": [
       "[1, 2, 3, 12, 15, 15, 4, 5, 6]"
      ]
     },
     "execution_count": 68,
     "metadata": {},
     "output_type": "execute_result"
    }
   ],
   "source": [
    "a # a 출력"
   ]
  },
  {
   "cell_type": "code",
   "execution_count": 69,
   "id": "97228522",
   "metadata": {},
   "outputs": [],
   "source": [
    "a.insert(3,1) # 리스트 3번째 자리에 1 추가"
   ]
  },
  {
   "cell_type": "code",
   "execution_count": 70,
   "id": "f4765469",
   "metadata": {},
   "outputs": [
    {
     "data": {
      "text/plain": [
       "[1, 2, 3, 1, 12, 15, 15, 4, 5, 6]"
      ]
     },
     "execution_count": 70,
     "metadata": {},
     "output_type": "execute_result"
    }
   ],
   "source": [
    "a # a 출력"
   ]
  },
  {
   "cell_type": "code",
   "execution_count": 71,
   "id": "f6583a4c",
   "metadata": {},
   "outputs": [],
   "source": [
    "a=[1, 2, 3, 1, 12, 15, 4, 5, 6] # a에 리스트 값 저장"
   ]
  },
  {
   "cell_type": "code",
   "execution_count": 72,
   "id": "aa483c95",
   "metadata": {},
   "outputs": [],
   "source": [
    "a[5:5]=[1,2,3,4,5,6] #5에서 5까지 영역에 해당 리스트 값을 대입"
   ]
  },
  {
   "cell_type": "code",
   "execution_count": 73,
   "id": "994599a0",
   "metadata": {},
   "outputs": [
    {
     "data": {
      "text/plain": [
       "[1, 2, 3, 1, 12, 1, 2, 3, 4, 5, 6, 15, 4, 5, 6]"
      ]
     },
     "execution_count": 73,
     "metadata": {},
     "output_type": "execute_result"
    }
   ],
   "source": [
    "a # a 출력"
   ]
  },
  {
   "cell_type": "code",
   "execution_count": 74,
   "id": "caf783f2",
   "metadata": {},
   "outputs": [],
   "source": [
    "a=[1, 2, 3, 1, 12, 15, 4, 5, 6] # a에 리스트 값 저장"
   ]
  },
  {
   "cell_type": "code",
   "execution_count": 75,
   "id": "c58191d2",
   "metadata": {},
   "outputs": [],
   "source": [
    "a[5]=[1,2,3,4,5,6] #5요소에 이 리스트를 대입(큰 차이)"
   ]
  },
  {
   "cell_type": "code",
   "execution_count": 76,
   "id": "dc683dc6",
   "metadata": {},
   "outputs": [
    {
     "data": {
      "text/plain": [
       "[1, 2, 3, 1, 12, [1, 2, 3, 4, 5, 6], 4, 5, 6]"
      ]
     },
     "execution_count": 76,
     "metadata": {},
     "output_type": "execute_result"
    }
   ],
   "source": [
    "a # a 출력"
   ]
  },
  {
   "cell_type": "code",
   "execution_count": 77,
   "id": "64704b90",
   "metadata": {},
   "outputs": [],
   "source": [
    "a=[1,2,3] # a에 리스트 값 저장"
   ]
  },
  {
   "cell_type": "code",
   "execution_count": 78,
   "id": "2fba000b",
   "metadata": {},
   "outputs": [],
   "source": [
    "b=[4,5,6] # b에 리스트 값 저장"
   ]
  },
  {
   "cell_type": "code",
   "execution_count": 79,
   "id": "155f08af",
   "metadata": {},
   "outputs": [],
   "source": [
    "a=a+b # a에 a+b 값 저장 => 리스트 값 합치기"
   ]
  },
  {
   "cell_type": "code",
   "execution_count": 80,
   "id": "dc222f8d",
   "metadata": {},
   "outputs": [
    {
     "data": {
      "text/plain": [
       "[1, 2, 3, 4, 5, 6]"
      ]
     },
     "execution_count": 80,
     "metadata": {},
     "output_type": "execute_result"
    }
   ],
   "source": [
    "a # a 출력"
   ]
  },
  {
   "cell_type": "code",
   "execution_count": 81,
   "id": "5ef5b217",
   "metadata": {},
   "outputs": [],
   "source": [
    "a=[1,2,3] # a에 리스트 값 저장"
   ]
  },
  {
   "cell_type": "code",
   "execution_count": 82,
   "id": "db8d7c63",
   "metadata": {},
   "outputs": [],
   "source": [
    "b=[4,5,6] # b에 리스트 값 저장"
   ]
  },
  {
   "cell_type": "code",
   "execution_count": 83,
   "id": "be995240",
   "metadata": {},
   "outputs": [],
   "source": [
    "a.extend(b) # 두 개의 리스트 병합"
   ]
  },
  {
   "cell_type": "code",
   "execution_count": 84,
   "id": "e24e8a3e",
   "metadata": {},
   "outputs": [
    {
     "data": {
      "text/plain": [
       "[1, 2, 3, 4, 5, 6]"
      ]
     },
     "execution_count": 84,
     "metadata": {},
     "output_type": "execute_result"
    }
   ],
   "source": [
    "a # a 출력"
   ]
  },
  {
   "cell_type": "code",
   "execution_count": 85,
   "id": "7d5f1a2a",
   "metadata": {},
   "outputs": [],
   "source": [
    "# 리스트를 지우기 위하여 list.remove(원하는값), del(list[n:m]), list.clear()를 사용"
   ]
  },
  {
   "cell_type": "code",
   "execution_count": 86,
   "id": "2d3ba6e1",
   "metadata": {},
   "outputs": [],
   "source": [
    "a=[1,2,3,3,4,4,5,6,7,7,7,7,8] # a에 리스트 값 저장"
   ]
  },
  {
   "cell_type": "code",
   "execution_count": 87,
   "id": "dce0536e",
   "metadata": {},
   "outputs": [
    {
     "data": {
      "text/plain": [
       "[1, 2, 3, 3, 4, 4, 5, 6, 7, 7, 7, 7, 8]"
      ]
     },
     "execution_count": 87,
     "metadata": {},
     "output_type": "execute_result"
    }
   ],
   "source": [
    "a # a 출력"
   ]
  },
  {
   "cell_type": "code",
   "execution_count": 88,
   "id": "abafc0e9",
   "metadata": {},
   "outputs": [],
   "source": [
    "a.remove(7) #첫 번째 만나는 7값을 가진 리스트 삭제"
   ]
  },
  {
   "cell_type": "code",
   "execution_count": 89,
   "id": "15178298",
   "metadata": {},
   "outputs": [
    {
     "data": {
      "text/plain": [
       "[1, 2, 3, 3, 4, 4, 5, 6, 7, 7, 7, 8]"
      ]
     },
     "execution_count": 89,
     "metadata": {},
     "output_type": "execute_result"
    }
   ],
   "source": [
    "a # a 출력"
   ]
  },
  {
   "cell_type": "code",
   "execution_count": 90,
   "id": "1630d8dc",
   "metadata": {},
   "outputs": [],
   "source": [
    "a.remove(7) #첫 번째 만나는 7값을 가진 리스트 삭제"
   ]
  },
  {
   "cell_type": "code",
   "execution_count": 91,
   "id": "49d415e0",
   "metadata": {},
   "outputs": [
    {
     "data": {
      "text/plain": [
       "[1, 2, 3, 3, 4, 4, 5, 6, 7, 7, 8]"
      ]
     },
     "execution_count": 91,
     "metadata": {},
     "output_type": "execute_result"
    }
   ],
   "source": [
    "a # a 출력"
   ]
  },
  {
   "cell_type": "code",
   "execution_count": 92,
   "id": "e5961071",
   "metadata": {},
   "outputs": [],
   "source": [
    "a[5]=[] #다섯 번째에 빈 값[]이 들어 있는 리스트를 만듬(주의: a[5:5]=[]라고 해야 함)"
   ]
  },
  {
   "cell_type": "code",
   "execution_count": 93,
   "id": "aa24b747",
   "metadata": {},
   "outputs": [
    {
     "data": {
      "text/plain": [
       "[1, 2, 3, 3, 4, [], 5, 6, 7, 7, 8]"
      ]
     },
     "execution_count": 93,
     "metadata": {},
     "output_type": "execute_result"
    }
   ],
   "source": [
    "a # a 출력"
   ]
  },
  {
   "cell_type": "code",
   "execution_count": 94,
   "id": "92fb0d42",
   "metadata": {},
   "outputs": [],
   "source": [
    "a[2:4]=[] # a의 두번째랑 네번째 값 사이에 리스트를 만듬"
   ]
  },
  {
   "cell_type": "code",
   "execution_count": 95,
   "id": "e94c2bc2",
   "metadata": {},
   "outputs": [
    {
     "data": {
      "text/plain": [
       "[1, 2, 4, [], 5, 6, 7, 7, 8]"
      ]
     },
     "execution_count": 95,
     "metadata": {},
     "output_type": "execute_result"
    }
   ],
   "source": [
    "a # a 출력"
   ]
  },
  {
   "cell_type": "code",
   "execution_count": 96,
   "id": "934f8c8b",
   "metadata": {},
   "outputs": [],
   "source": [
    "del(a[4]) # a의 네번째 값 삭제"
   ]
  },
  {
   "cell_type": "code",
   "execution_count": 97,
   "id": "fb26d3d2",
   "metadata": {},
   "outputs": [
    {
     "data": {
      "text/plain": [
       "[1, 2, 4, [], 6, 7, 7, 8]"
      ]
     },
     "execution_count": 97,
     "metadata": {},
     "output_type": "execute_result"
    }
   ],
   "source": [
    "a # a 출력"
   ]
  },
  {
   "cell_type": "code",
   "execution_count": 98,
   "id": "f4121e0f",
   "metadata": {},
   "outputs": [],
   "source": [
    "del(a[3]) # a의 세번째 값 삭제"
   ]
  },
  {
   "cell_type": "code",
   "execution_count": 99,
   "id": "1b165894",
   "metadata": {},
   "outputs": [
    {
     "data": {
      "text/plain": [
       "[1, 2, 4, 6, 7, 7, 8]"
      ]
     },
     "execution_count": 99,
     "metadata": {},
     "output_type": "execute_result"
    }
   ],
   "source": [
    "a # a 출력"
   ]
  },
  {
   "cell_type": "code",
   "execution_count": 100,
   "id": "33734093",
   "metadata": {},
   "outputs": [],
   "source": [
    "a.clear() #다 지우나 빈 값에 리스트가 남음"
   ]
  },
  {
   "cell_type": "code",
   "execution_count": 101,
   "id": "d036fb41",
   "metadata": {},
   "outputs": [
    {
     "data": {
      "text/plain": [
       "[]"
      ]
     },
     "execution_count": 101,
     "metadata": {},
     "output_type": "execute_result"
    }
   ],
   "source": [
    "a # a 출력"
   ]
  },
  {
   "cell_type": "code",
   "execution_count": 102,
   "id": "fc6e314f",
   "metadata": {},
   "outputs": [],
   "source": [
    "del(a) #리스트 정의까지 삭제"
   ]
  },
  {
   "cell_type": "code",
   "execution_count": 103,
   "id": "28f80583",
   "metadata": {},
   "outputs": [
    {
     "ename": "NameError",
     "evalue": "name 'a' is not defined",
     "output_type": "error",
     "traceback": [
      "\u001b[1;31m---------------------------------------------------------------------------\u001b[0m",
      "\u001b[1;31mNameError\u001b[0m                                 Traceback (most recent call last)",
      "Cell \u001b[1;32mIn[103], line 1\u001b[0m\n\u001b[1;32m----> 1\u001b[0m \u001b[43ma\u001b[49m\n",
      "\u001b[1;31mNameError\u001b[0m: name 'a' is not defined"
     ]
    }
   ],
   "source": [
    "a # a 출력"
   ]
  },
  {
   "cell_type": "code",
   "execution_count": 104,
   "id": "20c4ad9f",
   "metadata": {},
   "outputs": [],
   "source": [
    "# list.pop(n)은 해당위치를 리턴하고 삭제함 n이 없다면 맨 마지막 요소 리턴"
   ]
  },
  {
   "cell_type": "code",
   "execution_count": 105,
   "id": "57df3b05",
   "metadata": {},
   "outputs": [],
   "source": [
    "a=[1,2,3,3,4,4,5,6,7,7,7,7,8] # a에 리스트 값 저장"
   ]
  },
  {
   "cell_type": "code",
   "execution_count": 106,
   "id": "7743863c",
   "metadata": {},
   "outputs": [
    {
     "data": {
      "text/plain": [
       "8"
      ]
     },
     "execution_count": 106,
     "metadata": {},
     "output_type": "execute_result"
    }
   ],
   "source": [
    "a.pop() # 마지막 값 리턴"
   ]
  },
  {
   "cell_type": "code",
   "execution_count": 107,
   "id": "0630e6b4",
   "metadata": {},
   "outputs": [
    {
     "data": {
      "text/plain": [
       "[1, 2, 3, 3, 4, 4, 5, 6, 7, 7, 7, 7]"
      ]
     },
     "execution_count": 107,
     "metadata": {},
     "output_type": "execute_result"
    }
   ],
   "source": [
    "a # a 출력"
   ]
  },
  {
   "cell_type": "code",
   "execution_count": 108,
   "id": "5a920cbd",
   "metadata": {},
   "outputs": [
    {
     "data": {
      "text/plain": [
       "7"
      ]
     },
     "execution_count": 108,
     "metadata": {},
     "output_type": "execute_result"
    }
   ],
   "source": [
    "a.pop() # 마지막 값 리턴"
   ]
  },
  {
   "cell_type": "code",
   "execution_count": 109,
   "id": "c4c371ef",
   "metadata": {},
   "outputs": [
    {
     "data": {
      "text/plain": [
       "[1, 2, 3, 3, 4, 4, 5, 6, 7, 7, 7]"
      ]
     },
     "execution_count": 109,
     "metadata": {},
     "output_type": "execute_result"
    }
   ],
   "source": [
    "a # a 출력"
   ]
  },
  {
   "cell_type": "code",
   "execution_count": 110,
   "id": "233539d3",
   "metadata": {},
   "outputs": [
    {
     "data": {
      "text/plain": [
       "3"
      ]
     },
     "execution_count": 110,
     "metadata": {},
     "output_type": "execute_result"
    }
   ],
   "source": [
    "a.pop(3) # 3번째 값 리턴"
   ]
  },
  {
   "cell_type": "code",
   "execution_count": 111,
   "id": "a883f825",
   "metadata": {},
   "outputs": [
    {
     "data": {
      "text/plain": [
       "[1, 2, 3, 4, 4, 5, 6, 7, 7, 7]"
      ]
     },
     "execution_count": 111,
     "metadata": {},
     "output_type": "execute_result"
    }
   ],
   "source": [
    "a # a 출력"
   ]
  },
  {
   "cell_type": "code",
   "execution_count": 112,
   "id": "fc9e967b",
   "metadata": {},
   "outputs": [
    {
     "data": {
      "text/plain": [
       "6"
      ]
     },
     "execution_count": 112,
     "metadata": {},
     "output_type": "execute_result"
    }
   ],
   "source": [
    "a.pop(6) # 6번째 값 리턴"
   ]
  },
  {
   "cell_type": "code",
   "execution_count": 113,
   "id": "94c95f62",
   "metadata": {},
   "outputs": [
    {
     "data": {
      "text/plain": [
       "[1, 2, 3, 4, 4, 5, 7, 7, 7]"
      ]
     },
     "execution_count": 113,
     "metadata": {},
     "output_type": "execute_result"
    }
   ],
   "source": [
    "a # a 출력"
   ]
  },
  {
   "cell_type": "code",
   "execution_count": null,
   "id": "77227eaa",
   "metadata": {},
   "outputs": [],
   "source": []
  },
  {
   "cell_type": "code",
   "execution_count": 114,
   "id": "a4abbd7c",
   "metadata": {},
   "outputs": [
    {
     "data": {
      "text/plain": [
       "1"
      ]
     },
     "execution_count": 114,
     "metadata": {},
     "output_type": "execute_result"
    }
   ],
   "source": [
    "a.pop(0) # 0번째 값 리턴"
   ]
  },
  {
   "cell_type": "code",
   "execution_count": 115,
   "id": "5bf07da5",
   "metadata": {},
   "outputs": [
    {
     "data": {
      "text/plain": [
       "[2, 3, 4, 4, 5, 7, 7, 7]"
      ]
     },
     "execution_count": 115,
     "metadata": {},
     "output_type": "execute_result"
    }
   ],
   "source": [
    "a # a 출력"
   ]
  },
  {
   "cell_type": "code",
   "execution_count": 116,
   "id": "d6cc6e82",
   "metadata": {},
   "outputs": [],
   "source": [
    "#list.index(값) 해당 값이 처음 나오는 위치를 리턴\n",
    "#list.count(값) 해당 값이 몇 번 나오는지 리턴"
   ]
  },
  {
   "cell_type": "code",
   "execution_count": 117,
   "id": "a23e1a36",
   "metadata": {},
   "outputs": [],
   "source": [
    "a=[1,2,3,3,4,4,5,6,7,7,7,7,8] # a에 리스트 값 저장 "
   ]
  },
  {
   "cell_type": "code",
   "execution_count": 118,
   "id": "ebf14a40",
   "metadata": {},
   "outputs": [
    {
     "data": {
      "text/plain": [
       "8"
      ]
     },
     "execution_count": 118,
     "metadata": {},
     "output_type": "execute_result"
    }
   ],
   "source": [
    "a.index(7) # 7이 처음 나오는 위치를 리턴"
   ]
  },
  {
   "cell_type": "code",
   "execution_count": 119,
   "id": "5e2b964e",
   "metadata": {},
   "outputs": [
    {
     "data": {
      "text/plain": [
       "12"
      ]
     },
     "execution_count": 119,
     "metadata": {},
     "output_type": "execute_result"
    }
   ],
   "source": [
    "a.index(8) #값 8의 위치는 12(0부터 시작)"
   ]
  },
  {
   "cell_type": "code",
   "execution_count": 120,
   "id": "e13aafa3",
   "metadata": {},
   "outputs": [
    {
     "data": {
      "text/plain": [
       "4"
      ]
     },
     "execution_count": 120,
     "metadata": {},
     "output_type": "execute_result"
    }
   ],
   "source": [
    "a.index(4) #값 4의 위치는 4(0부터 시작)"
   ]
  },
  {
   "cell_type": "code",
   "execution_count": 121,
   "id": "15fd5d1e",
   "metadata": {},
   "outputs": [
    {
     "data": {
      "text/plain": [
       "4"
      ]
     },
     "execution_count": 121,
     "metadata": {},
     "output_type": "execute_result"
    }
   ],
   "source": [
    "a.count(7) #7은 4번 나옴"
   ]
  },
  {
   "cell_type": "code",
   "execution_count": 122,
   "id": "7a9f49b9",
   "metadata": {},
   "outputs": [],
   "source": [
    "# min(list),max(list) 리스트중 최소값과 최대값을 구함\n",
    "# len(list) 리스트의 크기(개수)를 구함"
   ]
  },
  {
   "cell_type": "code",
   "execution_count": 123,
   "id": "d572200d",
   "metadata": {},
   "outputs": [],
   "source": [
    "a=[1,2,3,3,4,4,5,6,7,7,7,7,8]"
   ]
  },
  {
   "cell_type": "code",
   "execution_count": 124,
   "id": "dc3220c7",
   "metadata": {},
   "outputs": [
    {
     "data": {
      "text/plain": [
       "1"
      ]
     },
     "execution_count": 124,
     "metadata": {},
     "output_type": "execute_result"
    }
   ],
   "source": [
    "min(a) # 리스트 a 원소의 최소값 출력"
   ]
  },
  {
   "cell_type": "code",
   "execution_count": 125,
   "id": "85f649ca",
   "metadata": {},
   "outputs": [
    {
     "data": {
      "text/plain": [
       "8"
      ]
     },
     "execution_count": 125,
     "metadata": {},
     "output_type": "execute_result"
    }
   ],
   "source": [
    "max(a) # 리스트 a 원소의 최대값 출력"
   ]
  },
  {
   "cell_type": "code",
   "execution_count": 126,
   "id": "fc0d0102",
   "metadata": {},
   "outputs": [
    {
     "data": {
      "text/plain": [
       "13"
      ]
     },
     "execution_count": 126,
     "metadata": {},
     "output_type": "execute_result"
    }
   ],
   "source": [
    "len(a) # 리스트 a 원소의 길이 출력"
   ]
  },
  {
   "cell_type": "code",
   "execution_count": 127,
   "id": "9c9dce7f",
   "metadata": {},
   "outputs": [],
   "source": [
    "# list.sort() 리스트 내용을 정렬함\n",
    "# list.reverse() 리스트 내용을 역으로 보여줌"
   ]
  },
  {
   "cell_type": "code",
   "execution_count": 128,
   "id": "8341f5ea",
   "metadata": {},
   "outputs": [],
   "source": [
    "a=[1,8,5,6,2,4,5,2,6,9,4] # a에 리스트 값 저장 "
   ]
  },
  {
   "cell_type": "code",
   "execution_count": 129,
   "id": "0cf2691a",
   "metadata": {},
   "outputs": [],
   "source": [
    "a.reverse() # 리스트 내용을 역으로 보여줌"
   ]
  },
  {
   "cell_type": "code",
   "execution_count": 131,
   "id": "43c74ab6",
   "metadata": {},
   "outputs": [
    {
     "data": {
      "text/plain": [
       "[4, 9, 6, 2, 5, 4, 2, 6, 5, 8, 1]"
      ]
     },
     "execution_count": 131,
     "metadata": {},
     "output_type": "execute_result"
    }
   ],
   "source": [
    "a # a 출력"
   ]
  },
  {
   "cell_type": "code",
   "execution_count": 132,
   "id": "740ffb3a",
   "metadata": {},
   "outputs": [],
   "source": [
    "a.sort() # 리스트 내용을 정렬"
   ]
  },
  {
   "cell_type": "code",
   "execution_count": 133,
   "id": "08d3d19f",
   "metadata": {},
   "outputs": [
    {
     "data": {
      "text/plain": [
       "[1, 2, 2, 4, 4, 5, 5, 6, 6, 8, 9]"
      ]
     },
     "execution_count": 133,
     "metadata": {},
     "output_type": "execute_result"
    }
   ],
   "source": [
    "a # a 출력"
   ]
  },
  {
   "cell_type": "code",
   "execution_count": 134,
   "id": "1f9a83c9",
   "metadata": {},
   "outputs": [
    {
     "ename": "IndentationError",
     "evalue": "expected an indented block (1281415319.py, line 14)",
     "output_type": "error",
     "traceback": [
      "\u001b[1;36m  Cell \u001b[1;32mIn[134], line 14\u001b[1;36m\u001b[0m\n\u001b[1;33m    one_person.append(\"name\"+str(i)) #이름\u001b[0m\n\u001b[1;37m    ^\u001b[0m\n\u001b[1;31mIndentationError\u001b[0m\u001b[1;31m:\u001b[0m expected an indented block\n"
     ]
    }
   ],
   "source": [
    "import random as r\n",
    "def titleprint():\n",
    "    pass\n",
    "\n",
    "def itemprint(name,kor,eng,mat):\n",
    "    pass\n",
    "\n",
    "def tailprint():\n",
    "    pass\n",
    "\n",
    "one_person=[]\n",
    "score=[]\n",
    "for i in range(100):\n",
    "one_person.append(\"name\"+str(i)) #이름\n",
    "one_person.append(r.randrange(10,100)) #국어 10부터 100까지 임의에 값을 추출\n",
    "one_person.append(r.randrange(10,100)) #영어\n",
    "one_person.append(r.randrange(10,100)) #수학\n",
    "score.append(one_person[:]) #값을 복사해서 추가함에 주의할 것\n",
    "one_person.clear()\n",
    "\n",
    "#프로그램을 보기 좋게 하려고 상수를 정의\n",
    "name=0;kor=1;eng=2;mat=3\n",
    "\n",
    "#여기부터 프로그램\n",
    "titleprint()\n",
    "for one_student in score:"
   ]
  },
  {
   "cell_type": "code",
   "execution_count": 135,
   "id": "4c0f5c04",
   "metadata": {},
   "outputs": [],
   "source": [
    "a=(1,8,5,6,2,4,5,2,6,9,4) # a에 튜플 값 저장"
   ]
  },
  {
   "cell_type": "code",
   "execution_count": 136,
   "id": "45096750",
   "metadata": {},
   "outputs": [
    {
     "data": {
      "text/plain": [
       "(1, 8, 5, 6, 2, 4, 5, 2, 6, 9, 4)"
      ]
     },
     "execution_count": 136,
     "metadata": {},
     "output_type": "execute_result"
    }
   ],
   "source": [
    "a # a 출력"
   ]
  },
  {
   "cell_type": "code",
   "execution_count": 137,
   "id": "6f0abdf9",
   "metadata": {},
   "outputs": [
    {
     "data": {
      "text/plain": [
       "4"
      ]
     },
     "execution_count": 137,
     "metadata": {},
     "output_type": "execute_result"
    }
   ],
   "source": [
    "a[5] # 5번째 위치 값 출력"
   ]
  },
  {
   "cell_type": "code",
   "execution_count": 138,
   "id": "ed4a8832",
   "metadata": {},
   "outputs": [
    {
     "data": {
      "text/plain": [
       "(6, 2)"
      ]
     },
     "execution_count": 138,
     "metadata": {},
     "output_type": "execute_result"
    }
   ],
   "source": [
    "a[3:5] # 3~4번째 위치 값 출력"
   ]
  },
  {
   "cell_type": "code",
   "execution_count": 139,
   "id": "306a79b9",
   "metadata": {},
   "outputs": [
    {
     "data": {
      "text/plain": [
       "(6, 2, 4, 5, 2)"
      ]
     },
     "execution_count": 139,
     "metadata": {},
     "output_type": "execute_result"
    }
   ],
   "source": [
    "a[3:8] # 3~7번째 위치 값 출력"
   ]
  },
  {
   "cell_type": "code",
   "execution_count": 140,
   "id": "00a1cefd",
   "metadata": {},
   "outputs": [
    {
     "data": {
      "text/plain": [
       "(1, 8, 5, 6, 2, 4, 5, 2, 6, 9, 4, 1, 8, 5, 6, 2, 4, 5, 2, 6, 9, 4)"
      ]
     },
     "execution_count": 140,
     "metadata": {},
     "output_type": "execute_result"
    }
   ],
   "source": [
    "a*2 # 튜플의 값 두번 반복하여 저장"
   ]
  },
  {
   "cell_type": "code",
   "execution_count": 141,
   "id": "8addd6b6",
   "metadata": {},
   "outputs": [],
   "source": [
    "# 값을 대입하거나 변경하거나 구조를 지우는 것은 불가능"
   ]
  },
  {
   "cell_type": "code",
   "execution_count": 142,
   "id": "cef93e5e",
   "metadata": {},
   "outputs": [
    {
     "data": {
      "text/plain": [
       "(1, 8, 5, 6, 2, 4, 5, 2, 6, 9, 4)"
      ]
     },
     "execution_count": 142,
     "metadata": {},
     "output_type": "execute_result"
    }
   ],
   "source": [
    "a"
   ]
  },
  {
   "cell_type": "code",
   "execution_count": 143,
   "id": "abb94da1",
   "metadata": {},
   "outputs": [
    {
     "ename": "TypeError",
     "evalue": "'tuple' object does not support item assignment",
     "output_type": "error",
     "traceback": [
      "\u001b[1;31m---------------------------------------------------------------------------\u001b[0m",
      "\u001b[1;31mTypeError\u001b[0m                                 Traceback (most recent call last)",
      "Cell \u001b[1;32mIn[143], line 1\u001b[0m\n\u001b[1;32m----> 1\u001b[0m \u001b[43ma\u001b[49m\u001b[43m[\u001b[49m\u001b[38;5;241;43m1\u001b[39;49m\u001b[43m]\u001b[49m\u001b[38;5;241m=\u001b[39m\u001b[38;5;241m5\u001b[39m \u001b[38;5;66;03m#값 변경불가\u001b[39;00m\n",
      "\u001b[1;31mTypeError\u001b[0m: 'tuple' object does not support item assignment"
     ]
    }
   ],
   "source": [
    "a[1]=5 #값 변경불가"
   ]
  },
  {
   "cell_type": "code",
   "execution_count": 144,
   "id": "dbb31b13",
   "metadata": {},
   "outputs": [
    {
     "ename": "TypeError",
     "evalue": "'tuple' object doesn't support item deletion",
     "output_type": "error",
     "traceback": [
      "\u001b[1;31m---------------------------------------------------------------------------\u001b[0m",
      "\u001b[1;31mTypeError\u001b[0m                                 Traceback (most recent call last)",
      "Cell \u001b[1;32mIn[144], line 1\u001b[0m\n\u001b[1;32m----> 1\u001b[0m \u001b[38;5;28;01mdel\u001b[39;00m a[\u001b[38;5;241m4\u001b[39m] \u001b[38;5;66;03m#변수 지우기 불가\u001b[39;00m\n",
      "\u001b[1;31mTypeError\u001b[0m: 'tuple' object doesn't support item deletion"
     ]
    }
   ],
   "source": [
    "del a[4] #변수 지우기 불가"
   ]
  },
  {
   "cell_type": "code",
   "execution_count": 145,
   "id": "bf3b2fbf",
   "metadata": {},
   "outputs": [
    {
     "ename": "AttributeError",
     "evalue": "'tuple' object has no attribute 'append'",
     "output_type": "error",
     "traceback": [
      "\u001b[1;31m---------------------------------------------------------------------------\u001b[0m",
      "\u001b[1;31mAttributeError\u001b[0m                            Traceback (most recent call last)",
      "Cell \u001b[1;32mIn[145], line 1\u001b[0m\n\u001b[1;32m----> 1\u001b[0m \u001b[43ma\u001b[49m\u001b[38;5;241;43m.\u001b[39;49m\u001b[43mappend\u001b[49m(\u001b[38;5;241m10\u001b[39m)\n",
      "\u001b[1;31mAttributeError\u001b[0m: 'tuple' object has no attribute 'append'"
     ]
    }
   ],
   "source": [
    "a.append(10) # 변수 추가 불가"
   ]
  },
  {
   "cell_type": "code",
   "execution_count": 146,
   "id": "2a815cb7",
   "metadata": {},
   "outputs": [
    {
     "name": "stdout",
     "output_type": "stream",
     "text": [
      "((2, 17403), (41, 40338))\n"
     ]
    }
   ],
   "source": [
    "def location(): # 위치 함수\n",
    "    latitude = 2, 17403 # 위도\n",
    "    longitude=41,40338 #경도\n",
    "    return latitude,longitude #이런방식의 리턴은 튜플로 반환\n",
    "\n",
    "a=location() # 변수 a에 위치함수 리턴 값 저장\n",
    "print(a) # a 출력"
   ]
  },
  {
   "cell_type": "code",
   "execution_count": null,
   "id": "4d630cb1",
   "metadata": {},
   "outputs": [],
   "source": []
  },
  {
   "cell_type": "code",
   "execution_count": null,
   "id": "36486639",
   "metadata": {},
   "outputs": [],
   "source": []
  }
 ],
 "metadata": {
  "kernelspec": {
   "display_name": "Python 3 (ipykernel)",
   "language": "python",
   "name": "python3"
  },
  "language_info": {
   "codemirror_mode": {
    "name": "ipython",
    "version": 3
   },
   "file_extension": ".py",
   "mimetype": "text/x-python",
   "name": "python",
   "nbconvert_exporter": "python",
   "pygments_lexer": "ipython3",
   "version": "3.8.8rc1"
  }
 },
 "nbformat": 4,
 "nbformat_minor": 5
}
