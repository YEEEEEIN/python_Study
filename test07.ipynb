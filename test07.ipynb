{
 "cells": [
  {
   "cell_type": "code",
   "execution_count": 1,
   "id": "ef5e34d7",
   "metadata": {},
   "outputs": [
    {
     "name": "stdout",
     "output_type": "stream",
     "text": [
      "별10개 찍기\n",
      "**********\n",
      "\n",
      "별3개 찍기\n",
      "***\n",
      "\n",
      "별5개 찍기\n",
      "*****\n",
      "\n"
     ]
    }
   ],
   "source": [
    "print(\"별10개 찍기\")    # \"별10개 찍기\" 출력\n",
    "for i in range(10):    # 0부터 9까지 반복\n",
    "    print(\"*\",end=\"\")  # 별표 출력 후 개행 문자 대신 빈 문자열 출력\n",
    "print(\"\\n\")            # 개행 문자 출력\n",
    "\n",
    "print(\"별3개 찍기\")     # \"별3개 찍기\" 출력\n",
    "for i in range(3):     # 0부터 2까지 반복\n",
    "    print(\"*\",end=\"\")  # 별표 출력 후 개행 문자 대신 빈 문자열 출력\n",
    "print(\"\\n\")            # 개행 문자 출력\n",
    "\n",
    "print(\"별5개 찍기\")     # \"별5개 찍기\" 출력\n",
    "for i in range(5):     # 0부터 4까지 반복\n",
    "    print(\"*\",end=\"\")  # 별표 출력 후 개행 문자 대신 빈 문자열 출력\n",
    "print(\"\\n\")            # 개행 문자 출력"
   ]
  },
  {
   "cell_type": "code",
   "execution_count": 2,
   "id": "9ab24603",
   "metadata": {},
   "outputs": [
    {
     "name": "stdout",
     "output_type": "stream",
     "text": [
      "별10개 찍기\n",
      "**********\n",
      "\n",
      "별3개 찍기\n",
      "***\n",
      "\n",
      "별5개 찍기\n",
      "*****\n",
      "\n"
     ]
    }
   ],
   "source": [
    "def starprint(n):      # 별표 개수 n을 매개변수로 받는 함수 starprint() 정의\n",
    "    for i in range(n): # 0부터 n-1까지 반복\n",
    "        print(\"*\",end=\"\") # 별표 출력 후 개행 문자 대신 빈 문자열 출력\n",
    "    print(\"\\n\")            # 개행 문자 출력\n",
    "\n",
    "print(\"별10개 찍기\"); starprint(10) # \"별10개 찍기\" 출력 후 starprint(10) 호출하여 별표 10개 출력\n",
    "print(\"별3개 찍기\"); starprint(3)   # \"별3개 찍기\" 출력 후 starprint(3) 호출하여 별표 3개 출력\n",
    "print(\"별5개 찍기\"); starprint(5)   # \"별5개 찍기\" 출력 후 starprint(5) 호출하여 별표 5개 출력"
   ]
  },
  {
   "cell_type": "code",
   "execution_count": 4,
   "id": "da74627f",
   "metadata": {},
   "outputs": [
    {
     "name": "stdout",
     "output_type": "stream",
     "text": [
      "1~10까지의 합: 55\n",
      "1~1000까지의 합: 500500\n",
      "1~10000까지의 합: 50005000\n"
     ]
    }
   ],
   "source": [
    "def intsum(n):      # n까지의 정수 합을 반환하는 함수 intsum() 정의\n",
    "    sum = 0         # 합을 저장할 변수 sum 초기화\n",
    "    for i in range(1, n+1, 1): # 1부터 n까지 1씩 증가하는 i에 대해 반복\n",
    "        sum += i    # i를 sum에 더함\n",
    "    return sum      # sum 반환\n",
    "\n",
    "print(\"1~10까지의 합:\", intsum(10))   # 1부터 10까지의 합을 출력\n",
    "print(\"1~1000까지의 합:\", intsum(1000)) # 1부터 1000까지의 합을 출력\n",
    "print(\"1~10000까지의 합:\", intsum(10000)) # 1부터 10000까지의 합을 출력"
   ]
  },
  {
   "cell_type": "code",
   "execution_count": 7,
   "id": "ba12f8f3",
   "metadata": {},
   "outputs": [
    {
     "name": "stdout",
     "output_type": "stream",
     "text": [
      "1~10까지의 합: 55\n",
      "100~1000까지의 합: 495550\n",
      "5000~10000까지의 합: 37507500\n"
     ]
    }
   ],
   "source": [
    "def intsum(x, y):   # x부터 y까지의 정수 합을 반환하는 함수 intsum() 정의\n",
    "    sum = 0         # 합을 저장할 변수 sum 초기화\n",
    "    for i in range(x, y+1, 1):  # x부터 y까지 1씩 증가하는 i에 대해 반복\n",
    "        sum += i    # i를 sum에 더함\n",
    "    return sum      # sum 반환\n",
    "\n",
    "print(\"1~10까지의 합:\", intsum(1, 10))   # 1부터 10까지의 합을 출력\n",
    "print(\"100~1000까지의 합:\", intsum(100, 1000)) # 100부터 1000까지의 합을 출력\n",
    "print(\"5000~10000까지의 합:\", intsum(5000, 10000)) # 5000부터 10000까지의 합을 출력"
   ]
  },
  {
   "cell_type": "code",
   "execution_count": 8,
   "id": "b94bdda9",
   "metadata": {},
   "outputs": [
    {
     "name": "stdout",
     "output_type": "stream",
     "text": [
      "1~10까지의 합: 55\n",
      "100~1000까지의 합: 495550\n",
      "5000~10000까지의 합: 37507500\n",
      "1~10까지의 합에 5를 더함: 60\n",
      "100~1000까지의 합에 33을 곱함: 16353150\n"
     ]
    }
   ],
   "source": [
    "# 정수 x부터 y까지의 합을 계산하는 함수를 정의합니다.\n",
    "def intsum(x,y):\n",
    "    sum=0;\n",
    "    for i in range(x,y+1,1):\n",
    "        sum+=i\n",
    "    return sum\n",
    "\n",
    "# 구간 [1, 10], [100, 1000], [5000, 10000]에서의 합을 출력합니다.\n",
    "print(\"1~10까지의 합:\",intsum(1,10))\n",
    "print(\"100~1000까지의 합:\",intsum(100,1000))\n",
    "print(\"5000~10000까지의 합:\",intsum(5000,10000))\n",
    "\n",
    "# 구간 [1, 10]에서의 합에 5를 더한 값을 출력합니다.\n",
    "print(\"1~10까지의 합에 5를 더함:\",intsum(1,10)+5)\n",
    "\n",
    "# 구간 [100, 1000]에서의 합에 33을 곱한 값을 출력합니다.\n",
    "i=intsum(100,1000)*33\n",
    "print(\"100~1000까지의 합에 33을 곱함:\",i)"
   ]
  },
  {
   "cell_type": "code",
   "execution_count": 9,
   "id": "e2e069c9",
   "metadata": {},
   "outputs": [
    {
     "name": "stdout",
     "output_type": "stream",
     "text": [
      "함수내부에서 sum값을 출력: 495550\n",
      "100~1000까지의 합: None\n",
      "100~1000까지의 합에 33을 곱함: None\n"
     ]
    }
   ],
   "source": [
    "def intsum(x,y): # intsum(x,y) 함수를 정의\n",
    "    sum=0; # sum에 초기값 0 대입\n",
    "    for i in range(x,y+1,1): # 정수 x부터 y까지의 합을 계산\n",
    "        sum+=i # sum에 i 더한값 저장\n",
    "    print(\"함수내부에서 sum값을 출력:\",sum) # sum 출력\n",
    "    \n",
    "i=intsum(100,1000) # 리턴 값이 없는 함수를 어떤 변수로 받으면 값이 없는 None이 들어감\n",
    "print(\"100~1000까지의 합:\",i) # None 출력\n",
    "print(\"100~1000까지의 합에 33을 곱함:\",i) # None 출력"
   ]
  },
  {
   "cell_type": "code",
   "execution_count": 11,
   "id": "5895c966",
   "metadata": {},
   "outputs": [],
   "source": [
    "def titleprint(): # titleprint() 타이틀 함수 정의\n",
    "    pass # 나중에 정의하기로 하고 pass\n",
    "\n",
    "def itemprint(name,kortotal,engtotal,mathtotal): # 아이템을 출력하는 함수 정의\n",
    "    pass # pass\n",
    "\n",
    "def tailprint(): # 함수 정의\n",
    "    pass # pass\n",
    "\n",
    "#데이터\n",
    "cname=[\"나연\",\"정연\",\"모모\",\"사나\",\"지효\",\"미나\",\"다현\",\"채영\",\"쯔위\"] # 이름 변수에 컬렉션형태로 값 저장\n",
    "ckor =[ 100,100,90,90,100,80,70,80,100] # 국어 점수 컬렌션형태로 값 저장\n",
    "ceng =[ 90,100,100,80,100,70,60,100,100] # 영어 점수 컬렌션형태로 값 저장\n",
    "cmat =[ 100,80,100,90,100,90,100,90,100] # 수학 점수 컬렌션형태로 값 저장\n",
    "\n",
    "#여기부터 프로그램\n",
    "titleprint() # 함수 실행\n",
    "for i in range(9): # 0~(9-1)까지 반복\n",
    "    itemprint(cname[i],ckor[i],ceng[i],cmat[i]) # i 값에 따라 itemprint()함수 실행하여 국어, 영어, 수학점수 출력\n",
    "tailprint() # tailprint() 함수 실행"
   ]
  },
  {
   "cell_type": "code",
   "execution_count": 1,
   "id": "bd5f8652",
   "metadata": {},
   "outputs": [],
   "source": [
    "def titleprint(): # titleprint() 타이틀 함수 정의\n",
    "    print(\"=\"*50) # \"=\"\" 50번 반복\n",
    "    print(\"이름\\t국어\\t영어\\t수학\\t총점\\t평균\") # 타이틀 출력\n",
    "    print(\"=\"*50) # \"=\"\" 50번 반복\n",
    "    \n",
    "def itemprint(name,kor,eng,mat): # 아이템을 출력하는 함수 정의\n",
    "    print(name,\"\\t\",kor,\"\\t\",eng,\"\\t\",mat,\"\\t\",kor+eng+mat,\"\\t\",(kor+eng+mat)//3) # 이름, 국어, 영어, 수학, 합, 평균 출력\n",
    "\n",
    "def tailprint():# tailprint() 끝(꼬리)에 출력하는 함수 정의\n",
    "    totkor=0 # 국어 총합 변수 totkor에 초기값으로 0 저장\n",
    "    for i in ckor: # 국어 리스트에 저장된 값들을 하나 하나 뽑아\n",
    "        totkor+=i # 값을 더한다\n",
    "    toteng=0 # 영어 총합 변수 toteng 초기값으로 0 저장\n",
    "    for i in ceng: # 영어 리스트에 저장된 값들을 하나 하나 뽑아\n",
    "        toteng+=i # 값을 더한다\n",
    "    totmat=0 # 수학 총합 변수 totmat 초기값으로 0 저장\n",
    "    for i in cmat: # 수학 리스트에 저장된 값들을 하나 하나 뽑아\n",
    "        totmat+=i # 값을 더한다\n",
    "    print(\"=\"*50) # \"=\"\" 50번 반복\n",
    "    print(\"반총점\\t\",totkor,\"\\t\",toteng,\"\\t\",totmat,\"\\t\"\\ # 각각 과목 별로 총점,\n",
    "        ,(totkor+toteng+totmat)//9,\"\\t\",(totkor+toteng+totmat)/3//9) \n",
    "        # 모든 총점의 합의 인원 수 별 평균, 모든 총점의 합의 인원 수 별 과목 별 평균\n",
    "        # /은 나누기로 나온 결과값을 소수점까지 출력한다.\n",
    "        # // 정수 나눗셈을 하는 연산자로 소수점 아래를 버리고 정수값만 보여준다\n",
    "    print(\"=\"*50) # \"=\"\" 50번 반복\n",
    "    \n",
    "#데이터\n",
    "cname=[\"나연\",\"정연\",\"모모\",\"사나\",\"지효\",\"미나\",\"다현\",\"채영\",\"쯔위\"] # 이름 변수에 컬렉션형태로 값 저장\n",
    "ckor =[ 100,100,90,90,100,80,70,80,100] # 국어 점수 컬렌션형태로 값 저장\n",
    "ceng =[ 90,100,100,80,100,70,60,100,100] # 영어 점수 컬렌션형태로 값 저장\n",
    "cmat =[ 100,80,100,90,100,90,100,90,100] # 수학 점수 컬렌션형태로 값 저장\n",
    "\n",
    "#여기부터 프로그램\n",
    "titleprint() # 함수 실행\n",
    "for i in range(9): # 0~(9-1)까지 반복\n",
    "    itemprint(cname[i],ckor[i],ceng[i],cmat[i]) # i 값에 따라 itemprint()함수 실행하여 이름, 국어, 영어, 수학점수 출력\n",
    "tailprint() # tailprint() 함수 실행"
   ]
  },
  {
   "cell_type": "code",
   "execution_count": 4,
   "id": "87572a8e",
   "metadata": {},
   "outputs": [],
   "source": [
    "def sumsum(*num):  # 가변 인자를 받아들이는 함수 sumsum을 정의합니다.\n",
    "    sum = 0  # 합계를 담을 변수 sum을 0으로 초기화합니다.\n",
    "    for i in num:  # 받은 인자들을 반복문으로 순회하면서\n",
    "        sum += i  # 합계 변수 sum에 인자 값을 더해줍니다.\n",
    "    return sum  # 최종 합계 값을 반환합니다.\n",
    "\n",
    "print(\"case 1:\", sumsum(1))  # sumsum 함수에 1이라는 인자를 하나만 전달하고 결과를 출력합니다.\n",
    "print(\"case 2:\", sumsum(1,2,4))  # sumsum 함수에 1, 2, 4 세 개의 인자를 전달하고 결과를 출력합니다.\n",
    "print(\"case 3:\", sumsum(1,2,34,567,8901))  # sumsum 함수에 1, 2, 34, 567, 8901 다섯 개의 인자를 전달하고 결과를 출력합니다."
   ]
  },
  {
   "cell_type": "code",
   "execution_count": 5,
   "id": "82539dd3",
   "metadata": {},
   "outputs": [
    {
     "name": "stdout",
     "output_type": "stream",
     "text": [
      "case 1: 1\n",
      "case 2: 7\n",
      "case 3: 9505\n"
     ]
    }
   ],
   "source": [
    "def sumsum(*num):  # 가변 인자를 받아들이는 함수 sumsum을 정의합니다.\n",
    "    sum = 0  # 합계를 담을 변수 sum을 0으로 초기화합니다.\n",
    "    for i in num:  # 받은 인자들을 반복문으로 순회하면서\n",
    "        sum += i  # 합계 변수 sum에 인자 값을 더해줍니다.\n",
    "    return sum  # 최종 합계 값을 반환합니다.\n",
    "\n",
    "print(\"case 1:\", sumsum(1))  # sumsum 함수에 1이라는 인자를 하나만 전달하고 결과를 출력합니다.\n",
    "print(\"case 2:\", sumsum(1,2,4))  # sumsum 함수에 1, 2, 4 세 개의 인자를 전달하고 결과를 출력합니다.\n",
    "print(\"case 3:\", sumsum(1,2,34,567,8901))  # sumsum 함수에 1, 2, 34, 567, 8901 다섯 개의 인자를 전달하고 결과를 출력합니다."
   ]
  },
  {
   "cell_type": "code",
   "execution_count": 6,
   "id": "89b78444",
   "metadata": {},
   "outputs": [
    {
     "name": "stdout",
     "output_type": "stream",
     "text": [
      "case 1: 1\n",
      "case 2: 7\n",
      "case 3: 9505\n"
     ]
    }
   ],
   "source": [
    "def sumsum(num):  # 리스트 형태의 인자를 받아들이는 함수 sumsum을 정의합니다.\n",
    "    sum = 0  # 합계를 담을 변수 sum을 0으로 초기화합니다.\n",
    "    for i in num:  # 받은 인자들을 반복문으로 순회하면서\n",
    "        sum += i  # 합계 변수 sum에 인자 값을 더해줍니다.\n",
    "    return sum  # 최종 합계 값을 반환합니다.\n",
    "\n",
    "print(\"case 1:\", sumsum([1]))  # sumsum 함수에 [1]이라는 리스트 인자를 전달하고 결과를 출력합니다.\n",
    "print(\"case 2:\", sumsum([1,2,4]))  # sumsum 함수에 [1, 2, 4]라는 리스트 인자를 전달하고 결과를 출력합니다.\n",
    "print(\"case 3:\", sumsum([1,2,34,567,8901]))  # sumsum 함수에 [1, 2, 34, 567, 8901]이라는 리스트 인자를 전달하고 결과를 출력합니다."
   ]
  },
  {
   "cell_type": "code",
   "execution_count": 7,
   "id": "62df7d20",
   "metadata": {},
   "outputs": [
    {
     "ename": "SyntaxError",
     "evalue": "invalid syntax (2434286424.py, line 3)",
     "output_type": "error",
     "traceback": [
      "\u001b[1;36m  Cell \u001b[1;32mIn[7], line 3\u001b[1;36m\u001b[0m\n\u001b[1;33m    sumsum(*num,str*) #ERROR\u001b[0m\n\u001b[1;37m                    ^\u001b[0m\n\u001b[1;31mSyntaxError\u001b[0m\u001b[1;31m:\u001b[0m invalid syntax\n"
     ]
    }
   ],
   "source": [
    "sumsum(str,*num) #OK\n",
    "sumsum(*num,str) #ERROR\n",
    "sumsum(*num,str*) #ERROR"
   ]
  },
  {
   "cell_type": "code",
   "execution_count": 8,
   "id": "60c5b7c4",
   "metadata": {},
   "outputs": [
    {
     "name": "stdout",
     "output_type": "stream",
     "text": [
      "case 1: 55\n",
      "case 2: 3825\n",
      "case 3: 495550\n"
     ]
    }
   ],
   "source": [
    "def defaultest (start, end=1000, step=1): # 함수 정의\n",
    "    sum = 0 # 합계를 담을 변수 sum을 0으로 초기화합니다.\n",
    "    for i in range(start, end+1, step): # start부터 end까지 step만큼 증가하며 반복합니다.\n",
    "        sum += i # sum에 i를 더한 값 누적\n",
    "    return sum  # 최종 합계 값을 반환합니다.\n",
    "\n",
    "print(\"case 1:\", defaultest(0,10,1))\n",
    "print(\"case 2:\", defaultest(50,100)) #인수 하나를 생략시 맨뒤 step값이 1로 기본값처리\n",
    "print(\"case 3:\", defaultest(100)) #인수 하나를 생략시 맨뒤 step값이 1, #end 값이 1000으로 기본값처리"
   ]
  },
  {
   "cell_type": "code",
   "execution_count": 9,
   "id": "eb609c93",
   "metadata": {},
   "outputs": [
    {
     "name": "stdout",
     "output_type": "stream",
     "text": [
      "case 1: 55\n",
      "case 2: 55\n",
      "case 3: 55\n",
      "case 4: 55\n",
      "case 5: 55\n"
     ]
    }
   ],
   "source": [
    "def defaultest (start,end=1000,step=1):# defaultest 함수를 정의하고, start, end, step 3개의 인수를 받는다.\n",
    "                                        #이 때 end와 step은 기본값이 있으며 각각 1000과 1\n",
    "    sum=0 # 합을 구하기 위한 변수 sum을 초기화\n",
    "    for i in range(start,end+1,step): # start부터 end까지 step 간격으로 반복문을 수행\n",
    "        sum+=i # i를 합계에 더한다 \n",
    "    return sum # 반복문이 모두 종료되면 sum 변수를 반환\n",
    "\n",
    "print(\"case 1:\", defaultest(0,10,1)) # defaultest 함수를 호출하며, start=0, end=10, step=1 인수를 전달\n",
    "print(\"case 2:\", defaultest(start=0,end=10,step=1)) # 키워드 인수를 사용하여 start=0, end=10, step=1 인수를 전달\n",
    "print(\"case 3:\", defaultest(step=1,end=10,start=0)) #키워드 지정시 순서가 상관없음\n",
    "print(\"case 4:\", defaultest(0,10,step=1)) #맨뒤로 부터만 키워드 인수를 사용하고 앞은 일반인수\n",
    "print(\"case 5:\", defaultest(0,step=1,end=10)) #맨뒤로 부터만 키워드 인수를 사용하고 앞은 일반인수"
   ]
  },
  {
   "cell_type": "code",
   "execution_count": 10,
   "id": "b42f8893",
   "metadata": {},
   "outputs": [
    {
     "ename": "SyntaxError",
     "evalue": "unmatched ')' (2306255021.py, line 3)",
     "output_type": "error",
     "traceback": [
      "\u001b[1;36m  Cell \u001b[1;32mIn[10], line 3\u001b[1;36m\u001b[0m\n\u001b[1;33m    defaultest(start=0,step=1,10))\u001b[0m\n\u001b[1;37m                                 ^\u001b[0m\n\u001b[1;31mSyntaxError\u001b[0m\u001b[1;31m:\u001b[0m unmatched ')'\n"
     ]
    }
   ],
   "source": [
    "#print(\"error1:\", defaultest(0,step=1,10)) # defaultest()함수는 start, end, step 세 개의 매개변수만을 받기 때문에 error\n",
    "#print(\"error2:\", # 두번째 error\n",
    "defaultest(start=0,step=1,10)) # 위치 인수인 10이 키워드 인수보다 먼저 오는 것이므로 구문 오류(SyntaxError)가 발생"
   ]
  },
  {
   "cell_type": "code",
   "execution_count": 12,
   "id": "275f8dc2",
   "metadata": {},
   "outputs": [
    {
     "name": "stdout",
     "output_type": "stream",
     "text": [
      "case 1: 55\n",
      "case 2: 5005\n"
     ]
    }
   ],
   "source": [
    "def testfunc (**args):  # 가변 키워드 매개변수를 사용하는 함수 정의\n",
    "    start=args[\"start\"] # \"start\" 키를 사용해 args 딕셔너리에서 start 값을 가져옴\n",
    "    end=args[\"end\"] # \"end\" 키를 사용해 args 딕셔너리에서 end 값을 가져옴\n",
    "    step=args[\"step\"] # \"step\" 키를 사용해 args 딕셔너리에서 step 값을 가져옴\n",
    "    sum=0  # 합계를 저장할 변수 초기화\n",
    "    for i in range(start,end+1,step): # start부터 end까지 step만큼 증가하며 반복\n",
    "        sum+=i # i를 sum에 더함\n",
    "    return sum  # 총합 반환\n",
    "\n",
    "print(\"case 1:\", testfunc(start=0,end=10,step=1))  # start=0, end=10, step=1인 경우 함수 호출\n",
    "print(\"case 2:\", testfunc(end=100,step=1,start=10))  # end=100, step=1, start=10인 경우 함수 호출"
   ]
  },
  {
   "cell_type": "code",
   "execution_count": 14,
   "id": "1a4882be",
   "metadata": {},
   "outputs": [
    {
     "name": "stdout",
     "output_type": "stream",
     "text": [
      "==============================\n",
      "***********\n",
      "\n",
      "&&&&&&&&&&&\n",
      "\n",
      "===========\n",
      "\n",
      "==============================\n",
      "   ********\n",
      "\n",
      "   ????????\n",
      "\n",
      "   ========\n",
      "\n",
      "   %%%%%%%%\n",
      "\n"
     ]
    }
   ],
   "source": [
    "def testfunc (*s,**args): #임의 개수의 위치 인수와 키워드 인수를 받는 함수 정의\n",
    "    start=args[\"start\"] #키워드 인수에서 \"start\"에 해당하는 값을 변수에 할당\n",
    "    end=args[\"end\"] #키워드 인수에서 \"end\"에 해당하는 값을 변수에 할당\n",
    "    step=args[\"step\"] #키워드 인수에서 \"step\"에 해당하는 값을 변수에 할당\n",
    "    for c in s: #위치 인수로 전달받은 값들을 하나씩 꺼내서 반복 실행\n",
    "        print(\" \"*start,end=\"\") #\"start\"값만큼 공백을 출력하고 줄 바꿈하지 않고 출력\n",
    "        for i in range(start,end+1,step): #start부터 end까지 step 간격으로 반복\n",
    "            print(c,end=\"\") #위치 인수로 전달받은 값인 c를 출력하고 줄 바꿈하지 않고 출력\n",
    "        print(\"\\n\") #줄 바꿈 문자를 출력하여 다음 행으로 이동\n",
    "\n",
    "print(\"=\"*30) #30개의 = 문자를 출력\n",
    "testfunc(\"*\",\"&\",\"=\",start=0,end=10,step=1) #testfunc 함수를 호출하고 위치 인수로 \"*\" \"&\" \"=\"를 전달, \n",
    "                                            #start=0, end=10, step=1로 키워드 인수를 전달\n",
    "print(\"=\"*30) #30개의 = 문자를 출력\n",
    "testfunc(\"*\",\"?\",\"=\",\"%\",start=3,end=10,step=1) #testfunc 함수를 호출하고 위치 인수로 \"*\" \"?\" \"=\" \"%\"를 전달, \n",
    "                                                #start=3, end=10, step=1로 키워드 인수를 전달"
   ]
  },
  {
   "cell_type": "code",
   "execution_count": 15,
   "id": "58e3273c",
   "metadata": {},
   "outputs": [
    {
     "ename": "IndentationError",
     "evalue": "expected an indented block (3652666375.py, line 2)",
     "output_type": "error",
     "traceback": [
      "\u001b[1;36m  Cell \u001b[1;32mIn[15], line 2\u001b[1;36m\u001b[0m\n\u001b[1;33m    a=1\u001b[0m\n\u001b[1;37m    ^\u001b[0m\n\u001b[1;31mIndentationError\u001b[0m\u001b[1;31m:\u001b[0m expected an indented block\n"
     ]
    }
   ],
   "source": [
    "def test(): # 함수 정의\n",
    "a=1 # 변수 a에 1 저장\n",
    "test() # 함수 실행\n",
    "print(a) # 에러발생 => 함수에서 사용된 지역변수는 다른 함수에서 사용X"
   ]
  },
  {
   "cell_type": "code",
   "execution_count": 16,
   "id": "0e937409",
   "metadata": {},
   "outputs": [
    {
     "name": "stdout",
     "output_type": "stream",
     "text": [
      "testf1: 1\n",
      "testf2: 즐거운 실습\n",
      "testf3: 3.141592\n",
      "랄랄라\n"
     ]
    }
   ],
   "source": [
    "def testf1():\n",
    "    a=1 # 변수 a를 1로 초기화\n",
    "    print(\"testf1:\",a) # a의 값을 출력\n",
    "    \n",
    "def testf2():\n",
    "    a=\"즐거운 실습\" # 변수 a를 \"즐거운 실습\"으로 초기화\n",
    "    print(\"testf2:\",a) # a의 값을 출력\n",
    "\n",
    "def testf3():\n",
    "    a=3.141592 # 변수 a를 3.141592로 초기화\n",
    "    print(\"testf3:\",a) # a의 값을 출력\n",
    "    \n",
    "testf1() # testf1 함수 실행\n",
    "testf2() # testf2 함수 실행\n",
    "testf3() # testf3 함수 실행\n",
    "a=\"랄랄라\" # 변수 a를 \"랄랄라\"로 초기화\n",
    "print(a) # 변수 a의 값을 출력"
   ]
  },
  {
   "cell_type": "code",
   "execution_count": 17,
   "id": "65adcf04",
   "metadata": {},
   "outputs": [
    {
     "name": "stdout",
     "output_type": "stream",
     "text": [
      "testf1: 현재 달러환율은 1달러당  1021 원이며\n",
      "testf1: 미화 100달러는  102100 원 입니다\n",
      "testf1: 현재 달러환율은 1달러당  1120 원이며\n",
      "testf1: 미화 100달러는  112000 원 입니다\n",
      "testf2: 현재 달러환율은 1달러당  1011 원이며\n",
      "testf2: 미화 100달러는  101100 원 입니다\n",
      "testf1: 현재 달러환율은 1달러당  1120 원이며\n",
      "testf1: 미화 100달러는  112000 원 입니다\n"
     ]
    }
   ],
   "source": [
    "def testf1():\n",
    "    print(\"testf1: 현재 달러환율은 1달러당 \",exrate,\"원이며\") # 전역변수 exrate 출력\n",
    "    print(\"testf1: 미화 100달러는 \",100*exrate,\"원 입니다\") # 전역변수 exrate에 따라 값 출력\n",
    "    \n",
    "def testf2():\n",
    "    exrate=1011 # 지역변수 exrate 선언\n",
    "    print(\"testf2: 현재 달러환율은 1달러당 \",exrate,\"원이며\") # 지역변수 exrate 출력\n",
    "    print(\"testf2: 미화 100달러는 \",100*exrate,\"원 입니다\") # 지역변수 exrate에 따라 값 출력\n",
    "    \n",
    "exrate=1021 # 전역변수 exrate 선언\n",
    "testf1() # exrate=1021 일 때 testf1() 호출\n",
    "exrate=1120 # 전역변수 exrate 값 변경\n",
    "testf1() # exrate=1120 일 때 testf1() 호출\n",
    "\n",
    "testf2() # 지역변수 exrate=1011 일 때 testf2() 호출\n",
    "testf1() # 전역변수 exrate=1120 일 때 testf1() 호출"
   ]
  },
  {
   "cell_type": "code",
   "execution_count": 18,
   "id": "53d3a62e",
   "metadata": {},
   "outputs": [
    {
     "name": "stdout",
     "output_type": "stream",
     "text": [
      "Help on function testf1 in module __main__:\n",
      "\n",
      "testf1(n)\n",
      "    이 함수는 홍필두가 최선을 다하여 멋지게 만든 함수입니다.\n",
      "    인수 값에 숫자만큼 1부터 해당 값을 더한 값을 출력해 줍니다.\n",
      "\n"
     ]
    }
   ],
   "source": [
    "def testf1(n): # 함수 정의\n",
    "    \"\"\"\n",
    "    이 함수는 홍필두가 최선을 다하여 멋지게 만든 함수입니다.\n",
    "    인수 값에 숫자만큼 1부터 해당 값을 더한 값을 출력해 줍니다.\n",
    "    \"\"\"\n",
    "    sum = 0 # 변수 sum에 0 저장\n",
    "    for i in range(n + 1): # i는 n까지\n",
    "        sum += i # i 값 누적합\n",
    "    print(\"합:\", sum) # sum 출력\n",
    "    \n",
    "help(testf1) # 프로그램에서(특히 대화식 모드) 해당함수가 궁금할 때"
   ]
  },
  {
   "cell_type": "code",
   "execution_count": null,
   "id": "1332519d",
   "metadata": {},
   "outputs": [],
   "source": []
  }
 ],
 "metadata": {
  "kernelspec": {
   "display_name": "Python 3 (ipykernel)",
   "language": "python",
   "name": "python3"
  },
  "language_info": {
   "codemirror_mode": {
    "name": "ipython",
    "version": 3
   },
   "file_extension": ".py",
   "mimetype": "text/x-python",
   "name": "python",
   "nbconvert_exporter": "python",
   "pygments_lexer": "ipython3",
   "version": "3.8.8rc1"
  }
 },
 "nbformat": 4,
 "nbformat_minor": 5
}
