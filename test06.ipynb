{
 "cells": [
  {
   "cell_type": "code",
   "execution_count": 1,
   "id": "32272b83",
   "metadata": {},
   "outputs": [
    {
     "name": "stdout",
     "output_type": "stream",
     "text": [
      "sum= 5050\n"
     ]
    }
   ],
   "source": [
    "i=0 #반복 카운터, 초기화\n",
    "sum=0 #누적할 변수, 초기화\n",
    "while i <100 : #0부터 100까지 실행,만일 실행횟수는 100회\n",
    "    i+=1 #i=0+1, i=1+1, i=2+1, i=3+1,i는 1씩 증가\n",
    "    sum = sum + i #sum=0+1, sum=1+2, sum=3+3,sum=6+4 ... => sum은 더한 값이 누적됨\n",
    "print(\"sum=\",sum) #while 반복을 빠져 나와서 출력"
   ]
  },
  {
   "cell_type": "code",
   "execution_count": 2,
   "id": "79062227",
   "metadata": {},
   "outputs": [
    {
     "name": "stdout",
     "output_type": "stream",
     "text": [
      "sum= 5050\n"
     ]
    }
   ],
   "source": [
    "i=0 # 변수 i에 0 대입\n",
    "sum=0 # 변수 sum에 0 대입\n",
    "while i <100 : # i는 0~99까지\n",
    "    i+=1 # i에 1d을 더한다\n",
    "    sum = sum + i # sum에 i를 더한다\n",
    "print(\"sum=\",sum) # sum 출력"
   ]
  },
  {
   "cell_type": "code",
   "execution_count": 3,
   "id": "9f1c8430",
   "metadata": {},
   "outputs": [
    {
     "name": "stdout",
     "output_type": "stream",
     "text": [
      "sum= 4950\n"
     ]
    }
   ],
   "source": [
    "i=0 # 변수 i에 0 대입\n",
    "sum=0 # 변수 sum에 0 대입\n",
    "while i <100 : # i는 0~99까지\n",
    "    sum = sum + i # sum에 i를 더한다\n",
    "    i+=1 # i에 1d을 더한다\n",
    "print(\"sum=\",sum) # sum 출력 => 0을 먼저 더하기 때문에 위 식보다 100이 작은 수 출력"
   ]
  },
  {
   "cell_type": "code",
   "execution_count": 4,
   "id": "d95b8d9f",
   "metadata": {},
   "outputs": [
    {
     "name": "stdout",
     "output_type": "stream",
     "text": [
      "sum= 5050\n"
     ]
    }
   ],
   "source": [
    "i=0 # 변수 i에 0 대입\n",
    "sum=0 # 변수 sum에 0 대입\n",
    "while i <101 : # i는 0~100까지\n",
    "    sum = sum + i # sum에 i를 더한다\n",
    "    i+=1 # i에 1d을 더한다\n",
    "print(\"sum=\",sum) # sum 출력 => 범위가 늘어났기 때문에 위 식보다 100이 큰 수 출력"
   ]
  },
  {
   "cell_type": "code",
   "execution_count": 5,
   "id": "f7c2d5c4",
   "metadata": {},
   "outputs": [],
   "source": [
    "i=0 # 변수 i에 초기값 0 저장"
   ]
  },
  {
   "cell_type": "code",
   "execution_count": 6,
   "id": "aa5dc58f",
   "metadata": {},
   "outputs": [
    {
     "name": "stdout",
     "output_type": "stream",
     "text": [
      "a[ 0 ] 자료형: <class 'str'>  값: 1\n",
      "a[ 1 ] 자료형: <class 'int'>  값: 2\n",
      "a[ 2 ] 자료형: <class 'str'>  값: 3\n",
      "a[ 3 ] 자료형: <class 'int'>  값: 55\n"
     ]
    }
   ],
   "source": [
    "for a in [\"1\",2,\"3\",55]: # 반복문에서 a 변수에 [\"1\", 2, \"3\", 55] 리스트의 요소들이 차례로 대입\n",
    "    print(\"a[\",i,\"] 자료형:\",type(a),\" 값:\",a) # i 변수를 사용하여 현재 반복문에서 몇 번째 요소를 처리하는지 인덱스를 출력\n",
    "    i+=1 # 반복문이 한 번 실행될 때마다 i 변수의 값을 1씩 증가시킴"
   ]
  },
  {
   "cell_type": "code",
   "execution_count": 9,
   "id": "6fa46927",
   "metadata": {},
   "outputs": [
    {
     "name": "stdout",
     "output_type": "stream",
     "text": [
      "1 ,2 ,3 ,4 ,5 ,6 ,7 ,8 ,9 ,"
     ]
    }
   ],
   "source": [
    "for i in range(1, 10, 1): # 1부터 10-1까지 +1씩 반복하는 반복문\n",
    "    print(i,\",\",end=\"\") # i 변수와 쉼표를 출력하고, print 함수가 줄바꿈을 하지 않도록 end 매개변수를 빈 문자열로 설정\n",
    "                        # 마지막으로 줄바꿈 설정"
   ]
  },
  {
   "cell_type": "code",
   "execution_count": 10,
   "id": "9f63f45f",
   "metadata": {},
   "outputs": [
    {
     "name": "stdout",
     "output_type": "stream",
     "text": [
      "0 ,1 ,2 ,3 ,4 ,5 ,6 ,7 ,8 ,9 ,"
     ]
    }
   ],
   "source": [
    "for i in range(10): # range(10)만 있을 경우 => 0부터 10-1까지 +1씩 반복하는 반복문\n",
    "    print(i,\",\",end=\"\") # i 변수와 쉼표를 출력하고, print 함수가 줄바꿈을 하지 않도록 end 매개변수를 빈 문자열로 설정\n",
    "                        # 마지막으로 줄바꿈 설정"
   ]
  },
  {
   "cell_type": "code",
   "execution_count": 11,
   "id": "d0225f16",
   "metadata": {},
   "outputs": [
    {
     "name": "stdout",
     "output_type": "stream",
     "text": [
      "1 ,2 ,3 ,4 ,5 ,6 ,7 ,8 ,9 ,"
     ]
    }
   ],
   "source": [
    "for i in range(1, 10): # range(1, 10) => 1부터 10-1까지 +1씩 반복하는 반복문\n",
    "    print(i,\",\",end=\"\") # i 변수와 쉼표를 출력하고, print 함수가 줄바꿈을 하지 않도록 end 매개변수를 빈 문자열로 설정\n",
    "                        # 마지막으로 줄바꿈 설정"
   ]
  },
  {
   "cell_type": "code",
   "execution_count": 12,
   "id": "60c8ab58",
   "metadata": {},
   "outputs": [
    {
     "name": "stdout",
     "output_type": "stream",
     "text": [
      "1 ,3 ,5 ,7 ,9 ,"
     ]
    }
   ],
   "source": [
    "for i in range(1, 10, 2): # range(1, 10, 2) => 1부터 10-1까지 +2씩 반복하는 반복문\n",
    "    print(i,\",\",end=\"\") # i 변수와 쉼표를 출력하고, print 함수가 줄바꿈을 하지 않도록 end 매개변수를 빈 문자열로 설정\n",
    "                        # 마지막으로 줄바꿈 설정"
   ]
  },
  {
   "cell_type": "code",
   "execution_count": 13,
   "id": "88db4055",
   "metadata": {},
   "outputs": [
    {
     "name": "stdout",
     "output_type": "stream",
     "text": [
      "10 ,9 ,8 ,7 ,6 ,5 ,4 ,3 ,2 ,1 ,"
     ]
    }
   ],
   "source": [
    "for i in range(10, 0, -1): # range(1, 10, 2) => 10부터 0+1까지 -1씩 반복하는 반복문\n",
    "    print(i,\",\",end=\"\") # i 변수와 쉼표를 출력하고, print 함수가 줄바꿈을 하지 않도록 end 매개변수를 빈 문자열로 설정\n",
    "                        # 마지막으로 줄바꿈 설정"
   ]
  },
  {
   "cell_type": "code",
   "execution_count": 14,
   "id": "d4da5100",
   "metadata": {},
   "outputs": [
    {
     "name": "stdout",
     "output_type": "stream",
     "text": [
      "0 ,1 ,2 ,"
     ]
    }
   ],
   "source": [
    "for i in range(10): # 0~9 까지 반복\n",
    "    if(i==3): # 만약 i가 3이라면\n",
    "        break # 해당 루프 탈출\n",
    "    print(i,\",\",end=\"\") # i 변수와 쉼표를 출력하고, print 함수가 줄바꿈을 하지 않도록 end 매개변수를 빈 문자열로 설정"
   ]
  },
  {
   "cell_type": "code",
   "execution_count": 15,
   "id": "100baf3d",
   "metadata": {},
   "outputs": [
    {
     "name": "stdout",
     "output_type": "stream",
     "text": [
      "0 ,1 ,2 ,4 ,5 ,6 ,7 ,8 ,9 ,"
     ]
    }
   ],
   "source": [
    "for i in range(10): # 0~9 까지 반복\n",
    "    if(i==3): # 만약 i가 3이라면\n",
    "        continue # 문장 아래를 실행하지 않고 반복문의 처음으로 이동 후 계속 반복수행\n",
    "    print(i,\",\",end=\"\") # i 변수와 쉼표를 출력하고, print 함수가 줄바꿈을 하지 않도록 end 매개변수를 빈 문자열로 설정"
   ]
  },
  {
   "cell_type": "code",
   "execution_count": 16,
   "id": "bd1cf0a1",
   "metadata": {},
   "outputs": [],
   "source": [
    "i=0;sum=0 # 각 변수에 초기 값으로 0 저장"
   ]
  },
  {
   "cell_type": "code",
   "execution_count": 17,
   "id": "0dba5c3a",
   "metadata": {},
   "outputs": [],
   "source": [
    "while True: # 무한루프 실행\n",
    "    i+=1;sum+=i # i에 +1, sum에 +i 각각 저장\n",
    "    if(i==100): break #만약 i가 100이라면 반복문 탈출"
   ]
  },
  {
   "cell_type": "code",
   "execution_count": 18,
   "id": "b091ae23",
   "metadata": {},
   "outputs": [
    {
     "name": "stdout",
     "output_type": "stream",
     "text": [
      "i= 100 sum= 5050\n"
     ]
    }
   ],
   "source": [
    "print(\"i=\",i,\"sum=\",sum) # 그때의 i, sum 값 출력"
   ]
  },
  {
   "cell_type": "code",
   "execution_count": 19,
   "id": "15552ffd",
   "metadata": {},
   "outputs": [
    {
     "name": "stdout",
     "output_type": "stream",
     "text": [
      "******************************\n",
      "******************************\n",
      "******************************\n",
      "******************************\n"
     ]
    }
   ],
   "source": [
    "for i in range(1,121): # 변수 i는 1~120까지 반복\n",
    "    print(\"*\",end=\"\") # * 출력하고,  print 함수가 줄바꿈을 하지 않도록 end 매개변수를 빈 문자열로 설정 \n",
    "    if(i%30==0): print(end=\"\\n\") # 만약 i가 30의 배수 일때마다 개행"
   ]
  },
  {
   "cell_type": "code",
   "execution_count": 20,
   "id": "87d37d62",
   "metadata": {},
   "outputs": [
    {
     "name": "stdout",
     "output_type": "stream",
     "text": [
      "1 * 1 = 1\n",
      "1 * 2 = 2\n",
      "1 * 3 = 3\n",
      "1 * 4 = 4\n",
      "1 * 5 = 5\n",
      "1 * 6 = 6\n",
      "1 * 7 = 7\n",
      "1 * 8 = 8\n",
      "1 * 9 = 9\n",
      "********************\n",
      "2 * 1 = 2\n",
      "2 * 2 = 4\n",
      "2 * 3 = 6\n",
      "2 * 4 = 8\n",
      "2 * 5 = 10\n",
      "2 * 6 = 12\n",
      "2 * 7 = 14\n",
      "2 * 8 = 16\n",
      "2 * 9 = 18\n",
      "********************\n",
      "3 * 1 = 3\n",
      "3 * 2 = 6\n",
      "3 * 3 = 9\n",
      "3 * 4 = 12\n",
      "3 * 5 = 15\n",
      "3 * 6 = 18\n",
      "3 * 7 = 21\n",
      "3 * 8 = 24\n",
      "3 * 9 = 27\n",
      "********************\n",
      "4 * 1 = 4\n",
      "4 * 2 = 8\n",
      "4 * 3 = 12\n",
      "4 * 4 = 16\n",
      "4 * 5 = 20\n",
      "4 * 6 = 24\n",
      "4 * 7 = 28\n",
      "4 * 8 = 32\n",
      "4 * 9 = 36\n",
      "********************\n",
      "5 * 1 = 5\n",
      "5 * 2 = 10\n",
      "5 * 3 = 15\n",
      "5 * 4 = 20\n",
      "5 * 5 = 25\n",
      "5 * 6 = 30\n",
      "5 * 7 = 35\n",
      "5 * 8 = 40\n",
      "5 * 9 = 45\n",
      "********************\n",
      "6 * 1 = 6\n",
      "6 * 2 = 12\n",
      "6 * 3 = 18\n",
      "6 * 4 = 24\n",
      "6 * 5 = 30\n",
      "6 * 6 = 36\n",
      "6 * 7 = 42\n",
      "6 * 8 = 48\n",
      "6 * 9 = 54\n",
      "********************\n",
      "7 * 1 = 7\n",
      "7 * 2 = 14\n",
      "7 * 3 = 21\n",
      "7 * 4 = 28\n",
      "7 * 5 = 35\n",
      "7 * 6 = 42\n",
      "7 * 7 = 49\n",
      "7 * 8 = 56\n",
      "7 * 9 = 63\n",
      "********************\n",
      "8 * 1 = 8\n",
      "8 * 2 = 16\n",
      "8 * 3 = 24\n",
      "8 * 4 = 32\n",
      "8 * 5 = 40\n",
      "8 * 6 = 48\n",
      "8 * 7 = 56\n",
      "8 * 8 = 64\n",
      "8 * 9 = 72\n",
      "********************\n",
      "9 * 1 = 9\n",
      "9 * 2 = 18\n",
      "9 * 3 = 27\n",
      "9 * 4 = 36\n",
      "9 * 5 = 45\n",
      "9 * 6 = 54\n",
      "9 * 7 = 63\n",
      "9 * 8 = 72\n",
      "9 * 9 = 81\n",
      "********************\n"
     ]
    }
   ],
   "source": [
    "for i in range(1, 10):          # i가 1부터 9까지 반복\n",
    "    for j in range(1, 10):      # j가 1부터 9까지 반복\n",
    "        print(i, \"*\", j, \"=\", i*j)   # 구구단 계산 결과 출력\n",
    "    print(\"********************\")  # 한 단이 끝나면 * 출력"
   ]
  },
  {
   "cell_type": "code",
   "execution_count": 21,
   "id": "d280a72f",
   "metadata": {},
   "outputs": [
    {
     "name": "stdout",
     "output_type": "stream",
     "text": [
      "*********\n",
      "********\n",
      "*******\n",
      "******\n",
      "*****\n",
      "****\n",
      "***\n",
      "**\n",
      "*\n"
     ]
    }
   ],
   "source": [
    "for i in range(1, 10):           # i가 1부터 9까지 반복\n",
    "    for j in range(i, 10):       # j가 i부터 9까지 반복\n",
    "        print(\"*\", end=\"\")       # 별표 출력\n",
    "    print(end=\"\\n\")             # 한 줄 띄기"
   ]
  },
  {
   "cell_type": "code",
   "execution_count": 22,
   "id": "157e9943",
   "metadata": {},
   "outputs": [
    {
     "name": "stdout",
     "output_type": "stream",
     "text": [
      "*********\n",
      "********\n",
      "*******\n",
      "******\n",
      "*****\n",
      "****\n",
      "***\n",
      "**\n",
      "*\n"
     ]
    }
   ],
   "source": [
    "i = 1                           # 변수 i에 1을 할당\n",
    "while True:                     # 무한 반복문 실행\n",
    "    j = i                       # j에 i 값을 할당\n",
    "    while True:                 # 무한 반복문 실행\n",
    "        if j == 10: break      # j 값이 10이면 안쪽 while문 종료\n",
    "        print(\"*\", end=\"\")     # 별표 출력\n",
    "        j += 1                  # j 값 1 증가\n",
    "    if i == 10: break          # i 값이 10이면 바깥쪽 while문 종료\n",
    "    print(end=\"\\n\")             # 한 줄 띄기\n",
    "    i += 1                      # i 값 1 증가"
   ]
  },
  {
   "cell_type": "code",
   "execution_count": 23,
   "id": "0f1e834a",
   "metadata": {},
   "outputs": [
    {
     "ename": "NameError",
     "evalue": "name 'Mon' is not defined",
     "output_type": "error",
     "traceback": [
      "\u001b[1;31m---------------------------------------------------------------------------\u001b[0m",
      "\u001b[1;31mNameError\u001b[0m                                 Traceback (most recent call last)",
      "Cell \u001b[1;32mIn[23], line 3\u001b[0m\n\u001b[0;32m      1\u001b[0m on \u001b[38;5;241m=\u001b[39m \u001b[38;5;241m1\u001b[39m \u001b[38;5;66;03m# 변수 on에 1을 할당\u001b[39;00m\n\u001b[0;32m      2\u001b[0m \u001b[38;5;28;01mfor\u001b[39;00m LastDay \u001b[38;5;129;01min\u001b[39;00m [\u001b[38;5;241m31\u001b[39m, \u001b[38;5;241m28\u001b[39m, \u001b[38;5;241m31\u001b[39m, \u001b[38;5;241m30\u001b[39m, \u001b[38;5;241m31\u001b[39m, \u001b[38;5;241m30\u001b[39m, \u001b[38;5;241m31\u001b[39m, \u001b[38;5;241m31\u001b[39m, \u001b[38;5;241m30\u001b[39m, \u001b[38;5;241m31\u001b[39m, \u001b[38;5;241m30\u001b[39m, \u001b[38;5;241m31\u001b[39m]: \u001b[38;5;66;03m# 12개의 월별 마지막 날짜를 원소로 갖는 리스트 생성 후 순회\u001b[39;00m\n\u001b[1;32m----> 3\u001b[0m     \u001b[38;5;28mprint\u001b[39m(\u001b[43mMon\u001b[49m,\u001b[38;5;124m\"\u001b[39m\u001b[38;5;124m월 :\u001b[39m\u001b[38;5;124m\"\u001b[39m, end\u001b[38;5;241m=\u001b[39m\u001b[38;5;124m\"\u001b[39m\u001b[38;5;124m\"\u001b[39m) \u001b[38;5;66;03m# Mon 변수와 월 정보를 출력\u001b[39;00m\n\u001b[0;32m      4\u001b[0m     \u001b[38;5;28;01mfor\u001b[39;00m Day \u001b[38;5;129;01min\u001b[39;00m \u001b[38;5;28mrange\u001b[39m(\u001b[38;5;241m1\u001b[39m, LastDay\u001b[38;5;241m+\u001b[39m\u001b[38;5;241m1\u001b[39m): \u001b[38;5;66;03m# 1부터 해당 월의 마지막 날짜까지 반복\u001b[39;00m\n\u001b[0;32m      5\u001b[0m         \u001b[38;5;28mprint\u001b[39m(Day, end\u001b[38;5;241m=\u001b[39m\u001b[38;5;124m\"\u001b[39m\u001b[38;5;124m,\u001b[39m\u001b[38;5;124m\"\u001b[39m) \u001b[38;5;66;03m# Day 값을 출력하고, 쉼표를 이용해 구분\u001b[39;00m\n",
      "\u001b[1;31mNameError\u001b[0m: name 'Mon' is not defined"
     ]
    }
   ],
   "source": [
    "on = 1 # 변수 on에 1을 할당\n",
    "for LastDay in [31, 28, 31, 30, 31, 30, 31, 31, 30, 31, 30, 31]: # 12개의 월별 마지막 날짜를 원소로 갖는 리스트 생성 후 순회\n",
    "    print(Mon,\"월 :\", end=\"\") # Mon 변수와 월 정보를 출력\n",
    "    for Day in range(1, LastDay+1): # 1부터 해당 월의 마지막 날짜까지 반복\n",
    "        print(Day, end=\",\") # Day 값을 출력하고, 쉼표를 이용해 구분\n",
    "    print(end=\"\\n\") # 한 줄 띄기\n",
    "    Mon += 1 # Mon 변수에 1을 더해 다음 월로 이동"
   ]
  },
  {
   "cell_type": "code",
   "execution_count": 24,
   "id": "82b20961",
   "metadata": {},
   "outputs": [
    {
     "name": "stdout",
     "output_type": "stream",
     "text": [
      "1 월 :1,2,3,4,5,6,7,8,9,10,11,12,13,14,15,16,17,18,19,20,21,22,23,24,25,26,27,28,29,30,31,\n",
      "2 월 :1,2,3,4,5,6,7,8,9,10,11,12,13,14,15,16,17,18,19,20,21,22,23,24,25,26,27,28,\n",
      "3 월 :1,2,3,4,5,6,7,8,9,10,11,12,13,14,15,16,17,18,19,20,21,22,23,24,25,26,27,28,29,30,31,\n",
      "4 월 :1,2,3,4,5,6,7,8,9,10,11,12,13,14,15,16,17,18,19,20,21,22,23,24,25,26,27,28,29,30,\n",
      "5 월 :1,2,3,4,5,6,7,8,9,10,11,12,13,14,15,16,17,18,19,20,21,22,23,24,25,26,27,28,29,30,31,\n",
      "6 월 :1,2,3,4,5,6,7,8,9,10,11,12,13,14,15,16,17,18,19,20,21,22,23,24,25,26,27,28,29,30,\n",
      "7 월 :1,2,3,4,5,6,7,8,9,10,11,12,13,14,15,16,17,18,19,20,21,22,23,24,25,26,27,28,29,30,31,\n",
      "8 월 :1,2,3,4,5,6,7,8,9,10,11,12,13,14,15,16,17,18,19,20,21,22,23,24,25,26,27,28,29,30,31,\n",
      "9 월 :1,2,3,4,5,6,7,8,9,10,11,12,13,14,15,16,17,18,19,20,21,22,23,24,25,26,27,28,29,30,\n",
      "10 월 :1,2,3,4,5,6,7,8,9,10,11,12,13,14,15,16,17,18,19,20,21,22,23,24,25,26,27,28,29,30,31,\n",
      "11 월 :1,2,3,4,5,6,7,8,9,10,11,12,13,14,15,16,17,18,19,20,21,22,23,24,25,26,27,28,29,30,\n",
      "12 월 :1,2,3,4,5,6,7,8,9,10,11,12,13,14,15,16,17,18,19,20,21,22,23,24,25,26,27,28,29,30,31,\n"
     ]
    }
   ],
   "source": [
    "Mon = 1 # 변수 on에 1을 할당\n",
    "for LastDay in [31, 28, 31, 30, 31, 30, 31, 31, 30, 31, 30, 31]: # 12개의 월별 마지막 날짜를 원소로 갖는 리스트 생성 후 순회\n",
    "    print(Mon,\"월 :\", end=\"\") # Mon 변수와 월 정보를 출력\n",
    "    for Day in range(1, LastDay+1): # 1부터 해당 월의 마지막 날짜까지 반복\n",
    "        print(Day, end=\",\") # Day 값을 출력하고, 쉼표를 이용해 구분\n",
    "    print(end=\"\\n\") # 한 줄 띄기\n",
    "    Mon += 1 # Mon 변수에 1을 더해 다음 월로 이동"
   ]
  },
  {
   "cell_type": "code",
   "execution_count": 25,
   "id": "d86dd402",
   "metadata": {},
   "outputs": [
    {
     "name": "stdout",
     "output_type": "stream",
     "text": [
      "2 * 2 = 4\t3 * 2 = 4\t4 * 2 = 4\n",
      "2 * 3 = 6\t3 * 3 = 6\t4 * 3 = 6\n",
      "2 * 4 = 8\t3 * 4 = 8\t4 * 4 = 8\n",
      "2 * 5 = 10\t3 * 5 = 10\t4 * 5 = 10\n",
      "2 * 6 = 12\t3 * 6 = 12\t4 * 6 = 12\n",
      "2 * 7 = 14\t3 * 7 = 14\t4 * 7 = 14\n",
      "2 * 8 = 16\t3 * 8 = 16\t4 * 8 = 16\n",
      "2 * 9 = 18\t3 * 9 = 18\t4 * 9 = 18\n",
      "\n",
      "5 * 2 = 10\t6 * 2 = 10\t7 * 2 = 10\n",
      "5 * 3 = 15\t6 * 3 = 15\t7 * 3 = 15\n",
      "5 * 4 = 20\t6 * 4 = 20\t7 * 4 = 20\n",
      "5 * 5 = 25\t6 * 5 = 25\t7 * 5 = 25\n",
      "5 * 6 = 30\t6 * 6 = 30\t7 * 6 = 30\n",
      "5 * 7 = 35\t6 * 7 = 35\t7 * 7 = 35\n",
      "5 * 8 = 40\t6 * 8 = 40\t7 * 8 = 40\n",
      "5 * 9 = 45\t6 * 9 = 45\t7 * 9 = 45\n",
      "\n",
      "8 * 2 = 16\t9 * 2 = 16\t\n",
      "8 * 3 = 24\t9 * 3 = 24\t\n",
      "8 * 4 = 32\t9 * 4 = 32\t\n",
      "8 * 5 = 40\t9 * 5 = 40\t\n",
      "8 * 6 = 48\t9 * 6 = 48\t\n",
      "8 * 7 = 56\t9 * 7 = 56\t\n",
      "8 * 8 = 64\t9 * 8 = 64\t\n",
      "8 * 9 = 72\t9 * 9 = 72\t\n",
      "\n"
     ]
    }
   ],
   "source": [
    "for i in range(2,10,3): # 2단부터 9단까지 3씩 증가시키며 반복\n",
    "    for j in range(2,10): # 2단부터 9단까지 3씩 증가시키며 반복\n",
    "        print(i,\"*\",j,\"=\",i*j,end=\"\\t\") # 구구단 계산 결과를 출력\n",
    "        print(i+1,\"*\",j,\"=\",i*j,end=\"\\t\") # 구구단 계산 결과를 출력\n",
    "        if(i+2!=10): print(i+2,\"*\",j,\"=\",i*j,end=\"\\n\" )# i+2가 10이 아닌 경우, 마지막 곱셈 결과를 출력\n",
    "        else: print(end=\"\\n\") # i+2가 10이 아닌 경우, 마지막 곱셈 결과를 출력\n",
    "    print(end=\"\\n\") # 한 단의 출력이 끝난 후, 개행"
   ]
  },
  {
   "cell_type": "code",
   "execution_count": 26,
   "id": "d6a17c00",
   "metadata": {},
   "outputs": [
    {
     "name": "stdout",
     "output_type": "stream",
     "text": [
      "2 * 2 = 4\t5 * 2 = 4\t8 * 2 = 4\n",
      "2 * 3 = 6\t5 * 3 = 6\t8 * 3 = 6\n",
      "2 * 4 = 8\t5 * 4 = 8\t8 * 4 = 8\n",
      "2 * 5 = 10\t5 * 5 = 10\t8 * 5 = 10\n",
      "2 * 6 = 12\t5 * 6 = 12\t8 * 6 = 12\n",
      "2 * 7 = 14\t5 * 7 = 14\t8 * 7 = 14\n",
      "2 * 8 = 16\t5 * 8 = 16\t8 * 8 = 16\n",
      "2 * 9 = 18\t5 * 9 = 18\t8 * 9 = 18\n",
      "\n",
      "3 * 2 = 6\t6 * 2 = 6\t9 * 2 = 6\n",
      "3 * 3 = 9\t6 * 3 = 9\t9 * 3 = 9\n",
      "3 * 4 = 12\t6 * 4 = 12\t9 * 4 = 12\n",
      "3 * 5 = 15\t6 * 5 = 15\t9 * 5 = 15\n",
      "3 * 6 = 18\t6 * 6 = 18\t9 * 6 = 18\n",
      "3 * 7 = 21\t6 * 7 = 21\t9 * 7 = 21\n",
      "3 * 8 = 24\t6 * 8 = 24\t9 * 8 = 24\n",
      "3 * 9 = 27\t6 * 9 = 27\t9 * 9 = 27\n",
      "\n",
      "4 * 2 = 8\t7 * 2 = 8\t\n",
      "4 * 3 = 12\t7 * 3 = 12\t\n",
      "4 * 4 = 16\t7 * 4 = 16\t\n",
      "4 * 5 = 20\t7 * 5 = 20\t\n",
      "4 * 6 = 24\t7 * 6 = 24\t\n",
      "4 * 7 = 28\t7 * 7 = 28\t\n",
      "4 * 8 = 32\t7 * 8 = 32\t\n",
      "4 * 9 = 36\t7 * 9 = 36\t\n",
      "\n"
     ]
    }
   ],
   "source": [
    "for i in range(2,5): # 2부터 4까지의 숫자를 반복\n",
    "    for j in range(2,10): # 2부터 4까지의 숫자를 반복\n",
    "        print(i,\"*\",j,\"=\",i*j,end=\"\\t\") # i와 j를 곱한 결과를 출력하며, 출력 끝에 탭 문자를 추가\n",
    "        print(i+3,\"*\",j,\"=\",i*j,end=\"\\t\") # i+3과 j를 곱한 결과를 출력하며, 출력 끝에 탭 문자를 추가\n",
    "        if(i+6!=10): print(i+6,\"*\",j,\"=\",i*j,end=\"\\n\") # i+6이 10이 아니면 i+6과 j를 곱한 결과를 출력하고, 출력 끝에 개행 문자를 추가합니다.\n",
    "        else: print(end=\"\\n\") # i+6이 10이라면 개행 문자만 출력\n",
    "    print(end=\"\\n\") # 각 단이 끝날 때마다 개행 문자를 출력"
   ]
  },
  {
   "cell_type": "code",
   "execution_count": null,
   "id": "4bcbfc22",
   "metadata": {},
   "outputs": [],
   "source": []
  }
 ],
 "metadata": {
  "kernelspec": {
   "display_name": "Python 3 (ipykernel)",
   "language": "python",
   "name": "python3"
  },
  "language_info": {
   "codemirror_mode": {
    "name": "ipython",
    "version": 3
   },
   "file_extension": ".py",
   "mimetype": "text/x-python",
   "name": "python",
   "nbconvert_exporter": "python",
   "pygments_lexer": "ipython3",
   "version": "3.8.8rc1"
  }
 },
 "nbformat": 4,
 "nbformat_minor": 5
}
