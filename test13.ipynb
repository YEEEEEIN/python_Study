{
 "cells": [
  {
   "cell_type": "code",
   "execution_count": 19,
   "id": "81b950e8",
   "metadata": {},
   "outputs": [
    {
     "name": "stdout",
     "output_type": "stream",
     "text": [
      "2층입니다\n",
      "3층입니다\n",
      "4층입니다\n",
      "5층입니다\n",
      "6층입니다\n",
      "7층입니다\n",
      "8층입니다\n",
      "9층입니다\n",
      "10층입니다\n",
      "11층입니다\n",
      "12층입니다\n",
      "13층입니다\n",
      "14층입니다\n",
      "15층입니다\n",
      "최상층 입니다\n",
      "최상층 입니다\n",
      "최상층 입니다\n",
      "최상층 입니다\n",
      "최상층 입니다\n",
      "최상층 입니다\n",
      "14층입니다\n",
      "13층입니다\n",
      "12층입니다\n",
      "11층입니다\n",
      "10층입니다\n",
      "9층입니다\n",
      "8층입니다\n",
      "7층입니다\n",
      "6층입니다\n",
      "5층입니다\n",
      "4층입니다\n",
      "3층입니다\n",
      "2층입니다\n",
      "1층입니다\n",
      "0층입니다\n",
      "최하층 입니다\n",
      "최하층 입니다\n",
      "최하층 입니다\n",
      "최하층 입니다\n",
      "최하층 입니다\n"
     ]
    }
   ],
   "source": [
    "class elevator:\n",
    "    def __init__(self,floor,limit_up_floor,limit_down_floor,msg):\n",
    "        # 클래스 초기화 메서드, 객체 생성시 호출됨\n",
    "        # 현재 층, 최고층, 최저층, 메시지를 초기화함\n",
    "        self.floor=floor\n",
    "        self.limit_up_floor=limit_up_floor\n",
    "        self.limit_down_floor=limit_down_floor\n",
    "        self.msg=msg \n",
    "\n",
    "    def up(self):\n",
    "        # 엘리베이터를 올리는 메서드\n",
    "        if self.floor == self.limit_up_floor: #최고층에 도달했을 때\n",
    "            self.msg=\"최상층 입니다\"\n",
    "        else: #최고층이 아닐 때\n",
    "            self.floor+=1\n",
    "            self.msg=str(self.floor)+\"층입니다\"\n",
    "        print(self.msg)\n",
    "\n",
    "    def down(self):\n",
    "        # 엘리베이터를 내리는 메서드\n",
    "        if self.floor == self.limit_down_floor: #최저층에 도달했을 때\n",
    "            self.msg=\"최하층 입니다\"\n",
    "        else: #최저층이 아닐 때\n",
    "            self.floor-=1\n",
    "            self.msg=str(self.floor)+\"층입니다\"\n",
    "        print(self.msg)\n",
    "\n",
    "myclass = elevator(1,15,0,\"\") # 객체 생성 (현재1층, 최저0층, 최고15층, 메시지)\n",
    "for i in range(20): # 20번 엘리베이터를 올리는 메서드를 실행\n",
    "    myclass.up()\n",
    "for i in range(20): # 20번 엘리베이터를 내리는 메서드를 실행\n",
    "    myclass.down()"
   ]
  },
  {
   "cell_type": "code",
   "execution_count": 18,
   "id": "5738f154",
   "metadata": {},
   "outputs": [
    {
     "name": "stdout",
     "output_type": "stream",
     "text": [
      "myclass->"
     ]
    },
    {
     "ename": "AttributeError",
     "evalue": "'elevator' object has no attribute 'up'",
     "output_type": "error",
     "traceback": [
      "\u001b[1;31m---------------------------------------------------------------------------\u001b[0m",
      "\u001b[1;31mAttributeError\u001b[0m                            Traceback (most recent call last)",
      "Cell \u001b[1;32mIn[18], line 8\u001b[0m\n\u001b[0;32m      6\u001b[0m \u001b[38;5;28;01mfor\u001b[39;00m i \u001b[38;5;129;01min\u001b[39;00m \u001b[38;5;28mrange\u001b[39m(\u001b[38;5;241m20\u001b[39m): \u001b[38;5;66;03m#20번 up()를 실행\u001b[39;00m\n\u001b[0;32m      7\u001b[0m     \u001b[38;5;28mprint\u001b[39m(\u001b[38;5;124m\"\u001b[39m\u001b[38;5;124mmyclass->\u001b[39m\u001b[38;5;124m\"\u001b[39m,end\u001b[38;5;241m=\u001b[39m\u001b[38;5;124m\"\u001b[39m\u001b[38;5;124m\"\u001b[39m)\n\u001b[1;32m----> 8\u001b[0m     \u001b[43mmyclass\u001b[49m\u001b[38;5;241;43m.\u001b[39;49m\u001b[43mup\u001b[49m()\n\u001b[0;32m      9\u001b[0m     \u001b[38;5;28mprint\u001b[39m(\u001b[38;5;124m\"\u001b[39m\u001b[38;5;124myourclass->\u001b[39m\u001b[38;5;124m\"\u001b[39m,end\u001b[38;5;241m=\u001b[39m\u001b[38;5;124m\"\u001b[39m\u001b[38;5;124m\"\u001b[39m)\n\u001b[0;32m     10\u001b[0m     yourclass\u001b[38;5;241m.\u001b[39mup()\n",
      "\u001b[1;31mAttributeError\u001b[0m: 'elevator' object has no attribute 'up'"
     ]
    }
   ],
   "source": [
    "# elevator 클래스 인스턴스 생성\n",
    "myclass = elevator(1,15,0,\"\") #(현재1층, 최저0층, 최고15층, 메시지)값으로 클래스생성\n",
    "yourclass = elevator(5,10,-1,\"\") #(현재1층, 최저0층, 최고15층, 메시지)값으로 클래스생성\n",
    "\n",
    "# myclass와 yourclass 모두 20층까지 올라감\n",
    "for i in range(20): #20번 up()를 실행\n",
    "    print(\"myclass->\",end=\"\")\n",
    "    myclass.up()\n",
    "    print(\"yourclass->\",end=\"\")\n",
    "    yourclass.up()\n",
    "    \n",
    "# myclass와 yourclass 모두 1층까지 내려감\n",
    "for i in range(20): #20번 down()을 실행\n",
    "    print(\"myclass->\",end=\"\")\n",
    "    myclass.down()\n",
    "    print(\"yourclass->\",end=\"\")\n",
    "    yourclass.down()"
   ]
  },
  {
   "cell_type": "code",
   "execution_count": 8,
   "id": "50d19214",
   "metadata": {},
   "outputs": [],
   "source": [
    "# 'elevator' 클래스를 정의한다.\n",
    "class elevator:\n",
    "    \n",
    "    # 'elevator' 클래스의 인스턴스를 생성할 때 호출되는 초기화 함수를 정의한다.\n",
    "    def __init__(self,floor,limit_up_floor,limit_down_floor,msg):\n",
    "        \n",
    "        # 'floor' 인스턴스 변수를 선언하고, 인자 'floor'로 초기화한다.\n",
    "        self.floor=floor\n",
    "        \n",
    "        # 'limit_up_floor' 인스턴스 변수를 선언하고, 인자 'limit_up_floor'로 초기화한다.\n",
    "        self.limit_up_floor=limit_up_floor\n",
    "        \n",
    "        # 'limit_down_floor' 인스턴스 변수를 선언하고, 인자 'limit_down_floor'로 초기화한다.\n",
    "        self.limit_down_floor=limit_down_floor\n",
    "        \n",
    "        # 'msg' 인스턴스 변수를 선언하고, 인자 'msg'로 초기화한다.\n",
    "        self.msg=msg"
   ]
  },
  {
   "cell_type": "code",
   "execution_count": 9,
   "id": "db27f94f",
   "metadata": {},
   "outputs": [],
   "source": [
    "#(현재1층, 최저0층, 최고15층, 메시지)값으로 클래스생성\n",
    "myclass = elevator(1,15,0,\"\")\n",
    "\n",
    "#(현재1층, 최저0층, 최고15층, 메시지)값으로 클래스생성\n",
    "yourclass = elevator(5,10,-1,\"\")"
   ]
  },
  {
   "cell_type": "code",
   "execution_count": 20,
   "id": "5b53acb6",
   "metadata": {},
   "outputs": [],
   "source": [
    "class s_elevator(elevator):      # s_elevator 클래스 선언, elevator 클래스를 상속받음\n",
    "    def __init__(self):         # 클래스 생성 시 호출되는 생성자 메서드\n",
    "        super().__init__(1,15,0,\"\") # 부모 클래스의 생성자 호출하여 초기화, 현재 층은 1, 최고 층은 15, 최저 층은 0, 메시지는 없음\n",
    "    def up(self):               # 엘리베이터를 위로 올리는 메서드\n",
    "        super().up()           # 부모 클래스의 up() 메서드 호출하여 현재 층을 1 증가\n",
    "        super().up()           # 다시 up() 메서드 호출하여 현재 층을 1 증가\n",
    "    def down(self):             # 엘리베이터를 아래로 내리는 메서드\n",
    "        super().down()         # 부모 클래스의 down() 메서드 호출하여 현재 층을 1 감소\n",
    "        super().down()         # 다시 down() 메서드 호출하여 현재 층을 1 감소"
   ]
  },
  {
   "cell_type": "code",
   "execution_count": 21,
   "id": "7cfda1a0",
   "metadata": {},
   "outputs": [
    {
     "name": "stdout",
     "output_type": "stream",
     "text": [
      "2층입니다\n",
      "3층입니다\n",
      "2층입니다\n",
      "1층입니다\n",
      "2층입니다\n",
      "3층입니다\n",
      "2층입니다\n",
      "1층입니다\n",
      "2층입니다\n",
      "3층입니다\n",
      "2층입니다\n",
      "1층입니다\n",
      "2층입니다\n",
      "3층입니다\n",
      "2층입니다\n",
      "1층입니다\n",
      "2층입니다\n",
      "3층입니다\n",
      "2층입니다\n",
      "1층입니다\n",
      "2층입니다\n",
      "3층입니다\n",
      "2층입니다\n",
      "1층입니다\n",
      "2층입니다\n",
      "3층입니다\n",
      "2층입니다\n",
      "1층입니다\n",
      "2층입니다\n",
      "3층입니다\n",
      "2층입니다\n",
      "1층입니다\n",
      "2층입니다\n",
      "3층입니다\n",
      "2층입니다\n",
      "1층입니다\n",
      "2층입니다\n",
      "3층입니다\n",
      "2층입니다\n",
      "1층입니다\n",
      "2층입니다\n",
      "3층입니다\n",
      "2층입니다\n",
      "1층입니다\n",
      "2층입니다\n",
      "3층입니다\n",
      "2층입니다\n",
      "1층입니다\n",
      "2층입니다\n",
      "3층입니다\n",
      "2층입니다\n",
      "1층입니다\n",
      "2층입니다\n",
      "3층입니다\n",
      "2층입니다\n",
      "1층입니다\n",
      "2층입니다\n",
      "3층입니다\n",
      "2층입니다\n",
      "1층입니다\n",
      "2층입니다\n",
      "3층입니다\n",
      "2층입니다\n",
      "1층입니다\n",
      "2층입니다\n",
      "3층입니다\n",
      "2층입니다\n",
      "1층입니다\n",
      "2층입니다\n",
      "3층입니다\n",
      "2층입니다\n",
      "1층입니다\n",
      "2층입니다\n",
      "3층입니다\n",
      "2층입니다\n",
      "1층입니다\n",
      "2층입니다\n",
      "3층입니다\n",
      "2층입니다\n",
      "1층입니다\n"
     ]
    }
   ],
   "source": [
    "#myclass = elevator(1,15,0,\"\")\n",
    "myclass = s_elevator()\n",
    "\n",
    "for i in range(20): #20번 up()를 실행\n",
    "    myclass.up() # 부모 클래스의 up() 메서드 호출하여 현재 층을 1 증가\n",
    "    myclass.down() # 부모 클래스의 down() 메서드 호출하여 현재 층을 1 감소"
   ]
  },
  {
   "cell_type": "code",
   "execution_count": 22,
   "id": "4b304843",
   "metadata": {},
   "outputs": [
    {
     "name": "stdout",
     "output_type": "stream",
     "text": [
      "3125\n"
     ]
    }
   ],
   "source": [
    "class multibox:\n",
    "    def __init__(self,multi): # multi 값을 입력받아서 멤버 변수로 저장하는 생성자\n",
    "        self.multi=multi\n",
    "    def getnumber(self): # 멤버 변수 num을 멤버 변수 multi번 제곱한 값을 반환하는 함수\n",
    "        return self.num**self.multi\n",
    "    def setnumber(self,num): # 멤버 변수 num에 값을 저장하는 함수\n",
    "        self.num=num\n",
    "        \n",
    "        \n",
    "m=multibox(5) # multibox 클래스의 인스턴스를 생성하며 멤버 변수 multi에 5를 할당\n",
    "m.setnumber(5) # 멤버 변수 num에 5를 할당\n",
    "print(m.getnumber()) # 멤버 변수 num을 5의 5승으로 계산한 값을 출력"
   ]
  },
  {
   "cell_type": "code",
   "execution_count": 23,
   "id": "0eb2ab5e",
   "metadata": {},
   "outputs": [
    {
     "name": "stdout",
     "output_type": "stream",
     "text": [
      "3125\n"
     ]
    }
   ],
   "source": [
    "class multibox: # 클래스 정의\n",
    "    def __init__(self,multi): # multi를 초기값으로 받아와서 self.multi에 저장한다. \n",
    "        self.multi=multi\n",
    "        \n",
    "    def getnumber(self): # getnumber 메소드를 정의하여 self.num**self.multi를 반환한다\n",
    "        return self.num**self.multi\n",
    "    \n",
    "    def setnumber(self,num): # setnumber 메소드를 정의하여 self.num에 값을 저장한다.\n",
    "        self.num=num\n",
    "        \n",
    "    number=property(getnumber,setnumber) # property를 이용해 getnumber와 setnumber를 number로 묶어준다.\n",
    "    \n",
    "m=multibox(5) # multibox 클래스의 객체 m 생성\n",
    "m.number=5 # number property에 5 저장\n",
    "print(m.number) # number property 값을 출력"
   ]
  },
  {
   "cell_type": "code",
   "execution_count": 24,
   "id": "d9992579",
   "metadata": {},
   "outputs": [
    {
     "name": "stdout",
     "output_type": "stream",
     "text": [
      "3125\n"
     ]
    }
   ],
   "source": [
    "class multibox:\n",
    "    def __init__(self,multi):\n",
    "        self.multi=multi\n",
    "    @property # number 메소드를 프로퍼티로 선언\n",
    "    def number(self):\n",
    "        return self.num**self.multi\n",
    "    @number.setter # number 메소드의 setter 메소드를 선언\n",
    "    def number(self,num):\n",
    "        self.num=num\n",
    "        \n",
    "m=multibox(5)\n",
    "m.number=5 # number의 setter 메소드가 호출됨\n",
    "print(m.number) # number의 getter 메소드가 호출됨"
   ]
  },
  {
   "cell_type": "code",
   "execution_count": 25,
   "id": "5aab6dec",
   "metadata": {},
   "outputs": [
    {
     "name": "stdout",
     "output_type": "stream",
     "text": [
      "클래스 참조횟수는 2 회 입니다\n"
     ]
    }
   ],
   "source": [
    "class myclass:\n",
    "    cnt=0 # self가 없는 myclass에서 사용되는 내부 static 변수\n",
    "    \n",
    "    def __init__(self): \n",
    "        myclass.cnt += 1 # myclass의 static 변수\n",
    "    \n",
    "    @classmethod # 클래스 메서드 선언\n",
    "    def refcount(cls): # self가 아니라 cls로 정의\n",
    "        print(\"클래스 참조횟수는\", cls.cnt, \"회 입니다\")\n",
    "\n",
    "# 인스턴스 a와 b를 생성합니다.\n",
    "a = myclass()\n",
    "b = myclass()\n",
    "myclass.refcount() # 메서드를 호출하여 cnt 값을 출력"
   ]
  },
  {
   "cell_type": "code",
   "execution_count": 26,
   "id": "f1706f43",
   "metadata": {},
   "outputs": [
    {
     "name": "stdout",
     "output_type": "stream",
     "text": [
      "이 클래스는 아무런 일도 하지 않는다\n",
      "이 클래스는 아무런 일도 하지 않는다\n"
     ]
    }
   ],
   "source": [
    "class myclass:\n",
    "    cnt=0 # 내부 static 변수 선언\n",
    "    def __init__(self): \n",
    "        myclass.cnt += 1 # myclass의 static 변수 증가\n",
    "    @staticmethod # 정적 메서드로 선언\n",
    "    def helf():\n",
    "        print(\"이 클래스는 아무런 일도 하지 않는다\")\n",
    "myclass.helf() # 클래스명으로 바로 정적 메서드 실행\n",
    "a = myclass() # myclass의 인스턴스 a를 생성\n",
    "myclass.helf() # myclass의 정적 메서드 helf()를 호출하고, \"이 클래스는 아무런 일도 하지 않는다\"를 출력"
   ]
  },
  {
   "cell_type": "code",
   "execution_count": 27,
   "id": "47538d74",
   "metadata": {},
   "outputs": [
    {
     "name": "stdout",
     "output_type": "stream",
     "text": [
      "defabc\n"
     ]
    }
   ],
   "source": [
    "# mystr 클래스 선언\n",
    "class mystr:\n",
    "    def __init__(self,s):\n",
    "        self.s=s\n",
    "    \n",
    "    # + 연산자 오버로딩\n",
    "    def __add__(self, other): \n",
    "        return other.s + self.s  # other의 문자열과 self의 문자열을 더한 값을 반환\n",
    "    \n",
    "# mystr 객체 a, b 생성 후 + 연산자로 더함\n",
    "a = mystr(\"abc\")\n",
    "b = mystr(\"def\")\n",
    "print(a+b) # 출력: defabc"
   ]
  },
  {
   "cell_type": "code",
   "execution_count": 28,
   "id": "e9b1043f",
   "metadata": {},
   "outputs": [
    {
     "name": "stdout",
     "output_type": "stream",
     "text": [
      "9.99999999999998\n"
     ]
    }
   ],
   "source": [
    "sum=0         # 변수 sum을 0으로 초기화\n",
    "for i in range(100):    # 0부터 99까지 100번 반복하는 for문\n",
    "    sum+=0.1   # sum에 0.1을 더함\n",
    "print(sum)    # sum 출력"
   ]
  },
  {
   "cell_type": "code",
   "execution_count": 29,
   "id": "426b5514",
   "metadata": {},
   "outputs": [
    {
     "name": "stdout",
     "output_type": "stream",
     "text": [
      "0.1 => 9.99999999999998\n",
      "0.1000000000000000055511151231257827021181583404541015625 => 10.00000000000000055511151230\n",
      "0.1 => 10.0\n",
      "9.99999999999998\n"
     ]
    }
   ],
   "source": [
    "from decimal import Decimal\n",
    "\n",
    "a_sum = 0\n",
    "b_sum = 0\n",
    "c_sum = 0\n",
    "\n",
    "a = 0.1  # 부동소수점형 변수 a를 선언하고 0.1을 할당한다.\n",
    "b = Decimal(a)  # Decimal 모듈을 사용해 a를 Decimal 객체 b로 변환한다.\n",
    "c = Decimal(\"0.1\")  # 문자열 \"0.1\"을 Decimal 객체 c로 변환한다.\n",
    "\n",
    "for i in range(100):\n",
    "    a_sum += a  # 부동소수점형 변수 a를 100번 더해 a_sum에 누적한다.\n",
    "    b_sum += b  # Decimal 객체 b를 100번 더해 b_sum에 누적한다.\n",
    "    c_sum += c  # Decimal 객체 c를 100번 더해 c_sum에 누적한다.\n",
    "\n",
    "print(a, \"=>\", a_sum)  # 부동소수점형 변수 a와 누적합 a_sum을 출력한다.\n",
    "print(b, \"=>\", b_sum)  # Decimal 객체 b와 누적합 b_sum을 출력한다.\n",
    "print(c, \"=>\", c_sum)  # Decimal 객체 c와 누적합 c_sum을 출력한다.\n",
    "\n",
    "\n",
    "sum = 0  # 변수 sum을 0으로 초기화한다.\n",
    "\n",
    "for i in range(100):\n",
    "    sum += 0.1  # 부동소수점형 상수 0.1을 100번 더해 sum에 누적한다.\n",
    "\n",
    "print(sum)  # 누적합 sum을 출력한다."
   ]
  },
  {
   "cell_type": "code",
   "execution_count": 30,
   "id": "2a2b6803",
   "metadata": {},
   "outputs": [
    {
     "name": "stdout",
     "output_type": "stream",
     "text": [
      "2/3 + 1/2 = 7/6\n",
      "2/3 * 1/2 = 1/3\n",
      "2/3 * 1.5 = 2.1666666666666665\n"
     ]
    }
   ],
   "source": [
    "from fractions import * \n",
    "\n",
    "# 분수 클래스 Fraction으로 2/3, 5/10 분수 생성\n",
    "a=Fraction(2,3) # 3분의 2\n",
    "b=Fraction(5,10) # 10분의 5로 약분되어 1/2\n",
    "\n",
    "# 분수들을 더하고, 곱하고, 실수와 곱하기 연산\n",
    "print(a,\"+\",b,\"=\",a+b)\n",
    "print(a,\"*\",b,\"=\",a*b)\n",
    "print(a,\"*\",1.5,\"=\",a+1.5)"
   ]
  },
  {
   "cell_type": "code",
   "execution_count": null,
   "id": "8e0a2502",
   "metadata": {},
   "outputs": [],
   "source": []
  }
 ],
 "metadata": {
  "kernelspec": {
   "display_name": "Python 3 (ipykernel)",
   "language": "python",
   "name": "python3"
  },
  "language_info": {
   "codemirror_mode": {
    "name": "ipython",
    "version": 3
   },
   "file_extension": ".py",
   "mimetype": "text/x-python",
   "name": "python",
   "nbconvert_exporter": "python",
   "pygments_lexer": "ipython3",
   "version": "3.8.8rc1"
  }
 },
 "nbformat": 4,
 "nbformat_minor": 5
}
