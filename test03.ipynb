{
 "cells": [
  {
   "cell_type": "code",
   "execution_count": 1,
   "id": "f0e6b00e",
   "metadata": {},
   "outputs": [],
   "source": [
    "a=10 # a에 10 대입"
   ]
  },
  {
   "cell_type": "code",
   "execution_count": 2,
   "id": "8b19bc01",
   "metadata": {},
   "outputs": [],
   "source": [
    "b=1200 # b에 1200 대입"
   ]
  },
  {
   "cell_type": "code",
   "execution_count": 3,
   "id": "0e5afa08",
   "metadata": {},
   "outputs": [],
   "source": [
    "c=+1200 # c에 +1200 대입"
   ]
  },
  {
   "cell_type": "code",
   "execution_count": 4,
   "id": "361881db",
   "metadata": {},
   "outputs": [],
   "source": [
    "d=-1234 # d에 -1234 대입"
   ]
  },
  {
   "cell_type": "code",
   "execution_count": 5,
   "id": "b898d2b9",
   "metadata": {},
   "outputs": [
    {
     "name": "stdout",
     "output_type": "stream",
     "text": [
      "a= 10  b= 1200  c= 1200  d= -1234\n"
     ]
    }
   ],
   "source": [
    "print(\"a=\",a ,\" b=\",b ,\" c=\",c, \" d=\",d) # 각 값 출력"
   ]
  },
  {
   "cell_type": "code",
   "execution_count": 6,
   "id": "3f308d28",
   "metadata": {},
   "outputs": [],
   "source": [
    "a=21098134232408921340891340984312089423089341208943120934120894312089 # a에 값 대입"
   ]
  },
  {
   "cell_type": "code",
   "execution_count": 7,
   "id": "019de30d",
   "metadata": {},
   "outputs": [],
   "source": [
    "b=234412307893421789078903455107893412093412089341208934120894320893421 # b에 값 대입"
   ]
  },
  {
   "cell_type": "code",
   "execution_count": 8,
   "id": "d1715589",
   "metadata": {},
   "outputs": [
    {
     "name": "stdout",
     "output_type": "stream",
     "text": [
      "a+b= 255510442125830710419794796092205501516501430550152055055015215205510\n"
     ]
    }
   ],
   "source": [
    "print(\"a+b=\", a+b) # a+b 출력"
   ]
  },
  {
   "cell_type": "code",
   "execution_count": 9,
   "id": "0445455f",
   "metadata": {},
   "outputs": [
    {
     "name": "stdout",
     "output_type": "stream",
     "text": [
      "a+b= 255510442125830710419794796092205501516501430550152055055015215205510\n"
     ]
    }
   ],
   "source": [
    "print(\"a+b=\", a+b) "
   ]
  },
  {
   "cell_type": "code",
   "execution_count": 10,
   "id": "fe45888e",
   "metadata": {},
   "outputs": [
    {
     "name": "stdout",
     "output_type": "stream",
     "text": [
      "a*b= 4945662337664182251045508647662854964228779292407290431545377548887919021506299614458775856747962183641984855519033366861090951680866469\n"
     ]
    }
   ],
   "source": [
    "print(\"a*b=\", a*b) # a*b 출력"
   ]
  },
  {
   "cell_type": "code",
   "execution_count": 11,
   "id": "ff80067b",
   "metadata": {},
   "outputs": [
    {
     "data": {
      "text/plain": [
       "10"
      ]
     },
     "execution_count": 11,
     "metadata": {},
     "output_type": "execute_result"
    }
   ],
   "source": [
    "0b1010 # 0b~는 2진수의 값 -> 2진수 1010의 10진수 값 출력"
   ]
  },
  {
   "cell_type": "code",
   "execution_count": 12,
   "id": "3628a400",
   "metadata": {},
   "outputs": [
    {
     "data": {
      "text/plain": [
       "15"
      ]
     },
     "execution_count": 12,
     "metadata": {},
     "output_type": "execute_result"
    }
   ],
   "source": [
    "0b1111 # 2진수 1111의 10진수 값 출력"
   ]
  },
  {
   "cell_type": "code",
   "execution_count": 13,
   "id": "199f0f2e",
   "metadata": {},
   "outputs": [
    {
     "data": {
      "text/plain": [
       "1"
      ]
     },
     "execution_count": 13,
     "metadata": {},
     "output_type": "execute_result"
    }
   ],
   "source": [
    "0b0001 # 2진수 0001의 10진수 값 출력"
   ]
  },
  {
   "cell_type": "code",
   "execution_count": 14,
   "id": "6cb4ac2e",
   "metadata": {},
   "outputs": [
    {
     "ename": "SyntaxError",
     "evalue": "invalid digit '2' in binary literal (4097528594.py, line 1)",
     "output_type": "error",
     "traceback": [
      "\u001b[1;36m  Cell \u001b[1;32mIn[14], line 1\u001b[1;36m\u001b[0m\n\u001b[1;33m    0b0201\u001b[0m\n\u001b[1;37m       ^\u001b[0m\n\u001b[1;31mSyntaxError\u001b[0m\u001b[1;31m:\u001b[0m invalid digit '2' in binary literal\n"
     ]
    }
   ],
   "source": [
    "0b0201 # 2진수는 0,1 만 있어야하는데 2가 있기때문에 error"
   ]
  },
  {
   "cell_type": "code",
   "execution_count": 15,
   "id": "9c006be5",
   "metadata": {},
   "outputs": [
    {
     "data": {
      "text/plain": [
       "16"
      ]
     },
     "execution_count": 15,
     "metadata": {},
     "output_type": "execute_result"
    }
   ],
   "source": [
    "0x10 # 0x~는 16진수의 값 -> 16진수 10의 10진수 값 출력"
   ]
  },
  {
   "cell_type": "code",
   "execution_count": 16,
   "id": "6f9752f7",
   "metadata": {},
   "outputs": [
    {
     "data": {
      "text/plain": [
       "26"
      ]
     },
     "execution_count": 16,
     "metadata": {},
     "output_type": "execute_result"
    }
   ],
   "source": [
    "0x1a # 16진수 1a의 10진수 값 출력"
   ]
  },
  {
   "cell_type": "code",
   "execution_count": 17,
   "id": "39b5c377",
   "metadata": {},
   "outputs": [
    {
     "data": {
      "text/plain": [
       "47"
      ]
     },
     "execution_count": 17,
     "metadata": {},
     "output_type": "execute_result"
    }
   ],
   "source": [
    "0x2f # 16진수 2f의 10진수 값 출력"
   ]
  },
  {
   "cell_type": "code",
   "execution_count": 18,
   "id": "c2fa5c93",
   "metadata": {},
   "outputs": [
    {
     "ename": "SyntaxError",
     "evalue": "invalid syntax (3986162713.py, line 1)",
     "output_type": "error",
     "traceback": [
      "\u001b[1;36m  Cell \u001b[1;32mIn[18], line 1\u001b[1;36m\u001b[0m\n\u001b[1;33m    0x3z\u001b[0m\n\u001b[1;37m       ^\u001b[0m\n\u001b[1;31mSyntaxError\u001b[0m\u001b[1;31m:\u001b[0m invalid syntax\n"
     ]
    }
   ],
   "source": [
    "0x3z  # 16진수의 범위 초과 error"
   ]
  },
  {
   "cell_type": "code",
   "execution_count": 19,
   "id": "039794cc",
   "metadata": {},
   "outputs": [
    {
     "name": "stdout",
     "output_type": "stream",
     "text": [
      "0xc\n",
      "0o26\n",
      "0b100001\n"
     ]
    }
   ],
   "source": [
    "print(hex(12));print(oct(22));print(bin(33)) # hex():16진수, bin():2진수, oct():8진수로 변환"
   ]
  },
  {
   "cell_type": "code",
   "execution_count": 20,
   "id": "9f11dc04",
   "metadata": {},
   "outputs": [
    {
     "data": {
      "text/plain": [
       "9460000000000.0"
      ]
     },
     "execution_count": 20,
     "metadata": {},
     "output_type": "execute_result"
    }
   ],
   "source": [
    "9.46e12 # 9.46 * 10의 12승"
   ]
  },
  {
   "cell_type": "code",
   "execution_count": 21,
   "id": "11f30047",
   "metadata": {},
   "outputs": [
    {
     "data": {
      "text/plain": [
       "1.2131232417683412e+32"
      ]
     },
     "execution_count": 21,
     "metadata": {},
     "output_type": "execute_result"
    }
   ],
   "source": [
    "9.46e12 + 121312324176834127678963412341298 # 실수형과 정수형의 계산"
   ]
  },
  {
   "cell_type": "code",
   "execution_count": 22,
   "id": "a4b99a97",
   "metadata": {},
   "outputs": [
    {
     "ename": "SyntaxError",
     "evalue": "invalid syntax (3700144954.py, line 1)",
     "output_type": "error",
     "traceback": [
      "\u001b[1;36m  Cell \u001b[1;32mIn[22], line 1\u001b[1;36m\u001b[0m\n\u001b[1;33m    a=1+2i\u001b[0m\n\u001b[1;37m         ^\u001b[0m\n\u001b[1;31mSyntaxError\u001b[0m\u001b[1;31m:\u001b[0m invalid syntax\n"
     ]
    }
   ],
   "source": [
    " a=1+2i"
   ]
  },
  {
   "cell_type": "code",
   "execution_count": 23,
   "id": "3c397a84",
   "metadata": {},
   "outputs": [
    {
     "ename": "SyntaxError",
     "evalue": "invalid syntax (1681953706.py, line 1)",
     "output_type": "error",
     "traceback": [
      "\u001b[1;36m  Cell \u001b[1;32mIn[23], line 1\u001b[1;36m\u001b[0m\n\u001b[1;33m    a=1+2i\u001b[0m\n\u001b[1;37m         ^\u001b[0m\n\u001b[1;31mSyntaxError\u001b[0m\u001b[1;31m:\u001b[0m invalid syntax\n"
     ]
    }
   ],
   "source": [
    "a=1+2i # 실제 복소수에서는 허수부분이 i로 표기되지만"
   ]
  },
  {
   "cell_type": "code",
   "execution_count": 24,
   "id": "25f25a7a",
   "metadata": {},
   "outputs": [],
   "source": [
    "a=1+2j # 파이썬에서는 허수부분을 j로 사용함을 유의"
   ]
  },
  {
   "cell_type": "code",
   "execution_count": 25,
   "id": "5b779473",
   "metadata": {},
   "outputs": [],
   "source": [
    "b=1-2j # 변수 b에 1-2j 복소수 대입"
   ]
  },
  {
   "cell_type": "code",
   "execution_count": 26,
   "id": "d8e1becf",
   "metadata": {},
   "outputs": [
    {
     "name": "stdout",
     "output_type": "stream",
     "text": [
      "(2+0j) (5+0j)\n"
     ]
    }
   ],
   "source": [
    "print(a+b, a*b) # 복소수를 더한 값과 곱한 값을 출력"
   ]
  },
  {
   "cell_type": "code",
   "execution_count": 27,
   "id": "6ab042b9",
   "metadata": {},
   "outputs": [],
   "source": [
    "a=\"aaa\" # 변수 a에 문자열 대입"
   ]
  },
  {
   "cell_type": "code",
   "execution_count": 28,
   "id": "7542d69d",
   "metadata": {},
   "outputs": [],
   "source": [
    "b=\"bbb\" # 변수 b에 문자열 대입"
   ]
  },
  {
   "cell_type": "code",
   "execution_count": 29,
   "id": "2fa524af",
   "metadata": {},
   "outputs": [
    {
     "data": {
      "text/plain": [
       "'aaabbb'"
      ]
     },
     "execution_count": 29,
     "metadata": {},
     "output_type": "execute_result"
    }
   ],
   "source": [
    " a+b # 문자열의 합은 문자열의 붙여쓰기"
   ]
  },
  {
   "cell_type": "code",
   "execution_count": 30,
   "id": "8cc817ba",
   "metadata": {},
   "outputs": [
    {
     "ename": "TypeError",
     "evalue": "can't multiply sequence by non-int of type 'str'",
     "output_type": "error",
     "traceback": [
      "\u001b[1;31m---------------------------------------------------------------------------\u001b[0m",
      "\u001b[1;31mTypeError\u001b[0m                                 Traceback (most recent call last)",
      "Cell \u001b[1;32mIn[30], line 1\u001b[0m\n\u001b[1;32m----> 1\u001b[0m \u001b[43ma\u001b[49m\u001b[38;5;241;43m*\u001b[39;49m\u001b[43mb\u001b[49m\n",
      "\u001b[1;31mTypeError\u001b[0m: can't multiply sequence by non-int of type 'str'"
     ]
    }
   ],
   "source": [
    "a*b # 문자열끼리의 곱은 존재하지 않지만"
   ]
  },
  {
   "cell_type": "code",
   "execution_count": 31,
   "id": "9702fd17",
   "metadata": {},
   "outputs": [
    {
     "data": {
      "text/plain": [
       "'aaaaaaaaa'"
      ]
     },
     "execution_count": 31,
     "metadata": {},
     "output_type": "execute_result"
    }
   ],
   "source": [
    "a*3 # 문자과 정수 n의 곱은 문자열 n번 반복을 의미"
   ]
  },
  {
   "cell_type": "code",
   "execution_count": 32,
   "id": "140fbdd9",
   "metadata": {},
   "outputs": [
    {
     "data": {
      "text/plain": [
       "'bbbbbbbbbbbbbbb'"
      ]
     },
     "execution_count": 32,
     "metadata": {},
     "output_type": "execute_result"
    }
   ],
   "source": [
    "b*5 # 문자과 정수 n의 곱은 문자열 n번 반복을 의미"
   ]
  },
  {
   "cell_type": "code",
   "execution_count": 33,
   "id": "f45ea653",
   "metadata": {},
   "outputs": [],
   "source": [
    "# 호랑이가 \"떡하나 주면 안잡아 먹지\" 라고 말했습니다"
   ]
  },
  {
   "cell_type": "code",
   "execution_count": 34,
   "id": "1328b643",
   "metadata": {},
   "outputs": [
    {
     "name": "stdout",
     "output_type": "stream",
     "text": [
      "호랑이가 \"떡하나 주면 안잡아 먹지\" 라고 말했습니다.\n"
     ]
    }
   ],
   "source": [
    "print ('호랑이가 \"떡하나 주면 안잡아 먹지\" 라고 말했습니다.')"
   ]
  },
  {
   "cell_type": "code",
   "execution_count": 35,
   "id": "83a277ca",
   "metadata": {},
   "outputs": [
    {
     "ename": "SyntaxError",
     "evalue": "unexpected EOF while parsing (3328965462.py, line 1)",
     "output_type": "error",
     "traceback": [
      "\u001b[1;36m  Cell \u001b[1;32mIn[35], line 1\u001b[1;36m\u001b[0m\n\u001b[1;33m    print (\" 호랑이가 \\\"떡하나 주면 안잡아 먹지\\\" 라고 말했습니다.\"\u001b[0m\n\u001b[1;37m                                              ^\u001b[0m\n\u001b[1;31mSyntaxError\u001b[0m\u001b[1;31m:\u001b[0m unexpected EOF while parsing\n"
     ]
    }
   ],
   "source": [
    "print (\" 호랑이가 \\\"떡하나 주면 안잡아 먹지\\\" 라고 말했습니다.\""
   ]
  },
  {
   "cell_type": "code",
   "execution_count": 36,
   "id": "03d309de",
   "metadata": {},
   "outputs": [],
   "source": [
    "# 호랑이가 \"떡하나 주면 안잡아 먹지\" 라고 말했습니다"
   ]
  },
  {
   "cell_type": "code",
   "execution_count": 37,
   "id": "79e5f502",
   "metadata": {},
   "outputs": [
    {
     "name": "stdout",
     "output_type": "stream",
     "text": [
      "호랑이가 \"떡하나 주면 안잡아 먹지\" 라고 말했습니다.\n"
     ]
    }
   ],
   "source": [
    "print ('호랑이가 \"떡하나 주면 안잡아 먹지\" 라고 말했습니다.') # 큰따옴표를 출력하고 싶을 때 홑따옴표 안에 사용"
   ]
  },
  {
   "cell_type": "code",
   "execution_count": 38,
   "id": "bfb78854",
   "metadata": {},
   "outputs": [
    {
     "name": "stdout",
     "output_type": "stream",
     "text": [
      " 호랑이가 \"떡하나 주면 안잡아 먹지\" 라고 말했습니다.\n"
     ]
    }
   ],
   "source": [
    "print (\" 호랑이가 \\\"떡하나 주면 안잡아 먹지\\\" 라고 말했습니다.\") # 큰따옴표 출력하고 싶을 때 \\\" 사용"
   ]
  },
  {
   "cell_type": "code",
   "execution_count": 39,
   "id": "b271594a",
   "metadata": {},
   "outputs": [],
   "source": [
    "#I say \" I Love You\""
   ]
  },
  {
   "cell_type": "code",
   "execution_count": 40,
   "id": "a6d2a171",
   "metadata": {},
   "outputs": [
    {
     "name": "stdout",
     "output_type": "stream",
     "text": [
      "I say \"I Love You\"\n"
     ]
    }
   ],
   "source": [
    "print (\"I say \\\"I Love You\\\"\") # 큰따옴표 출력하고 싶을 때 \\\" 사용"
   ]
  },
  {
   "cell_type": "code",
   "execution_count": 41,
   "id": "d75cc80d",
   "metadata": {},
   "outputs": [
    {
     "ename": "SyntaxError",
     "evalue": "invalid syntax (832799594.py, line 1)",
     "output_type": "error",
     "traceback": [
      "\u001b[1;36m  Cell \u001b[1;32mIn[41], line 1\u001b[1;36m\u001b[0m\n\u001b[1;33m    print (\"I say \"I Love You\"\")\u001b[0m\n\u001b[1;37m                   ^\u001b[0m\n\u001b[1;31mSyntaxError\u001b[0m\u001b[1;31m:\u001b[0m invalid syntax\n"
     ]
    }
   ],
   "source": [
    "print (\"I say \"I Love You\"\") # 큰따옴표를 두번 쓰는 것은 error"
   ]
  },
  {
   "cell_type": "code",
   "execution_count": 42,
   "id": "a83be00f",
   "metadata": {},
   "outputs": [
    {
     "name": "stdout",
     "output_type": "stream",
     "text": [
      "오늘 열심히 파이썬을 공부했습니다. \n",
      "내일도 열심히 파이썬을 공부할 것입니다. \n",
      "그래서 일등할 것입니다\n"
     ]
    }
   ],
   "source": [
    "print(\"\"\"오늘 열심히 파이썬을 공부했습니다. \n",
    "내일도 열심히 파이썬을 공부할 것입니다. \n",
    "그래서 일등할 것입니다\"\"\") # 따옴표 세 개를 사용하면 다음 세 개의 따옴표가 나올 때 까지 줄을 바꾸어 사용할 수 있음"
   ]
  },
  {
   "cell_type": "code",
   "execution_count": 43,
   "id": "4342dc6e",
   "metadata": {},
   "outputs": [
    {
     "name": "stdout",
     "output_type": "stream",
     "text": [
      "오늘 열심히 파이썬을 공부했습니다. 내일도 열심히 파이썬을 공부할 것입니다. 그래서 일등할 것입니다\n"
     ]
    }
   ],
   "source": [
    "print(\"오늘 열심히 파이썬을 공부했습니다. \\\n",
    "내일도 열심히 파이썬을 공부할 것입니다. \\\n",
    "그래서 일등할 것입니다\") # 문자열의 합이나 명령어 연장(\\)방법으로 표현할 수 있음"
   ]
  },
  {
   "cell_type": "code",
   "execution_count": 44,
   "id": "8c1f2a43",
   "metadata": {},
   "outputs": [],
   "source": [
    "a = \"오늘은\" \"즐거운\" \"일요일\" # 작은 문자열을 나열하여 사용할 수 있음"
   ]
  },
  {
   "cell_type": "code",
   "execution_count": 45,
   "id": "5ca165b1",
   "metadata": {},
   "outputs": [
    {
     "name": "stdout",
     "output_type": "stream",
     "text": [
      "오늘은즐거운일요일\n"
     ]
    }
   ],
   "source": [
    "print (a) # 나열된 문자를 붙여서 출력"
   ]
  },
  {
   "cell_type": "code",
   "execution_count": 46,
   "id": "686c4c03",
   "metadata": {},
   "outputs": [
    {
     "name": "stdout",
     "output_type": "stream",
     "text": [
      "오늘 열심히 파이썬을 공부했습니다. \n",
      "내일도 열심히 파이썬을 공부할 것입니다. \n",
      "그래서 일등할 것입니다\n"
     ]
    }
   ],
   "source": [
    "print(\"오늘 열심히 파이썬을 공부했습니다. \\n\"\n",
    "\"내일도 열심히 파이썬을 공부할 것입니다. \\n\"\n",
    "\"그래서 일등할 것입니다\") # 작은 문자열을 나열하여 사용할 수 있음"
   ]
  },
  {
   "cell_type": "code",
   "execution_count": 47,
   "id": "b5d5c302",
   "metadata": {},
   "outputs": [],
   "source": [
    "a = True # 변수 a는 부울형 True 대입"
   ]
  },
  {
   "cell_type": "code",
   "execution_count": 48,
   "id": "a1ecd315",
   "metadata": {},
   "outputs": [],
   "source": [
    "b = False # 변수 b는 부울형 False 대입"
   ]
  },
  {
   "cell_type": "code",
   "execution_count": 49,
   "id": "c49a63cf",
   "metadata": {},
   "outputs": [
    {
     "data": {
      "text/plain": [
       "False"
      ]
     },
     "execution_count": 49,
     "metadata": {},
     "output_type": "execute_result"
    }
   ],
   "source": [
    "a and b # 둘 다 True일때만 True"
   ]
  },
  {
   "cell_type": "code",
   "execution_count": 50,
   "id": "a693eff7",
   "metadata": {},
   "outputs": [
    {
     "data": {
      "text/plain": [
       "True"
      ]
     },
     "execution_count": 50,
     "metadata": {},
     "output_type": "execute_result"
    }
   ],
   "source": [
    "a or b # 둘 중 하나만 True이면 True"
   ]
  },
  {
   "cell_type": "code",
   "execution_count": 51,
   "id": "aa6b2704",
   "metadata": {},
   "outputs": [
    {
     "data": {
      "text/plain": [
       "True"
      ]
     },
     "execution_count": 51,
     "metadata": {},
     "output_type": "execute_result"
    }
   ],
   "source": [
    "a and not b # not b는 True이기 때문에"
   ]
  },
  {
   "cell_type": "code",
   "execution_count": 52,
   "id": "49118c8e",
   "metadata": {},
   "outputs": [],
   "source": [
    "a= 0 # 변수 a에 0을 대입"
   ]
  },
  {
   "cell_type": "code",
   "execution_count": 53,
   "id": "1355b93d",
   "metadata": {},
   "outputs": [],
   "source": [
    "b = a==0 # a가 0이랑 같기 때문에 True를 변수 b에 대입"
   ]
  },
  {
   "cell_type": "code",
   "execution_count": 54,
   "id": "47a0d9bc",
   "metadata": {},
   "outputs": [
    {
     "data": {
      "text/plain": [
       "True"
      ]
     },
     "execution_count": 54,
     "metadata": {},
     "output_type": "execute_result"
    }
   ],
   "source": [
    "b # b의 값 출력"
   ]
  },
  {
   "cell_type": "code",
   "execution_count": 55,
   "id": "09ea697c",
   "metadata": {},
   "outputs": [],
   "source": [
    "a = True # 변수 a는 부울형 True 대입"
   ]
  },
  {
   "cell_type": "code",
   "execution_count": 56,
   "id": "2db90c3b",
   "metadata": {},
   "outputs": [],
   "source": [
    "b = False # 변수 b는 부울형 False 대입"
   ]
  },
  {
   "cell_type": "code",
   "execution_count": 57,
   "id": "8bdf9888",
   "metadata": {},
   "outputs": [
    {
     "name": "stdout",
     "output_type": "stream",
     "text": [
      "참\n"
     ]
    }
   ],
   "source": [
    "if 1 > 2 and a and b or b or a:  # 만약 1이 2보다 크지 않고 a와 b가 참이고 또는 b나 a 중 하나가 참이면,\n",
    "    print(\"참\")  # \"참\"을 출력합니다.\n",
    "else:  # 그렇지 않으면\n",
    "    print(\"거짓\")  # \"거짓\"을 출력합니다."
   ]
  },
  {
   "cell_type": "code",
   "execution_count": 58,
   "id": "227ccd41",
   "metadata": {},
   "outputs": [],
   "source": [
    "rainbow = [\"빨\",\"주\",\"노\",\"초\",\"파\",\"남\",\"보\"] # 여러개의 값을 모아서 저장"
   ]
  },
  {
   "cell_type": "code",
   "execution_count": 59,
   "id": "4372ce4d",
   "metadata": {},
   "outputs": [
    {
     "name": "stdout",
     "output_type": "stream",
     "text": [
      "['빨', '주', '노', '초', '파', '남', '보']\n"
     ]
    }
   ],
   "source": [
    " print(rainbow) # 컬렉션 값 출력"
   ]
  },
  {
   "cell_type": "code",
   "execution_count": 60,
   "id": "aa848a3d",
   "metadata": {},
   "outputs": [],
   "source": [
    "rainbow = [\"빨강\",\"주황\",\"노랑\",\"초록\",\"파랑\",\"남색\",\"보라\"] # 여러개의 값을 모아서 저장"
   ]
  },
  {
   "cell_type": "code",
   "execution_count": 61,
   "id": "1ceb2b8c",
   "metadata": {},
   "outputs": [
    {
     "name": "stdout",
     "output_type": "stream",
     "text": [
      "빨강 색\n",
      "주황 색\n",
      "노랑 색\n",
      "초록 색\n",
      "파랑 색\n",
      "남색 색\n",
      "보라 색\n"
     ]
    }
   ],
   "source": [
    "for color in rainbow:  # rainbow 리스트의 각 항목을 color 변수에 할당하면서 반복합니다.\n",
    "    print(color, \"색\")  # color 변수와 문자열 \"색\"을 출력합니다."
   ]
  },
  {
   "cell_type": "code",
   "execution_count": null,
   "id": "f744ed65",
   "metadata": {},
   "outputs": [],
   "source": []
  }
 ],
 "metadata": {
  "kernelspec": {
   "display_name": "Python 3 (ipykernel)",
   "language": "python",
   "name": "python3"
  },
  "language_info": {
   "codemirror_mode": {
    "name": "ipython",
    "version": 3
   },
   "file_extension": ".py",
   "mimetype": "text/x-python",
   "name": "python",
   "nbconvert_exporter": "python",
   "pygments_lexer": "ipython3",
   "version": "3.8.8rc1"
  }
 },
 "nbformat": 4,
 "nbformat_minor": 5
}
