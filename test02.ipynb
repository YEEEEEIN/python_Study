{
 "cells": [
  {
   "cell_type": "code",
   "execution_count": 2,
   "id": "8bf67fcd",
   "metadata": {},
   "outputs": [],
   "source": [
    "1+2"
   ]
  },
  {
   "cell_type": "code",
   "execution_count": 4,
   "id": "846724f7",
   "metadata": {},
   "outputs": [],
   "source": [
    "1+2"
   ]
  },
  {
   "cell_type": "code",
   "execution_count": 1,
   "id": "a9aa6852",
   "metadata": {},
   "outputs": [
    {
     "data": {
      "text/plain": [
       "3"
      ]
     },
     "execution_count": 1,
     "metadata": {},
     "output_type": "execute_result"
    }
   ],
   "source": [
    "1+2 #덧셈 연산"
   ]
  },
  {
   "cell_type": "code",
   "execution_count": 2,
   "id": "813450a1",
   "metadata": {},
   "outputs": [
    {
     "data": {
      "text/plain": [
       "3"
      ]
     },
     "execution_count": 2,
     "metadata": {},
     "output_type": "execute_result"
    }
   ],
   "source": [
    "1 + 2 #연산자를 띄어쓰는 것은 상관 없음"
   ]
  },
  {
   "cell_type": "code",
   "execution_count": 3,
   "id": "cd236b5c",
   "metadata": {},
   "outputs": [
    {
     "data": {
      "text/plain": [
       "3"
      ]
     },
     "execution_count": 3,
     "metadata": {},
     "output_type": "execute_result"
    }
   ],
   "source": [
    "1 + 2"
   ]
  },
  {
   "cell_type": "code",
   "execution_count": 4,
   "id": "f3301e16",
   "metadata": {},
   "outputs": [
    {
     "data": {
      "text/plain": [
       "3"
      ]
     },
     "execution_count": 4,
     "metadata": {},
     "output_type": "execute_result"
    }
   ],
   "source": [
    " 1+2"
   ]
  },
  {
   "cell_type": "code",
   "execution_count": 5,
   "id": "76b981fb",
   "metadata": {},
   "outputs": [
    {
     "data": {
      "text/plain": [
       "3"
      ]
     },
     "execution_count": 5,
     "metadata": {},
     "output_type": "execute_result"
    }
   ],
   "source": [
    " 1+2"
   ]
  },
  {
   "cell_type": "code",
   "execution_count": 6,
   "id": "c4cd3e7c",
   "metadata": {},
   "outputs": [
    {
     "data": {
      "text/plain": [
       "3"
      ]
     },
     "execution_count": 6,
     "metadata": {},
     "output_type": "execute_result"
    }
   ],
   "source": [
    "    1 + 2"
   ]
  },
  {
   "cell_type": "code",
   "execution_count": 7,
   "id": "efc4def7",
   "metadata": {},
   "outputs": [
    {
     "ename": "IndentationError",
     "evalue": "expected an indented block (2423337973.py, line 2)",
     "output_type": "error",
     "traceback": [
      "\u001b[1;36m  Cell \u001b[1;32mIn[7], line 2\u001b[1;36m\u001b[0m\n\u001b[1;33m    print(\"스위치 on\")\u001b[0m\n\u001b[1;37m    ^\u001b[0m\n\u001b[1;31mIndentationError\u001b[0m\u001b[1;31m:\u001b[0m expected an indented block\n"
     ]
    }
   ],
   "source": [
    " if sw == 1:\n",
    "print(\"스위치 on\")\n",
    "else:\n",
    "print(\"스위치 off\")"
   ]
  },
  {
   "cell_type": "code",
   "execution_count": 8,
   "id": "dc1d1123",
   "metadata": {},
   "outputs": [
    {
     "ename": "IndentationError",
     "evalue": "expected an indented block (3892471043.py, line 2)",
     "output_type": "error",
     "traceback": [
      "\u001b[1;36m  Cell \u001b[1;32mIn[8], line 2\u001b[1;36m\u001b[0m\n\u001b[1;33m    print(\"스위치 on\")\u001b[0m\n\u001b[1;37m    ^\u001b[0m\n\u001b[1;31mIndentationError\u001b[0m\u001b[1;31m:\u001b[0m expected an indented block\n"
     ]
    }
   ],
   "source": [
    "if sw == 1:\n",
    "print(\"스위치 on\")\n",
    "else:\n",
    "print(\"스위치 off\")\n",
    "스위치 on"
   ]
  },
  {
   "cell_type": "code",
   "execution_count": 9,
   "id": "514c727c",
   "metadata": {},
   "outputs": [
    {
     "ename": "IndentationError",
     "evalue": "expected an indented block (383596854.py, line 3)",
     "output_type": "error",
     "traceback": [
      "\u001b[1;36m  Cell \u001b[1;32mIn[9], line 3\u001b[1;36m\u001b[0m\n\u001b[1;33m    print(\"스위치 on\")\u001b[0m\n\u001b[1;37m    ^\u001b[0m\n\u001b[1;31mIndentationError\u001b[0m\u001b[1;31m:\u001b[0m expected an indented block\n"
     ]
    }
   ],
   "source": [
    "sw ==1\n",
    "if sw == 1:\n",
    "print(\"스위치 on\")\n",
    "else:\n",
    "print(\"스위치 off\")"
   ]
  },
  {
   "cell_type": "code",
   "execution_count": 10,
   "id": "ffe33ece",
   "metadata": {},
   "outputs": [
    {
     "name": "stdout",
     "output_type": "stream",
     "text": [
      "스위치 on\n"
     ]
    }
   ],
   "source": [
    "sw = 1 #변수에 1 대입\n",
    "if sw == 1: print(\"스위치 on\") # sw가 1이라면 스위치 on 출력\n",
    "else: print(\"스위치 off\") # sw가 1이 아니라면 스위치 off 출력"
   ]
  },
  {
   "cell_type": "code",
   "execution_count": 11,
   "id": "d4340bb2",
   "metadata": {},
   "outputs": [
    {
     "data": {
      "text/plain": [
       "12"
      ]
     },
     "execution_count": 11,
     "metadata": {},
     "output_type": "execute_result"
    }
   ],
   "source": [
    "1+2;3+4; 5+ 7"
   ]
  },
  {
   "cell_type": "code",
   "execution_count": 12,
   "id": "33950177",
   "metadata": {},
   "outputs": [
    {
     "data": {
      "text/plain": [
       "12"
      ]
     },
     "execution_count": 12,
     "metadata": {},
     "output_type": "execute_result"
    }
   ],
   "source": [
    "1+2; 3+4; 5+7"
   ]
  },
  {
   "cell_type": "code",
   "execution_count": 13,
   "id": "e3632a5c",
   "metadata": {},
   "outputs": [
    {
     "name": "stdout",
     "output_type": "stream",
     "text": [
      "3\n"
     ]
    }
   ],
   "source": [
    " print(1+2) # 1+2 출력"
   ]
  },
  {
   "cell_type": "code",
   "execution_count": 14,
   "id": "06dcf02b",
   "metadata": {},
   "outputs": [
    {
     "ename": "NameError",
     "evalue": "name 'Print' is not defined",
     "output_type": "error",
     "traceback": [
      "\u001b[1;31m---------------------------------------------------------------------------\u001b[0m",
      "\u001b[1;31mNameError\u001b[0m                                 Traceback (most recent call last)",
      "Cell \u001b[1;32mIn[14], line 1\u001b[0m\n\u001b[1;32m----> 1\u001b[0m \u001b[43mPrint\u001b[49m(\u001b[38;5;241m1\u001b[39m\u001b[38;5;241m+\u001b[39m\u001b[38;5;241m2\u001b[39m)\n",
      "\u001b[1;31mNameError\u001b[0m: name 'Print' is not defined"
     ]
    }
   ],
   "source": [
    "Print(1+2) # 대소문자 구별하여 사용해야한다"
   ]
  },
  {
   "cell_type": "code",
   "execution_count": null,
   "id": "47de14fe",
   "metadata": {},
   "outputs": [],
   "source": []
  },
  {
   "cell_type": "code",
   "execution_count": 15,
   "id": "540e686c",
   "metadata": {},
   "outputs": [
    {
     "ename": "NameError",
     "evalue": "name 'PRINT' is not defined",
     "output_type": "error",
     "traceback": [
      "\u001b[1;31m---------------------------------------------------------------------------\u001b[0m",
      "\u001b[1;31mNameError\u001b[0m                                 Traceback (most recent call last)",
      "Cell \u001b[1;32mIn[15], line 1\u001b[0m\n\u001b[1;32m----> 1\u001b[0m \u001b[43mPRINT\u001b[49m(\u001b[38;5;241m1\u001b[39m\u001b[38;5;241m+\u001b[39m\u001b[38;5;241m2\u001b[39m)\n",
      "\u001b[1;31mNameError\u001b[0m: name 'PRINT' is not defined"
     ]
    }
   ],
   "source": [
    " PRINT(1+2) # 대소문자 구별하여 사용해야한다"
   ]
  },
  {
   "cell_type": "code",
   "execution_count": 16,
   "id": "a3bd3e0d",
   "metadata": {},
   "outputs": [
    {
     "ename": "SyntaxError",
     "evalue": "invalid syntax (4234779023.py, line 1)",
     "output_type": "error",
     "traceback": [
      "\u001b[1;36m  Cell \u001b[1;32mIn[16], line 1\u001b[1;36m\u001b[0m\n\u001b[1;33m    print(출력내용 [, sep=구분문자][, end=마지막 문자])\u001b[0m\n\u001b[1;37m                ^\u001b[0m\n\u001b[1;31mSyntaxError\u001b[0m\u001b[1;31m:\u001b[0m invalid syntax\n"
     ]
    }
   ],
   "source": [
    "print(출력내용 [, sep=구분문자][, end=마지막 문자])"
   ]
  },
  {
   "cell_type": "code",
   "execution_count": 17,
   "id": "bdddb8ed",
   "metadata": {},
   "outputs": [],
   "source": [
    "abc=1 # 변수 abc에 1 대입"
   ]
  },
  {
   "cell_type": "code",
   "execution_count": 18,
   "id": "1090927b",
   "metadata": {},
   "outputs": [
    {
     "data": {
      "text/plain": [
       "3"
      ]
     },
     "execution_count": 18,
     "metadata": {},
     "output_type": "execute_result"
    }
   ],
   "source": [
    "1+2 # 1+2 값 출력"
   ]
  },
  {
   "cell_type": "code",
   "execution_count": 19,
   "id": "0e654777",
   "metadata": {},
   "outputs": [
    {
     "data": {
      "text/plain": [
       "1"
      ]
     },
     "execution_count": 19,
     "metadata": {},
     "output_type": "execute_result"
    }
   ],
   "source": [
    "abc # abc 값 출력"
   ]
  },
  {
   "cell_type": "code",
   "execution_count": 20,
   "id": "654a3aac",
   "metadata": {},
   "outputs": [
    {
     "name": "stdout",
     "output_type": "stream",
     "text": [
      "1\n"
     ]
    }
   ],
   "source": [
    "print (abc) # abc 값 출력"
   ]
  },
  {
   "cell_type": "code",
   "execution_count": 21,
   "id": "75c5f6ef",
   "metadata": {},
   "outputs": [
    {
     "name": "stdout",
     "output_type": "stream",
     "text": [
      "3\n"
     ]
    }
   ],
   "source": [
    "print(1+2) # 1+2 값 출력"
   ]
  },
  {
   "cell_type": "code",
   "execution_count": 22,
   "id": "90d15949",
   "metadata": {},
   "outputs": [
    {
     "name": "stdout",
     "output_type": "stream",
     "text": [
      "3\n",
      "3\n"
     ]
    }
   ],
   "source": [
    "a=1 # 변수 a에 1 대입\n",
    "b=2 # 변수 b에 2 대입\n",
    "a+b # 스크립트 모드에서는 print 없이 출력 안됨\n",
    "print (a+b) # a+b 값 출력\n",
    "1+2 # 스크립트 모드에서는 print 없이 출력 안됨\n",
    "print (1+2) # 1+2 값 출렷"
   ]
  },
  {
   "cell_type": "code",
   "execution_count": 26,
   "id": "5d6128cb",
   "metadata": {},
   "outputs": [
    {
     "name": "stdout",
     "output_type": "stream",
     "text": [
      "아침 점심 저녁\n",
      "아침먹고 점심먹고 저녁\n",
      "아침먹고 점심먹고 저녁땡"
     ]
    }
   ],
   "source": [
    "a= \"아침\" # 변수 a에 아침 대입\n",
    "b= \"점심\" # 변수 b에 점심 대입\n",
    "c= \"저녁\" # 변수 c에 저녁 대입\n",
    "print(a,b,c) # a,b,c 출력\n",
    "print(a,b,c, sep=\"먹고 \") # a,b,c를 출력하는데 중간에 먹고라는 구분자를 넣어서 출력\n",
    "print(a,b,c, sep=\"먹고 \" ,end =\"땡\") # a,b,c를 출력하는데 중간에 먹고라는 구분자를 넣어서 출력하고 마지막엔 떙을 넣어서 출력"
   ]
  },
  {
   "cell_type": "code",
   "execution_count": 24,
   "id": "c913c52b",
   "metadata": {},
   "outputs": [
    {
     "name": "stdout",
     "output_type": "stream",
     "text": [
      "아침 점심 저녁\n",
      "아침먹고 점심먹고 저녁\n",
      "아침먹고 점심먹고 저녁아침자고 점심자고 저녁아침먹고 점심먹고 저녁\n",
      "아침자고 점심자고 저녁\n"
     ]
    }
   ],
   "source": [
    "a= \"아침\" # 변수 a에 아침 대입\n",
    "b= \"점심\" # 변수 b에 점심 대입\n",
    "c= \"저녁\" # 변수 c에 저녁 대입\n",
    "print(a,b,c)) # a,b,c 출력\n",
    "print(a,b,c, sep=\"먹고 \") # a,b,c를 출력하는데 중간에 먹고라는 구분자를 넣어서 출력\n",
    "print(a,b,c, sep=\"먹고 \" ,end =\"\") # a,b,c를 출력하는데 중간에 먹고라는 구분자를 넣어서 출력하고 마지막엔 개행하지 말고 출력\n",
    "print(a,b,c, sep=\"자고 \" ,end =\"\") # a,b,c를 출력하는데 중간에 자고라는 구분자를 넣어서 출력하고 마지막엔 개행하지 말고 출력\n",
    "print(a,b,c, sep=\"먹고 \" ,end =\"\\n\") # a,b,c를 출력하는데 중간에 먹고라는 구분자를 넣어서 출력하고 마지막엔 개행하여 출력\n",
    "print(a,b,c, sep=\"자고 \" ,end =\"\\n\") # a,b,c를 출력하는데 중간에 자고라는 구분자를 넣어서 출력하고 마지막엔 개행하여 출력"
   ]
  },
  {
   "cell_type": "code",
   "execution_count": 25,
   "id": "6c5c495a",
   "metadata": {},
   "outputs": [
    {
     "name": "stdout",
     "output_type": "stream",
     "text": [
      "22+33=55\n"
     ]
    }
   ],
   "source": [
    "a= 22 # 변수 a에 22 대입\n",
    "b= 33 # 변수 b에 33 대입\n",
    "print(a,b, sep=\"+\" ,end=\"=\") # a,b를 출력하는데 중간에 +를 놓고 마지막에 = 을 넣어서 개행하지말고 출력\n",
    "print(a+b) # a+b 값을 출력"
   ]
  },
  {
   "cell_type": "code",
   "execution_count": 27,
   "id": "302c11c7",
   "metadata": {},
   "outputs": [
    {
     "ename": "SyntaxError",
     "evalue": "invalid character in identifier (4095672312.py, line 1)",
     "output_type": "error",
     "traceback": [
      "\u001b[1;36m  Cell \u001b[1;32mIn[27], line 1\u001b[1;36m\u001b[0m\n\u001b[1;33m    var = input(“입력 전 출력내용”)\u001b[0m\n\u001b[1;37m                  ^\u001b[0m\n\u001b[1;31mSyntaxError\u001b[0m\u001b[1;31m:\u001b[0m invalid character in identifier\n"
     ]
    }
   ],
   "source": [
    "var = input(“입력 전 출력내용”)"
   ]
  },
  {
   "cell_type": "code",
   "execution_count": 28,
   "id": "d7c989e6",
   "metadata": {},
   "outputs": [
    {
     "name": "stdout",
     "output_type": "stream",
     "text": [
      "너는 이름이 뭐니?이예인\n",
      "이름이  이예인  입니다\n",
      "너는 몇 살이니?26\n",
      "나이가  26 살 입니다\n"
     ]
    }
   ],
   "source": [
    "a= input(\"너는 이름이 뭐니?\") # 변수 a에 이름 입력 값 받기\n",
    "print(\"이름이 \",a,\" 입니다\") # 받은 입력 값 출력\n",
    "b= input(\"너는 몇 살이니?\") # 변수 b에 나이 입력 값 받기\n",
    "print(\"나이가 \",b,\"살 입니다\") # 받은 입력 값 출력"
   ]
  },
  {
   "cell_type": "code",
   "execution_count": 29,
   "id": "5bfa8298",
   "metadata": {},
   "outputs": [
    {
     "name": "stdout",
     "output_type": "stream",
     "text": [
      "a값을 입력하셔요?1\n",
      "b값을 입력하셔요?2\n",
      "1+2=12\n",
      "수치 계산 : 1+2=3\n"
     ]
    }
   ],
   "source": [
    "a= input(\"a값을 입력하셔요?\") # 변수 a에 값 입력 받기\n",
    "b= input(\"b값을 입력하셔요?\") # 변수 b에 값 입력 받기\n",
    "print(a,b, sep=\"+\" ,end=\"=\") # a,b 중간에 + 넣어서 출력하고 마지막에 = 붙여서 개행 없이 출력\n",
    "print(a+b) # a+b 값 출력\n",
    "print(\"수치 계산\", end =\" : \") # 수치계산 문자에 마지막에 : 붙여서 개행 없이 출력\n",
    "print(a,b, sep=\"+\" ,end=\"=\") # a,b 중간에 + 넣어서 출력하고 마지막에 = 붙여서 개행 없이 출력\n",
    "print(int(a)+int(b)) # 입력값으로 받은 값은 문자형이기 때문에 숫자형으르로 바꾸는 함수 int()사용"
   ]
  },
  {
   "cell_type": "code",
   "execution_count": 30,
   "id": "4bb9b76f",
   "metadata": {},
   "outputs": [
    {
     "name": "stdout",
     "output_type": "stream",
     "text": [
      "품목?초코파이\n",
      "수량?10\n",
      "단가?100\n",
      "초코파이  :  10 개 *  100 원 = 총  1000 원\n"
     ]
    }
   ],
   "source": [
    "a= input(\"품목?\") # 변수 a에 품목 입력 받기\n",
    "b=int(input(\"수량?\")) # 변수 b에 수량 입력 받기\n",
    "c=int(input(\"단가?\")) # 변수 c에 단가 입력 받기\n",
    "print(a, \" : \",b,\"개 * \",c,\"원 = 총 \", b*c, \"원\") # 순서에 따라 값을 대입하여 출력"
   ]
  },
  {
   "cell_type": "code",
   "execution_count": 31,
   "id": "d5f3c936",
   "metadata": {},
   "outputs": [
    {
     "name": "stdout",
     "output_type": "stream",
     "text": [
      "품목?초코파이\n",
      "수량?10\n",
      "단가?100\n",
      "초코파이  :  10 개 *  100 원 = 총  1000 원\n"
     ]
    }
   ],
   "source": [
    "a= input(\"품목?\") #문자형으로 입력됨\n",
    "b=int(input(\"수량?\")) #문자형 입력을 숫자형으로 변환\n",
    "c=int(input(\"단가?\")) #문자형 입력을 숫자형으로 변환\n",
    "print(a, \" : \",b,\"개 * \",c,\"원 = 총 \", b*c, \"원\") #순서에 따라 값을 대입하여 출력"
   ]
  },
  {
   "cell_type": "code",
   "execution_count": 32,
   "id": "10f35451",
   "metadata": {},
   "outputs": [],
   "source": [
    "a=1 # 변수 a에 1 대입 "
   ]
  },
  {
   "cell_type": "code",
   "execution_count": 33,
   "id": "96cda634",
   "metadata": {},
   "outputs": [
    {
     "name": "stdout",
     "output_type": "stream",
     "text": [
      "1\n"
     ]
    }
   ],
   "source": [
    "print(a) # a에 저장된 값은 1"
   ]
  },
  {
   "cell_type": "code",
   "execution_count": 34,
   "id": "6ac28c58",
   "metadata": {},
   "outputs": [],
   "source": [
    "a=2  # 변수 a에 2 대입 "
   ]
  },
  {
   "cell_type": "code",
   "execution_count": 35,
   "id": "8b0bd423",
   "metadata": {},
   "outputs": [
    {
     "name": "stdout",
     "output_type": "stream",
     "text": [
      "2\n"
     ]
    }
   ],
   "source": [
    "print(a) #최종적으로 a에 저장된 값은 2"
   ]
  },
  {
   "cell_type": "code",
   "execution_count": 36,
   "id": "0f8b03e7",
   "metadata": {},
   "outputs": [],
   "source": [
    "b=3 # 변수 b에 3 대입 "
   ]
  },
  {
   "cell_type": "code",
   "execution_count": 37,
   "id": "e7e266a1",
   "metadata": {},
   "outputs": [
    {
     "name": "stdout",
     "output_type": "stream",
     "text": [
      "3\n"
     ]
    }
   ],
   "source": [
    "print(b) # b 출력"
   ]
  },
  {
   "cell_type": "code",
   "execution_count": 38,
   "id": "73ce54da",
   "metadata": {},
   "outputs": [
    {
     "name": "stdout",
     "output_type": "stream",
     "text": [
      "2\n"
     ]
    }
   ],
   "source": [
    "print(a) #앞에서 a에 2가 저장되어 있음"
   ]
  },
  {
   "cell_type": "code",
   "execution_count": 39,
   "id": "b4037dab",
   "metadata": {},
   "outputs": [
    {
     "name": "stdout",
     "output_type": "stream",
     "text": [
      "1122\n"
     ]
    },
    {
     "data": {
      "text/plain": [
       "int"
      ]
     },
     "execution_count": 39,
     "metadata": {},
     "output_type": "execute_result"
    }
   ],
   "source": [
    "a=1122;print(a);type(a) # a에 1122 대입, 출력, 변수의 형태 나타냄"
   ]
  },
  {
   "cell_type": "code",
   "execution_count": 42,
   "id": "29324ee1",
   "metadata": {},
   "outputs": [
    {
     "name": "stdout",
     "output_type": "stream",
     "text": [
      "hello\n"
     ]
    },
    {
     "data": {
      "text/plain": [
       "str"
      ]
     },
     "execution_count": 42,
     "metadata": {},
     "output_type": "execute_result"
    }
   ],
   "source": [
    "b=\"hello\";print(b);type(b) # b에 문자 대입, 출력, 변수의 형태 나타냄"
   ]
  },
  {
   "cell_type": "code",
   "execution_count": 45,
   "id": "d5f117d7",
   "metadata": {},
   "outputs": [],
   "source": [
    "b=12 # b에 12 대입"
   ]
  },
  {
   "cell_type": "code",
   "execution_count": 46,
   "id": "4da4d838",
   "metadata": {},
   "outputs": [
    {
     "data": {
      "text/plain": [
       "int"
      ]
     },
     "execution_count": 46,
     "metadata": {},
     "output_type": "execute_result"
    }
   ],
   "source": [
    "type(b) # 변수의 형태 나타냄"
   ]
  },
  {
   "cell_type": "code",
   "execution_count": 53,
   "id": "8ef307f6",
   "metadata": {},
   "outputs": [
    {
     "name": "stdout",
     "output_type": "stream",
     "text": [
      "1122\n"
     ]
    },
    {
     "data": {
      "text/plain": [
       "int"
      ]
     },
     "execution_count": 53,
     "metadata": {},
     "output_type": "execute_result"
    }
   ],
   "source": [
    "a=1122;print(a);type(a) # a에 1122 대입, 출력, 변수의 형태 나타냄"
   ]
  },
  {
   "cell_type": "code",
   "execution_count": 54,
   "id": "39020e59",
   "metadata": {},
   "outputs": [
    {
     "name": "stdout",
     "output_type": "stream",
     "text": [
      "11\n"
     ]
    }
   ],
   "source": [
    "a=11;print(a) # a에 11 대입, 출력"
   ]
  },
  {
   "cell_type": "code",
   "execution_count": 55,
   "id": "064a16d8",
   "metadata": {},
   "outputs": [],
   "source": [
    "del a # del로 변수의 메모리 공간을 반환 "
   ]
  },
  {
   "cell_type": "code",
   "execution_count": 56,
   "id": "74d3762e",
   "metadata": {},
   "outputs": [
    {
     "ename": "NameError",
     "evalue": "name 'a' is not defined",
     "output_type": "error",
     "traceback": [
      "\u001b[1;31m---------------------------------------------------------------------------\u001b[0m",
      "\u001b[1;31mNameError\u001b[0m                                 Traceback (most recent call last)",
      "Cell \u001b[1;32mIn[56], line 1\u001b[0m\n\u001b[1;32m----> 1\u001b[0m \u001b[38;5;28mprint\u001b[39m(\u001b[43ma\u001b[49m)\n",
      "\u001b[1;31mNameError\u001b[0m: name 'a' is not defined"
     ]
    }
   ],
   "source": [
    "print(a) # a 출력 -> 비워줬기 때문에 error"
   ]
  },
  {
   "cell_type": "code",
   "execution_count": 59,
   "id": "e7fc295b",
   "metadata": {},
   "outputs": [
    {
     "name": "stdout",
     "output_type": "stream",
     "text": [
      "\n",
      "Welcome to Python 3.8's help utility!\n",
      "\n",
      "If this is your first time using Python, you should definitely check out\n",
      "the tutorial on the Internet at https://docs.python.org/3.8/tutorial/.\n",
      "\n",
      "Enter the name of any module, keyword, or topic to get help on writing\n",
      "Python programs and using Python modules.  To quit this help utility and\n",
      "return to the interpreter, just type \"quit\".\n",
      "\n",
      "To get a list of available modules, keywords, symbols, or topics, type\n",
      "\"modules\", \"keywords\", \"symbols\", or \"topics\".  Each module also comes\n",
      "with a one-line summary of what it does; to list the modules whose name\n",
      "or summary contain a given string such as \"spam\", type \"modules spam\".\n",
      "\n",
      "help> keyword\n",
      "Help on module keyword:\n",
      "\n",
      "NAME\n",
      "    keyword - Keywords (from \"Grammar/Grammar\")\n",
      "\n",
      "MODULE REFERENCE\n",
      "    https://docs.python.org/3.8/library/keyword\n",
      "    \n",
      "    The following documentation is automatically generated from the Python\n",
      "    source files.  It may be incomplete, incorrect or include features that\n",
      "    are considered implementation detail and may vary between Python\n",
      "    implementations.  When in doubt, consult the module reference at the\n",
      "    location listed above.\n",
      "\n",
      "DESCRIPTION\n",
      "    This file is automatically generated; please don't muck it up!\n",
      "    \n",
      "    To update the symbols in this file, 'cd' to the top directory of\n",
      "    the python source tree and run:\n",
      "    \n",
      "        python3 -m Parser.pgen.keywordgen Grammar/Grammar                                       Grammar/Tokens                                       Lib/keyword.py\n",
      "    \n",
      "    Alternatively, you can run 'make regen-keyword'.\n",
      "\n",
      "FUNCTIONS\n",
      "    iskeyword = __contains__(...) method of builtins.frozenset instance\n",
      "        x.__contains__(y) <==> y in x.\n",
      "\n",
      "DATA\n",
      "    __all__ = ['iskeyword', 'kwlist']\n",
      "    kwlist = ['False', 'None', 'True', 'and', 'as', 'assert', 'async', 'aw...\n",
      "\n",
      "FILE\n",
      "    c:\\users\\yeeyi\\appdata\\local\\programs\\python\\python38\\lib\\keyword.py\n",
      "\n",
      "\n",
      "help> keywords\n",
      "\n",
      "Here is a list of the Python keywords.  Enter any keyword to get more help.\n",
      "\n",
      "False               class               from                or\n",
      "None                continue            global              pass\n",
      "True                def                 if                  raise\n",
      "and                 del                 import              return\n",
      "as                  elif                in                  try\n",
      "assert              else                is                  while\n",
      "async               except              lambda              with\n",
      "await               finally             nonlocal            yield\n",
      "break               for                 not                 \n",
      "\n",
      "\n",
      "You are now leaving help and returning to the Python interpreter.\n",
      "If you want to ask for help on a particular object directly from the\n",
      "interpreter, you can type \"help(object)\".  Executing \"help('string')\"\n",
      "has the same effect as typing a particular string at the help> prompt.\n"
     ]
    }
   ],
   "source": [
    "help()"
   ]
  },
  {
   "cell_type": "code",
   "execution_count": 60,
   "id": "f72310d1",
   "metadata": {},
   "outputs": [
    {
     "name": "stdout",
     "output_type": "stream",
     "text": [
      "\n",
      "Welcome to Python 3.8's help utility!\n",
      "\n",
      "If this is your first time using Python, you should definitely check out\n",
      "the tutorial on the Internet at https://docs.python.org/3.8/tutorial/.\n",
      "\n",
      "Enter the name of any module, keyword, or topic to get help on writing\n",
      "Python programs and using Python modules.  To quit this help utility and\n",
      "return to the interpreter, just type \"quit\".\n",
      "\n",
      "To get a list of available modules, keywords, symbols, or topics, type\n",
      "\"modules\", \"keywords\", \"symbols\", or \"topics\".  Each module also comes\n",
      "with a one-line summary of what it does; to list the modules whose name\n",
      "or summary contain a given string such as \"spam\", type \"modules spam\".\n",
      "\n",
      "\n",
      "You are now leaving help and returning to the Python interpreter.\n",
      "If you want to ask for help on a particular object directly from the\n",
      "interpreter, you can type \"help(object)\".  Executing \"help('string')\"\n",
      "has the same effect as typing a particular string at the help> prompt.\n"
     ]
    }
   ],
   "source": []
  },
  {
   "cell_type": "code",
   "execution_count": 61,
   "id": "0b4de29d",
   "metadata": {},
   "outputs": [
    {
     "name": "stdout",
     "output_type": "stream",
     "text": [
      "100000\n"
     ]
    }
   ],
   "source": [
    "net = 100 ; qty = 1000; total =net * qty ;print (total) #변수명을 알기쉽게 작성"
   ]
  },
  {
   "cell_type": "code",
   "execution_count": 62,
   "id": "54cd956a",
   "metadata": {},
   "outputs": [
    {
     "name": "stdout",
     "output_type": "stream",
     "text": [
      "100000\n"
     ]
    }
   ],
   "source": [
    "단가=100; 수량 =1000; 총합= 단가 * 수량; print (총합) #관습적으로 이렇게는 사용 안 함"
   ]
  },
  {
   "cell_type": "code",
   "execution_count": 1,
   "id": "a46a8157",
   "metadata": {},
   "outputs": [
    {
     "data": {
      "text/plain": [
       "3"
      ]
     },
     "execution_count": 1,
     "metadata": {},
     "output_type": "execute_result"
    }
   ],
   "source": [
    "1+2 # 덧셈의 연산"
   ]
  },
  {
   "cell_type": "code",
   "execution_count": 2,
   "id": "834baf3d",
   "metadata": {},
   "outputs": [
    {
     "data": {
      "text/plain": [
       "3"
      ]
     },
     "execution_count": 2,
     "metadata": {},
     "output_type": "execute_result"
    }
   ],
   "source": [
    " 1+2 # 주피터에서는 첫칸을 비워도 됨"
   ]
  },
  {
   "cell_type": "code",
   "execution_count": null,
   "id": "4f513ebb",
   "metadata": {},
   "outputs": [],
   "source": []
  }
 ],
 "metadata": {
  "kernelspec": {
   "display_name": "Python 3 (ipykernel)",
   "language": "python",
   "name": "python3"
  },
  "language_info": {
   "codemirror_mode": {
    "name": "ipython",
    "version": 3
   },
   "file_extension": ".py",
   "mimetype": "text/x-python",
   "name": "python",
   "nbconvert_exporter": "python",
   "pygments_lexer": "ipython3",
   "version": "3.8.8rc1"
  }
 },
 "nbformat": 4,
 "nbformat_minor": 5
}
