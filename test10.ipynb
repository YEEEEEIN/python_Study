{
 "cells": [
  {
   "cell_type": "code",
   "execution_count": 1,
   "id": "3b882c56",
   "metadata": {},
   "outputs": [],
   "source": [
    "a=\"abcde\" # 변수 a에 문자열 저장"
   ]
  },
  {
   "cell_type": "code",
   "execution_count": 2,
   "id": "6f348e9f",
   "metadata": {},
   "outputs": [
    {
     "data": {
      "text/plain": [
       "('a', 'b', 'c', 'd', 'e')"
      ]
     },
     "execution_count": 2,
     "metadata": {},
     "output_type": "execute_result"
    }
   ],
   "source": [
    "a[0],a[1],a[2],a[3],a[4] # 변수 a의 각각의 자리 출력"
   ]
  },
  {
   "cell_type": "code",
   "execution_count": 3,
   "id": "aaff68f7",
   "metadata": {},
   "outputs": [
    {
     "data": {
      "text/plain": [
       "('e', 'c', 'c', 'b', 'a')"
      ]
     },
     "execution_count": 3,
     "metadata": {},
     "output_type": "execute_result"
    }
   ],
   "source": [
    "a[-1],a[2],a[-3],a[-4],a[-5] # 문자열 끝부터 -1이고 점점 작아짐"
   ]
  },
  {
   "cell_type": "code",
   "execution_count": 4,
   "id": "466f8071",
   "metadata": {},
   "outputs": [],
   "source": [
    "a=\"가나다라마\" # 변수 a에 문자열 저장"
   ]
  },
  {
   "cell_type": "code",
   "execution_count": 5,
   "id": "ff6a4ffb",
   "metadata": {},
   "outputs": [
    {
     "data": {
      "text/plain": [
       "('가', '나', '다', '라', '마')"
      ]
     },
     "execution_count": 5,
     "metadata": {},
     "output_type": "execute_result"
    }
   ],
   "source": [
    "a[0],a[1],a[2],a[3],a[4] # 변수 a의 각각의 자리 출력"
   ]
  },
  {
   "cell_type": "code",
   "execution_count": 6,
   "id": "5c9c2893",
   "metadata": {},
   "outputs": [],
   "source": [
    "a=\"abcde\" # 변수 a에 문자열 저장"
   ]
  },
  {
   "cell_type": "code",
   "execution_count": 7,
   "id": "e6106856",
   "metadata": {},
   "outputs": [
    {
     "data": {
      "text/plain": [
       "'bcde'"
      ]
     },
     "execution_count": 7,
     "metadata": {},
     "output_type": "execute_result"
    }
   ],
   "source": [
    "a[1:5] # a의 1~4번쨰 자리까지 출력"
   ]
  },
  {
   "cell_type": "code",
   "execution_count": 8,
   "id": "cb341d79",
   "metadata": {},
   "outputs": [
    {
     "data": {
      "text/plain": [
       "'b'"
      ]
     },
     "execution_count": 8,
     "metadata": {},
     "output_type": "execute_result"
    }
   ],
   "source": [
    "a[1:2]# a의 1번쨰 자리 출력"
   ]
  },
  {
   "cell_type": "code",
   "execution_count": 9,
   "id": "e05e3ea8",
   "metadata": {},
   "outputs": [
    {
     "data": {
      "text/plain": [
       "'abcde'"
      ]
     },
     "execution_count": 9,
     "metadata": {},
     "output_type": "execute_result"
    }
   ],
   "source": [
    "a[:6] # a의 0~5번쨰 자리까지 출력"
   ]
  },
  {
   "cell_type": "code",
   "execution_count": 10,
   "id": "e792af75",
   "metadata": {},
   "outputs": [
    {
     "data": {
      "text/plain": [
       "'de'"
      ]
     },
     "execution_count": 10,
     "metadata": {},
     "output_type": "execute_result"
    }
   ],
   "source": [
    "a[3:] # a의 3번째 자리부터 끝까지 출력"
   ]
  },
  {
   "cell_type": "code",
   "execution_count": 11,
   "id": "5b372b2f",
   "metadata": {},
   "outputs": [
    {
     "data": {
      "text/plain": [
       "'c'"
      ]
     },
     "execution_count": 11,
     "metadata": {},
     "output_type": "execute_result"
    }
   ],
   "source": [
    "a[2:-2] # a의 2번쨰 자리 출력"
   ]
  },
  {
   "cell_type": "code",
   "execution_count": 12,
   "id": "c08266a6",
   "metadata": {},
   "outputs": [
    {
     "data": {
      "text/plain": [
       "''"
      ]
     },
     "execution_count": 12,
     "metadata": {},
     "output_type": "execute_result"
    }
   ],
   "source": [
    "a[2:-3] # a의 2~1번쨰 자리까지 출력 => 없음"
   ]
  },
  {
   "cell_type": "code",
   "execution_count": 13,
   "id": "34f4f7ef",
   "metadata": {},
   "outputs": [
    {
     "data": {
      "text/plain": [
       "'bcd'"
      ]
     },
     "execution_count": 13,
     "metadata": {},
     "output_type": "execute_result"
    }
   ],
   "source": [
    "a[1:-1] # a의 1~3번쨰 자리까지 출력"
   ]
  },
  {
   "cell_type": "code",
   "execution_count": 15,
   "id": "68d007df",
   "metadata": {},
   "outputs": [
    {
     "data": {
      "text/plain": [
       "(1, 14)"
      ]
     },
     "execution_count": 15,
     "metadata": {},
     "output_type": "execute_result"
    }
   ],
   "source": [
    ">>> a=\"abcdefghijklmabcdefgh\"\n",
    ">>> a.find(\"f\") #앞에서 부터 찾음, 찾은 값의 인덱스임\n",
    ">>> a.rfind(\"f\") #뒤에서 부터 찾음\n",
    ">>> a.find(\"i\"),a.rfind(\"i\") #만일 찾는 문자가 하나라면 결과는 동일\n",
    ">>> a.index(\"b\"),a.rindex(\"b\") #index함수도 결과는 동일"
   ]
  },
  {
   "cell_type": "code",
   "execution_count": 16,
   "id": "9e6fbe69",
   "metadata": {},
   "outputs": [],
   "source": [
    "a=\"abcdefghijklmabcdefgh\" # 변수 a에 문자열 저장"
   ]
  },
  {
   "cell_type": "code",
   "execution_count": 17,
   "id": "1411890c",
   "metadata": {},
   "outputs": [
    {
     "data": {
      "text/plain": [
       "5"
      ]
     },
     "execution_count": 17,
     "metadata": {},
     "output_type": "execute_result"
    }
   ],
   "source": [
    "a.find(\"f\") #앞에서 부터 찾음, 찾은 값의 인덱스임"
   ]
  },
  {
   "cell_type": "code",
   "execution_count": 18,
   "id": "4576cc45",
   "metadata": {},
   "outputs": [
    {
     "data": {
      "text/plain": [
       "18"
      ]
     },
     "execution_count": 18,
     "metadata": {},
     "output_type": "execute_result"
    }
   ],
   "source": [
    "a.rfind(\"f\") #뒤에서 부터 찾음"
   ]
  },
  {
   "cell_type": "code",
   "execution_count": 19,
   "id": "b3e5fb3c",
   "metadata": {},
   "outputs": [
    {
     "data": {
      "text/plain": [
       "(8, 8)"
      ]
     },
     "execution_count": 19,
     "metadata": {},
     "output_type": "execute_result"
    }
   ],
   "source": [
    "a.find(\"i\"),a.rfind(\"i\") #만일 찾는 문자가 하나라면 결과는 동일"
   ]
  },
  {
   "cell_type": "code",
   "execution_count": 20,
   "id": "1bc896f3",
   "metadata": {},
   "outputs": [
    {
     "data": {
      "text/plain": [
       "(1, 14)"
      ]
     },
     "execution_count": 20,
     "metadata": {},
     "output_type": "execute_result"
    }
   ],
   "source": [
    "a.index(\"b\"),a.rindex(\"b\") #index함수도 결과는 동일"
   ]
  },
  {
   "cell_type": "code",
   "execution_count": 21,
   "id": "ef03f12a",
   "metadata": {},
   "outputs": [
    {
     "ename": "ValueError",
     "evalue": "substring not found",
     "output_type": "error",
     "traceback": [
      "\u001b[1;31m---------------------------------------------------------------------------\u001b[0m",
      "\u001b[1;31mValueError\u001b[0m                                Traceback (most recent call last)",
      "Cell \u001b[1;32mIn[21], line 1\u001b[0m\n\u001b[1;32m----> 1\u001b[0m \u001b[43ma\u001b[49m\u001b[38;5;241;43m.\u001b[39;49m\u001b[43mrindex\u001b[49m\u001b[43m(\u001b[49m\u001b[38;5;124;43m\"\u001b[39;49m\u001b[38;5;124;43mz\u001b[39;49m\u001b[38;5;124;43m\"\u001b[39;49m\u001b[43m)\u001b[49m \u001b[38;5;66;03m#하지만 찾는 문자가 없으면 에러발생\u001b[39;00m\n",
      "\u001b[1;31mValueError\u001b[0m: substring not found"
     ]
    }
   ],
   "source": [
    "a.rindex(\"z\") #하지만 찾는 문자가 없으면 에러발생"
   ]
  },
  {
   "cell_type": "code",
   "execution_count": 22,
   "id": "8ee5a5f3",
   "metadata": {},
   "outputs": [
    {
     "data": {
      "text/plain": [
       "2"
      ]
     },
     "execution_count": 22,
     "metadata": {},
     "output_type": "execute_result"
    }
   ],
   "source": [
    "a.count(\"f\") #해당 문자의 개수를 반환"
   ]
  },
  {
   "cell_type": "code",
   "execution_count": 23,
   "id": "283ea560",
   "metadata": {},
   "outputs": [
    {
     "data": {
      "text/plain": [
       "13"
      ]
     },
     "execution_count": 23,
     "metadata": {},
     "output_type": "execute_result"
    }
   ],
   "source": [
    "a.rfind(\"abc\") #문자열을 넣어도 됨"
   ]
  },
  {
   "cell_type": "code",
   "execution_count": 24,
   "id": "725f1041",
   "metadata": {},
   "outputs": [],
   "source": [
    "a=\"abcdfegabcdfeg\" # 변수 a에 문자열 저장"
   ]
  },
  {
   "cell_type": "code",
   "execution_count": 25,
   "id": "7f2a2bfa",
   "metadata": {},
   "outputs": [
    {
     "name": "stdout",
     "output_type": "stream",
     "text": [
      "a가 들어 있음\n"
     ]
    }
   ],
   "source": [
    "if a.find(\"f\") > 0: #만일 찾는 문자가 0개 이상이면\n",
    "    print (\"a가 들어 있음\") # 출력"
   ]
  },
  {
   "cell_type": "code",
   "execution_count": 26,
   "id": "0b2d087b",
   "metadata": {},
   "outputs": [
    {
     "name": "stdout",
     "output_type": "stream",
     "text": [
      "a가 들어 있음\n"
     ]
    }
   ],
   "source": [
    "if \"f\" in a : #만일 \"f\"가 a안에 있다면..으로 자연적 영어표현\n",
    "    print (\"a가 들어 있음\") # 출력"
   ]
  },
  {
   "cell_type": "code",
   "execution_count": 27,
   "id": "b49f6a5e",
   "metadata": {},
   "outputs": [],
   "source": [
    "a=\"abcDefGh\" # 변수 a에 문자열 저장"
   ]
  },
  {
   "cell_type": "code",
   "execution_count": 28,
   "id": "d002d5f6",
   "metadata": {},
   "outputs": [
    {
     "data": {
      "text/plain": [
       "'ABCDEFGH'"
      ]
     },
     "execution_count": 28,
     "metadata": {},
     "output_type": "execute_result"
    }
   ],
   "source": [
    "a.upper() # 대문자로 바꿈"
   ]
  },
  {
   "cell_type": "code",
   "execution_count": 29,
   "id": "839b3924",
   "metadata": {},
   "outputs": [],
   "source": [
    "a=\"abcDefGh\" # 변수 a에 문자열 저장"
   ]
  },
  {
   "cell_type": "code",
   "execution_count": 30,
   "id": "0834ad15",
   "metadata": {},
   "outputs": [
    {
     "data": {
      "text/plain": [
       "'abcdefgh'"
      ]
     },
     "execution_count": 30,
     "metadata": {},
     "output_type": "execute_result"
    }
   ],
   "source": [
    "a.lower() # 소문자로 바꿈"
   ]
  },
  {
   "cell_type": "code",
   "execution_count": 31,
   "id": "b5ccab51",
   "metadata": {},
   "outputs": [],
   "source": [
    "a=\" abc def hij \" # 변수 a에 문자열 저장"
   ]
  },
  {
   "cell_type": "code",
   "execution_count": 32,
   "id": "061d9c00",
   "metadata": {},
   "outputs": [
    {
     "data": {
      "text/plain": [
       "'abc def hij '"
      ]
     },
     "execution_count": 32,
     "metadata": {},
     "output_type": "execute_result"
    }
   ],
   "source": [
    "a.lstrip() # 문자열 왼쪽 끝의 모든 공백을 지움 "
   ]
  },
  {
   "cell_type": "code",
   "execution_count": 33,
   "id": "5a60bc54",
   "metadata": {},
   "outputs": [],
   "source": [
    "a=\" abc def hij \" # 변수 a에 문자열 저장"
   ]
  },
  {
   "cell_type": "code",
   "execution_count": 34,
   "id": "ee914e2f",
   "metadata": {},
   "outputs": [
    {
     "data": {
      "text/plain": [
       "' abc def hij'"
      ]
     },
     "execution_count": 34,
     "metadata": {},
     "output_type": "execute_result"
    }
   ],
   "source": [
    "a.rstrip() # 문자열 오른쪽 끝의 모든 공백을 지움 "
   ]
  },
  {
   "cell_type": "code",
   "execution_count": 35,
   "id": "f71842d7",
   "metadata": {},
   "outputs": [],
   "source": [
    "a=\" abc def hij \" # 변수 a에 문자열 저장"
   ]
  },
  {
   "cell_type": "code",
   "execution_count": 36,
   "id": "94af01f1",
   "metadata": {},
   "outputs": [
    {
     "data": {
      "text/plain": [
       "'abc def hij'"
      ]
     },
     "execution_count": 36,
     "metadata": {},
     "output_type": "execute_result"
    }
   ],
   "source": [
    "a.strip() # 문자열 왼쪽 끝과 오른쪽 끝의 모든 공백을 지움 "
   ]
  },
  {
   "cell_type": "code",
   "execution_count": 37,
   "id": "fe01dd70",
   "metadata": {},
   "outputs": [],
   "source": [
    "a=\" abc def hij \" # 변수 a에 문자열 저장"
   ]
  },
  {
   "cell_type": "code",
   "execution_count": 38,
   "id": "0c71aca9",
   "metadata": {},
   "outputs": [
    {
     "data": {
      "text/plain": [
       "'abcdefhij'"
      ]
     },
     "execution_count": 38,
     "metadata": {},
     "output_type": "execute_result"
    }
   ],
   "source": [
    "a.replace(\" \",\"\") # 이와 같은 표현은 모든 공백을 지움 "
   ]
  },
  {
   "cell_type": "code",
   "execution_count": 39,
   "id": "d304bb67",
   "metadata": {},
   "outputs": [],
   "source": [
    "rec=\"홍길동,100,95,88\""
   ]
  },
  {
   "cell_type": "code",
   "execution_count": 40,
   "id": "bac4fcf8",
   "metadata": {},
   "outputs": [
    {
     "name": "stdout",
     "output_type": "stream",
     "text": [
      "==========\n",
      "이름:  홍길동\n",
      "국어:  100\n",
      "영어:  95\n",
      "수학:  88\n",
      "==========\n"
     ]
    }
   ],
   "source": [
    "rec = \"홍길동,100,95,88\"  # 문자열 rec를 정의합니다.\n",
    "\n",
    "item = rec.split(\",\")  # rec 문자열을 ,로 분리하여 리스트로 만드는 코드입니다.\n",
    "print(\"=\" * 10)  # = 문자를 10번 반복하여 출력하는 코드입니다.\n",
    "print(\"이름: \", item[0])  # 리스트 item의 첫 번째 요소를 출력하는 코드입니다.\n",
    "print(\"국어: \", item[1])  # 리스트 item의 두 번째 요소를 출력하는 코드입니다.\n",
    "print(\"영어: \", item[2])  # 리스트 item의 세 번째 요소를 출력하는 코드입니다.\n",
    "print(\"수학: \", item[3])  # 리스트 item의 네 번째 요소를 출력하는 코드입니다.\n",
    "print(\"=\" * 10)  # = 문자를 10번 반복하여 출력하는 코드입니다.\n"
   ]
  },
  {
   "cell_type": "code",
   "execution_count": 42,
   "id": "b6d15847",
   "metadata": {},
   "outputs": [
    {
     "name": "stdout",
     "output_type": "stream",
     "text": [
      "==========\n",
      "0 ==> 본\n",
      "1 ==> 예제는\n",
      "2 ==> 빈칸으로\n",
      "3 ==> 구분되어\n",
      "4 ==> 있는\n",
      "5 ==> 한\n",
      "6 ==> 줄의\n",
      "7 ==> 데이터를\n",
      "8 ==> 빈칸을\n",
      "9 ==> \n",
      "10 ==> \n",
      "11 ==> \n",
      "12 ==> \n",
      "13 ==> \n",
      "14 ==> 구분하여\n",
      "15 ==> 나누어\n",
      "16 ==> 줌\n",
      "==========\n"
     ]
    }
   ],
   "source": [
    "rec=\"본 예제는 빈칸으로 구분되어 있는 한 줄의 데이터를 빈칸을      구분하여 나누어 줌\" # 띄어쓰기를 포함한 문자열\n",
    "item=rec.split(\" \") #  띄어쓰기를 구분자로 사용하여 분리한 후, item 리스트에 저장\n",
    "\n",
    "print(\"=\"*10) # 출력 전 구분선을 출력\n",
    "i=0 # i 초기갑 설정\n",
    "for s in item: # 반복문을 이용하여 item 리스트의 각 요소를 탐색하면서 \n",
    "    print(i,\"==>\", s) # 순서와 함께 출력합\n",
    "    i+=1 # i 1씩 증가\n",
    "print(\"=\"*10)  # 출력 후 구분선을 출력"
   ]
  },
  {
   "cell_type": "code",
   "execution_count": 43,
   "id": "a895a29b",
   "metadata": {},
   "outputs": [
    {
     "name": "stdout",
     "output_type": "stream",
     "text": [
      "[['나연', 100, 90, 100], ['정연', 90, 90, 100], ['모모', 80, 70, 90], ['사나', 90, 90, 80], ['지효', 100, 80, 80], ['미나', 50, 90, 90], ['다현', 80, 60, 100], ['채영', 70, 80, 90], ['쯔위', 100, 90, 90]]\n"
     ]
    }
   ],
   "source": [
    "dili_score=[\"나연,100,90,100\", # 이름, 국어점수, 영어점수, 수학점수 값 \n",
    "\"정연,90,90,100\", # 이름, 국어점수, 영어점수, 수학점수 값 \n",
    "\"모모,80,70,90\", # 이름, 국어점수, 영어점수, 수학점수 값 \n",
    "\"사나,90,90,80\", # 이름, 국어점수, 영어점수, 수학점수 값 \n",
    "\"지효,100,80,80\", # 이름, 국어점수, 영어점수, 수학점수 값 \n",
    "\"미나,50,90,90\", # 이름, 국어점수, 영어점수, 수학점수 값 \n",
    "\"다현,80,60,100\", # 이름, 국어점수, 영어점수, 수학점수 값 \n",
    "\"채영,70,80,90\", # 이름, 국어점수, 영어점수, 수학점수 값 \n",
    "\"쯔위,100,90,90\"] # 이름, 국어점수, 영어점수, 수학점수 값 \n",
    "\n",
    "score=[] # 리스트 설정 \n",
    "for one_rec in dili_score: # 리스트의 값을 하나씩 할당\n",
    "    one_score=one_rec.split(\",\") # 콤마 구분자로 나누어서 할당\n",
    "    one_score[1]=int(one_score[1]) #국어점수 숫자형 변환\n",
    "    one_score[2]=int(one_score[2]) #영어점수 숫자형 변환\n",
    "    one_score[3]=int(one_score[3]) #수학점수 숫자형 변환\n",
    "    score.append(one_score.copy()) # copy에 주의할 것..값 복사\n",
    "    \n",
    "print(score) # 출력\n"
   ]
  },
  {
   "cell_type": "code",
   "execution_count": 44,
   "id": "bed5016b",
   "metadata": {},
   "outputs": [
    {
     "name": "stdout",
     "output_type": "stream",
     "text": [
      "case1\n",
      "품목: 오징어땅콩  단가: 1000 원 수량: 10 개 합계: 10000 원\n",
      "case2\n",
      "품목:오징어땅콩 단가:1000원 수량:10개 합계:10000원\n",
      "case3\n",
      "품목:오징어땅콩 단가:1000원 수량:10개 합계:10000원\n",
      "case4\n",
      "품목:오징어땅콩      단가:01000원  수량:0x0a개 합계: 10000.000원\n"
     ]
    }
   ],
   "source": [
    "item=\"오징어땅콩\" #품목\n",
    "unit=1000 #단가\n",
    "qty=10 #수량\n",
    "tot=unit*qty #합계\n",
    "\n",
    "print(\"case1\") #지금까지 사용한 print방법, 칸이 띄어서 출력\n",
    "print(\"품목:\",item,\" 단가:\",unit,\"원 수량:\",qty,\"개 합계:\",tot,\"원\") # 출력\n",
    "\n",
    "print(\"case2\") #하나의 긴 문자열을 만들어 출력하면 공백없이 출력이 가능\n",
    "print(\"품목:\"+item+\" 단가:\"+str(unit)+\"원 수량:\"+str(qty)+\"개 합계:\"+str(tot)+\"원\") # 출력\n",
    "\n",
    "print(\"case3\") #출력포멧문자를 지정하여 원하는 포멧으로 출력이 가능\n",
    "print(\"품목:%s 단가:%d원 수량:%d개 합계:%d원\"%(item,unit,qty,tot)) # 출력\n",
    "\n",
    "print(\"case4\") #포멧팅 예\n",
    "print(\"품목:%-10s 단가:%05d원  수량:0x%02x개 합계:%10.3f원\"%(item,unit,qty,tot)) # 소숫점 단위를 지정해서 출력"
   ]
  },
  {
   "cell_type": "code",
   "execution_count": 46,
   "id": "8d5d0b0e",
   "metadata": {},
   "outputs": [
    {
     "name": "stdout",
     "output_type": "stream",
     "text": [
      "[ 1000][1000 ][01000]\n",
      "[   땅콩][땅콩   ][   땅콩]\n",
      "[1000]=[3e8][0x3e8][1750]\n",
      "[ 1000%]\n",
      "[a][b][c]\n"
     ]
    }
   ],
   "source": [
    "item=\"땅콩\" #문자\n",
    "unit=1000 #숫자\n",
    "\n",
    "# 숫자 출력 예제\n",
    "# %d: 10진수, %x: 16진수, %#x: 16진수(앞에 0x를 붙임), %o: 8진수\n",
    "# %5d: 5칸을 확보하고 오른쪽 정렬, %-5d: 5칸을 확보하고 왼쪽 정렬, %05d: 5칸을 확보하고 0으로 채우기\n",
    "print(\"[%5d][%-5d][%05d]\"%(unit,unit,unit)) \n",
    "\n",
    "# 문자 출력 예제\n",
    "# %s: 문자열\n",
    "print(\"[%5s][%-5s][%05s]\"%(item,item,item))\n",
    "\n",
    "# 숫자 출력 예제 2\n",
    "# %d: 10진수, %x: 16진수, %#x: 16진수(앞에 0x를 붙임), %o: 8진수\n",
    "# =: 대입연산자, []: 출력 폭 지정\n",
    "print(\"[%d]=[%x][%#x][%o]\"%(unit,unit,unit,unit))\n",
    "\n",
    "# %: %를 출력하기 위해서는 %%를 사용\n",
    "print(\"[%5d%%]\"%unit)\n",
    "\n",
    "# 문자열에서 각 글자 출력\n",
    "a=\"abcd\"\n",
    "print(\"[%c][%c][%c]\"%(a[0],a[1],a[2]))"
   ]
  },
  {
   "cell_type": "code",
   "execution_count": 47,
   "id": "3f95f099",
   "metadata": {},
   "outputs": [
    {
     "name": "stdout",
     "output_type": "stream",
     "text": [
      "-1,234,567,890.123\n"
     ]
    }
   ],
   "source": [
    "import locale #locale라이브러리를 임포트 함, 설치는 필요없음\n",
    "locale.setlocale(locale.LC_ALL, \"\") # 시스템 기본 로케일 사용\n",
    "n = -1234567890.123 # 변수 n에 값 대입\n",
    "s = locale.format_string(\"%.3f\", n, 1) # 3자리마다 콤마 찍어서 s에 저장\n",
    "print(s) # 출력"
   ]
  },
  {
   "cell_type": "code",
   "execution_count": 49,
   "id": "cdc5a413",
   "metadata": {},
   "outputs": [
    {
     "name": "stdout",
     "output_type": "stream",
     "text": [
      "***************************************************\n",
      "총금액:    1,000,000원 \t달러환율: $1,010       \n",
      "지급달러: $988         \n",
      "거스름돈:      5원 \t은행수수료:  1,996원\n",
      "***************************************************\n"
     ]
    }
   ],
   "source": [
    "import locale #locale라이브러리를 임포트 함, 설치는 필요없음\n",
    "locale.setlocale(locale.LC_ALL, \"\") # 시스템 기본 로케일 사용\n",
    "\n",
    "myWon=1000000 #100만원\n",
    "moneyEx=1010.12 # 달러환율\n",
    "commission_rate=0.002 # 은행 수수료 율\n",
    "a = moneyEx + moneyEx*commission_rate #1달러당 환율금액 과 해당금액에 대한 수수료의 합\n",
    "usd = int (myWon /a) # 나의 돈을 위의 금액으로 나오면 소수점이 나오기 때문에\n",
    "                    # 해당 소수점을 버린다 즉 100만원에 989.99달러 나오면\n",
    "                    #989달러를 준다. 소수점 아래는 버린다\n",
    "remain = int(myWon - usd * a) # 거스름돈 계산 =100만원 - 달러액*(환율+달러당 수수료)\n",
    "                            # 소수점 아래는 버린다.\n",
    "commission = usd * moneyEx * commission_rate # 환전 수수료총액 계산,\n",
    "                                            #이 금액은 소수점이하 올림처리해 보자\n",
    "if(commission != float(int(commission))) : # 이 비교문은 소수점이 있는지 체크\n",
    "    commission = int(commission) +1 #소수점이 있다면 올려서 은행이 처리\n",
    "else:\n",
    "    commission = int(commission) #소수점 아래 숫자가 없다면 단순 정수형 처리\n",
    "\n",
    "print(\"***************************************************\") # 구분자 출력\n",
    "print(\"총금액: %s원 \\t달러환율: $%s\"%( \\ # 총금액, 달러환율 출력\n",
    "    locale.format_string(\"%12d\", myWon, 1), \\ # 공간 12만큼 주고 뒤부터 쓰기\n",
    "    locale.format_string(\"%-12d\", moneyEx, 1)) ) # 공간 12만큼 주고 앞부터 쓰기\n",
    "\n",
    "print(\"지급달러: $%s\"% locale.format_string(\"%-12d\", usd, 1)) # 지급달러 출력, 공간 12만큼 주고 앞부터 쓰기\n",
    "print(\"거스름돈: %s원 \\t은행수수료: %s원\"%( \\ # 거스름돈, 은행수수료 출력\n",
    "    locale.format_string(\"%6d\", remain, 1), \\ # 공간 6만큼 주고 뒤부터 쓰기\n",
    "    locale.format_string(\"%6d\", commission, 1)) ) # 공간 6만큼 주고 뒤부터 쓰기\n",
    "print(\"***************************************************\") # 구분자 출력"
   ]
  },
  {
   "cell_type": "code",
   "execution_count": null,
   "id": "60dc8041",
   "metadata": {},
   "outputs": [],
   "source": []
  }
 ],
 "metadata": {
  "kernelspec": {
   "display_name": "Python 3 (ipykernel)",
   "language": "python",
   "name": "python3"
  },
  "language_info": {
   "codemirror_mode": {
    "name": "ipython",
    "version": 3
   },
   "file_extension": ".py",
   "mimetype": "text/x-python",
   "name": "python",
   "nbconvert_exporter": "python",
   "pygments_lexer": "ipython3",
   "version": "3.8.8rc1"
  }
 },
 "nbformat": 4,
 "nbformat_minor": 5
}
