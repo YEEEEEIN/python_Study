{
 "cells": [
  {
   "cell_type": "code",
   "execution_count": 1,
   "id": "cb4ffc39",
   "metadata": {},
   "outputs": [],
   "source": [
    "a={\"이름\":\"홍길동\", \"국어\":100, \"영어\":88, \"수학\": 95} # dic_name[key]방식으로 사용"
   ]
  },
  {
   "cell_type": "code",
   "execution_count": 2,
   "id": "74eb1e12",
   "metadata": {},
   "outputs": [
    {
     "data": {
      "text/plain": [
       "95"
      ]
     },
     "execution_count": 2,
     "metadata": {},
     "output_type": "execute_result"
    }
   ],
   "source": [
    "a[\"수학\"] # a 변수의 수학(키)의 값 출력"
   ]
  },
  {
   "cell_type": "code",
   "execution_count": 3,
   "id": "59be9102",
   "metadata": {},
   "outputs": [
    {
     "data": {
      "text/plain": [
       "'홍길동'"
      ]
     },
     "execution_count": 3,
     "metadata": {},
     "output_type": "execute_result"
    }
   ],
   "source": [
    "a[\"이름\"] # a 변수의 이름(키)의 값 출력"
   ]
  },
  {
   "cell_type": "code",
   "execution_count": 4,
   "id": "f32fe1ca",
   "metadata": {},
   "outputs": [],
   "source": [
    "# keys(), values(), items()는 다음과 같음"
   ]
  },
  {
   "cell_type": "code",
   "execution_count": 5,
   "id": "0e0ef827",
   "metadata": {},
   "outputs": [
    {
     "data": {
      "text/plain": [
       "dict_keys(['이름', '국어', '영어', '수학'])"
      ]
     },
     "execution_count": 5,
     "metadata": {},
     "output_type": "execute_result"
    }
   ],
   "source": [
    "a.keys() # 변수 a의 key 값 출력"
   ]
  },
  {
   "cell_type": "code",
   "execution_count": 6,
   "id": "83eb7652",
   "metadata": {},
   "outputs": [
    {
     "data": {
      "text/plain": [
       "dict_values(['홍길동', 100, 88, 95])"
      ]
     },
     "execution_count": 6,
     "metadata": {},
     "output_type": "execute_result"
    }
   ],
   "source": [
    "a.values() # 변수 a의 value 값 출력"
   ]
  },
  {
   "cell_type": "code",
   "execution_count": 7,
   "id": "41ddf48f",
   "metadata": {},
   "outputs": [
    {
     "data": {
      "text/plain": [
       "dict_items([('이름', '홍길동'), ('국어', 100), ('영어', 88), ('수학', 95)])"
      ]
     },
     "execution_count": 7,
     "metadata": {},
     "output_type": "execute_result"
    }
   ],
   "source": [
    "a.items() # 변수 a의 key와 value 값 출력"
   ]
  },
  {
   "cell_type": "code",
   "execution_count": 8,
   "id": "c93ba612",
   "metadata": {},
   "outputs": [],
   "source": [
    "# keys(), values(), items()의 활용 방법"
   ]
  },
  {
   "cell_type": "code",
   "execution_count": 9,
   "id": "4f4dd592",
   "metadata": {},
   "outputs": [],
   "source": [
    "a={\"이름\":\"홍길동\", \"국어\":100, \"영어\":88, \"수학\": 95} # 변수 a에 딕셔너리 값 저장"
   ]
  },
  {
   "cell_type": "code",
   "execution_count": 10,
   "id": "bb273cd6",
   "metadata": {},
   "outputs": [
    {
     "name": "stdout",
     "output_type": "stream",
     "text": [
      "('이름', '홍길동'),('국어', 100),('영어', 88),('수학', 95),"
     ]
    }
   ],
   "source": [
    "for i in a.items(): # 변수 a의 key와 value 값을 하나씩 할당하여 끝까지 반복\n",
    "    print (i,end=\",\") # 출력, end 함수로 개행 없이 , 붙여 쓰기"
   ]
  },
  {
   "cell_type": "code",
   "execution_count": 11,
   "id": "8d5d7ad4",
   "metadata": {},
   "outputs": [
    {
     "name": "stdout",
     "output_type": "stream",
     "text": [
      "이름,국어,영어,수학,"
     ]
    }
   ],
   "source": [
    "for i in a.keys(): # 변수 a의 key 값을 하나씩 할당하여 끝까지 반복\n",
    "    print (i,end=\",\") # 출력, end 함수로 개행 없이 , 붙여 쓰기"
   ]
  },
  {
   "cell_type": "code",
   "execution_count": 12,
   "id": "6241b890",
   "metadata": {},
   "outputs": [
    {
     "name": "stdout",
     "output_type": "stream",
     "text": [
      "홍길동,100,88,95,"
     ]
    }
   ],
   "source": [
    "for i in a.values(): # 변수 a의 value 값을 하나씩 할당하여 끝까지 반복\n",
    "    print (i,end=\",\") # 출력, end 함수로 개행 없이 , 붙여 쓰기"
   ]
  },
  {
   "cell_type": "code",
   "execution_count": 13,
   "id": "eda1b903",
   "metadata": {},
   "outputs": [],
   "source": [
    "# get()은 해당 키의 값을 검색하며 없는 경우의 출력내용을 지정 가능"
   ]
  },
  {
   "cell_type": "code",
   "execution_count": 14,
   "id": "028c417b",
   "metadata": {},
   "outputs": [],
   "source": [
    "a={\"이름\":\"홍길동\", \"국어\":100, \"영어\":88, \"수학\": 95} # 변수 a에 딕셔너리 값 저장"
   ]
  },
  {
   "cell_type": "code",
   "execution_count": 15,
   "id": "d3bd8b8e",
   "metadata": {},
   "outputs": [
    {
     "name": "stdout",
     "output_type": "stream",
     "text": [
      "None\n"
     ]
    }
   ],
   "source": [
    "print(a.get(\"과학\")) # 해당 키의 값을 검색"
   ]
  },
  {
   "cell_type": "code",
   "execution_count": 16,
   "id": "ebc22ae5",
   "metadata": {},
   "outputs": [
    {
     "name": "stdout",
     "output_type": "stream",
     "text": [
      "없는과목입니다\n"
     ]
    }
   ],
   "source": [
    "print(a.get(\"과학\",\"없는과목입니다\")) # 해당 키의 값을 검색하며 없는 경우의 출력내용을 지정 가능"
   ]
  },
  {
   "cell_type": "code",
   "execution_count": 17,
   "id": "e50bdf81",
   "metadata": {},
   "outputs": [
    {
     "name": "stdout",
     "output_type": "stream",
     "text": [
      "95\n"
     ]
    }
   ],
   "source": [
    "print(a.get(\"수학\",\"없는과목입니다\")) # 해당 키의 값을 검색하며 없는 경우의 출력내용을 지정 가능"
   ]
  },
  {
   "cell_type": "code",
   "execution_count": 18,
   "id": "754a8b4c",
   "metadata": {},
   "outputs": [],
   "source": [
    "# 다음 문장에서 각각이 쓰인 글자에 대한 계수를 하는 예제"
   ]
  },
  {
   "cell_type": "code",
   "execution_count": 19,
   "id": "9ce4c419",
   "metadata": {},
   "outputs": [
    {
     "name": "stdout",
     "output_type": "stream",
     "text": [
      "{'안': 1, '녕': 1, '하': 1, '셔': 1, '요': 3, '.': 2, ' ': 11, '오': 1, '늘': 1, '은': 2, '날': 1, '씨': 1, '가': 2, '매': 2, '우': 2, '화': 1, '창': 1, '합': 1, '니': 1, '다': 1, '\\n': 2, '그': 1, '래': 1, '서': 1, '기': 2, '분': 2, '이': 2, '좋': 2, '네': 1, '너': 1, '도': 1, '랄': 3, '라': 7, 'a': 1, 'b': 1, 'c': 1, '임': 1, '마': 1}\n"
     ]
    }
   ],
   "source": [
    "text=\"\"\"안녕하셔요. 오늘은 날씨가 매우 화창합니다.\n",
    "그래서 기분이 매우 좋네요\n",
    "너도 기분이 좋은가요 랄라랄랄라라라라라라 abc임마\"\"\" # 문자열 저장\n",
    "\n",
    "a=dict() #하나의 딕셔너리 자료형을 정의\n",
    "for c in text: #위에 정의한 텍스트를 하나씩 추출하여 처리\n",
    "    if c not in a: #해당 추출글자가 지금까지의 딕셔너리에 없다면\n",
    "        a[c]=1 #그때는 최초 1값으로 시작\n",
    "    else: #이 경우는 해당 추출글자의 딕셔너리가 있다\n",
    "        a[c] +=1 #그럼 해당 딕셔너리 키에 해당되는 값을 하나더함\n",
    "print(a) # a 출력"
   ]
  },
  {
   "cell_type": "code",
   "execution_count": 20,
   "id": "87b7a6f2",
   "metadata": {},
   "outputs": [],
   "source": [
    "# 앞에 출력된 내용을 가나다 순으로 다시 처리"
   ]
  },
  {
   "cell_type": "code",
   "execution_count": 21,
   "id": "97231a43",
   "metadata": {},
   "outputs": [
    {
     "name": "stdout",
     "output_type": "stream",
     "text": [
      "{'\\n': 2, ' ': 11, '.': 2, 'a': 1, 'b': 1, 'c': 1, '가': 2, '그': 1, '기': 2, '날': 1, '너': 1, '네': 1, '녕': 1, '늘': 1, '니': 1, '다': 1, '도': 1, '라': 7, '랄': 3, '래': 1, '마': 1, '매': 2, '분': 2, '서': 1, '셔': 1, '씨': 1, '안': 1, '오': 1, '요': 3, '우': 2, '은': 2, '이': 2, '임': 1, '좋': 2, '창': 1, '하': 1, '합': 1, '화': 1}\n"
     ]
    }
   ],
   "source": [
    "# 아래서 부터는 보기 힘드니 각 글자(키)를 소트해 본다\n",
    "b=dict() #딕셔너리 하나 더 정의\n",
    "l=list(a.keys()) #앞에 딕서너리에 키만 뽑아 리스트를 만듦\n",
    "l.sort() #해당 리스트 소트\n",
    "for c in l: #각 리스트에 대하여 (결국 키값) 하나씩 뽑음\n",
    "    b[c]=a[c] # 새로운 딕셔너리는 키값 순서데로 다시 만듦\n",
    "print(b) # b 출력"
   ]
  },
  {
   "cell_type": "code",
   "execution_count": 22,
   "id": "3a68ad6f",
   "metadata": {},
   "outputs": [],
   "source": [
    "a={1,2,2,2,2,3,3,3,4,5} # 변수 a에 set() 으로 값 저장 => 중복X"
   ]
  },
  {
   "cell_type": "code",
   "execution_count": 23,
   "id": "500155df",
   "metadata": {},
   "outputs": [
    {
     "data": {
      "text/plain": [
       "{1, 2, 3, 4, 5}"
      ]
     },
     "execution_count": 23,
     "metadata": {},
     "output_type": "execute_result"
    }
   ],
   "source": [
    "a # a 출력"
   ]
  },
  {
   "cell_type": "code",
   "execution_count": 24,
   "id": "a3811815",
   "metadata": {},
   "outputs": [
    {
     "data": {
      "text/plain": [
       "{1, 2, 'a'}"
      ]
     },
     "execution_count": 24,
     "metadata": {},
     "output_type": "execute_result"
    }
   ],
   "source": [
    "set((\"a\",1,2)) #  set() 함수를 이용해 집합을 만드는 코드"
   ]
  },
  {
   "cell_type": "code",
   "execution_count": 25,
   "id": "5fdca424",
   "metadata": {},
   "outputs": [
    {
     "data": {
      "text/plain": [
       "{'a'}"
      ]
     },
     "execution_count": 25,
     "metadata": {},
     "output_type": "execute_result"
    }
   ],
   "source": [
    "set(\"a\") #  set() 함수를 이용해 집합을 만드는 코드"
   ]
  },
  {
   "cell_type": "code",
   "execution_count": 26,
   "id": "0f7b1560",
   "metadata": {},
   "outputs": [
    {
     "data": {
      "text/plain": [
       "{'국어', '수학', '영어', '이름'}"
      ]
     },
     "execution_count": 26,
     "metadata": {},
     "output_type": "execute_result"
    }
   ],
   "source": [
    "set({\"이름\":\"홍길동\", \"국어\":100, \"영어\":88, \"수학\": 95}) # 딕셔너리 타입은 키만 집합으로 변환"
   ]
  },
  {
   "cell_type": "code",
   "execution_count": 27,
   "id": "2a003279",
   "metadata": {},
   "outputs": [],
   "source": [
    "# add(값) 원소 추가 시 사용함\n",
    "# remove(값) 원소 제거 시 사용"
   ]
  },
  {
   "cell_type": "code",
   "execution_count": 36,
   "id": "b1210857",
   "metadata": {},
   "outputs": [],
   "source": [
    "a={1,2,3,4,5} # 변수 a에 set() 으로 값 저장 => 중복X"
   ]
  },
  {
   "cell_type": "code",
   "execution_count": 37,
   "id": "7b58200f",
   "metadata": {},
   "outputs": [
    {
     "data": {
      "text/plain": [
       "{1, 2, 3, 4, 5}"
      ]
     },
     "execution_count": 37,
     "metadata": {},
     "output_type": "execute_result"
    }
   ],
   "source": [
    "a # a 출력"
   ]
  },
  {
   "cell_type": "code",
   "execution_count": 38,
   "id": "e2c2d6d2",
   "metadata": {},
   "outputs": [],
   "source": [
    "a.add(0) # 0 원소 추가"
   ]
  },
  {
   "cell_type": "code",
   "execution_count": 39,
   "id": "5284d952",
   "metadata": {},
   "outputs": [
    {
     "data": {
      "text/plain": [
       "{0, 1, 2, 3, 4, 5}"
      ]
     },
     "execution_count": 39,
     "metadata": {},
     "output_type": "execute_result"
    }
   ],
   "source": [
    "a # a 출력"
   ]
  },
  {
   "cell_type": "code",
   "execution_count": 40,
   "id": "359c413f",
   "metadata": {},
   "outputs": [],
   "source": [
    "a.add(2.4) # 2.4 원소 추가"
   ]
  },
  {
   "cell_type": "code",
   "execution_count": 41,
   "id": "ddb7b50e",
   "metadata": {},
   "outputs": [
    {
     "data": {
      "text/plain": [
       "{0, 1, 2, 2.4, 3, 4, 5}"
      ]
     },
     "execution_count": 41,
     "metadata": {},
     "output_type": "execute_result"
    }
   ],
   "source": [
    "a # a 출력"
   ]
  },
  {
   "cell_type": "code",
   "execution_count": 42,
   "id": "698993da",
   "metadata": {},
   "outputs": [],
   "source": [
    "a.remove(3) # 3 원소 제거"
   ]
  },
  {
   "cell_type": "code",
   "execution_count": 43,
   "id": "7089434a",
   "metadata": {},
   "outputs": [
    {
     "data": {
      "text/plain": [
       "{0, 1, 2, 2.4, 4, 5}"
      ]
     },
     "execution_count": 43,
     "metadata": {},
     "output_type": "execute_result"
    }
   ],
   "source": [
    "a # a 출력"
   ]
  },
  {
   "cell_type": "code",
   "execution_count": 44,
   "id": "70ecf349",
   "metadata": {},
   "outputs": [],
   "source": [
    "# 집합연산의 합집합(|), 교집합(&), 차집합(-), 배타적 차집합(^)을 표시"
   ]
  },
  {
   "cell_type": "code",
   "execution_count": 45,
   "id": "e4fe61fe",
   "metadata": {},
   "outputs": [],
   "source": [
    "A={1,2,3,4,5,6,7} # 변수 a에 set() 으로 값 저장 => 중복X"
   ]
  },
  {
   "cell_type": "code",
   "execution_count": 46,
   "id": "ac33ba43",
   "metadata": {},
   "outputs": [],
   "source": [
    "B={7,8,9,10} # 변수 b에 set() 으로 값 저장 => 중복X"
   ]
  },
  {
   "cell_type": "code",
   "execution_count": 47,
   "id": "ba17e472",
   "metadata": {},
   "outputs": [
    {
     "data": {
      "text/plain": [
       "{1, 2, 3, 4, 5, 6, 7, 8, 9, 10}"
      ]
     },
     "execution_count": 47,
     "metadata": {},
     "output_type": "execute_result"
    }
   ],
   "source": [
    "A|B # 합집합"
   ]
  },
  {
   "cell_type": "code",
   "execution_count": 48,
   "id": "f053e5a6",
   "metadata": {},
   "outputs": [
    {
     "data": {
      "text/plain": [
       "{7}"
      ]
     },
     "execution_count": 48,
     "metadata": {},
     "output_type": "execute_result"
    }
   ],
   "source": [
    "A&B # 교집합"
   ]
  },
  {
   "cell_type": "code",
   "execution_count": 49,
   "id": "2b28bcfa",
   "metadata": {},
   "outputs": [
    {
     "data": {
      "text/plain": [
       "{1, 2, 3, 4, 5, 6}"
      ]
     },
     "execution_count": 49,
     "metadata": {},
     "output_type": "execute_result"
    }
   ],
   "source": [
    "A-B # 차집합"
   ]
  },
  {
   "cell_type": "code",
   "execution_count": 50,
   "id": "cc3d3f93",
   "metadata": {},
   "outputs": [],
   "source": [
    "# 부등식을 사용하여 비교가 가능함"
   ]
  },
  {
   "cell_type": "code",
   "execution_count": 51,
   "id": "eaf9d680",
   "metadata": {},
   "outputs": [
    {
     "data": {
      "text/plain": [
       "False"
      ]
     },
     "execution_count": 51,
     "metadata": {},
     "output_type": "execute_result"
    }
   ],
   "source": [
    "{1,2,3} < {1,2} # 우변이 더 크다"
   ]
  },
  {
   "cell_type": "code",
   "execution_count": 52,
   "id": "6926b1da",
   "metadata": {},
   "outputs": [
    {
     "data": {
      "text/plain": [
       "True"
      ]
     },
     "execution_count": 52,
     "metadata": {},
     "output_type": "execute_result"
    }
   ],
   "source": [
    "{1,2,3} > {1,2} # 좌변이 더 크다"
   ]
  },
  {
   "cell_type": "code",
   "execution_count": 53,
   "id": "b8feed3d",
   "metadata": {},
   "outputs": [
    {
     "data": {
      "text/plain": [
       "True"
      ]
     },
     "execution_count": 53,
     "metadata": {},
     "output_type": "execute_result"
    }
   ],
   "source": [
    "{1,2,3} >= {1,2} # 좌변이 더 크거나 같다"
   ]
  },
  {
   "cell_type": "code",
   "execution_count": 54,
   "id": "a6dd9dc7",
   "metadata": {},
   "outputs": [
    {
     "data": {
      "text/plain": [
       "False"
      ]
     },
     "execution_count": 54,
     "metadata": {},
     "output_type": "execute_result"
    }
   ],
   "source": [
    "{1,2,3} == {1,2} # 양변이 같다"
   ]
  },
  {
   "cell_type": "code",
   "execution_count": 55,
   "id": "e457b3ae",
   "metadata": {},
   "outputs": [
    {
     "data": {
      "text/plain": [
       "True"
      ]
     },
     "execution_count": 55,
     "metadata": {},
     "output_type": "execute_result"
    }
   ],
   "source": [
    "{1,2,3} >= {3,1,2} # 좌변이 더 크거나 같다"
   ]
  },
  {
   "cell_type": "code",
   "execution_count": 56,
   "id": "caf85c07",
   "metadata": {},
   "outputs": [
    {
     "data": {
      "text/plain": [
       "True"
      ]
     },
     "execution_count": 56,
     "metadata": {},
     "output_type": "execute_result"
    }
   ],
   "source": [
    "{1,2,3} == {3,1,2} # 양변이 같다"
   ]
  },
  {
   "cell_type": "code",
   "execution_count": 1,
   "id": "7a25e939",
   "metadata": {},
   "outputs": [],
   "source": [
    "a=[\"a\",\"b\",\"c\",\"d\",\"e\"] # 변수 a에 리스트의 값 저장"
   ]
  },
  {
   "cell_type": "code",
   "execution_count": 2,
   "id": "e48ef771",
   "metadata": {},
   "outputs": [],
   "source": [
    "b={} # 변수 b에 아무것도 포함하지 않는 딕셔너리 값 저장"
   ]
  },
  {
   "cell_type": "code",
   "execution_count": 3,
   "id": "00004e9a",
   "metadata": {},
   "outputs": [],
   "source": [
    "for i in range (len(a)): # 리스트 a의 길이만큼 반복\n",
    "    b[i]=a[i] #a는 리스트 b는 딕셔너리, a의 값 b의 딕셔너리 value에 저장"
   ]
  },
  {
   "cell_type": "code",
   "execution_count": 5,
   "id": "00fe2773",
   "metadata": {},
   "outputs": [
    {
     "data": {
      "text/plain": [
       "{0: 'a', 1: 'b', 2: 'c', 3: 'd', 4: 'e'}"
      ]
     },
     "execution_count": 5,
     "metadata": {},
     "output_type": "execute_result"
    }
   ],
   "source": [
    "b # b의 값 출력"
   ]
  },
  {
   "cell_type": "code",
   "execution_count": 6,
   "id": "e46d1721",
   "metadata": {},
   "outputs": [],
   "source": [
    "a=[\"a\",\"b\",\"c\",\"d\",\"e\"] # 변수 a에 리스트의 값 저장"
   ]
  },
  {
   "cell_type": "code",
   "execution_count": 7,
   "id": "267b11ef",
   "metadata": {},
   "outputs": [],
   "source": [
    "b=enumerate(a) #여기 까지는 중간단계, enumerate() 함수는 요소를 0부터 차례의 숫자로 대입해 줌 "
   ]
  },
  {
   "cell_type": "code",
   "execution_count": 8,
   "id": "512535cd",
   "metadata": {},
   "outputs": [
    {
     "data": {
      "text/plain": [
       "<enumerate at 0x1e7cd9f5b00>"
      ]
     },
     "execution_count": 8,
     "metadata": {},
     "output_type": "execute_result"
    }
   ],
   "source": [
    "b # b 출력"
   ]
  },
  {
   "cell_type": "code",
   "execution_count": 9,
   "id": "412f32a1",
   "metadata": {},
   "outputs": [],
   "source": [
    "b=dict(enumerate(a)); c=list(enumerate(a)) #딕셔너리와 리스트를 만든다"
   ]
  },
  {
   "cell_type": "code",
   "execution_count": 10,
   "id": "599774c1",
   "metadata": {},
   "outputs": [
    {
     "data": {
      "text/plain": [
       "{0: 'a', 1: 'b', 2: 'c', 3: 'd', 4: 'e'}"
      ]
     },
     "execution_count": 10,
     "metadata": {},
     "output_type": "execute_result"
    }
   ],
   "source": [
    "b # b 출력"
   ]
  },
  {
   "cell_type": "code",
   "execution_count": 11,
   "id": "ba8425e6",
   "metadata": {},
   "outputs": [
    {
     "data": {
      "text/plain": [
       "[(0, 'a'), (1, 'b'), (2, 'c'), (3, 'd'), (4, 'e')]"
      ]
     },
     "execution_count": 11,
     "metadata": {},
     "output_type": "execute_result"
    }
   ],
   "source": [
    "c # c 출력"
   ]
  },
  {
   "cell_type": "code",
   "execution_count": 12,
   "id": "cf3b1dca",
   "metadata": {},
   "outputs": [],
   "source": [
    "a={1,2,3,4,5,6,7,8} #집합a"
   ]
  },
  {
   "cell_type": "code",
   "execution_count": 13,
   "id": "d5dd887a",
   "metadata": {},
   "outputs": [],
   "source": [
    "b={\"a\",\"b\",\"c\",\"d\",\"e\"} #집합b"
   ]
  },
  {
   "cell_type": "code",
   "execution_count": 14,
   "id": "2f84bcec",
   "metadata": {},
   "outputs": [
    {
     "data": {
      "text/plain": [
       "<zip at 0x1e7cdcf3180>"
      ]
     },
     "execution_count": 14,
     "metadata": {},
     "output_type": "execute_result"
    }
   ],
   "source": [
    "zip(a,b) #zip만으로는 단순히 object임, zip 함수를 이용하여 a와 b를 묶음"
   ]
  },
  {
   "cell_type": "code",
   "execution_count": 15,
   "id": "68d25efb",
   "metadata": {},
   "outputs": [],
   "source": [
    "c=dict(zip(a,b));d=list(zip(a,b)) #zip 함수를 이용하여 a와 b를 묶음, zip 함수를 이용하여 a와 b를 묶음"
   ]
  },
  {
   "cell_type": "code",
   "execution_count": 16,
   "id": "2fc59a8d",
   "metadata": {},
   "outputs": [
    {
     "data": {
      "text/plain": [
       "{1: 'e', 2: 'b', 3: 'a', 4: 'c', 5: 'd'}"
      ]
     },
     "execution_count": 16,
     "metadata": {},
     "output_type": "execute_result"
    }
   ],
   "source": [
    "c # c 출력"
   ]
  },
  {
   "cell_type": "code",
   "execution_count": 17,
   "id": "9196fe21",
   "metadata": {},
   "outputs": [
    {
     "data": {
      "text/plain": [
       "[(1, 'e'), (2, 'b'), (3, 'a'), (4, 'c'), (5, 'd')]"
      ]
     },
     "execution_count": 17,
     "metadata": {},
     "output_type": "execute_result"
    }
   ],
   "source": [
    "d # d 출력"
   ]
  },
  {
   "cell_type": "code",
   "execution_count": 18,
   "id": "6aaf226f",
   "metadata": {},
   "outputs": [],
   "source": [
    "a=(1,2,3,4,5,6,7,8) #튜플a"
   ]
  },
  {
   "cell_type": "code",
   "execution_count": 19,
   "id": "0e3bfe2f",
   "metadata": {},
   "outputs": [],
   "source": [
    "b=[\"a\",\"b\",\"c\",\"d\",\"e\"] #리스트 b"
   ]
  },
  {
   "cell_type": "code",
   "execution_count": 20,
   "id": "38b228ce",
   "metadata": {},
   "outputs": [],
   "source": [
    "c=dict(zip(a,b));d=list(zip(a,b))\n",
    "# zip 함수를 이용하여 a와 b를 묶은 뒤, 딕셔너리 c에 저장, zip 함수를 이용하여 a와 b를 묶은 뒤, 리스트 d에 저장"
   ]
  },
  {
   "cell_type": "code",
   "execution_count": 21,
   "id": "40cfa6c4",
   "metadata": {},
   "outputs": [
    {
     "data": {
      "text/plain": [
       "{1: 'a', 2: 'b', 3: 'c', 4: 'd', 5: 'e'}"
      ]
     },
     "execution_count": 21,
     "metadata": {},
     "output_type": "execute_result"
    }
   ],
   "source": [
    "c # c 출력"
   ]
  },
  {
   "cell_type": "code",
   "execution_count": 22,
   "id": "e01b2f39",
   "metadata": {},
   "outputs": [
    {
     "data": {
      "text/plain": [
       "[(1, 'a'), (2, 'b'), (3, 'c'), (4, 'd'), (5, 'e')]"
      ]
     },
     "execution_count": 22,
     "metadata": {},
     "output_type": "execute_result"
    }
   ],
   "source": [
    "d # d 출력"
   ]
  },
  {
   "cell_type": "code",
   "execution_count": 23,
   "id": "d9de68dd",
   "metadata": {},
   "outputs": [
    {
     "name": "stdout",
     "output_type": "stream",
     "text": [
      "1\n",
      "2\n",
      "3\n",
      "4\n",
      "5\n",
      "6\n"
     ]
    }
   ],
   "source": [
    "def func(x): # 함수 func 정의\n",
    "    return x/2 # x/2 리턴\n",
    "\n",
    "x=(1,2,3,4,5,6)  # 함수 func 정의\n",
    "for i in filter(func,x): # 튜플 x에서 func 함수에 의해 걸러진 원소를 하나씩 출력\n",
    "    print(i) # 출력"
   ]
  },
  {
   "cell_type": "code",
   "execution_count": 24,
   "id": "984ca717",
   "metadata": {},
   "outputs": [
    {
     "name": "stdout",
     "output_type": "stream",
     "text": [
      "8\n",
      "10\n",
      "12\n",
      "14\n",
      "16\n",
      "18\n"
     ]
    }
   ],
   "source": [
    "def func(x, y):    # func 함수 정의\n",
    "    return x + y   # x와 y를 더한 값을 반환\n",
    "\n",
    "x = (1, 2, 3, 4, 5, 6)  # 튜플 x 정의\n",
    "y = (7, 8, 9, 10, 11, 12)  # 튜플 y 정의\n",
    "\n",
    "#for i in filter(func,x,y):  \n",
    "# filter 함수를 사용하여 func 함수에 x와 y의 각 원소를 인자로 전달하고, 결과가 참인 원소만 걸러내는 코드(에러 발생)\n",
    "\n",
    "for i in map(func, x, y):  # map 함수를 사용하여 func 함수에 x와 y의 각 원소를 인자로 전달하여 \n",
    "                            #계산한 결과값으로 이루어진 iterable 객체를 생성하는 코드\n",
    "    print(i)  # iterable 객체에서 하나씩 원소를 가져와서 출력하는 코드"
   ]
  },
  {
   "cell_type": "code",
   "execution_count": 25,
   "id": "46a26961",
   "metadata": {},
   "outputs": [
    {
     "name": "stdout",
     "output_type": "stream",
     "text": [
      "8\n",
      "10\n",
      "12\n",
      "14\n",
      "16\n",
      "18\n"
     ]
    }
   ],
   "source": [
    "x = (1, 2, 3, 4, 5, 6)  # 튜플 x 정의\n",
    "y = (7, 8, 9, 10, 11, 12)  # 튜플 y 정의\n",
    "\n",
    "for i in map(lambda x, y: x + y, x, y):  # map 함수를 사용하여 x와 y의 각 원소를 더하는 lambda 함수를 정의하여, \n",
    "            #lambda 함수에 x와 y의 각 원소를 인자로 전달하여 계산한 결과값으로 이루어진 iterable 객체를 생성하는 코드\n",
    "    print(i)  # iterable 객체에서 하나씩 원소를 가져와서 출력하는 코드"
   ]
  },
  {
   "cell_type": "code",
   "execution_count": 26,
   "id": "18155a5f",
   "metadata": {},
   "outputs": [],
   "source": [
    "a=[1,2,3] # a 리스트 생성"
   ]
  },
  {
   "cell_type": "code",
   "execution_count": 27,
   "id": "9f4c10bb",
   "metadata": {},
   "outputs": [],
   "source": [
    "b=a # 컬렉션을 대입하면 컬렉션의 값이 복사되는 것이 아니라 주소가 복사됨"
   ]
  },
  {
   "cell_type": "code",
   "execution_count": 28,
   "id": "9803fe96",
   "metadata": {},
   "outputs": [],
   "source": [
    "b[2]=5 # b의 두번째 주소에 5 대입"
   ]
  },
  {
   "cell_type": "code",
   "execution_count": 29,
   "id": "14610c02",
   "metadata": {},
   "outputs": [
    {
     "data": {
      "text/plain": [
       "[1, 2, 5]"
      ]
     },
     "execution_count": 29,
     "metadata": {},
     "output_type": "execute_result"
    }
   ],
   "source": [
    "a # a 출력 => a 두번째 값이 바뀐 것을 확인"
   ]
  },
  {
   "cell_type": "code",
   "execution_count": 30,
   "id": "8316d5e1",
   "metadata": {},
   "outputs": [
    {
     "data": {
      "text/plain": [
       "[1, 2, 5]"
      ]
     },
     "execution_count": 30,
     "metadata": {},
     "output_type": "execute_result"
    }
   ],
   "source": [
    "b # b 출력"
   ]
  },
  {
   "cell_type": "code",
   "execution_count": 31,
   "id": "9219083d",
   "metadata": {},
   "outputs": [],
   "source": [
    "b[1]=3 # b 첫번째 주소에 3 대입"
   ]
  },
  {
   "cell_type": "code",
   "execution_count": 32,
   "id": "9308aa54",
   "metadata": {},
   "outputs": [
    {
     "data": {
      "text/plain": [
       "[1, 3, 5]"
      ]
     },
     "execution_count": 32,
     "metadata": {},
     "output_type": "execute_result"
    }
   ],
   "source": [
    "a # a 출력 => a 첫번째 값이 바뀐 것을 확인"
   ]
  },
  {
   "cell_type": "code",
   "execution_count": 33,
   "id": "b7868bb5",
   "metadata": {},
   "outputs": [],
   "source": [
    "a=[1,2,3] # a에 리스트 값대입"
   ]
  },
  {
   "cell_type": "code",
   "execution_count": 34,
   "id": "f338bbec",
   "metadata": {},
   "outputs": [],
   "source": [
    "b=a[:] # 옅은 복사"
   ]
  },
  {
   "cell_type": "code",
   "execution_count": 35,
   "id": "24ca61fd",
   "metadata": {},
   "outputs": [],
   "source": [
    "b[2]=5 # b의 두번쨰 자리에 5 대입 => b만 바뀜"
   ]
  },
  {
   "cell_type": "code",
   "execution_count": 37,
   "id": "61982ac0",
   "metadata": {},
   "outputs": [
    {
     "data": {
      "text/plain": [
       "[1, 2, 3]"
      ]
     },
     "execution_count": 37,
     "metadata": {},
     "output_type": "execute_result"
    }
   ],
   "source": [
    "a # a 출력"
   ]
  },
  {
   "cell_type": "code",
   "execution_count": 38,
   "id": "a969a55f",
   "metadata": {},
   "outputs": [
    {
     "data": {
      "text/plain": [
       "[1, 2, 5]"
      ]
     },
     "execution_count": 38,
     "metadata": {},
     "output_type": "execute_result"
    }
   ],
   "source": [
    "b # b 출력"
   ]
  },
  {
   "cell_type": "code",
   "execution_count": 39,
   "id": "b2e52a5d",
   "metadata": {},
   "outputs": [],
   "source": [
    "a=[[1,2],3,4] # a에 리스트 값 대입"
   ]
  },
  {
   "cell_type": "code",
   "execution_count": 40,
   "id": "c3f86d45",
   "metadata": {},
   "outputs": [],
   "source": [
    "b=a.copy() # a를 b에 복사"
   ]
  },
  {
   "cell_type": "code",
   "execution_count": 41,
   "id": "737180f2",
   "metadata": {},
   "outputs": [
    {
     "data": {
      "text/plain": [
       "[[1, 2], 3, 4]"
      ]
     },
     "execution_count": 41,
     "metadata": {},
     "output_type": "execute_result"
    }
   ],
   "source": [
    "b # b 출력"
   ]
  },
  {
   "cell_type": "code",
   "execution_count": 42,
   "id": "dd7471d1",
   "metadata": {},
   "outputs": [],
   "source": [
    "b[0][1]=3 # b의 0행 1열의 값에 3 저장"
   ]
  },
  {
   "cell_type": "code",
   "execution_count": 43,
   "id": "eaf9a672",
   "metadata": {},
   "outputs": [
    {
     "data": {
      "text/plain": [
       "[[1, 3], 3, 4]"
      ]
     },
     "execution_count": 43,
     "metadata": {},
     "output_type": "execute_result"
    }
   ],
   "source": [
    "b # b 출력"
   ]
  },
  {
   "cell_type": "code",
   "execution_count": 44,
   "id": "b3ffe710",
   "metadata": {},
   "outputs": [
    {
     "data": {
      "text/plain": [
       "[[1, 3], 3, 4]"
      ]
     },
     "execution_count": 44,
     "metadata": {},
     "output_type": "execute_result"
    }
   ],
   "source": [
    "a # 컬렉션안에 컬렉션이 있는경우 copy만으로 2레벨이상의\n",
    "    #리스트까지 복사되지 않는다"
   ]
  },
  {
   "cell_type": "code",
   "execution_count": 45,
   "id": "430e78e6",
   "metadata": {},
   "outputs": [],
   "source": [
    "a=[[1,2],3,4] # a에 리스트 값 대입"
   ]
  },
  {
   "cell_type": "code",
   "execution_count": 46,
   "id": "bc8c3f6a",
   "metadata": {},
   "outputs": [],
   "source": [
    "b=a[:] # a를 b에 복사"
   ]
  },
  {
   "cell_type": "code",
   "execution_count": 47,
   "id": "ef84483d",
   "metadata": {},
   "outputs": [
    {
     "data": {
      "text/plain": [
       "[[1, 2], 3, 4]"
      ]
     },
     "execution_count": 47,
     "metadata": {},
     "output_type": "execute_result"
    }
   ],
   "source": [
    "b # b 출력"
   ]
  },
  {
   "cell_type": "code",
   "execution_count": 48,
   "id": "a92c3643",
   "metadata": {},
   "outputs": [],
   "source": [
    "b[0][1]=3 # b의 0행 1열의 값에 3 저장"
   ]
  },
  {
   "cell_type": "code",
   "execution_count": 49,
   "id": "b3216ed0",
   "metadata": {},
   "outputs": [
    {
     "data": {
      "text/plain": [
       "[[1, 3], 3, 4]"
      ]
     },
     "execution_count": 49,
     "metadata": {},
     "output_type": "execute_result"
    }
   ],
   "source": [
    "a #b=a[:]도 마찬가지"
   ]
  },
  {
   "cell_type": "code",
   "execution_count": 50,
   "id": "85be0c9a",
   "metadata": {},
   "outputs": [
    {
     "name": "stdout",
     "output_type": "stream",
     "text": [
      "[[1, 2], 3, 4] [[1, 3], 3, 4]\n"
     ]
    }
   ],
   "source": [
    "import copy as c  # copy 모듈을 c라는 이름으로 import하는 코드\n",
    "\n",
    "a = [[1, 2], 3, 4]  # 리스트 a를 정의\n",
    "b = c.deepcopy(a)  # 리스트 a를 deepcopy하여 새로운 리스트 b를 생성하는 코드\n",
    "b[0][1] = 3  # 리스트 b의 첫 번째 원소의 두 번째 원소 값을 3으로 변경하는 코드\n",
    "print(a, b)  # 리스트 a와 b를 출력하는 코드"
   ]
  },
  {
   "cell_type": "code",
   "execution_count": null,
   "id": "922e7aa8",
   "metadata": {},
   "outputs": [],
   "source": []
  }
 ],
 "metadata": {
  "kernelspec": {
   "display_name": "Python 3 (ipykernel)",
   "language": "python",
   "name": "python3"
  },
  "language_info": {
   "codemirror_mode": {
    "name": "ipython",
    "version": 3
   },
   "file_extension": ".py",
   "mimetype": "text/x-python",
   "name": "python",
   "nbconvert_exporter": "python",
   "pygments_lexer": "ipython3",
   "version": "3.8.8rc1"
  }
 },
 "nbformat": 4,
 "nbformat_minor": 5
}
