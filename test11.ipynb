{
 "cells": [
  {
   "cell_type": "code",
   "execution_count": 1,
   "id": "3354f9cc",
   "metadata": {},
   "outputs": [],
   "source": [
    "import math # math 라이브러리 임포트"
   ]
  },
  {
   "cell_type": "code",
   "execution_count": 2,
   "id": "5c4c5122",
   "metadata": {},
   "outputs": [
    {
     "data": {
      "text/plain": [
       "0.0"
      ]
     },
     "execution_count": 2,
     "metadata": {},
     "output_type": "execute_result"
    }
   ],
   "source": [
    "math.sin(0) # sin 계산"
   ]
  },
  {
   "cell_type": "code",
   "execution_count": 3,
   "id": "9b587c56",
   "metadata": {},
   "outputs": [
    {
     "data": {
      "text/plain": [
       "3.141592653589793"
      ]
     },
     "execution_count": 3,
     "metadata": {},
     "output_type": "execute_result"
    }
   ],
   "source": [
    "math.pi # pi 값 계산"
   ]
  },
  {
   "cell_type": "code",
   "execution_count": 4,
   "id": "7c56ad69",
   "metadata": {},
   "outputs": [
    {
     "data": {
      "text/plain": [
       "1.0"
      ]
     },
     "execution_count": 4,
     "metadata": {},
     "output_type": "execute_result"
    }
   ],
   "source": [
    "math.sin(math.pi/2.0) # sin 값 계산"
   ]
  },
  {
   "cell_type": "code",
   "execution_count": 5,
   "id": "a8ab3601",
   "metadata": {},
   "outputs": [],
   "source": [
    "import math # math 라이브러리 임포트"
   ]
  },
  {
   "cell_type": "code",
   "execution_count": 6,
   "id": "616e85a3",
   "metadata": {},
   "outputs": [
    {
     "data": {
      "text/plain": [
       "1.0"
      ]
     },
     "execution_count": 6,
     "metadata": {},
     "output_type": "execute_result"
    }
   ],
   "source": [
    "math.sin(math.pi/2.0) # sin 값 계산"
   ]
  },
  {
   "cell_type": "code",
   "execution_count": 7,
   "id": "874dfdd1",
   "metadata": {},
   "outputs": [],
   "source": [
    "from math import sin # 표준 라이브러리를 사용하기 위하여 선언"
   ]
  },
  {
   "cell_type": "code",
   "execution_count": 8,
   "id": "7090f9c9",
   "metadata": {},
   "outputs": [
    {
     "data": {
      "text/plain": [
       "0.9999999999999466"
      ]
     },
     "execution_count": 8,
     "metadata": {},
     "output_type": "execute_result"
    }
   ],
   "source": [
    "sin(3.141592/2) # sin 값 계산"
   ]
  },
  {
   "cell_type": "code",
   "execution_count": 9,
   "id": "5895c72c",
   "metadata": {},
   "outputs": [],
   "source": [
    "from math import sin,pi #여러 함수 사용시"
   ]
  },
  {
   "cell_type": "code",
   "execution_count": 10,
   "id": "59dbda03",
   "metadata": {},
   "outputs": [
    {
     "data": {
      "text/plain": [
       "1.0"
      ]
     },
     "execution_count": 10,
     "metadata": {},
     "output_type": "execute_result"
    }
   ],
   "source": [
    "sin(pi/2.0) # sin 값 계산"
   ]
  },
  {
   "cell_type": "code",
   "execution_count": 11,
   "id": "49653f25",
   "metadata": {},
   "outputs": [],
   "source": [
    "import math as m # math 라이브러리를 m으로 부르기로 하고 선언"
   ]
  },
  {
   "cell_type": "code",
   "execution_count": 12,
   "id": "98b74a40",
   "metadata": {},
   "outputs": [
    {
     "data": {
      "text/plain": [
       "1.0"
      ]
     },
     "execution_count": 12,
     "metadata": {},
     "output_type": "execute_result"
    }
   ],
   "source": [
    "m.sin(m.pi/2.0) # sin 값 계산"
   ]
  },
  {
   "cell_type": "code",
   "execution_count": 13,
   "id": "d0214206",
   "metadata": {},
   "outputs": [],
   "source": [
    "import math # math 라이브러리 임포트"
   ]
  },
  {
   "cell_type": "code",
   "execution_count": 14,
   "id": "352d9b51",
   "metadata": {},
   "outputs": [
    {
     "name": "stdout",
     "output_type": "stream",
     "text": [
      "Help on built-in module math:\n",
      "\n",
      "NAME\n",
      "    math\n",
      "\n",
      "DESCRIPTION\n",
      "    This module provides access to the mathematical functions\n",
      "    defined by the C standard.\n",
      "\n",
      "FUNCTIONS\n",
      "    acos(x, /)\n",
      "        Return the arc cosine (measured in radians) of x.\n",
      "    \n",
      "    acosh(x, /)\n",
      "        Return the inverse hyperbolic cosine of x.\n",
      "    \n",
      "    asin(x, /)\n",
      "        Return the arc sine (measured in radians) of x.\n",
      "    \n",
      "    asinh(x, /)\n",
      "        Return the inverse hyperbolic sine of x.\n",
      "    \n",
      "    atan(x, /)\n",
      "        Return the arc tangent (measured in radians) of x.\n",
      "    \n",
      "    atan2(y, x, /)\n",
      "        Return the arc tangent (measured in radians) of y/x.\n",
      "        \n",
      "        Unlike atan(y/x), the signs of both x and y are considered.\n",
      "    \n",
      "    atanh(x, /)\n",
      "        Return the inverse hyperbolic tangent of x.\n",
      "    \n",
      "    ceil(x, /)\n",
      "        Return the ceiling of x as an Integral.\n",
      "        \n",
      "        This is the smallest integer >= x.\n",
      "    \n",
      "    comb(n, k, /)\n",
      "        Number of ways to choose k items from n items without repetition and without order.\n",
      "        \n",
      "        Evaluates to n! / (k! * (n - k)!) when k <= n and evaluates\n",
      "        to zero when k > n.\n",
      "        \n",
      "        Also called the binomial coefficient because it is equivalent\n",
      "        to the coefficient of k-th term in polynomial expansion of the\n",
      "        expression (1 + x)**n.\n",
      "        \n",
      "        Raises TypeError if either of the arguments are not integers.\n",
      "        Raises ValueError if either of the arguments are negative.\n",
      "    \n",
      "    copysign(x, y, /)\n",
      "        Return a float with the magnitude (absolute value) of x but the sign of y.\n",
      "        \n",
      "        On platforms that support signed zeros, copysign(1.0, -0.0)\n",
      "        returns -1.0.\n",
      "    \n",
      "    cos(x, /)\n",
      "        Return the cosine of x (measured in radians).\n",
      "    \n",
      "    cosh(x, /)\n",
      "        Return the hyperbolic cosine of x.\n",
      "    \n",
      "    degrees(x, /)\n",
      "        Convert angle x from radians to degrees.\n",
      "    \n",
      "    dist(p, q, /)\n",
      "        Return the Euclidean distance between two points p and q.\n",
      "        \n",
      "        The points should be specified as sequences (or iterables) of\n",
      "        coordinates.  Both inputs must have the same dimension.\n",
      "        \n",
      "        Roughly equivalent to:\n",
      "            sqrt(sum((px - qx) ** 2.0 for px, qx in zip(p, q)))\n",
      "    \n",
      "    erf(x, /)\n",
      "        Error function at x.\n",
      "    \n",
      "    erfc(x, /)\n",
      "        Complementary error function at x.\n",
      "    \n",
      "    exp(x, /)\n",
      "        Return e raised to the power of x.\n",
      "    \n",
      "    expm1(x, /)\n",
      "        Return exp(x)-1.\n",
      "        \n",
      "        This function avoids the loss of precision involved in the direct evaluation of exp(x)-1 for small x.\n",
      "    \n",
      "    fabs(x, /)\n",
      "        Return the absolute value of the float x.\n",
      "    \n",
      "    factorial(x, /)\n",
      "        Find x!.\n",
      "        \n",
      "        Raise a ValueError if x is negative or non-integral.\n",
      "    \n",
      "    floor(x, /)\n",
      "        Return the floor of x as an Integral.\n",
      "        \n",
      "        This is the largest integer <= x.\n",
      "    \n",
      "    fmod(x, y, /)\n",
      "        Return fmod(x, y), according to platform C.\n",
      "        \n",
      "        x % y may differ.\n",
      "    \n",
      "    frexp(x, /)\n",
      "        Return the mantissa and exponent of x, as pair (m, e).\n",
      "        \n",
      "        m is a float and e is an int, such that x = m * 2.**e.\n",
      "        If x is 0, m and e are both 0.  Else 0.5 <= abs(m) < 1.0.\n",
      "    \n",
      "    fsum(seq, /)\n",
      "        Return an accurate floating point sum of values in the iterable seq.\n",
      "        \n",
      "        Assumes IEEE-754 floating point arithmetic.\n",
      "    \n",
      "    gamma(x, /)\n",
      "        Gamma function at x.\n",
      "    \n",
      "    gcd(x, y, /)\n",
      "        greatest common divisor of x and y\n",
      "    \n",
      "    hypot(...)\n",
      "        hypot(*coordinates) -> value\n",
      "        \n",
      "        Multidimensional Euclidean distance from the origin to a point.\n",
      "        \n",
      "        Roughly equivalent to:\n",
      "            sqrt(sum(x**2 for x in coordinates))\n",
      "        \n",
      "        For a two dimensional point (x, y), gives the hypotenuse\n",
      "        using the Pythagorean theorem:  sqrt(x*x + y*y).\n",
      "        \n",
      "        For example, the hypotenuse of a 3/4/5 right triangle is:\n",
      "        \n",
      "            >>> hypot(3.0, 4.0)\n",
      "            5.0\n",
      "    \n",
      "    isclose(a, b, *, rel_tol=1e-09, abs_tol=0.0)\n",
      "        Determine whether two floating point numbers are close in value.\n",
      "        \n",
      "          rel_tol\n",
      "            maximum difference for being considered \"close\", relative to the\n",
      "            magnitude of the input values\n",
      "          abs_tol\n",
      "            maximum difference for being considered \"close\", regardless of the\n",
      "            magnitude of the input values\n",
      "        \n",
      "        Return True if a is close in value to b, and False otherwise.\n",
      "        \n",
      "        For the values to be considered close, the difference between them\n",
      "        must be smaller than at least one of the tolerances.\n",
      "        \n",
      "        -inf, inf and NaN behave similarly to the IEEE 754 Standard.  That\n",
      "        is, NaN is not close to anything, even itself.  inf and -inf are\n",
      "        only close to themselves.\n",
      "    \n",
      "    isfinite(x, /)\n",
      "        Return True if x is neither an infinity nor a NaN, and False otherwise.\n",
      "    \n",
      "    isinf(x, /)\n",
      "        Return True if x is a positive or negative infinity, and False otherwise.\n",
      "    \n",
      "    isnan(x, /)\n",
      "        Return True if x is a NaN (not a number), and False otherwise.\n",
      "    \n",
      "    isqrt(n, /)\n",
      "        Return the integer part of the square root of the input.\n",
      "    \n",
      "    ldexp(x, i, /)\n",
      "        Return x * (2**i).\n",
      "        \n",
      "        This is essentially the inverse of frexp().\n",
      "    \n",
      "    lgamma(x, /)\n",
      "        Natural logarithm of absolute value of Gamma function at x.\n",
      "    \n",
      "    log(...)\n",
      "        log(x, [base=math.e])\n",
      "        Return the logarithm of x to the given base.\n",
      "        \n",
      "        If the base not specified, returns the natural logarithm (base e) of x.\n",
      "    \n",
      "    log10(x, /)\n",
      "        Return the base 10 logarithm of x.\n",
      "    \n",
      "    log1p(x, /)\n",
      "        Return the natural logarithm of 1+x (base e).\n",
      "        \n",
      "        The result is computed in a way which is accurate for x near zero.\n",
      "    \n",
      "    log2(x, /)\n",
      "        Return the base 2 logarithm of x.\n",
      "    \n",
      "    modf(x, /)\n",
      "        Return the fractional and integer parts of x.\n",
      "        \n",
      "        Both results carry the sign of x and are floats.\n",
      "    \n",
      "    perm(n, k=None, /)\n",
      "        Number of ways to choose k items from n items without repetition and with order.\n",
      "        \n",
      "        Evaluates to n! / (n - k)! when k <= n and evaluates\n",
      "        to zero when k > n.\n",
      "        \n",
      "        If k is not specified or is None, then k defaults to n\n",
      "        and the function returns n!.\n",
      "        \n",
      "        Raises TypeError if either of the arguments are not integers.\n",
      "        Raises ValueError if either of the arguments are negative.\n",
      "    \n",
      "    pow(x, y, /)\n",
      "        Return x**y (x to the power of y).\n",
      "    \n",
      "    prod(iterable, /, *, start=1)\n",
      "        Calculate the product of all the elements in the input iterable.\n",
      "        \n",
      "        The default start value for the product is 1.\n",
      "        \n",
      "        When the iterable is empty, return the start value.  This function is\n",
      "        intended specifically for use with numeric values and may reject\n",
      "        non-numeric types.\n",
      "    \n",
      "    radians(x, /)\n",
      "        Convert angle x from degrees to radians.\n",
      "    \n",
      "    remainder(x, y, /)\n",
      "        Difference between x and the closest integer multiple of y.\n",
      "        \n",
      "        Return x - n*y where n*y is the closest integer multiple of y.\n",
      "        In the case where x is exactly halfway between two multiples of\n",
      "        y, the nearest even value of n is used. The result is always exact.\n",
      "    \n",
      "    sin(x, /)\n",
      "        Return the sine of x (measured in radians).\n",
      "    \n",
      "    sinh(x, /)\n",
      "        Return the hyperbolic sine of x.\n",
      "    \n",
      "    sqrt(x, /)\n",
      "        Return the square root of x.\n",
      "    \n",
      "    tan(x, /)\n",
      "        Return the tangent of x (measured in radians).\n",
      "    \n",
      "    tanh(x, /)\n",
      "        Return the hyperbolic tangent of x.\n",
      "    \n",
      "    trunc(x, /)\n",
      "        Truncates the Real x to the nearest Integral toward 0.\n",
      "        \n",
      "        Uses the __trunc__ magic method.\n",
      "\n",
      "DATA\n",
      "    e = 2.718281828459045\n",
      "    inf = inf\n",
      "    nan = nan\n",
      "    pi = 3.141592653589793\n",
      "    tau = 6.283185307179586\n",
      "\n",
      "FILE\n",
      "    (built-in)\n",
      "\n",
      "\n"
     ]
    }
   ],
   "source": [
    "help(math) # 표준 라이브러리에 대한 내용을 보기 위하여 help()를 활용"
   ]
  },
  {
   "cell_type": "code",
   "execution_count": 15,
   "id": "2d878861",
   "metadata": {},
   "outputs": [
    {
     "name": "stdout",
     "output_type": "stream",
     "text": [
      "                                                  [0.000000]\n",
      "                                                  [0.017452]\n",
      "                                                   [0.034899]\n",
      "                                                    [0.052336]\n",
      "                                                     [0.069756]\n",
      "                                                      [0.087156]\n",
      "                                                       [0.104528]\n",
      "                                                        [0.121869]\n",
      "                                                        [0.139173]\n",
      "                                                         [0.156434]\n",
      "                                                          [0.173648]\n",
      "                                                           [0.190809]\n",
      "                                                            [0.207912]\n",
      "                                                             [0.224951]\n",
      "                                                              [0.241922]\n",
      "                                                              [0.258819]\n",
      "                                                               [0.275637]\n",
      "                                                                [0.292372]\n",
      "                                                                 [0.309017]\n",
      "                                                                  [0.325568]\n",
      "                                                                   [0.342020]\n",
      "                                                                   [0.358368]\n",
      "                                                                    [0.374607]\n",
      "                                                                     [0.390731]\n",
      "                                                                      [0.406737]\n",
      "                                                                       [0.422618]\n",
      "                                                                       [0.438371]\n",
      "                                                                        [0.453990]\n",
      "                                                                         [0.469472]\n",
      "                                                                          [0.484810]\n",
      "                                                                           [0.500000]\n",
      "                                                                           [0.515038]\n",
      "                                                                            [0.529919]\n",
      "                                                                             [0.544639]\n",
      "                                                                             [0.559193]\n",
      "                                                                              [0.573576]\n",
      "                                                                               [0.587785]\n",
      "                                                                                [0.601815]\n",
      "                                                                                [0.615661]\n",
      "                                                                                 [0.629320]\n",
      "                                                                                  [0.642788]\n",
      "                                                                                  [0.656059]\n",
      "                                                                                   [0.669131]\n",
      "                                                                                    [0.681998]\n",
      "                                                                                    [0.694658]\n",
      "                                                                                     [0.707107]\n",
      "                                                                                     [0.719340]\n",
      "                                                                                      [0.731354]\n",
      "                                                                                       [0.743145]\n",
      "                                                                                       [0.754710]\n",
      "                                                                                        [0.766044]\n",
      "                                                                                        [0.777146]\n",
      "                                                                                         [0.788011]\n",
      "                                                                                         [0.798636]\n",
      "                                                                                          [0.809017]\n",
      "                                                                                          [0.819152]\n",
      "                                                                                           [0.829038]\n",
      "                                                                                           [0.838671]\n",
      "                                                                                            [0.848048]\n",
      "                                                                                            [0.857167]\n",
      "                                                                                             [0.866025]\n",
      "                                                                                             [0.874620]\n",
      "                                                                                              [0.882948]\n",
      "                                                                                              [0.891007]\n",
      "                                                                                              [0.898794]\n",
      "                                                                                               [0.906308]\n",
      "                                                                                               [0.913545]\n",
      "                                                                                                [0.920505]\n",
      "                                                                                                [0.927184]\n",
      "                                                                                                [0.933580]\n",
      "                                                                                                [0.939693]\n",
      "                                                                                                 [0.945519]\n",
      "                                                                                                 [0.951057]\n",
      "                                                                                                 [0.956305]\n",
      "                                                                                                  [0.961262]\n",
      "                                                                                                  [0.965926]\n",
      "                                                                                                  [0.970296]\n",
      "                                                                                                  [0.974370]\n",
      "                                                                                                  [0.978148]\n",
      "                                                                                                   [0.981627]\n",
      "                                                                                                   [0.984808]\n",
      "                                                                                                   [0.987688]\n",
      "                                                                                                   [0.990268]\n",
      "                                                                                                   [0.992546]\n",
      "                                                                                                   [0.994522]\n",
      "                                                                                                   [0.996195]\n",
      "                                                                                                   [0.997564]\n",
      "                                                                                                   [0.998630]\n",
      "                                                                                                   [0.999391]\n",
      "                                                                                                   [0.999848]\n",
      "                                                                                                    [1.000000]\n",
      "                                                                                                   [0.999848]\n",
      "                                                                                                   [0.999391]\n",
      "                                                                                                   [0.998630]\n",
      "                                                                                                   [0.997564]\n",
      "                                                                                                   [0.996195]\n",
      "                                                                                                   [0.994522]\n",
      "                                                                                                   [0.992546]\n",
      "                                                                                                   [0.990268]\n",
      "                                                                                                   [0.987688]\n",
      "                                                                                                   [0.984808]\n",
      "                                                                                                   [0.981627]\n",
      "                                                                                                  [0.978148]\n",
      "                                                                                                  [0.974370]\n",
      "                                                                                                  [0.970296]\n",
      "                                                                                                  [0.965926]\n",
      "                                                                                                  [0.961262]\n",
      "                                                                                                 [0.956305]\n",
      "                                                                                                 [0.951057]\n",
      "                                                                                                 [0.945519]\n",
      "                                                                                                [0.939693]\n",
      "                                                                                                [0.933580]\n",
      "                                                                                                [0.927184]\n",
      "                                                                                                [0.920505]\n",
      "                                                                                               [0.913545]\n",
      "                                                                                               [0.906308]\n",
      "                                                                                              [0.898794]\n",
      "                                                                                              [0.891007]\n",
      "                                                                                              [0.882948]\n",
      "                                                                                             [0.874620]\n",
      "                                                                                             [0.866025]\n",
      "                                                                                            [0.857167]\n",
      "                                                                                            [0.848048]\n",
      "                                                                                           [0.838671]\n",
      "                                                                                           [0.829038]\n",
      "                                                                                          [0.819152]\n",
      "                                                                                          [0.809017]\n",
      "                                                                                         [0.798636]\n",
      "                                                                                         [0.788011]\n",
      "                                                                                        [0.777146]\n",
      "                                                                                        [0.766044]\n",
      "                                                                                       [0.754710]\n",
      "                                                                                       [0.743145]\n",
      "                                                                                      [0.731354]\n",
      "                                                                                     [0.719340]\n",
      "                                                                                     [0.707107]\n",
      "                                                                                    [0.694658]\n",
      "                                                                                    [0.681998]\n",
      "                                                                                   [0.669131]\n",
      "                                                                                  [0.656059]\n",
      "                                                                                  [0.642788]\n",
      "                                                                                 [0.629320]\n",
      "                                                                                [0.615661]\n",
      "                                                                                [0.601815]\n",
      "                                                                               [0.587785]\n",
      "                                                                              [0.573576]\n",
      "                                                                             [0.559193]\n",
      "                                                                             [0.544639]\n",
      "                                                                            [0.529919]\n",
      "                                                                           [0.515038]\n",
      "                                                                           [0.500000]\n",
      "                                                                          [0.484810]\n",
      "                                                                         [0.469472]\n",
      "                                                                        [0.453990]\n",
      "                                                                       [0.438371]\n",
      "                                                                       [0.422618]\n",
      "                                                                      [0.406737]\n",
      "                                                                     [0.390731]\n",
      "                                                                    [0.374607]\n",
      "                                                                   [0.358368]\n",
      "                                                                   [0.342020]\n",
      "                                                                  [0.325568]\n",
      "                                                                 [0.309017]\n",
      "                                                                [0.292372]\n",
      "                                                               [0.275637]\n",
      "                                                              [0.258819]\n",
      "                                                              [0.241922]\n",
      "                                                             [0.224951]\n",
      "                                                            [0.207912]\n",
      "                                                           [0.190809]\n",
      "                                                          [0.173648]\n",
      "                                                         [0.156434]\n",
      "                                                        [0.139173]\n",
      "                                                        [0.121869]\n",
      "                                                       [0.104528]\n",
      "                                                      [0.087156]\n",
      "                                                     [0.069756]\n",
      "                                                    [0.052336]\n",
      "                                                   [0.034899]\n",
      "                                                  [0.017452]\n",
      "                                                  [0.000000]\n",
      "                                                 [-0.017452]\n",
      "                                                [-0.034899]\n",
      "                                               [-0.052336]\n",
      "                                              [-0.069756]\n",
      "                                             [-0.087156]\n",
      "                                            [-0.104528]\n",
      "                                           [-0.121869]\n",
      "                                           [-0.139173]\n",
      "                                          [-0.156434]\n",
      "                                         [-0.173648]\n",
      "                                        [-0.190809]\n",
      "                                       [-0.207912]\n",
      "                                      [-0.224951]\n",
      "                                     [-0.241922]\n",
      "                                     [-0.258819]\n",
      "                                    [-0.275637]\n",
      "                                   [-0.292372]\n",
      "                                  [-0.309017]\n",
      "                                 [-0.325568]\n",
      "                                [-0.342020]\n",
      "                                [-0.358368]\n",
      "                               [-0.374607]\n",
      "                              [-0.390731]\n",
      "                             [-0.406737]\n",
      "                            [-0.422618]\n",
      "                            [-0.438371]\n",
      "                           [-0.453990]\n",
      "                          [-0.469472]\n",
      "                         [-0.484810]\n",
      "                        [-0.500000]\n",
      "                        [-0.515038]\n",
      "                       [-0.529919]\n",
      "                      [-0.544639]\n",
      "                      [-0.559193]\n",
      "                     [-0.573576]\n",
      "                    [-0.587785]\n",
      "                   [-0.601815]\n",
      "                   [-0.615661]\n",
      "                  [-0.629320]\n",
      "                 [-0.642788]\n",
      "                 [-0.656059]\n",
      "                [-0.669131]\n",
      "               [-0.681998]\n",
      "               [-0.694658]\n",
      "              [-0.707107]\n",
      "              [-0.719340]\n",
      "             [-0.731354]\n",
      "            [-0.743145]\n",
      "            [-0.754710]\n",
      "           [-0.766044]\n",
      "           [-0.777146]\n",
      "          [-0.788011]\n",
      "          [-0.798636]\n",
      "         [-0.809017]\n",
      "         [-0.819152]\n",
      "        [-0.829038]\n",
      "        [-0.838671]\n",
      "       [-0.848048]\n",
      "       [-0.857167]\n",
      "      [-0.866025]\n",
      "      [-0.874620]\n",
      "     [-0.882948]\n",
      "     [-0.891007]\n",
      "     [-0.898794]\n",
      "    [-0.906308]\n",
      "    [-0.913545]\n",
      "   [-0.920505]\n",
      "   [-0.927184]\n",
      "   [-0.933580]\n",
      "   [-0.939693]\n",
      "  [-0.945519]\n",
      "  [-0.951057]\n",
      "  [-0.956305]\n",
      " [-0.961262]\n",
      " [-0.965926]\n",
      " [-0.970296]\n",
      " [-0.974370]\n",
      " [-0.978148]\n",
      "[-0.981627]\n",
      "[-0.984808]\n",
      "[-0.987688]\n",
      "[-0.990268]\n",
      "[-0.992546]\n",
      "[-0.994522]\n",
      "[-0.996195]\n",
      "[-0.997564]\n",
      "[-0.998630]\n",
      "[-0.999391]\n",
      "[-0.999848]\n",
      "[-1.000000]\n",
      "[-0.999848]\n",
      "[-0.999391]\n",
      "[-0.998630]\n",
      "[-0.997564]\n",
      "[-0.996195]\n",
      "[-0.994522]\n",
      "[-0.992546]\n",
      "[-0.990268]\n",
      "[-0.987688]\n",
      "[-0.984808]\n",
      "[-0.981627]\n",
      " [-0.978148]\n",
      " [-0.974370]\n",
      " [-0.970296]\n",
      " [-0.965926]\n",
      " [-0.961262]\n",
      "  [-0.956305]\n",
      "  [-0.951057]\n",
      "  [-0.945519]\n",
      "   [-0.939693]\n",
      "   [-0.933580]\n",
      "   [-0.927184]\n",
      "   [-0.920505]\n",
      "    [-0.913545]\n",
      "    [-0.906308]\n",
      "     [-0.898794]\n",
      "     [-0.891007]\n",
      "     [-0.882948]\n",
      "      [-0.874620]\n",
      "      [-0.866025]\n",
      "       [-0.857167]\n",
      "       [-0.848048]\n",
      "        [-0.838671]\n",
      "        [-0.829038]\n",
      "         [-0.819152]\n",
      "         [-0.809017]\n",
      "          [-0.798636]\n",
      "          [-0.788011]\n",
      "           [-0.777146]\n",
      "           [-0.766044]\n",
      "            [-0.754710]\n",
      "            [-0.743145]\n",
      "             [-0.731354]\n",
      "              [-0.719340]\n",
      "              [-0.707107]\n",
      "               [-0.694658]\n",
      "               [-0.681998]\n",
      "                [-0.669131]\n",
      "                 [-0.656059]\n",
      "                 [-0.642788]\n",
      "                  [-0.629320]\n",
      "                   [-0.615661]\n",
      "                   [-0.601815]\n",
      "                    [-0.587785]\n",
      "                     [-0.573576]\n",
      "                      [-0.559193]\n",
      "                      [-0.544639]\n",
      "                       [-0.529919]\n",
      "                        [-0.515038]\n",
      "                        [-0.500000]\n",
      "                         [-0.484810]\n",
      "                          [-0.469472]\n",
      "                           [-0.453990]\n",
      "                            [-0.438371]\n",
      "                            [-0.422618]\n",
      "                             [-0.406737]\n",
      "                              [-0.390731]\n",
      "                               [-0.374607]\n",
      "                                [-0.358368]\n",
      "                                [-0.342020]\n",
      "                                 [-0.325568]\n",
      "                                  [-0.309017]\n",
      "                                   [-0.292372]\n",
      "                                    [-0.275637]\n",
      "                                     [-0.258819]\n",
      "                                     [-0.241922]\n",
      "                                      [-0.224951]\n",
      "                                       [-0.207912]\n",
      "                                        [-0.190809]\n",
      "                                         [-0.173648]\n",
      "                                          [-0.156434]\n",
      "                                           [-0.139173]\n",
      "                                           [-0.121869]\n",
      "                                            [-0.104528]\n",
      "                                             [-0.087156]\n",
      "                                              [-0.069756]\n",
      "                                               [-0.052336]\n",
      "                                                [-0.034899]\n",
      "                                                 [-0.017452]\n"
     ]
    }
   ],
   "source": [
    "from math import sin, pi # math 라이브러리 임포트\n",
    "\n",
    "for i in range(360): # 360도를 모두 출력하기 위해 반복문 사\n",
    "    sin_value = sin(i * pi / 180)  # i값을 이용해 sin값 계산\n",
    "    space_value = int((1 + sin_value) * 50) # sin값을 이용해 출력할 공백 갯수 계산\n",
    "    print(\" \" * space_value, end=\"\") # 계산한 공백 갯수 출력\n",
    "    print(\"[%f]\" % sin_value) # sin값을 이용해 출력"
   ]
  },
  {
   "cell_type": "code",
   "execution_count": 16,
   "id": "03523c58",
   "metadata": {},
   "outputs": [
    {
     "data": {
      "image/png": "[encoded data removed]",
      "text/plain": [
       "<Figure size 640x480 with 1 Axes>"
      ]
     },
     "metadata": {},
     "output_type": "display_data"
    }
   ],
   "source": [
    "from math import sin,pi # math 모듈에서 sin, pi 함수를 가져옴\n",
    "import matplotlib.pyplot as plt # matplotlib 모듈에서 pyplot 서브모듈을 가져와서 plt 라는 이름으로 사용\n",
    "\n",
    "graph_value=[] # 실수값을 저장할 빈 리스트를 생성\n",
    "for i in range(360):\n",
    "    graph_value.append(sin(i*pi/180)) # sin 값을 계산하여 리스트에 추가\n",
    "    \n",
    "plt.plot(graph_value) # 그래프를 그릴 값으로 리스트를 지정\n",
    "plt.show() # 그래프를 화면에 출력\n"
   ]
  },
  {
   "cell_type": "code",
   "execution_count": 17,
   "id": "21e3575f",
   "metadata": {},
   "outputs": [],
   "source": [
    "import statistics as s # 통계 라이브러리 임포트하고 s라고 부르기로 함"
   ]
  },
  {
   "cell_type": "code",
   "execution_count": 18,
   "id": "77599be1",
   "metadata": {},
   "outputs": [],
   "source": [
    "a=[100,95,25,33,45,90,100,35,25] # 변수 a에 리스트 형태로 값 저장"
   ]
  },
  {
   "cell_type": "code",
   "execution_count": 19,
   "id": "a50d643a",
   "metadata": {},
   "outputs": [
    {
     "data": {
      "text/plain": [
       "60.888888888888886"
      ]
     },
     "execution_count": 19,
     "metadata": {},
     "output_type": "execute_result"
    }
   ],
   "source": [
    "s.mean(a) #평균"
   ]
  },
  {
   "cell_type": "code",
   "execution_count": 20,
   "id": "a9999328",
   "metadata": {},
   "outputs": [
    {
     "data": {
      "text/plain": [
       "34.18129768032675"
      ]
     },
     "execution_count": 20,
     "metadata": {},
     "output_type": "execute_result"
    }
   ],
   "source": [
    "s.stdev(a) #표준편차"
   ]
  },
  {
   "cell_type": "code",
   "execution_count": 21,
   "id": "8f1db328",
   "metadata": {},
   "outputs": [
    {
     "data": {
      "text/plain": [
       "1168.361111111111"
      ]
     },
     "execution_count": 21,
     "metadata": {},
     "output_type": "execute_result"
    }
   ],
   "source": [
    "s.variance(a) #분산"
   ]
  },
  {
   "cell_type": "code",
   "execution_count": 22,
   "id": "6466917e",
   "metadata": {},
   "outputs": [],
   "source": [
    "import statistics as s # 통계 라이브러리 임포트하고 s라고 부르기로 함"
   ]
  },
  {
   "cell_type": "code",
   "execution_count": 23,
   "id": "cc1da72f",
   "metadata": {},
   "outputs": [
    {
     "data": {
      "text/plain": [
       "96.0"
      ]
     },
     "execution_count": 23,
     "metadata": {},
     "output_type": "execute_result"
    }
   ],
   "source": [
    "s.harmonic_mean([120,80]) #  : s 모듈의 harmonic_mean() 함수를 사용하여 주어진 리스트 [120,80]의 조화평균을 구한다.\n",
    "                        #조화평균은 주어진 값들의 역수의 평균의 역수이다."
   ]
  },
  {
   "cell_type": "code",
   "execution_count": 24,
   "id": "6fc5266f",
   "metadata": {},
   "outputs": [],
   "source": [
    "import time as t # time 라이브러리 임포트"
   ]
  },
  {
   "cell_type": "code",
   "execution_count": 25,
   "id": "27f6c85a",
   "metadata": {},
   "outputs": [
    {
     "data": {
      "text/plain": [
       "1683188670.4000132"
      ]
     },
     "execution_count": 25,
     "metadata": {},
     "output_type": "execute_result"
    }
   ],
   "source": [
    "a=t.time(); a #현재시간을 구함"
   ]
  },
  {
   "cell_type": "code",
   "execution_count": 26,
   "id": "80165252",
   "metadata": {},
   "outputs": [
    {
     "data": {
      "text/plain": [
       "'Thu May  4 17:24:30 2023'"
      ]
     },
     "execution_count": 26,
     "metadata": {},
     "output_type": "execute_result"
    }
   ],
   "source": [
    "t.ctime(a) #초단위로 표시된 시간을 문자형식으로 표현"
   ]
  },
  {
   "cell_type": "code",
   "execution_count": 27,
   "id": "ec0eda72",
   "metadata": {},
   "outputs": [
    {
     "data": {
      "text/plain": [
       "'Thu Jan  1 09:00:00 1970'"
      ]
     },
     "execution_count": 27,
     "metadata": {},
     "output_type": "execute_result"
    }
   ],
   "source": [
    "t.ctime(0) #우리나라 기준으로 time=0의 경우 1970년1월1일 오전9시 정각이다"
   ]
  },
  {
   "cell_type": "code",
   "execution_count": 28,
   "id": "1c84ed00",
   "metadata": {},
   "outputs": [],
   "source": [
    "import time as t  # time 라이브러리 임포트"
   ]
  },
  {
   "cell_type": "code",
   "execution_count": 29,
   "id": "e26c3f1b",
   "metadata": {},
   "outputs": [],
   "source": [
    "a=t.localtime() # 시간 요소를 구조체로 반환한다"
   ]
  },
  {
   "cell_type": "code",
   "execution_count": 30,
   "id": "282b55f1",
   "metadata": {},
   "outputs": [
    {
     "data": {
      "text/plain": [
       "time.struct_time(tm_year=2023, tm_mon=5, tm_mday=4, tm_hour=17, tm_min=25, tm_sec=41, tm_wday=3, tm_yday=124, tm_isdst=0)"
      ]
     },
     "execution_count": 30,
     "metadata": {},
     "output_type": "execute_result"
    }
   ],
   "source": [
    "a # a 출력"
   ]
  },
  {
   "cell_type": "code",
   "execution_count": 33,
   "id": "1d1774a0",
   "metadata": {},
   "outputs": [
    {
     "name": "stdout",
     "output_type": "stream",
     "text": [
      "2023년 5월 4일 17시 25분 41초\n"
     ]
    }
   ],
   "source": [
    "print(\"%d년 %d월 %d일 %02d시 %02d분 %02d초\"%(a.tm_year,a.tm_mon,a.tm_mday,a.tm_hour,a.tm_min,a.tm_sec))\n",
    "# 반환되는 구조체를 활용하여 포멧팅 작업을 거쳐 시간을 출력함 "
   ]
  },
  {
   "cell_type": "code",
   "execution_count": 34,
   "id": "ef727109",
   "metadata": {},
   "outputs": [],
   "source": [
    "import datetime as t # datetime 라이브러리 임포트"
   ]
  },
  {
   "cell_type": "code",
   "execution_count": 35,
   "id": "df6613af",
   "metadata": {},
   "outputs": [],
   "source": [
    "a=t.datetime.now() # datetime 모듈의 now()함수로 보다 직관적으로 시간을 출력할 수 있다"
   ]
  },
  {
   "cell_type": "code",
   "execution_count": 37,
   "id": "86c720a2",
   "metadata": {},
   "outputs": [
    {
     "name": "stdout",
     "output_type": "stream",
     "text": [
      "2023년 5월 4일 17시 30분 11초\n"
     ]
    }
   ],
   "source": [
    "print(\"%d년 %d월 %d일 %02d시 %02d분 %02d초\"%(a.year,a.month,a.day,a.hour,a.minute,a.second))\n",
    "# 반환되는 구조체를 활용하여 포멧팅 작업을 거쳐 시간을 출력함 "
   ]
  },
  {
   "cell_type": "code",
   "execution_count": 42,
   "id": "688711b8",
   "metadata": {},
   "outputs": [
    {
     "name": "stdout",
     "output_type": "stream",
     "text": [
      "0.000637 초 동안 실행함\n"
     ]
    }
   ],
   "source": [
    "import time as t  # time 라이브러리 임포트\n",
    "\n",
    "start=t.time() # 시간 요소를 구조체로 변수 start에 반환한다\n",
    "for i in range(10000): # 10000-1까지 반복\n",
    "    pass # pass\n",
    "end=t.time() # 시간 요소를 구조체로 end에 반환한다\n",
    "\n",
    "print(\"%f 초 동안 실행함\"%(end-start)) # 시작 시간 초와 종료 시간 초의 차이로 실행 시간을 구할수 있다"
   ]
  },
  {
   "cell_type": "code",
   "execution_count": 43,
   "id": "23bca5f1",
   "metadata": {},
   "outputs": [
    {
     "name": "stdout",
     "output_type": "stream",
     "text": [
      "Thu May  4 17:36:49 2023\n",
      "Thu May  4 17:36:52 2023\n",
      "Thu May  4 17:36:55 2023\n",
      "Thu May  4 17:36:58 2023\n",
      "Thu May  4 17:37:01 2023\n",
      "Thu May  4 17:37:04 2023\n",
      "Thu May  4 17:37:07 2023\n",
      "Thu May  4 17:37:10 2023\n",
      "Thu May  4 17:37:13 2023\n",
      "Thu May  4 17:37:16 2023\n"
     ]
    }
   ],
   "source": [
    "import time as t # time 라이브러리 임포트\n",
    "\n",
    "for i in range(10): # 10-1 까지 반복\n",
    "    print(t.ctime()) # 현재시간 출력\n",
    "    t.sleep(3) # sleep(n)함수 n초 동안 실행을 멈춘 후 다시 실행"
   ]
  },
  {
   "cell_type": "code",
   "execution_count": 44,
   "id": "bb688061",
   "metadata": {},
   "outputs": [
    {
     "data": {
      "image/png": "[encoded data removed]",
      "text/plain": [
       "<Figure size 640x480 with 1 Axes>"
      ]
     },
     "metadata": {},
     "output_type": "display_data"
    }
   ],
   "source": [
    "import random as r  # random 모듈을 r로 import\n",
    "import matplotlib.pyplot as plt  # matplotlib의 pyplot 모듈을 plt로 import\n",
    "\n",
    "score = []  # 빈 리스트 선언\n",
    "for i in range(100):\n",
    "    score.append(r.randrange(0,100))  # 0~100 범위의 난수를 score 리스트에 추가\n",
    "\n",
    "plt.plot(score)  # score 리스트를 그래프 함수에 넣음\n",
    "plt.show()  # 그래프를 보여줌"
   ]
  },
  {
   "cell_type": "code",
   "execution_count": 45,
   "id": "31cf774a",
   "metadata": {},
   "outputs": [],
   "source": [
    "import sys # 시스템의 정보와 시스템을 관리할 수 있는 모듈"
   ]
  },
  {
   "cell_type": "code",
   "execution_count": 46,
   "id": "c8ce17a3",
   "metadata": {},
   "outputs": [
    {
     "data": {
      "text/plain": [
       "'3.8.8rc1 (tags/v3.8.8rc1:dfd7d68, Feb 17 2021, 11:01:21) [MSC v.1928 64 bit (AMD64)]'"
      ]
     },
     "execution_count": 46,
     "metadata": {},
     "output_type": "execute_result"
    }
   ],
   "source": [
    "sys.version #파이썬 버전 조회"
   ]
  },
  {
   "cell_type": "code",
   "execution_count": 47,
   "id": "a47f76b9",
   "metadata": {},
   "outputs": [
    {
     "data": {
      "text/plain": [
       "'win32'"
      ]
     },
     "execution_count": 47,
     "metadata": {},
     "output_type": "execute_result"
    }
   ],
   "source": [
    "sys.platform #파이썬 설치 플랫폼"
   ]
  },
  {
   "cell_type": "code",
   "execution_count": 48,
   "id": "980386a7",
   "metadata": {},
   "outputs": [
    {
     "data": {
      "text/plain": [
       "sys.getwindowsversion(major=10, minor=0, build=19045, platform=2, service_pack='')"
      ]
     },
     "execution_count": 48,
     "metadata": {},
     "output_type": "execute_result"
    }
   ],
   "source": [
    "sys.getwindowsversion() #설치된 윈도우의 버전"
   ]
  },
  {
   "cell_type": "code",
   "execution_count": 49,
   "id": "eb69148c",
   "metadata": {},
   "outputs": [],
   "source": [
    "import os # import os를 통하여 operating system(운영체계 윈도우)을 제어할 수 있다"
   ]
  },
  {
   "cell_type": "code",
   "execution_count": 50,
   "id": "5475e68c",
   "metadata": {},
   "outputs": [
    {
     "data": {
      "text/plain": [
       "'C:\\\\Users\\\\yeeyi\\\\Desktop\\\\pythonSrc'"
      ]
     },
     "execution_count": 50,
     "metadata": {},
     "output_type": "execute_result"
    }
   ],
   "source": [
    "os.getcwd() # os.getcwd()로 현재 실행 디렉토리를 얻을 수"
   ]
  },
  {
   "cell_type": "code",
   "execution_count": 51,
   "id": "c6c07648",
   "metadata": {},
   "outputs": [
    {
     "data": {
      "text/plain": [
       "0"
      ]
     },
     "execution_count": 51,
     "metadata": {},
     "output_type": "execute_result"
    }
   ],
   "source": [
    "os.system(\"calc\") #계산기 실행"
   ]
  },
  {
   "cell_type": "code",
   "execution_count": 57,
   "id": "d567030d",
   "metadata": {},
   "outputs": [
    {
     "data": {
      "text/plain": [
       "1"
      ]
     },
     "execution_count": 57,
     "metadata": {},
     "output_type": "execute_result"
    }
   ],
   "source": [
    "os.system(\"IDLE\") #IDLE실행,실행안됨 path가 다름, 1리턴"
   ]
  },
  {
   "cell_type": "code",
   "execution_count": 53,
   "id": "36b6f63d",
   "metadata": {},
   "outputs": [
    {
     "data": {
      "text/plain": [
       "0"
      ]
     },
     "execution_count": 53,
     "metadata": {},
     "output_type": "execute_result"
    }
   ],
   "source": [
    "os.system(\"python\") #파이썬 실행 실행된 상태에서 기다림"
   ]
  },
  {
   "cell_type": "code",
   "execution_count": 55,
   "id": "33b5ea63",
   "metadata": {},
   "outputs": [
    {
     "data": {
      "text/plain": [
       "1"
      ]
     },
     "execution_count": 55,
     "metadata": {},
     "output_type": "execute_result"
    }
   ],
   "source": [
    "os.system(\"shutdown -f -t 10\") #이 명령 수행전 모든 윈도우 프로그램을 정리할 것"
   ]
  },
  {
   "cell_type": "code",
   "execution_count": 59,
   "id": "dc129264",
   "metadata": {},
   "outputs": [
    {
     "name": "stdout",
     "output_type": "stream",
     "text": [
      "<meta name=\"author\" content=\"폴리텍대학\" />\r\n",
      "\n",
      "<meta name=\"description\" content=\"폴리텍대학 홈페이지입니다.\" />\r\n",
      "\n",
      "<meta name=\"keywords\" content=\"폴리텍대학\" />\r\n",
      "\n",
      "<title>학교법인한국폴리텍</title>\r\n",
      "\n",
      "\t<a class=\"nav-skip__item\" href=\"#pg-div\">학교법인한국폴리텍본문 바로가기</a><br/>\r\n",
      "\n",
      "\t<a class=\"nav-skip__item\" href=\"#kopoMenu\">학교법인한국폴리텍주메뉴 바로가기</a>\r\n",
      "\n",
      "\t\t\t<a href =\"javascript:showAllCampus();\" title=\"폴리텍대학 캠퍼스 목록 표시\">전국 캠퍼스 안내</a>\r\n",
      "\n",
      "\t\t\t\t<h3>한국폴리텍대학 전국 캠퍼스 안내</h3>\r\n",
      "\n",
      "\t\t\t<img class=\"all_campus_map\" alt=\"한국폴리텍대학 전국 캠퍼스 지도\" src=\"/images/kopo/all_campus_map2.png\"/>\r\n",
      "\n",
      "\t\t<a href=\"#\" class=\"all_campus_close\" onclick=\"showAllCampus(); return false;\"><img alt=\"한국폴리텍대학 전국 캠퍼스 바로가기 닫기\" src=\"/images/kopo/all_cam_close.png\"/></a>\r\n",
      "\n",
      "\t\t\t<img src=\"/assets2021/img/logo_header_pc.png\" alt=\"한국폴리텍대학 \">\r\n",
      "\n",
      "\t\t\t\t\t\t\t폴리텍대학 소개</span></a><div class=\"depth-2\"><div class=\"container\">\r\n",
      "\n",
      "\t\t\t\t\t\t\t폴리텍대학 소개</span></a></div>\r\n",
      "\n",
      "\t\t\t\t\t\t\t폴리텍 역사</span></a></li>\r\n",
      "\n",
      "\t\t\t\t\t\t\t폴리텍대학 소식</span></a></div>\r\n",
      "\n",
      "\t\t\t\t\t\t\t폴리텍대학 홍보</span></a></div>\r\n",
      "\n",
      "\t\t\t\t\t\t\t폴리텍人 스토리 공모전 수상작</span></a></li>\r\n",
      "\n",
      "\t\t\t\t\t\t\t폴리텍 컬러링 신청</span></a></li>\r\n",
      "\n",
      "\t\t\t\t\t\t\t폴리텍English 음원</span></a></li>\r\n",
      "\n",
      "\t\t\t\t\t\t\t폴리텍대학 강점</span></a></div>\r\n",
      "\n",
      "\t\t\t\t\t\t\t참人폴리텍</span></a></li>\r\n",
      "\n",
      "\t<h2 class=\"hidden\">한국폴리텍 주요정보</h2>\r\n",
      "\n",
      "바로 곁에 폴리텍 \r\n",
      "\n",
      "취풍당당 폴리텍人\r\n",
      "\n",
      "기술이 취업이다 폴리텍이 취업이다\r\n",
      "\n",
      "한국폴리텍대학\r\n",
      "\n",
      "\t\t\t\t\t\t\t\t<span class=\"icon-quick\" style=\"background-image: url('https://www.kopo.ac.kr/cmm/fms/kopoImg.do?atchFileId=FILE_000000000276798&fileSn=0');\"></span><span class=\"icon-txt\">폴리텍 역사</span>\r\n",
      "\n",
      "\t\t\t\t<button onclick=\"popOpen('.sch-pop')\">나에게 맞는 폴리텍 과정 찾기</button>\r\n",
      "\n",
      "\t\t\t\t\t<span class=\"for-mobile\">나에게 맞는 폴리텍</span>\r\n",
      "\n",
      "\t<h2><span class=\"em\">폴리텍</span> 소식</h2>\r\n",
      "\n",
      "\t\t\t\t\t\t\t\t<p class=\"content\">한국폴리텍인사이트 2023 디지털시대의 ABBC전략</p>\r\n",
      "\n",
      "\t\t\t\t\t\t\t\t<p class=\"content\">대한경제 - 폴리텍대, 안전 문화 우수 캠퍼스로 대구ㆍ광주ㆍ대전 선정</p>\r\n",
      "\n",
      "\t\t\t\t\t\t\t\t<p class=\"content\">서울신문 - 배우·기술인·천문학도 ‘이색 신입생’…폴리텍대학서 새로운 도전 스타트</p>\r\n",
      "\n",
      "\t\t\t\t\t\t\t\t<p class=\"content\">한국폴리텍인사이트 2023 디지털시대의 ABBC전략</p>\r\n",
      "\n",
      "\t\t\t\t\t\t\t\t<p class=\"content\">한국폴리텍대학 남인천캠퍼스 지역대학장 공개초빙 공고</p>\r\n",
      "\n",
      "\t\t\t\t\t\t\t\t<p class=\"content\">대한경제 - 폴리텍대, 안전 문화 우수 캠퍼스로 대구ㆍ광주ㆍ대전 선정</p>\r\n",
      "\n",
      "\t\t\t\t\t\t\t\t<p class=\"content\">서울신문 - 배우·기술인·천문학도 ‘이색 신입생’…폴리텍대학서 새로운 도전 스타트</p>\r\n",
      "\n",
      "\t\t\t\t\t\t\t\t<p class=\"content\">연합뉴스 - 폴리텍, 반도체.인공지능 등 분야에 교수 55명 배치</p>\r\n",
      "\n",
      "\t\t\t\t\t\t\t\t<p class=\"content\">뉴스핌 -  \"국민 누구나 폴리텍에서 직업체험·실습을\"</p>\r\n",
      "\n",
      "\t\t\t\t\t\t\t\t<p class=\"content\">뉴스핌 - 폴리텍대 바이오캠퍼스, 교수·장비·과정 삼박자 갖췄다</p>\r\n",
      "\n",
      "\t\t\t\t\tpip_title=\"폴리텍 소식\";\r\n",
      "\n",
      "\t\t<h3 class=\"hidden\">한국폴리텍대학 푸터</h3>\r\n",
      "\n",
      "\t\t<a class=\"footer__logo\" href=\"/index.do\"><img src=\"/assets2021/img/logo_header_wh.png\" alt=\"한국폴리텍대학\"></a>\r\n",
      "\n",
      "<!-- 폴리텍과정찾기 popup -->\n",
      "\n",
      "\t\t\t<h2>나에게 맞는<br>폴리텍과정찾기</h2>\n",
      "\n",
      "\t\t\t\t<span class=\"placeholder\">나에게 맞는 폴리텍과정 찾기\n",
      "\n",
      "<!-- // 폴리텍과정찾기 popup -->\n",
      "\n"
     ]
    }
   ],
   "source": [
    "# urlopen() 함수를 이용하여 \"http://www.kopo.ac.kr/\"에 접속하고, 해당 웹 페이지의 소스코드를 받아와서 한 줄씩 처리\n",
    "from urllib.request import urlopen\n",
    "\n",
    "with urlopen('http://www.kopo.ac.kr/') as response: # url 열기\n",
    "    for line in response: # response에서 한 줄씩 읽어들임\n",
    "        line = line.decode('utf-8') # 디코딩하여 한글 처리\n",
    "        if \"폴리텍\" in line: # 만약 해당 문자열이 한 줄에 존재하면 \n",
    "            print(line) # 출력"
   ]
  },
  {
   "cell_type": "code",
   "execution_count": null,
   "id": "7ec6f497",
   "metadata": {},
   "outputs": [],
   "source": []
  }
 ],
 "metadata": {
  "kernelspec": {
   "display_name": "Python 3 (ipykernel)",
   "language": "python",
   "name": "python3"
  },
  "language_info": {
   "codemirror_mode": {
    "name": "ipython",
    "version": 3
   },
   "file_extension": ".py",
   "mimetype": "text/x-python",
   "name": "python",
   "nbconvert_exporter": "python",
   "pygments_lexer": "ipython3",
   "version": "3.8.8rc1"
  }
 },
 "nbformat": 4,
 "nbformat_minor": 5
}
