{
 "cells": [
  {
   "cell_type": "code",
   "execution_count": 1,
   "id": "4ececaf3",
   "metadata": {},
   "outputs": [],
   "source": [
    "a=3 # 변수 a에 3 대입"
   ]
  },
  {
   "cell_type": "code",
   "execution_count": 2,
   "id": "cf85b52e",
   "metadata": {},
   "outputs": [],
   "source": [
    "b=4 # 변수 b에 4 대입"
   ]
  },
  {
   "cell_type": "code",
   "execution_count": 3,
   "id": "762c54a1",
   "metadata": {},
   "outputs": [],
   "source": [
    "c=123+456*6 # 변수 c에123+456*6을 계산한 값 대입"
   ]
  },
  {
   "cell_type": "code",
   "execution_count": 4,
   "id": "24bf5e9d",
   "metadata": {},
   "outputs": [
    {
     "data": {
      "text/plain": [
       "(3, 4, 2859)"
      ]
     },
     "execution_count": 4,
     "metadata": {},
     "output_type": "execute_result"
    }
   ],
   "source": [
    "a,b,c # a,b,c 각각 값 출력"
   ]
  },
  {
   "cell_type": "code",
   "execution_count": 5,
   "id": "4e226814",
   "metadata": {},
   "outputs": [
    {
     "ename": "SyntaxError",
     "evalue": "cannot assign to operator (1001618493.py, line 1)",
     "output_type": "error",
     "traceback": [
      "\u001b[1;36m  Cell \u001b[1;32mIn[5], line 1\u001b[1;36m\u001b[0m\n\u001b[1;33m    a+b=c\u001b[0m\n\u001b[1;37m    ^\u001b[0m\n\u001b[1;31mSyntaxError\u001b[0m\u001b[1;31m:\u001b[0m cannot assign to operator\n"
     ]
    }
   ],
   "source": [
    "a+b=c # 수식 = 변수는 불가능"
   ]
  },
  {
   "cell_type": "code",
   "execution_count": 6,
   "id": "87d16a6c",
   "metadata": {},
   "outputs": [
    {
     "ename": "SyntaxError",
     "evalue": "cannot assign to operator (1236383597.py, line 1)",
     "output_type": "error",
     "traceback": [
      "\u001b[1;36m  Cell \u001b[1;32mIn[6], line 1\u001b[1;36m\u001b[0m\n\u001b[1;33m    123+456=a\u001b[0m\n\u001b[1;37m    ^\u001b[0m\n\u001b[1;31mSyntaxError\u001b[0m\u001b[1;31m:\u001b[0m cannot assign to operator\n"
     ]
    }
   ],
   "source": [
    "123+456=a # 수식 = 변수는 불가능"
   ]
  },
  {
   "cell_type": "code",
   "execution_count": 7,
   "id": "24004a9f",
   "metadata": {},
   "outputs": [],
   "source": [
    "a=1 # 변수 a에 수치형 값 1 대입"
   ]
  },
  {
   "cell_type": "code",
   "execution_count": 8,
   "id": "3acda84d",
   "metadata": {},
   "outputs": [
    {
     "ename": "TypeError",
     "evalue": "unsupported operand type(s) for +: 'int' and 'str'",
     "output_type": "error",
     "traceback": [
      "\u001b[1;31m---------------------------------------------------------------------------\u001b[0m",
      "\u001b[1;31mTypeError\u001b[0m                                 Traceback (most recent call last)",
      "Cell \u001b[1;32mIn[8], line 1\u001b[0m\n\u001b[1;32m----> 1\u001b[0m a\u001b[38;5;241m=\u001b[39m\u001b[43ma\u001b[49m\u001b[38;5;241;43m+\u001b[39;49m\u001b[38;5;124;43m\"\u001b[39;49m\u001b[38;5;124;43m안녕\u001b[39;49m\u001b[38;5;124;43m\"\u001b[39;49m\n",
      "\u001b[1;31mTypeError\u001b[0m: unsupported operand type(s) for +: 'int' and 'str'"
     ]
    }
   ],
   "source": [
    "a=a+\"안녕\" # a는 수치형인데 문자형과의 덧셈 error"
   ]
  },
  {
   "cell_type": "code",
   "execution_count": 9,
   "id": "d344508d",
   "metadata": {},
   "outputs": [],
   "source": [
    "a=\"abc\" #a에 다시 문자를 대입하는 순간 a형은 문자형이 됨"
   ]
  },
  {
   "cell_type": "code",
   "execution_count": 10,
   "id": "8b532da8",
   "metadata": {},
   "outputs": [],
   "source": [
    "a=a+\"안녕\" # 문자형 + 문자형 = 문자형 붙여쓰기"
   ]
  },
  {
   "cell_type": "code",
   "execution_count": 11,
   "id": "70e2bec3",
   "metadata": {},
   "outputs": [
    {
     "data": {
      "text/plain": [
       "'abc안녕'"
      ]
     },
     "execution_count": 11,
     "metadata": {},
     "output_type": "execute_result"
    }
   ],
   "source": [
    "a # a 값 출력"
   ]
  },
  {
   "cell_type": "code",
   "execution_count": 12,
   "id": "4850cb60",
   "metadata": {},
   "outputs": [],
   "source": [
    "a=1 # 변수 a에 1 대입"
   ]
  },
  {
   "cell_type": "code",
   "execution_count": 13,
   "id": "7c4a63c2",
   "metadata": {},
   "outputs": [],
   "source": [
    "b=2 # 변수 b에 2 대입"
   ]
  },
  {
   "cell_type": "code",
   "execution_count": 14,
   "id": "566a14e4",
   "metadata": {},
   "outputs": [
    {
     "data": {
      "text/plain": [
       "(1, 2)"
      ]
     },
     "execution_count": 14,
     "metadata": {},
     "output_type": "execute_result"
    }
   ],
   "source": [
    "a,b # a,b 값 출력"
   ]
  },
  {
   "cell_type": "code",
   "execution_count": 15,
   "id": "6690b38e",
   "metadata": {},
   "outputs": [],
   "source": [
    "a,b=b,a # a,b=b,a 로 a,b변수의 값을 서로 바꿀 수 있음"
   ]
  },
  {
   "cell_type": "code",
   "execution_count": 16,
   "id": "a8ed5906",
   "metadata": {},
   "outputs": [
    {
     "data": {
      "text/plain": [
       "(2, 1)"
      ]
     },
     "execution_count": 16,
     "metadata": {},
     "output_type": "execute_result"
    }
   ],
   "source": [
    "a,b # 바뀐 a,b 값 출력"
   ]
  },
  {
   "cell_type": "code",
   "execution_count": 18,
   "id": "966e9c25",
   "metadata": {},
   "outputs": [],
   "source": [
    "a,b,c,d,e,f=1,2,\"안녕\",\"하셔요\",3,4 # 여러 변수를 한번에 대입 가능"
   ]
  },
  {
   "cell_type": "code",
   "execution_count": 19,
   "id": "809cc605",
   "metadata": {},
   "outputs": [
    {
     "data": {
      "text/plain": [
       "(1, 2, '안녕', '하셔요', 3, 4)"
      ]
     },
     "execution_count": 19,
     "metadata": {},
     "output_type": "execute_result"
    }
   ],
   "source": [
    "a,b,c,d,e,f # 여러 변수 출력"
   ]
  },
  {
   "cell_type": "code",
   "execution_count": 20,
   "id": "f0226377",
   "metadata": {},
   "outputs": [],
   "source": [
    "a=b=1 # 변수 a, b에 1 대입"
   ]
  },
  {
   "cell_type": "code",
   "execution_count": 21,
   "id": "d6516b94",
   "metadata": {},
   "outputs": [
    {
     "data": {
      "text/plain": [
       "(1, 1)"
      ]
     },
     "execution_count": 21,
     "metadata": {},
     "output_type": "execute_result"
    }
   ],
   "source": [
    "a,b # a, b 값 출력"
   ]
  },
  {
   "cell_type": "code",
   "execution_count": 22,
   "id": "71af3f48",
   "metadata": {},
   "outputs": [],
   "source": [
    "b=2 # b에 2 대입"
   ]
  },
  {
   "cell_type": "code",
   "execution_count": 23,
   "id": "991d69f9",
   "metadata": {},
   "outputs": [
    {
     "data": {
      "text/plain": [
       "(1, 2)"
      ]
     },
     "execution_count": 23,
     "metadata": {},
     "output_type": "execute_result"
    }
   ],
   "source": [
    "a,b # a, b 값 출력"
   ]
  },
  {
   "cell_type": "code",
   "execution_count": 24,
   "id": "f53e84aa",
   "metadata": {},
   "outputs": [],
   "source": [
    "a=b=[1,2,3] # 변수 a, b에 컬렉션 값 대입 => 같은 변수 공유"
   ]
  },
  {
   "cell_type": "code",
   "execution_count": 25,
   "id": "4464ea01",
   "metadata": {},
   "outputs": [
    {
     "data": {
      "text/plain": [
       "([1, 2, 3], [1, 2, 3])"
      ]
     },
     "execution_count": 25,
     "metadata": {},
     "output_type": "execute_result"
    }
   ],
   "source": [
    "a,b # a, b 출력"
   ]
  },
  {
   "cell_type": "code",
   "execution_count": 26,
   "id": "a190c320",
   "metadata": {},
   "outputs": [],
   "source": [
    "a[1]=4 # a의 index 첫번째 값 4 대입"
   ]
  },
  {
   "cell_type": "code",
   "execution_count": 27,
   "id": "47c69790",
   "metadata": {},
   "outputs": [
    {
     "data": {
      "text/plain": [
       "([1, 4, 3], [1, 4, 3])"
      ]
     },
     "execution_count": 27,
     "metadata": {},
     "output_type": "execute_result"
    }
   ],
   "source": [
    "a,b # 컬렉션은 변수를 공유하는 것이기 때문에 b도 같이 바뀐다"
   ]
  },
  {
   "cell_type": "code",
   "execution_count": 28,
   "id": "e6a7c844",
   "metadata": {},
   "outputs": [],
   "source": [
    "a=[1,2,3,4,5] # 변수 a에 컬렉션 값 대입"
   ]
  },
  {
   "cell_type": "code",
   "execution_count": 29,
   "id": "fbb4b4d8",
   "metadata": {},
   "outputs": [],
   "source": [
    "b=a[:] # 변수 b에 a의 컬렉션 값 전부 공유"
   ]
  },
  {
   "cell_type": "code",
   "execution_count": 30,
   "id": "59022609",
   "metadata": {},
   "outputs": [
    {
     "data": {
      "text/plain": [
       "([1, 2, 3, 4, 5], [1, 2, 3, 4, 5])"
      ]
     },
     "execution_count": 30,
     "metadata": {},
     "output_type": "execute_result"
    }
   ],
   "source": [
    "a,b # a, b 출력"
   ]
  },
  {
   "cell_type": "code",
   "execution_count": 31,
   "id": "9660fa06",
   "metadata": {},
   "outputs": [],
   "source": [
    "a[2]=5 # a의 3번째 값에 5 대입"
   ]
  },
  {
   "cell_type": "code",
   "execution_count": 32,
   "id": "985dccf8",
   "metadata": {},
   "outputs": [
    {
     "data": {
      "text/plain": [
       "([1, 2, 5, 4, 5], [1, 2, 3, 4, 5])"
      ]
     },
     "execution_count": 32,
     "metadata": {},
     "output_type": "execute_result"
    }
   ],
   "source": [
    "a,b # 컬렉션은 변수를 공유하는 것이기 때문에 b도 같이 바뀐다"
   ]
  },
  {
   "cell_type": "code",
   "execution_count": 33,
   "id": "37fbc66a",
   "metadata": {},
   "outputs": [],
   "source": [
    "import sys # 파이썬에서 기본적으로 제공되는 sys 모듈을 현재 작업 환경에서 사용할 수 있도록 가져오는 코드"
   ]
  },
  {
   "cell_type": "code",
   "execution_count": 34,
   "id": "ae387c0e",
   "metadata": {},
   "outputs": [],
   "source": [
    "a=123 # a=123 이라고 정의"
   ]
  },
  {
   "cell_type": "code",
   "execution_count": 35,
   "id": "0b7f3ce8",
   "metadata": {},
   "outputs": [
    {
     "data": {
      "text/plain": [
       "28"
      ]
     },
     "execution_count": 35,
     "metadata": {},
     "output_type": "execute_result"
    }
   ],
   "source": [
    "sys.getrefcount(123) # 123을 어느 공간에 만들어 놓고 참조하는 방식"
   ]
  },
  {
   "cell_type": "code",
   "execution_count": 36,
   "id": "0fa04d21",
   "metadata": {},
   "outputs": [
    {
     "data": {
      "text/plain": [
       "30"
      ]
     },
     "execution_count": 36,
     "metadata": {},
     "output_type": "execute_result"
    }
   ],
   "source": [
    "b=123;sys.getrefcount(123) # b=123을 만나면 참조횟수가 증가함"
   ]
  },
  {
   "cell_type": "code",
   "execution_count": 37,
   "id": "8848f5c9",
   "metadata": {},
   "outputs": [
    {
     "data": {
      "text/plain": [
       "31"
      ]
     },
     "execution_count": 37,
     "metadata": {},
     "output_type": "execute_result"
    }
   ],
   "source": [
    "c=123;sys.getrefcount(123) # c=123을 만나면 참조횟수가 증가함"
   ]
  },
  {
   "cell_type": "code",
   "execution_count": 38,
   "id": "0a3e505f",
   "metadata": {},
   "outputs": [
    {
     "data": {
      "text/plain": [
       "2.5"
      ]
     },
     "execution_count": 38,
     "metadata": {},
     "output_type": "execute_result"
    }
   ],
   "source": [
    "1+2*3/4 # 사칙연산 순으로 계산 곱셈-나눗셈-덧셈 순"
   ]
  },
  {
   "cell_type": "code",
   "execution_count": 39,
   "id": "a2bec311",
   "metadata": {},
   "outputs": [
    {
     "data": {
      "text/plain": [
       "8"
      ]
     },
     "execution_count": 39,
     "metadata": {},
     "output_type": "execute_result"
    }
   ],
   "source": [
    "2**3 # 2의 3제곱"
   ]
  },
  {
   "cell_type": "code",
   "execution_count": 40,
   "id": "f4e54e82",
   "metadata": {},
   "outputs": [
    {
     "data": {
      "text/plain": [
       "3.3333333333333335"
      ]
     },
     "execution_count": 40,
     "metadata": {},
     "output_type": "execute_result"
    }
   ],
   "source": [
    "10/3 # 10 나누기 3"
   ]
  },
  {
   "cell_type": "code",
   "execution_count": 41,
   "id": "607eeb27",
   "metadata": {},
   "outputs": [
    {
     "data": {
      "text/plain": [
       "1.23456789012e+23"
      ]
     },
     "execution_count": 41,
     "metadata": {},
     "output_type": "execute_result"
    }
   ],
   "source": [
    "1e12*123456789012 # 1e12은 10의 12승을 의미"
   ]
  },
  {
   "cell_type": "code",
   "execution_count": 42,
   "id": "8affd20a",
   "metadata": {},
   "outputs": [],
   "source": [
    "a=1+2j # a에 복소수 값 대입"
   ]
  },
  {
   "cell_type": "code",
   "execution_count": 43,
   "id": "9e427faa",
   "metadata": {},
   "outputs": [
    {
     "data": {
      "text/plain": [
       "(124+14j)"
      ]
     },
     "execution_count": 43,
     "metadata": {},
     "output_type": "execute_result"
    }
   ],
   "source": [
    "a+(123+12j) # 괄호 안에 곱셈 계산 먼저"
   ]
  },
  {
   "cell_type": "code",
   "execution_count": 44,
   "id": "89ff20fc",
   "metadata": {},
   "outputs": [
    {
     "data": {
      "text/plain": [
       "2.5"
      ]
     },
     "execution_count": 44,
     "metadata": {},
     "output_type": "execute_result"
    }
   ],
   "source": [
    "5/2 # 실수형 연산자(/) 사용한 값은 실수형"
   ]
  },
  {
   "cell_type": "code",
   "execution_count": 45,
   "id": "ca0dd0a3",
   "metadata": {},
   "outputs": [
    {
     "data": {
      "text/plain": [
       "2"
      ]
     },
     "execution_count": 45,
     "metadata": {},
     "output_type": "execute_result"
    }
   ],
   "source": [
    "5//2 # 정수형 연산자(//) 사용한 값은 정수형 = 몫 "
   ]
  },
  {
   "cell_type": "code",
   "execution_count": 46,
   "id": "a5c9163e",
   "metadata": {},
   "outputs": [
    {
     "data": {
      "text/plain": [
       "1"
      ]
     },
     "execution_count": 46,
     "metadata": {},
     "output_type": "execute_result"
    }
   ],
   "source": [
    "5%2 # 정수형 연산자(%) 사용한 값은 정수형 = 나머지"
   ]
  },
  {
   "cell_type": "code",
   "execution_count": 47,
   "id": "e787f23b",
   "metadata": {},
   "outputs": [
    {
     "name": "stdout",
     "output_type": "stream",
     "text": [
      "2\n"
     ]
    }
   ],
   "source": [
    "a=1;a=a+1;print(a) # 변수 a에 1 대입, 변수 a에 a+1 대입, 출력"
   ]
  },
  {
   "cell_type": "code",
   "execution_count": 48,
   "id": "101900ee",
   "metadata": {},
   "outputs": [
    {
     "name": "stdout",
     "output_type": "stream",
     "text": [
      "2\n"
     ]
    }
   ],
   "source": [
    "a=1;a+=1;print(a) # 누적 : a= a+1 → a +=a 로 표시"
   ]
  },
  {
   "cell_type": "code",
   "execution_count": 49,
   "id": "0b36042e",
   "metadata": {},
   "outputs": [
    {
     "data": {
      "text/plain": [
       "4"
      ]
     },
     "execution_count": 49,
     "metadata": {},
     "output_type": "execute_result"
    }
   ],
   "source": [
    "a*=2;a # a * 2 를 변수 a에 대입, a 출력"
   ]
  },
  {
   "cell_type": "code",
   "execution_count": 50,
   "id": "2c0f29c8",
   "metadata": {},
   "outputs": [
    {
     "data": {
      "text/plain": [
       "8"
      ]
     },
     "execution_count": 50,
     "metadata": {},
     "output_type": "execute_result"
    }
   ],
   "source": [
    "a*=2;a # a * 2 를 변수 a에 대입, a 출력"
   ]
  },
  {
   "cell_type": "code",
   "execution_count": 51,
   "id": "7d68eb0a",
   "metadata": {},
   "outputs": [
    {
     "data": {
      "text/plain": [
       "0"
      ]
     },
     "execution_count": 51,
     "metadata": {},
     "output_type": "execute_result"
    }
   ],
   "source": [
    "a=1;a-=1;a # 변수 a에 1 대입, 변수 a에 a-1 대입, 출력"
   ]
  },
  {
   "cell_type": "code",
   "execution_count": 52,
   "id": "b2e30274",
   "metadata": {},
   "outputs": [
    {
     "data": {
      "text/plain": [
       "-1"
      ]
     },
     "execution_count": 52,
     "metadata": {},
     "output_type": "execute_result"
    }
   ],
   "source": [
    "a-=1;a # 변수 a에 1 대입, 변수 a에 a-1 대입, 출력"
   ]
  },
  {
   "cell_type": "code",
   "execution_count": 53,
   "id": "615b27aa",
   "metadata": {},
   "outputs": [],
   "source": [
    "a=1 # 변수 a에 1 대입"
   ]
  },
  {
   "cell_type": "code",
   "execution_count": 54,
   "id": "6c20c60a",
   "metadata": {},
   "outputs": [
    {
     "ename": "SyntaxError",
     "evalue": "invalid syntax (1277751513.py, line 1)",
     "output_type": "error",
     "traceback": [
      "\u001b[1;36m  Cell \u001b[1;32mIn[54], line 1\u001b[1;36m\u001b[0m\n\u001b[1;33m    a++\u001b[0m\n\u001b[1;37m       ^\u001b[0m\n\u001b[1;31mSyntaxError\u001b[0m\u001b[1;31m:\u001b[0m invalid syntax\n"
     ]
    }
   ],
   "source": [
    "a++ # a++, a-- 사용 불가"
   ]
  },
  {
   "cell_type": "code",
   "execution_count": 55,
   "id": "57d5b77b",
   "metadata": {},
   "outputs": [
    {
     "ename": "SyntaxError",
     "evalue": "invalid syntax (1562500846.py, line 1)",
     "output_type": "error",
     "traceback": [
      "\u001b[1;36m  Cell \u001b[1;32mIn[55], line 1\u001b[1;36m\u001b[0m\n\u001b[1;33m    a--\u001b[0m\n\u001b[1;37m       ^\u001b[0m\n\u001b[1;31mSyntaxError\u001b[0m\u001b[1;31m:\u001b[0m invalid syntax\n"
     ]
    }
   ],
   "source": [
    "a-- # a++, a-- 사용 불가"
   ]
  },
  {
   "cell_type": "code",
   "execution_count": 58,
   "id": "5d6864ba",
   "metadata": {},
   "outputs": [
    {
     "data": {
      "text/plain": [
       "1"
      ]
     },
     "execution_count": 58,
     "metadata": {},
     "output_type": "execute_result"
    }
   ],
   "source": [
    "a=+ 1; a # 변수 a에 양수를 저장하고 출력"
   ]
  },
  {
   "cell_type": "code",
   "execution_count": 59,
   "id": "9dedf930",
   "metadata": {},
   "outputs": [
    {
     "data": {
      "text/plain": [
       "-1"
      ]
     },
     "execution_count": 59,
     "metadata": {},
     "output_type": "execute_result"
    }
   ],
   "source": [
    " a=- 1 ; a # 변수 a에 음수를 저장하고 출력"
   ]
  },
  {
   "cell_type": "code",
   "execution_count": 60,
   "id": "65dfc7e8",
   "metadata": {},
   "outputs": [],
   "source": [
    "a=\"멍멍이\" # 변수 a에 문자열 멍멍이 대입"
   ]
  },
  {
   "cell_type": "code",
   "execution_count": 61,
   "id": "82e8019b",
   "metadata": {},
   "outputs": [],
   "source": [
    "b=\"고양이\" # 변수 b에 문자열 고양이 대입"
   ]
  },
  {
   "cell_type": "code",
   "execution_count": 62,
   "id": "cc9a1ae7",
   "metadata": {},
   "outputs": [
    {
     "data": {
      "text/plain": [
       "'멍멍이고양이'"
      ]
     },
     "execution_count": 62,
     "metadata": {},
     "output_type": "execute_result"
    }
   ],
   "source": [
    "a+b # 문자열의 덧셈 "
   ]
  },
  {
   "cell_type": "code",
   "execution_count": 63,
   "id": "44be0ef0",
   "metadata": {},
   "outputs": [
    {
     "data": {
      "text/plain": [
       "'멍멍이멍멍이멍멍이고양이고양이'"
      ]
     },
     "execution_count": 63,
     "metadata": {},
     "output_type": "execute_result"
    }
   ],
   "source": [
    "a*3+b*2 # 멍멍이 세번 반복 후 고양이 두번 반복을 이어 붙이기"
   ]
  },
  {
   "cell_type": "code",
   "execution_count": 64,
   "id": "1c8081fb",
   "metadata": {},
   "outputs": [
    {
     "data": {
      "text/plain": [
       "'--------------------'"
      ]
     },
     "execution_count": 64,
     "metadata": {},
     "output_type": "execute_result"
    }
   ],
   "source": [
    "\"-\"*20 # \"-\" 20 번 반복"
   ]
  },
  {
   "cell_type": "code",
   "execution_count": 65,
   "id": "9ebef28f",
   "metadata": {},
   "outputs": [],
   "source": [
    "a=1 # 변수 a에 1 대입"
   ]
  },
  {
   "cell_type": "code",
   "execution_count": 66,
   "id": "8a600505",
   "metadata": {},
   "outputs": [
    {
     "ename": "TypeError",
     "evalue": "can only concatenate str (not \"int\") to str",
     "output_type": "error",
     "traceback": [
      "\u001b[1;31m---------------------------------------------------------------------------\u001b[0m",
      "\u001b[1;31mTypeError\u001b[0m                                 Traceback (most recent call last)",
      "Cell \u001b[1;32mIn[66], line 1\u001b[0m\n\u001b[1;32m----> 1\u001b[0m b\u001b[38;5;241m=\u001b[39m\u001b[38;5;124;43m\"\u001b[39;49m\u001b[38;5;124;43m강아지\u001b[39;49m\u001b[38;5;124;43m\"\u001b[39;49m\u001b[38;5;241;43m+\u001b[39;49m\u001b[43ma\u001b[49m\u001b[38;5;241m+\u001b[39m\u001b[38;5;124m\"\u001b[39m\u001b[38;5;124m마리\u001b[39m\u001b[38;5;124m\"\u001b[39m\n",
      "\u001b[1;31mTypeError\u001b[0m: can only concatenate str (not \"int\") to str"
     ]
    }
   ],
   "source": [
    "b=\"강아지\"+a+\"마리\" # 문자형과 숫자형의 덧셈은 error"
   ]
  },
  {
   "cell_type": "code",
   "execution_count": 67,
   "id": "1920af24",
   "metadata": {},
   "outputs": [],
   "source": [
    "b=\"강아지\"+str(a)+\"마리\" # 숫자형 변수를 str()을 이용해 문자형으로 강제 형변환"
   ]
  },
  {
   "cell_type": "code",
   "execution_count": 68,
   "id": "675756d0",
   "metadata": {},
   "outputs": [
    {
     "data": {
      "text/plain": [
       "'강아지1마리'"
      ]
     },
     "execution_count": 68,
     "metadata": {},
     "output_type": "execute_result"
    }
   ],
   "source": [
    "b # b 출력"
   ]
  },
  {
   "cell_type": "code",
   "execution_count": 69,
   "id": "c605472b",
   "metadata": {},
   "outputs": [
    {
     "data": {
      "text/plain": [
       "44032"
      ]
     },
     "execution_count": 69,
     "metadata": {},
     "output_type": "execute_result"
    }
   ],
   "source": [
    "ord(\"가\") # 파이썬 내장 함수인 ord()를 이용하여 문자 \"가\"의 유니코드 값을 반환하는 코드"
   ]
  },
  {
   "cell_type": "code",
   "execution_count": 70,
   "id": "0dad89b4",
   "metadata": {},
   "outputs": [
    {
     "data": {
      "text/plain": [
       "'0x61'"
      ]
     },
     "execution_count": 70,
     "metadata": {},
     "output_type": "execute_result"
    }
   ],
   "source": [
    "hex(ord(\"a\")) # 파이썬 내장 함수인 hex()를 이용하여 문자 \"a\"의 유니코드 값을 16진수로 출력하는 코드"
   ]
  },
  {
   "cell_type": "code",
   "execution_count": 71,
   "id": "12fd9ca0",
   "metadata": {},
   "outputs": [
    {
     "name": "stdout",
     "output_type": "stream",
     "text": [
      "0x61 = a , 0x62 = b , 0x63 = c , 0x64 = d , 0x65 = e , 0x66 = f , 0x67 = g , 0x68 = h , 0x69 = i , 0x6a = j , 0x6b = k , 0x6c = l , 0x6d = m , 0x6e = n , 0x6f = o , 0x70 = p , 0x71 = q , 0x72 = r , 0x73 = s , 0x74 = t , 0x75 = u , 0x76 = v , 0x77 = w , 0x78 = x , 0x79 = y , 0x7a = z , "
     ]
    }
   ],
   "source": [
    "# 문자 \"a\"부터 \"z\"까지의 유니코드 값을 16진수와 해당 문자로 출력하는 코드\n",
    "for c in range (ord('a'), ord('z')+1): # range() 함수를 이용하여 문자 \"a\"부터 \"z\"까지의 유니코드 값을 생성\n",
    "    print(hex(c),\"=\",chr(c),\", \",end=\"\") # hex() 함수를 이용하여 16진수로 변환한 후, chr() 함수를 이용하여 해당 유니코드에 대응하는 문자를 출력\n",
    "    # 출력 결과를 줄바꿈 없이 한 줄에 출력하기 위해 \", end=''\"를 사용"
   ]
  },
  {
   "cell_type": "code",
   "execution_count": 72,
   "id": "4d53a873",
   "metadata": {},
   "outputs": [
    {
     "ename": "TypeError",
     "evalue": "can only concatenate str (not \"int\") to str",
     "output_type": "error",
     "traceback": [
      "\u001b[1;31m---------------------------------------------------------------------------\u001b[0m",
      "\u001b[1;31mTypeError\u001b[0m                                 Traceback (most recent call last)",
      "Cell \u001b[1;32mIn[72], line 1\u001b[0m\n\u001b[1;32m----> 1\u001b[0m a\u001b[38;5;241m=\u001b[39m\u001b[38;5;124m\"\u001b[39m\u001b[38;5;124m123\u001b[39m\u001b[38;5;124m\"\u001b[39m; \u001b[43ma\u001b[49m\u001b[38;5;241;43m+\u001b[39;49m\u001b[38;5;241;43m1\u001b[39;49m\n",
      "\u001b[1;31mTypeError\u001b[0m: can only concatenate str (not \"int\") to str"
     ]
    }
   ],
   "source": [
    "a=\"123\"; a+1 # 문자형과 숫자형의 덧셈은 error"
   ]
  },
  {
   "cell_type": "code",
   "execution_count": 73,
   "id": "61236616",
   "metadata": {},
   "outputs": [
    {
     "data": {
      "text/plain": [
       "124"
      ]
     },
     "execution_count": 73,
     "metadata": {},
     "output_type": "execute_result"
    }
   ],
   "source": [
    "a=\"123\"; int(a)+1 # 문자형을 정수형으로 변환 수 + 1"
   ]
  },
  {
   "cell_type": "code",
   "execution_count": 74,
   "id": "430f8131",
   "metadata": {},
   "outputs": [
    {
     "data": {
      "text/plain": [
       "12"
      ]
     },
     "execution_count": 74,
     "metadata": {},
     "output_type": "execute_result"
    }
   ],
   "source": [
    "a=12.3; int(a) # 실수형을 정수형으로 변환하면 소수점 이하 절삭"
   ]
  },
  {
   "cell_type": "code",
   "execution_count": 75,
   "id": "73e31f36",
   "metadata": {},
   "outputs": [
    {
     "ename": "ValueError",
     "evalue": "invalid literal for int() with base 10: '12.3'",
     "output_type": "error",
     "traceback": [
      "\u001b[1;31m---------------------------------------------------------------------------\u001b[0m",
      "\u001b[1;31mValueError\u001b[0m                                Traceback (most recent call last)",
      "Cell \u001b[1;32mIn[75], line 1\u001b[0m\n\u001b[1;32m----> 1\u001b[0m a\u001b[38;5;241m=\u001b[39m\u001b[38;5;124m\"\u001b[39m\u001b[38;5;124m12.3\u001b[39m\u001b[38;5;124m\"\u001b[39m;\u001b[38;5;28;43mint\u001b[39;49m\u001b[43m(\u001b[49m\u001b[43ma\u001b[49m\u001b[43m)\u001b[49m\n",
      "\u001b[1;31mValueError\u001b[0m: invalid literal for int() with base 10: '12.3'"
     ]
    }
   ],
   "source": [
    "a=\"12.3\";int(a) # 문자형을 정수형으로 강제형변환 하려헀지만 실수형이라 error"
   ]
  },
  {
   "cell_type": "code",
   "execution_count": 76,
   "id": "0a37e27c",
   "metadata": {},
   "outputs": [
    {
     "data": {
      "text/plain": [
       "12.3"
      ]
     },
     "execution_count": 76,
     "metadata": {},
     "output_type": "execute_result"
    }
   ],
   "source": [
    "float(a) # 실수형으로 강제형변환"
   ]
  },
  {
   "cell_type": "code",
   "execution_count": 77,
   "id": "d597b3dc",
   "metadata": {},
   "outputs": [
    {
     "data": {
      "text/plain": [
       "14.1"
      ]
     },
     "execution_count": 77,
     "metadata": {},
     "output_type": "execute_result"
    }
   ],
   "source": [
    "a=1.1;1+a+12 # 변수에 1.1 대입, 정수와 실수의 합 출력"
   ]
  },
  {
   "cell_type": "code",
   "execution_count": 84,
   "id": "2b27bb39",
   "metadata": {},
   "outputs": [
    {
     "data": {
      "text/plain": [
       "14"
      ]
     },
     "execution_count": 84,
     "metadata": {},
     "output_type": "execute_result"
    }
   ],
   "source": [
    "1+int(a)+12 # 실수형 정수형으로 강제 형변환 후 계산하여 출력"
   ]
  },
  {
   "cell_type": "code",
   "execution_count": 79,
   "id": "561f715c",
   "metadata": {},
   "outputs": [
    {
     "data": {
      "text/plain": [
       "3"
      ]
     },
     "execution_count": 79,
     "metadata": {},
     "output_type": "execute_result"
    }
   ],
   "source": [
    "int(3.14)"
   ]
  },
  {
   "cell_type": "code",
   "execution_count": 80,
   "id": "8815880a",
   "metadata": {},
   "outputs": [],
   "source": [
    "round(3.14);round(3.14,1); "
   ]
  },
  {
   "cell_type": "code",
   "execution_count": 81,
   "id": "5d3a9d45",
   "metadata": {},
   "outputs": [
    {
     "data": {
      "text/plain": [
       "120000"
      ]
     },
     "execution_count": 81,
     "metadata": {},
     "output_type": "execute_result"
    }
   ],
   "source": [
    "round(3.14); round(3.14,1); round(123456,-4)"
   ]
  },
  {
   "cell_type": "code",
   "execution_count": 82,
   "id": "14937e23",
   "metadata": {},
   "outputs": [
    {
     "data": {
      "text/plain": [
       "3"
      ]
     },
     "execution_count": 82,
     "metadata": {},
     "output_type": "execute_result"
    }
   ],
   "source": [
    "int(3.14) # 실수형 정수형으로 강제형변환"
   ]
  },
  {
   "cell_type": "code",
   "execution_count": 83,
   "id": "5dabe4d5",
   "metadata": {},
   "outputs": [
    {
     "data": {
      "text/plain": [
       "3"
      ]
     },
     "execution_count": 83,
     "metadata": {},
     "output_type": "execute_result"
    }
   ],
   "source": [
    "round(3.14) # round 반올림하여 정수형을 반환하는 코드"
   ]
  },
  {
   "cell_type": "code",
   "execution_count": 85,
   "id": "3a7091e7",
   "metadata": {},
   "outputs": [
    {
     "data": {
      "text/plain": [
       "3.1"
      ]
     },
     "execution_count": 85,
     "metadata": {},
     "output_type": "execute_result"
    }
   ],
   "source": [
    "round(3.14,1) # 내장 함수 round()를 이용하여 소수점 첫째 자리에서 반올림한 값을 반환하는 코드"
   ]
  },
  {
   "cell_type": "code",
   "execution_count": 86,
   "id": "af6dd606",
   "metadata": {},
   "outputs": [
    {
     "data": {
      "text/plain": [
       "120000"
      ]
     },
     "execution_count": 86,
     "metadata": {},
     "output_type": "execute_result"
    }
   ],
   "source": [
    "round(123456,-4) # 내장 함수 round()를 이용하여 넷째 자리에서 반올림한 값을 반환하는 코드"
   ]
  },
  {
   "cell_type": "code",
   "execution_count": 87,
   "id": "22f02ce0",
   "metadata": {},
   "outputs": [],
   "source": [
    "a=1234567 # 변수 a에 값 대입"
   ]
  },
  {
   "cell_type": "code",
   "execution_count": 88,
   "id": "d1291b04",
   "metadata": {},
   "outputs": [],
   "source": [
    "if(a%1000 != 0 ) : #1000으로 나누어 나머지가 있다면\n",
    "    a=int(a/1000)*1000+1000 #버린값에다 한자리를 올려 줌\n",
    "else: # 나머지가 없다면\n",
    "    a=int(a/1000)*1000 # 그대로 출력"
   ]
  },
  {
   "cell_type": "code",
   "execution_count": 89,
   "id": "6590f26f",
   "metadata": {},
   "outputs": [
    {
     "data": {
      "text/plain": [
       "1235000"
      ]
     },
     "execution_count": 89,
     "metadata": {},
     "output_type": "execute_result"
    }
   ],
   "source": [
    "a # 변수 a 값 출력"
   ]
  },
  {
   "cell_type": "code",
   "execution_count": 90,
   "id": "493b63c4",
   "metadata": {},
   "outputs": [
    {
     "name": "stdout",
     "output_type": "stream",
     "text": [
      "이름이 뭐니?홍필두\n",
      "주인님 어서오십시요\n"
     ]
    }
   ],
   "source": [
    "name = input(\"이름이 뭐니?\") # 사용자로부터 이름을 입력받는 코드\n",
    "if name == \"홍필두\": # 입력된 이름이 \"홍필두\"와 같다면 실행되는 조건문\n",
    "    print(\"주인님 어서오십시요\") # \"주인님 어서오십시요\"라는 메시지를 출력하는 코드"
   ]
  },
  {
   "cell_type": "code",
   "execution_count": 92,
   "id": "01d11267",
   "metadata": {},
   "outputs": [
    {
     "name": "stdout",
     "output_type": "stream",
     "text": [
      "성별이 어떻게 되나요?남자\n",
      "넥타이가 멋있습니다.\n"
     ]
    }
   ],
   "source": [
    "name = input(\"성별이 어떻게 되나요?\") # 사용자로부터 성별을 입력받는 코드입니다.\n",
    "\n",
    "if name == \"남자\" : # 입력된 성별이 \"남자\"와 같다면 실행되는 조건문입니다.\n",
    "    print(\"넥타이가 멋있습니다.\") # \"넥타이가 멋있습니다.\"라는 메시지를 출력하는 코드입니다.\n",
    "else:\n",
    "    print(\"립스틱색이 예쁘네요.\") # \"립스틱색이 예쁘네요.\"라는 메시지를 출력하는 코드입니다."
   ]
  },
  {
   "cell_type": "code",
   "execution_count": 93,
   "id": "fbd6eb3d",
   "metadata": {},
   "outputs": [
    {
     "name": "stdout",
     "output_type": "stream",
     "text": [
      "성별이 어떻게 되나요?여자\n",
      "립스틱색이 예쁘네요.\n"
     ]
    }
   ],
   "source": [
    "name = input(\"성별이 어떻게 되나요?\") # 사용자로부터 성별을 입력받는 코드입니다.\n",
    "\n",
    "if name == \"남자\" : # 입력된 성별이 \"남자\"와 같다면 실행되는 조건문입니다.\n",
    "    print(\"넥타이가 멋있습니다.\") # \"넥타이가 멋있습니다.\"라는 메시지를 출력하는 코드입니다.\n",
    "else:\n",
    "    print(\"립스틱색이 예쁘네요.\") # \"립스틱색이 예쁘네요.\"라는 메시지를 출력하는 코드입니다."
   ]
  },
  {
   "cell_type": "code",
   "execution_count": 94,
   "id": "2426d02e",
   "metadata": {},
   "outputs": [
    {
     "name": "stdout",
     "output_type": "stream",
     "text": [
      "성별이 어떻게 되나요?몰라\n",
      "립스틱색이 예쁘네요.\n"
     ]
    }
   ],
   "source": [
    "name = input(\"성별이 어떻게 되나요?\") # 사용자로부터 성별을 입력받는 코드입니다.\n",
    "\n",
    "if name == \"남자\" : # 입력된 성별이 \"남자\"와 같다면 실행되는 조건문입니다.\n",
    "    print(\"넥타이가 멋있습니다.\") # \"넥타이가 멋있습니다.\"라는 메시지를 출력하는 코드입니다.\n",
    "else:\n",
    "    print(\"립스틱색이 예쁘네요.\") # \"립스틱색이 예쁘네요.\"라는 메시지를 출력하는 코드입니다."
   ]
  },
  {
   "cell_type": "code",
   "execution_count": 95,
   "id": "ae444045",
   "metadata": {},
   "outputs": [
    {
     "name": "stdout",
     "output_type": "stream",
     "text": [
      "얼마를 구매하셨나요?1000\n",
      "면세입니다.\n"
     ]
    }
   ],
   "source": [
    "price = int(input(\"얼마를 구매하셨나요?\")) # 사용자로부터 가격을 입력받아 변수 price에 저장합니다.\n",
    "if price < 10000 : # 입력된 가격이 10000원 미만이면 실행합니다.\n",
    "    print(\"면세입니다.\") # \"면세입니다.\"라는 문구를 출력합니다.\n",
    "else: # 입력된 가격이 10000원 이상이면 실행합니다.\n",
    "    print(\"세금은 10%입니다.\") # \"세금은 10%입니다.\"라는 문구를 출력합니다."
   ]
  },
  {
   "cell_type": "code",
   "execution_count": 96,
   "id": "57cf868b",
   "metadata": {},
   "outputs": [
    {
     "name": "stdout",
     "output_type": "stream",
     "text": [
      "얼마를 구매하셨나요?10000\n",
      "세금은 10%입니다.\n"
     ]
    }
   ],
   "source": [
    "price = int(input(\"얼마를 구매하셨나요?\")) # 사용자로부터 가격을 입력받아 변수 price에 저장합니다.\n",
    "if price < 10000 : # 입력된 가격이 10000원 미만이면 실행합니다.\n",
    "    print(\"면세입니다.\") # \"면세입니다.\"라는 문구를 출력합니다.\n",
    "else: # 입력된 가격이 10000원 이상이면 실행합니다.\n",
    "    print(\"세금은 10%입니다.\") # \"세금은 10%입니다.\"라는 문구를 출력합니다."
   ]
  },
  {
   "cell_type": "code",
   "execution_count": 97,
   "id": "98bac7b8",
   "metadata": {},
   "outputs": [
    {
     "name": "stdout",
     "output_type": "stream",
     "text": [
      "얼마를 구매하셨나요?100\n",
      "면세입니다.\n"
     ]
    }
   ],
   "source": [
    "price = int(input(\"얼마를 구매하셨나요?\")) # 사용자로부터 가격을 입력받아 변수 price에 저장합니다.\n",
    "if price < 10000 : # 입력된 가격이 10000원 미만이면 실행합니다.\n",
    "    print(\"면세입니다.\") # \"면세입니다.\"라는 문구를 출력합니다.\n",
    "else: # 입력된 가격이 10000원 이상이면 실행합니다.\n",
    "    print(\"세금은 10%입니다.\") # \"세금은 10%입니다.\"라는 문구를 출력합니다."
   ]
  },
  {
   "cell_type": "code",
   "execution_count": 98,
   "id": "1819c2f5",
   "metadata": {},
   "outputs": [
    {
     "name": "stdout",
     "output_type": "stream",
     "text": [
      "얼마를 구매하셨나요?100원\n"
     ]
    },
    {
     "ename": "ValueError",
     "evalue": "invalid literal for int() with base 10: '100원'",
     "output_type": "error",
     "traceback": [
      "\u001b[1;31m---------------------------------------------------------------------------\u001b[0m",
      "\u001b[1;31mValueError\u001b[0m                                Traceback (most recent call last)",
      "Cell \u001b[1;32mIn[98], line 1\u001b[0m\n\u001b[1;32m----> 1\u001b[0m price \u001b[38;5;241m=\u001b[39m \u001b[38;5;28;43mint\u001b[39;49m\u001b[43m(\u001b[49m\u001b[38;5;28;43minput\u001b[39;49m\u001b[43m(\u001b[49m\u001b[38;5;124;43m\"\u001b[39;49m\u001b[38;5;124;43m얼마를 구매하셨나요?\u001b[39;49m\u001b[38;5;124;43m\"\u001b[39;49m\u001b[43m)\u001b[49m\u001b[43m)\u001b[49m \u001b[38;5;66;03m# 사용자로부터 가격을 입력받아 변수 price에 저장합니다.\u001b[39;00m\n\u001b[0;32m      2\u001b[0m \u001b[38;5;28;01mif\u001b[39;00m price \u001b[38;5;241m<\u001b[39m \u001b[38;5;241m10000\u001b[39m : \u001b[38;5;66;03m# 입력된 가격이 10000원 미만이면 실행합니다.\u001b[39;00m\n\u001b[0;32m      3\u001b[0m     \u001b[38;5;28mprint\u001b[39m(\u001b[38;5;124m\"\u001b[39m\u001b[38;5;124m면세입니다.\u001b[39m\u001b[38;5;124m\"\u001b[39m) \u001b[38;5;66;03m# \"면세입니다.\"라는 문구를 출력합니다.\u001b[39;00m\n",
      "\u001b[1;31mValueError\u001b[0m: invalid literal for int() with base 10: '100원'"
     ]
    }
   ],
   "source": [
    "price = int(input(\"얼마를 구매하셨나요?\")) # 사용자로부터 가격을 입력받아 변수 price에 저장합니다.\n",
    "if price < 10000 : # 입력된 가격이 10000원 미만이면 실행합니다.\n",
    "    print(\"면세입니다.\") # \"면세입니다.\"라는 문구를 출력합니다.\n",
    "else: # 입력된 가격이 10000원 이상이면 실행합니다.\n",
    "    print(\"세금은 10%입니다.\") # \"세금은 10%입니다.\"라는 문구를 출력합니다."
   ]
  },
  {
   "cell_type": "code",
   "execution_count": 99,
   "id": "6bc2ff37",
   "metadata": {},
   "outputs": [],
   "source": [
    "a=100"
   ]
  },
  {
   "cell_type": "code",
   "execution_count": 100,
   "id": "ce0b8c10",
   "metadata": {},
   "outputs": [],
   "source": [
    "if (a==99): print(\"a는 99입니다\")"
   ]
  },
  {
   "cell_type": "code",
   "execution_count": 101,
   "id": "f1475c17",
   "metadata": {},
   "outputs": [
    {
     "name": "stdout",
     "output_type": "stream",
     "text": [
      "a는 100입니다\n"
     ]
    }
   ],
   "source": [
    "if (a==100): print(\"a는 100입니다\")"
   ]
  },
  {
   "cell_type": "code",
   "execution_count": 102,
   "id": "25e624ed",
   "metadata": {},
   "outputs": [
    {
     "ename": "SyntaxError",
     "evalue": "EOL while scanning string literal (2692517959.py, line 1)",
     "output_type": "error",
     "traceback": [
      "\u001b[1;36m  Cell \u001b[1;32mIn[102], line 1\u001b[1;36m\u001b[0m\n\u001b[1;33m    if (a>=100): print(\"a는 100이상입니다\u001b[0m\n\u001b[1;37m                                   ^\u001b[0m\n\u001b[1;31mSyntaxError\u001b[0m\u001b[1;31m:\u001b[0m EOL while scanning string literal\n"
     ]
    }
   ],
   "source": [
    "if (a>=100): print(\"a는 100이상입니다"
   ]
  },
  {
   "cell_type": "code",
   "execution_count": 103,
   "id": "f6145e03",
   "metadata": {},
   "outputs": [
    {
     "ename": "SyntaxError",
     "evalue": "EOL while scanning string literal (609467184.py, line 1)",
     "output_type": "error",
     "traceback": [
      "\u001b[1;36m  Cell \u001b[1;32mIn[103], line 1\u001b[1;36m\u001b[0m\n\u001b[1;33m    if (a>=100): print(\"a는 100이상입니다)\u001b[0m\n\u001b[1;37m                                    ^\u001b[0m\n\u001b[1;31mSyntaxError\u001b[0m\u001b[1;31m:\u001b[0m EOL while scanning string literal\n"
     ]
    }
   ],
   "source": [
    "if (a>=100): print(\"a는 100이상입니다)"
   ]
  },
  {
   "cell_type": "code",
   "execution_count": 104,
   "id": "01339d40",
   "metadata": {},
   "outputs": [
    {
     "name": "stdout",
     "output_type": "stream",
     "text": [
      "a는 100이상입니다\n"
     ]
    }
   ],
   "source": [
    "if (a>=100): print(\"a는 100이상입니다\")"
   ]
  },
  {
   "cell_type": "code",
   "execution_count": 105,
   "id": "f4f15a23",
   "metadata": {},
   "outputs": [],
   "source": [
    "a=100"
   ]
  },
  {
   "cell_type": "code",
   "execution_count": 106,
   "id": "db43528a",
   "metadata": {},
   "outputs": [
    {
     "name": "stdout",
     "output_type": "stream",
     "text": [
      "a는 100입니다\n",
      "a는 100이상입니다\n"
     ]
    }
   ],
   "source": [
    "a=100\n",
    "if (a==99): print(\"a는 99입니다\")\n",
    "if (a==100): print(\"a는 100입니다\")\n",
    "if (a>=100): print(\"a는 100이상입니다\")\n",
    "if (a<100): print(\"a는 100미만입니다\")"
   ]
  },
  {
   "cell_type": "code",
   "execution_count": 107,
   "id": "cf5cbee0",
   "metadata": {},
   "outputs": [],
   "source": [
    "a = 100 # 변수 a에 100을 저장"
   ]
  },
  {
   "cell_type": "code",
   "execution_count": 108,
   "id": "9b72e4b8",
   "metadata": {},
   "outputs": [],
   "source": [
    "if (a == 99): # a가 99와 같으면 실행\n",
    "    print(\"a는 99입니다\") # \"a는 99입니다\"라는 문구를 출력"
   ]
  },
  {
   "cell_type": "code",
   "execution_count": 109,
   "id": "5716e2fc",
   "metadata": {},
   "outputs": [
    {
     "name": "stdout",
     "output_type": "stream",
     "text": [
      "a는 100입니다\n"
     ]
    }
   ],
   "source": [
    "if (a == 100): # a가 100과 같으면 실행\n",
    "    print(\"a는 100입니다\") # \"a는 100입니다\"라는 문구를 출력"
   ]
  },
  {
   "cell_type": "code",
   "execution_count": 110,
   "id": "c46cc724",
   "metadata": {},
   "outputs": [
    {
     "name": "stdout",
     "output_type": "stream",
     "text": [
      "a는 100이상입니다\n"
     ]
    }
   ],
   "source": [
    "if (a >= 100): # a가 100보다 크거나 같으면 실행\n",
    "    print(\"a는 100이상입니다\") # \"a는 100이상입니다\"라는 문구를 출력"
   ]
  },
  {
   "cell_type": "code",
   "execution_count": 111,
   "id": "cd0b5765",
   "metadata": {},
   "outputs": [],
   "source": [
    "if (a < 100): # a가 100보다 작으면 실행\n",
    "    print(\"a는 100미만입니다\") # \"a는 100미만입니다\"라는 문구를 출력"
   ]
  },
  {
   "cell_type": "code",
   "execution_count": 112,
   "id": "2e3c3bb9",
   "metadata": {},
   "outputs": [],
   "source": [
    " a=\"abc\" # 변수 a에 문자열 abc 저장"
   ]
  },
  {
   "cell_type": "code",
   "execution_count": 113,
   "id": "b57a71f0",
   "metadata": {},
   "outputs": [
    {
     "name": "stdout",
     "output_type": "stream",
     "text": [
      "abc이다\n"
     ]
    }
   ],
   "source": [
    "if(a == \"abc\"): print(\"abc이다\") # a가 문자열 abc와 같으면 문구 출력"
   ]
  },
  {
   "cell_type": "code",
   "execution_count": 114,
   "id": "d7400b40",
   "metadata": {},
   "outputs": [],
   "source": [
    "a=\"abc\" # 변수 a에 문자열 abc 저장"
   ]
  },
  {
   "cell_type": "code",
   "execution_count": 115,
   "id": "37aa39bb",
   "metadata": {},
   "outputs": [],
   "source": [
    "if(a > \"abc\"): print(\"abc보다 큰문자이다\") # a가 문자열 abc보다 크면 문구 출력 => 크기는 정렬시 크기로 비교"
   ]
  },
  {
   "cell_type": "code",
   "execution_count": 116,
   "id": "1723e63b",
   "metadata": {},
   "outputs": [],
   "source": [
    "a=\"abd\" # 변수 a에 문자열 abd 저장"
   ]
  },
  {
   "cell_type": "code",
   "execution_count": 117,
   "id": "e50e66be",
   "metadata": {},
   "outputs": [
    {
     "name": "stdout",
     "output_type": "stream",
     "text": [
      "abc보다 큰문자이다\n"
     ]
    }
   ],
   "source": [
    "if(a > \"abc\"): print(\"abc보다 큰문자이다\") # a가 문자열 abc보다 크면 문구 출력"
   ]
  },
  {
   "cell_type": "code",
   "execution_count": 118,
   "id": "d6dbfefc",
   "metadata": {},
   "outputs": [],
   "source": [
    "a=\"abb\" # 변수 a에 문자열 abb 저장"
   ]
  },
  {
   "cell_type": "code",
   "execution_count": 119,
   "id": "40b5cf6f",
   "metadata": {},
   "outputs": [],
   "source": [
    "if(a > \"abc\"): print(\"abc보다 큰문자이다\") # a가 문자열 abc보다 크면 문구 출력"
   ]
  },
  {
   "cell_type": "code",
   "execution_count": 120,
   "id": "075ca2e0",
   "metadata": {},
   "outputs": [
    {
     "name": "stdout",
     "output_type": "stream",
     "text": [
      "점수를 입력하셔요?88\n",
      "학점은 B입니다.\n"
     ]
    }
   ],
   "source": [
    "x = int(input(\"점수를 입력하셔요?\")) # 사용자로부터 점수를 입력받아 변수 x에 저장\n",
    "\n",
    "if 0 <= x and x < 60 : # 입력된 점수가 0 이상 60 미만인 경우 실행\n",
    "    print(\"학점은 F입니다.\") # \"학점은 F입니다.\"라는 문구를 출력\n",
    "\n",
    "if 60 <= x and x < 70 : # 입력된 점수가 60 이상 70 미만인 경우 실행\n",
    "    print(\"학점은 D입니다.\") # \"학점은 D입니다.\"라는 문구를 출력\n",
    "\n",
    "if 70 <= x and x < 80 : # 입력된 점수가 70 이상 80 미만인 경우 실행\n",
    "    print(\"학점은 C입니다.\") # \"학점은 C입니다.\"라는 문구를 출력\n",
    "\n",
    "if 80 <= x and x < 90 : # 입력된 점수가 80 이상 90 미만인 경우 실행\n",
    "    print(\"학점은 B입니다.\") # \"학점은 B입니다.\"라는 문구를 출력\n",
    "\n",
    "if 90 <= x and x <= 100 : # 입력된 점수가 90 이상 100 이하인 경우 실행\n",
    "    print(\"학점은 A입니다.\") # \"학점은 A입니다.\"라는 문구를 출력"
   ]
  },
  {
   "cell_type": "code",
   "execution_count": 121,
   "id": "eea95bd4",
   "metadata": {},
   "outputs": [
    {
     "name": "stdout",
     "output_type": "stream",
     "text": [
      "점수를 입력하셔요?100\n",
      "학점은 A입니다.\n"
     ]
    }
   ],
   "source": [
    "x = int(input(\"점수를 입력하셔요?\")) # 사용자로부터 점수를 입력받아 변수 x에 저장\n",
    "\n",
    "if 0 <= x and x < 60 : # 입력된 점수가 0 이상 60 미만인 경우 실행\n",
    "    print(\"학점은 F입니다.\") # \"학점은 F입니다.\"라는 문구를 출력\n",
    "\n",
    "if 60 <= x and x < 70 : # 입력된 점수가 60 이상 70 미만인 경우 실행\n",
    "    print(\"학점은 D입니다.\") # \"학점은 D입니다.\"라는 문구를 출력\n",
    "\n",
    "if 70 <= x and x < 80 : # 입력된 점수가 70 이상 80 미만인 경우 실행\n",
    "    print(\"학점은 C입니다.\") # \"학점은 C입니다.\"라는 문구를 출력\n",
    "\n",
    "if 80 <= x and x < 90 : # 입력된 점수가 80 이상 90 미만인 경우 실행\n",
    "    print(\"학점은 B입니다.\") # \"학점은 B입니다.\"라는 문구를 출력\n",
    "\n",
    "if 90 <= x and x <= 100 : # 입력된 점수가 90 이상 100 이하인 경우 실행\n",
    "    print(\"학점은 A입니다.\") # \"학점은 A입니다.\"라는 문구를 출력"
   ]
  },
  {
   "cell_type": "code",
   "execution_count": 122,
   "id": "70ab9e47",
   "metadata": {},
   "outputs": [
    {
     "name": "stdout",
     "output_type": "stream",
     "text": [
      "점수를 입력하셔요?44\n",
      "학점은 F입니다.\n"
     ]
    }
   ],
   "source": [
    "x = int(input(\"점수를 입력하셔요?\")) # 사용자로부터 점수를 입력받아 변수 x에 저장\n",
    "\n",
    "if 0 <= x and x < 60 : # 입력된 점수가 0 이상 60 미만인 경우 실행\n",
    "    print(\"학점은 F입니다.\") # \"학점은 F입니다.\"라는 문구를 출력\n",
    "\n",
    "if 60 <= x and x < 70 : # 입력된 점수가 60 이상 70 미만인 경우 실행\n",
    "    print(\"학점은 D입니다.\") # \"학점은 D입니다.\"라는 문구를 출력\n",
    "\n",
    "if 70 <= x and x < 80 : # 입력된 점수가 70 이상 80 미만인 경우 실행\n",
    "    print(\"학점은 C입니다.\") # \"학점은 C입니다.\"라는 문구를 출력\n",
    "\n",
    "if 80 <= x and x < 90 : # 입력된 점수가 80 이상 90 미만인 경우 실행\n",
    "    print(\"학점은 B입니다.\") # \"학점은 B입니다.\"라는 문구를 출력\n",
    "\n",
    "if 90 <= x and x <= 100 : # 입력된 점수가 90 이상 100 이하인 경우 실행\n",
    "    print(\"학점은 A입니다.\") # \"학점은 A입니다.\"라는 문구를 출력"
   ]
  },
  {
   "cell_type": "code",
   "execution_count": 123,
   "id": "7b19ff9c",
   "metadata": {},
   "outputs": [
    {
     "name": "stdout",
     "output_type": "stream",
     "text": [
      "영문 알파벳 한글자를 입력하셔요?a\n",
      "소문자 입니다.\n"
     ]
    }
   ],
   "source": [
    "x = input(\"영문 알파벳 한글자를 입력하셔요?\") # 사용자로부터 영문 알파벳 한 글자를 입력받아 변수 x에 저장\n",
    "if \"a\" <= x and x <= \"z\" : print(\"소문자 입니다.\") # 입력된 문자가 소문자인 경우 \"소문자 입니다.\"를 출력\n",
    "if \"A\" <= x and x <= \"Z\" : print(\"대문자 입니다.\") # 입력된 문자가 대문자인 경우 \"대문자 입니다.\"를 출력"
   ]
  },
  {
   "cell_type": "code",
   "execution_count": 124,
   "id": "a9a9ab5b",
   "metadata": {},
   "outputs": [
    {
     "name": "stdout",
     "output_type": "stream",
     "text": [
      "영문 알파벳 한글자를 입력하셔요?A\n",
      "대문자 입니다.\n"
     ]
    }
   ],
   "source": [
    "x = input(\"영문 알파벳 한글자를 입력하셔요?\") # 사용자로부터 영문 알파벳 한 글자를 입력받아 변수 x에 저장\n",
    "if \"a\" <= x and x <= \"z\" : print(\"소문자 입니다.\") # 입력된 문자가 소문자인 경우 \"소문자 입니다.\"를 출력\n",
    "if \"A\" <= x and x <= \"Z\" : print(\"대문자 입니다.\") # 입력된 문자가 대문자인 경우 \"대문자 입니다.\"를 출력"
   ]
  },
  {
   "cell_type": "code",
   "execution_count": 125,
   "id": "8b95bb23",
   "metadata": {},
   "outputs": [
    {
     "name": "stdout",
     "output_type": "stream",
     "text": [
      "영문 알파벳 한글자를 입력하셔요?S\n",
      "대문자 입니다.\n"
     ]
    }
   ],
   "source": [
    "x = input(\"영문 알파벳 한글자를 입력하셔요?\") # 사용자로부터 영문 알파벳 한 글자를 입력받아 변수 x에 저장\n",
    "if \"a\" <= x and x <= \"z\" : print(\"소문자 입니다.\") # 입력된 문자가 소문자인 경우 \"소문자 입니다.\"를 출력\n",
    "if \"A\" <= x and x <= \"Z\" : print(\"대문자 입니다.\") # 입력된 문자가 대문자인 경우 \"대문자 입니다.\"를 출력"
   ]
  },
  {
   "cell_type": "code",
   "execution_count": 126,
   "id": "c1bd2ec3",
   "metadata": {},
   "outputs": [],
   "source": [
    "a=100 # 변수 a에 100 저장"
   ]
  },
  {
   "cell_type": "code",
   "execution_count": 127,
   "id": "2b8eb183",
   "metadata": {},
   "outputs": [
    {
     "ename": "IndentationError",
     "evalue": "unexpected indent (722847035.py, line 3)",
     "output_type": "error",
     "traceback": [
      "\u001b[1;36m  Cell \u001b[1;32mIn[127], line 3\u001b[1;36m\u001b[0m\n\u001b[1;33m    a = a - 50\u001b[0m\n\u001b[1;37m    ^\u001b[0m\n\u001b[1;31mIndentationError\u001b[0m\u001b[1;31m:\u001b[0m unexpected indent\n"
     ]
    }
   ],
   "source": [
    "if a>50: # a가 50 초과이면\n",
    "    print (\"50보다 큰수는 50을 빼겠습니다.\") # 문구 출력\n",
    "        a = a - 50 # 들여쓰기가 잘못들어가 있어서 error"
   ]
  },
  {
   "cell_type": "code",
   "execution_count": 128,
   "id": "2505dd58",
   "metadata": {},
   "outputs": [
    {
     "name": "stdout",
     "output_type": "stream",
     "text": [
      "50보다 큰수는 50을 빼겠습니다.\n"
     ]
    }
   ],
   "source": [
    "if a>50: # a가 50 초과이면\n",
    "    print (\"50보다 큰수는 50을 빼겠습니다.\") # 문구 출력\n",
    "    a = a - 50 # a에서 50을 뺀다"
   ]
  },
  {
   "cell_type": "code",
   "execution_count": 129,
   "id": "90aedf31",
   "metadata": {},
   "outputs": [
    {
     "name": "stdout",
     "output_type": "stream",
     "text": [
      "50\n"
     ]
    }
   ],
   "source": [
    "print(a) # a 출력"
   ]
  },
  {
   "cell_type": "code",
   "execution_count": 130,
   "id": "0db1de87",
   "metadata": {},
   "outputs": [
    {
     "ename": "TypeError",
     "evalue": "'>=' not supported between instances of 'str' and 'int'",
     "output_type": "error",
     "traceback": [
      "\u001b[1;31m---------------------------------------------------------------------------\u001b[0m",
      "\u001b[1;31mTypeError\u001b[0m                                 Traceback (most recent call last)",
      "Cell \u001b[1;32mIn[130], line 1\u001b[0m\n\u001b[1;32m----> 1\u001b[0m \u001b[38;5;28;01mif\u001b[39;00m \u001b[43mx\u001b[49m\u001b[43m \u001b[49m\u001b[38;5;241;43m>\u001b[39;49m\u001b[38;5;241;43m=\u001b[39;49m\u001b[43m \u001b[49m\u001b[38;5;241;43m90\u001b[39;49m: \u001b[38;5;66;03m# 만약 입력된 점수가 90 이상이면,\u001b[39;00m\n\u001b[0;32m      2\u001b[0m     \u001b[38;5;28mprint\u001b[39m(\u001b[38;5;124m\"\u001b[39m\u001b[38;5;124m학점은 A입니다\u001b[39m\u001b[38;5;124m\"\u001b[39m) \u001b[38;5;66;03m# \"학점은 A입니다\"를 출력\u001b[39;00m\n\u001b[0;32m      3\u001b[0m \u001b[38;5;28;01melif\u001b[39;00m x \u001b[38;5;241m>\u001b[39m\u001b[38;5;241m=\u001b[39m \u001b[38;5;241m80\u001b[39m: \u001b[38;5;66;03m# 입력된 점수가 80 이상 90 미만이면,\u001b[39;00m\n",
      "\u001b[1;31mTypeError\u001b[0m: '>=' not supported between instances of 'str' and 'int'"
     ]
    }
   ],
   "source": [
    "if x >= 90: # 만약 입력된 점수가 90 이상이면,\n",
    "    print(\"학점은 A입니다\") # \"학점은 A입니다\"를 출력\n",
    "elif x >= 80: # 입력된 점수가 80 이상 90 미만이면,\n",
    "    print(\"학점은 B입니다\") # \"학점은 B입니다\"를 출력\n",
    "elif x >= 70: # 입력된 점수가 70 이상 80 미만이면,\n",
    "    print(\"학점은 C입니다\") # \"학점은 C입니다\"를 출력\n",
    "elif x >= 60: # 입력된 점수가 60 이상 70 미만이면,\n",
    "    print(\"학점은 D입니다\") # \"학점은 D입니다\"를 출력\n",
    "else: # 그 외의 경우(입력된 점수가 60 미만인 경우),\n",
    "    print(\"학점은 F입니다\") # \"학점은 F입니다\"를 출력"
   ]
  },
  {
   "cell_type": "code",
   "execution_count": 131,
   "id": "6aba8901",
   "metadata": {},
   "outputs": [
    {
     "ename": "SyntaxError",
     "evalue": "unexpected EOF while parsing (2114486235.py, line 1)",
     "output_type": "error",
     "traceback": [
      "\u001b[1;36m  Cell \u001b[1;32mIn[131], line 1\u001b[1;36m\u001b[0m\n\u001b[1;33m    x=int(input(\"점수를 입력하셔요?(0~100)\") # 점수 입력받기\u001b[0m\n\u001b[1;37m                                              ^\u001b[0m\n\u001b[1;31mSyntaxError\u001b[0m\u001b[1;31m:\u001b[0m unexpected EOF while parsing\n"
     ]
    }
   ],
   "source": [
    "x=int(input(\"점수를 입력하셔요?(0~100)\") # 점수 입력받기"
   ]
  },
  {
   "cell_type": "code",
   "execution_count": 132,
   "id": "b9a6d994",
   "metadata": {},
   "outputs": [
    {
     "ename": "SyntaxError",
     "evalue": "invalid syntax (3451464418.py, line 2)",
     "output_type": "error",
     "traceback": [
      "\u001b[1;36m  Cell \u001b[1;32mIn[132], line 2\u001b[1;36m\u001b[0m\n\u001b[1;33m    if x >= 90: # 만약 입력된 점수가 90 이상이면,\u001b[0m\n\u001b[1;37m              ^\u001b[0m\n\u001b[1;31mSyntaxError\u001b[0m\u001b[1;31m:\u001b[0m invalid syntax\n"
     ]
    }
   ],
   "source": [
    "x=int(input(\"점수를 입력하셔요?(0~100)\") # 점수 입력받기\n",
    "if x >= 90: # 만약 입력된 점수가 90 이상이면,\n",
    "    print(\"학점은 A입니다\") # \"학점은 A입니다\"를 출력\n",
    "elif x >= 80: # 입력된 점수가 80 이상 90 미만이면,\n",
    "    print(\"학점은 B입니다\") # \"학점은 B입니다\"를 출력\n",
    "elif x >= 70: # 입력된 점수가 70 이상 80 미만이면,\n",
    "    print(\"학점은 C입니다\") # \"학점은 C입니다\"를 출력\n",
    "elif x >= 60: # 입력된 점수가 60 이상 70 미만이면,\n",
    "    print(\"학점은 D입니다\") # \"학점은 D입니다\"를 출력\n",
    "else: # 그 외의 경우(입력된 점수가 60 미만인 경우),\n",
    "    print(\"학점은 F입니다\") # \"학점은 F입니다\"를 출력"
   ]
  },
  {
   "cell_type": "code",
   "execution_count": 133,
   "id": "f4e433f8",
   "metadata": {},
   "outputs": [
    {
     "ename": "SyntaxError",
     "evalue": "invalid syntax (3451464418.py, line 2)",
     "output_type": "error",
     "traceback": [
      "\u001b[1;36m  Cell \u001b[1;32mIn[133], line 2\u001b[1;36m\u001b[0m\n\u001b[1;33m    if x >= 90: # 만약 입력된 점수가 90 이상이면,\u001b[0m\n\u001b[1;37m              ^\u001b[0m\n\u001b[1;31mSyntaxError\u001b[0m\u001b[1;31m:\u001b[0m invalid syntax\n"
     ]
    }
   ],
   "source": [
    "x=int(input(\"점수를 입력하셔요?(0~100)\") # 점수 입력받기\n",
    "if x >= 90: # 만약 입력된 점수가 90 이상이면,\n",
    "    print(\"학점은 A입니다\") # \"학점은 A입니다\"를 출력\n",
    "elif x >= 80: # 입력된 점수가 80 이상 90 미만이면,\n",
    "    print(\"학점은 B입니다\") # \"학점은 B입니다\"를 출력\n",
    "elif x >= 70: # 입력된 점수가 70 이상 80 미만이면,\n",
    "    print(\"학점은 C입니다\") # \"학점은 C입니다\"를 출력\n",
    "elif x >= 60: # 입력된 점수가 60 이상 70 미만이면,\n",
    "    print(\"학점은 D입니다\") # \"학점은 D입니다\"를 출력\n",
    "else: # 그 외의 경우(입력된 점수가 60 미만인 경우),\n",
    "    print(\"학점은 F입니다\") # \"학점은 F입니다\"를 출력"
   ]
  },
  {
   "cell_type": "code",
   "execution_count": 134,
   "id": "8ba5aeb0",
   "metadata": {},
   "outputs": [
    {
     "name": "stdout",
     "output_type": "stream",
     "text": [
      "점수를 입력하셔요?(0~100)100\n",
      "학점은 A입니다\n"
     ]
    }
   ],
   "source": [
    "x=int(input(\"점수를 입력하셔요?(0~100)\")) # 점수 입력받기\n",
    "if x >= 90: # 만약 입력된 점수가 90 이상이면,\n",
    "    print(\"학점은 A입니다\") # \"학점은 A입니다\"를 출력\n",
    "elif x >= 80: # 입력된 점수가 80 이상 90 미만이면,\n",
    "    print(\"학점은 B입니다\") # \"학점은 B입니다\"를 출력\n",
    "elif x >= 70: # 입력된 점수가 70 이상 80 미만이면,\n",
    "    print(\"학점은 C입니다\") # \"학점은 C입니다\"를 출력\n",
    "elif x >= 60: # 입력된 점수가 60 이상 70 미만이면,\n",
    "    print(\"학점은 D입니다\") # \"학점은 D입니다\"를 출력\n",
    "else: # 그 외의 경우(입력된 점수가 60 미만인 경우),\n",
    "    print(\"학점은 F입니다\") # \"학점은 F입니다\"를 출력"
   ]
  },
  {
   "cell_type": "code",
   "execution_count": 135,
   "id": "87d5fed6",
   "metadata": {},
   "outputs": [
    {
     "ename": "SyntaxError",
     "evalue": "invalid syntax (3451464418.py, line 2)",
     "output_type": "error",
     "traceback": [
      "\u001b[1;36m  Cell \u001b[1;32mIn[135], line 2\u001b[1;36m\u001b[0m\n\u001b[1;33m    if x >= 90: # 만약 입력된 점수가 90 이상이면,\u001b[0m\n\u001b[1;37m              ^\u001b[0m\n\u001b[1;31mSyntaxError\u001b[0m\u001b[1;31m:\u001b[0m invalid syntax\n"
     ]
    }
   ],
   "source": [
    "x=int(input(\"점수를 입력하셔요?(0~100)\") # 점수 입력받기\n",
    "if x >= 90: # 만약 입력된 점수가 90 이상이면,\n",
    "    print(\"학점은 A입니다\") # \"학점은 A입니다\"를 출력\n",
    "elif x >= 80: # 입력된 점수가 80 이상 90 미만이면,\n",
    "    print(\"학점은 B입니다\") # \"학점은 B입니다\"를 출력\n",
    "elif x >= 70: # 입력된 점수가 70 이상 80 미만이면,\n",
    "    print(\"학점은 C입니다\") # \"학점은 C입니다\"를 출력\n",
    "elif x >= 60: # 입력된 점수가 60 이상 70 미만이면,\n",
    "    print(\"학점은 D입니다\") # \"학점은 D입니다\"를 출력\n",
    "else: # 그 외의 경우(입력된 점수가 60 미만인 경우),\n",
    "    print(\"학점은 F입니다\") # \"학점은 F입니다\"를 출력"
   ]
  },
  {
   "cell_type": "code",
   "execution_count": 136,
   "id": "cacb8aaa",
   "metadata": {},
   "outputs": [
    {
     "name": "stdout",
     "output_type": "stream",
     "text": [
      "점수를 입력하셔요?(0~100)44\n",
      "학점은 F입니다\n"
     ]
    }
   ],
   "source": [
    "x=int(input(\"점수를 입력하셔요?(0~100)\")) # 점수 입력받기\n",
    "if x >= 90: # 만약 입력된 점수가 90 이상이면,\n",
    "    print(\"학점은 A입니다\") # \"학점은 A입니다\"를 출력\n",
    "elif x >= 80: # 입력된 점수가 80 이상 90 미만이면,\n",
    "    print(\"학점은 B입니다\") # \"학점은 B입니다\"를 출력\n",
    "elif x >= 70: # 입력된 점수가 70 이상 80 미만이면,\n",
    "    print(\"학점은 C입니다\") # \"학점은 C입니다\"를 출력\n",
    "elif x >= 60: # 입력된 점수가 60 이상 70 미만이면,\n",
    "    print(\"학점은 D입니다\") # \"학점은 D입니다\"를 출력\n",
    "else: # 그 외의 경우(입력된 점수가 60 미만인 경우),\n",
    "    print(\"학점은 F입니다\") # \"학점은 F입니다\"를 출력"
   ]
  },
  {
   "cell_type": "code",
   "execution_count": 137,
   "id": "b4724e4e",
   "metadata": {},
   "outputs": [
    {
     "name": "stdout",
     "output_type": "stream",
     "text": [
      "점수를 입력하셔요?(0~100)77\n",
      "학점은 C입니다\n"
     ]
    }
   ],
   "source": [
    "x=int(input(\"점수를 입력하셔요?(0~100)\")) # 점수 입력받기\n",
    "if x >= 90: # 만약 입력된 점수가 90 이상이면,\n",
    "    print(\"학점은 A입니다\") # \"학점은 A입니다\"를 출력\n",
    "elif x >= 80: # 입력된 점수가 80 이상 90 미만이면,\n",
    "    print(\"학점은 B입니다\") # \"학점은 B입니다\"를 출력\n",
    "elif x >= 70: # 입력된 점수가 70 이상 80 미만이면,\n",
    "    print(\"학점은 C입니다\") # \"학점은 C입니다\"를 출력\n",
    "elif x >= 60: # 입력된 점수가 60 이상 70 미만이면,\n",
    "    print(\"학점은 D입니다\") # \"학점은 D입니다\"를 출력\n",
    "else: # 그 외의 경우(입력된 점수가 60 미만인 경우),\n",
    "    print(\"학점은 F입니다\") # \"학점은 F입니다\"를 출력"
   ]
  },
  {
   "cell_type": "code",
   "execution_count": 1,
   "id": "80307646",
   "metadata": {},
   "outputs": [
    {
     "name": "stdout",
     "output_type": "stream",
     "text": [
      "숫자를 입력하셔요?12\n",
      "4의 배수인 짝수입니다(당연히 짝수)\n"
     ]
    }
   ],
   "source": [
    "x=int(input(\"숫자를 입력하셔요?\")) # 숫자 입력받기\n",
    "if x % 2 == 0 : # 만약 x가 2로 나누었을 때 나머지가 0이면\n",
    "    if x%4==0:  # 만약 x가 4로 나누었을 때 나머지가 0이면\n",
    "        print(\"4의 배수인 짝수입니다(당연히 짝수)\") # 문구 출력\n",
    "    else: # 만약 x가 4로 나누었을 때 나머지가 0이 아니면\n",
    "        print(\"4의 배수가 아닌 짝수입니다\"); # 문구 출력\n",
    "elif x%3==0: # 만약 x가 2로 나누었을 때 나머지가 0이 아니고 3으로 나누었을 때 나머지가 0 아면\n",
    "    print(\"3의 배수인 홀수 입니다\") # 문구 출력\n",
    "else: # 만약 x가 2로 나누었을 때 나머지가 0이 아니고 3으로 나누었을 때 나머지가 0 이 아니면\n",
    "    print (\"3의 배수가 아닌 홀수입니다\") # 문구 출력"
   ]
  },
  {
   "cell_type": "code",
   "execution_count": 2,
   "id": "53bafb72",
   "metadata": {},
   "outputs": [
    {
     "name": "stdout",
     "output_type": "stream",
     "text": [
      "숫자를 입력하셔요?22\n",
      "4의 배수가 아닌 짝수입니다\n"
     ]
    }
   ],
   "source": [
    "x=int(input(\"숫자를 입력하셔요?\")) # 숫자 입력받기\n",
    "if x % 2 == 0 : # 만약 x가 2로 나누었을 때 나머지가 0이면\n",
    "    if x%4==0:  # 만약 x가 4로 나누었을 때 나머지가 0이면\n",
    "        print(\"4의 배수인 짝수입니다(당연히 짝수)\") # 문구 출력\n",
    "    else: # 만약 x가 4로 나누었을 때 나머지가 0이 아니면\n",
    "        print(\"4의 배수가 아닌 짝수입니다\"); # 문구 출력\n",
    "elif x%3==0: # 만약 x가 2로 나누었을 때 나머지가 0이 아니고 3으로 나누었을 때 나머지가 0 아면\n",
    "    print(\"3의 배수인 홀수 입니다\") # 문구 출력\n",
    "else: # 만약 x가 2로 나누었을 때 나머지가 0이 아니고 3으로 나누었을 때 나머지가 0 이 아니면\n",
    "    print (\"3의 배수가 아닌 홀수입니다\") # 문구 출력"
   ]
  },
  {
   "cell_type": "code",
   "execution_count": 3,
   "id": "fdecc566",
   "metadata": {},
   "outputs": [
    {
     "name": "stdout",
     "output_type": "stream",
     "text": [
      "숫자를 입력하셔요?9\n",
      "3의 배수인 홀수 입니다\n"
     ]
    }
   ],
   "source": [
    "x=int(input(\"숫자를 입력하셔요?\")) # 숫자 입력받기\n",
    "if x % 2 == 0 : # 만약 x가 2로 나누었을 때 나머지가 0이면\n",
    "    if x%4==0:  # 만약 x가 4로 나누었을 때 나머지가 0이면\n",
    "        print(\"4의 배수인 짝수입니다(당연히 짝수)\") # 문구 출력\n",
    "    else: # 만약 x가 4로 나누었을 때 나머지가 0이 아니면\n",
    "        print(\"4의 배수가 아닌 짝수입니다\"); # 문구 출력\n",
    "elif x%3==0: # 만약 x가 2로 나누었을 때 나머지가 0이 아니고 3으로 나누었을 때 나머지가 0 아면\n",
    "    print(\"3의 배수인 홀수 입니다\") # 문구 출력\n",
    "else: # 만약 x가 2로 나누었을 때 나머지가 0이 아니고 3으로 나누었을 때 나머지가 0 이 아니면\n",
    "    print (\"3의 배수가 아닌 홀수입니다\") # 문구 출력"
   ]
  },
  {
   "cell_type": "code",
   "execution_count": 4,
   "id": "6462d635",
   "metadata": {},
   "outputs": [
    {
     "name": "stdout",
     "output_type": "stream",
     "text": [
      "숫자를 입력하셔요?11\n",
      "3의 배수가 아닌 홀수입니다\n"
     ]
    }
   ],
   "source": [
    "x=int(input(\"숫자를 입력하셔요?\")) # 숫자 입력받기\n",
    "if x % 2 == 0 : # 만약 x가 2로 나누었을 때 나머지가 0이면\n",
    "    if x%4==0:  # 만약 x가 4로 나누었을 때 나머지가 0이면\n",
    "        print(\"4의 배수인 짝수입니다(당연히 짝수)\") # 문구 출력\n",
    "    else: # 만약 x가 4로 나누었을 때 나머지가 0이 아니면\n",
    "        print(\"4의 배수가 아닌 짝수입니다\"); # 문구 출력\n",
    "elif x%3==0: # 만약 x가 2로 나누었을 때 나머지가 0이 아니고 3으로 나누었을 때 나머지가 0 아면\n",
    "    print(\"3의 배수인 홀수 입니다\") # 문구 출력\n",
    "else: # 만약 x가 2로 나누었을 때 나머지가 0이 아니고 3으로 나누었을 때 나머지가 0 이 아니면\n",
    "    print (\"3의 배수가 아닌 홀수입니다\") # 문구 출력"
   ]
  },
  {
   "cell_type": "code",
   "execution_count": 5,
   "id": "ecec7cb7",
   "metadata": {},
   "outputs": [],
   "source": [
    "#변수 초기화\n",
    "exchange_rate = 1010.12 # 미화 환율\n",
    "amount = 1000000 # 환전 금액\n",
    "commission_rate = 0.002 # 수수료율"
   ]
  },
  {
   "cell_type": "code",
   "execution_count": 6,
   "id": "2eda7a5d",
   "metadata": {},
   "outputs": [],
   "source": [
    "# 환전 금액에서 수수료를 제한 금액을 계산\n",
    "exchange_rate = 1010.12 # 미화 환율\n",
    "amount = 1000000 # 환전 금액\n",
    "commission_rate = 0.002 # 수수료율"
   ]
  },
  {
   "cell_type": "code",
   "execution_count": 7,
   "id": "cdeca31e",
   "metadata": {},
   "outputs": [],
   "source": [
    "# 환전 금액에서 달러 금액 계산"
   ]
  },
  {
   "cell_type": "code",
   "execution_count": 8,
   "id": "c14ca16c",
   "metadata": {},
   "outputs": [
    {
     "ename": "NameError",
     "evalue": "name 'exchange_amount' is not defined",
     "output_type": "error",
     "traceback": [
      "\u001b[1;31m---------------------------------------------------------------------------\u001b[0m",
      "\u001b[1;31mNameError\u001b[0m                                 Traceback (most recent call last)",
      "Cell \u001b[1;32mIn[8], line 2\u001b[0m\n\u001b[0;32m      1\u001b[0m \u001b[38;5;66;03m# 환전 금액에서 달러 금액 계산\u001b[39;00m\n\u001b[1;32m----> 2\u001b[0m dollar_amount \u001b[38;5;241m=\u001b[39m \u001b[43mexchange_amount\u001b[49m \u001b[38;5;241m/\u001b[39m exchange_rate\n",
      "\u001b[1;31mNameError\u001b[0m: name 'exchange_amount' is not defined"
     ]
    }
   ],
   "source": [
    "# 환전 금액에서 달러 금액 계산\n",
    "dollar_amount = exchange_amount / exchange_rate"
   ]
  },
  {
   "cell_type": "code",
   "execution_count": 9,
   "id": "fda7ea8b",
   "metadata": {},
   "outputs": [
    {
     "name": "stdout",
     "output_type": "stream",
     "text": [
      "환전 금액: 1000000.00원\n",
      "은행 수수료: 2000.00원\n",
      "받은 달러: 988.00$\n",
      "한화 거스름돈: 0.00원\n"
     ]
    }
   ],
   "source": [
    "# 변수 초기화\n",
    "exchange_rate = 1010.12 # 미화 환율\n",
    "amount = 1000000 # 환전 금액 100만원\n",
    "commission_rate = 0.002 # 수수료율 0.2%\n",
    "\n",
    "# 환전 금액에서 수수료를 제한 금액을 계산\n",
    "commission = amount * commission_rate # 수수료 = 총액 * 수수료율\n",
    "exchange_amount = amount - commission # 수수료 제한 금액  = 환전 금액 - 수수료\n",
    "\n",
    "# 환전 금액에서 달러 금액 계산\n",
    "dollar_amount = exchange_amount / exchange_rate # 달러금액 = 수수료 제한 금액 / 미화 환율\n",
    "\n",
    "# 한화 거스름돈 계산\n",
    "change = amount - commission - dollar_amount * exchange_rate # 거스름돈 = 환전 금액 - 수수료 - 달러금액 * 미화 환율\n",
    "\n",
    "# 결과 출력\n",
    "print(\"환전 금액: {:.2f}원\".format(amount)) # 환전금액 소숫점 둘째짜리까지 출력\n",
    "print(\"은행 수수료: {:.2f}원\".format(commission)) # 은행 수수료 소숫점 둘째짜리까지 출력\n",
    "print(\"받은 달러: {:.2f}$\".format(dollar_amount)) # 받은 달러 소숫점 둘째짜리까지 출력\n",
    "print(\"한화 거스름돈: {:.2f}원\".format(change)) # 한화 거스름돈 소숫점 둘째짜리까지 출력"
   ]
  },
  {
   "cell_type": "code",
   "execution_count": null,
   "id": "8fbe38d6",
   "metadata": {},
   "outputs": [],
   "source": []
  }
 ],
 "metadata": {
  "kernelspec": {
   "display_name": "Python 3 (ipykernel)",
   "language": "python",
   "name": "python3"
  },
  "language_info": {
   "codemirror_mode": {
    "name": "ipython",
    "version": 3
   },
   "file_extension": ".py",
   "mimetype": "text/x-python",
   "name": "python",
   "nbconvert_exporter": "python",
   "pygments_lexer": "ipython3",
   "version": "3.8.8rc1"
  }
 },
 "nbformat": 4,
 "nbformat_minor": 5
}
